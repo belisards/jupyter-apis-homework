{
 "cells": [
  {
   "cell_type": "markdown",
   "metadata": {},
   "source": [
    "# Tickets analysis with statsmodels"
   ]
  },
  {
   "cell_type": "code",
   "execution_count": 1,
   "metadata": {},
   "outputs": [],
   "source": [
    "import pandas as pd\n",
    "import statsmodels.formula.api as smf\n",
    "import numpy as np\n",
    "\n",
    "pd.set_option(\"display.max_columns\", 100)\n",
    "pd.set_option(\"display.max_colwidth\", 100)"
   ]
  },
  {
   "cell_type": "code",
   "execution_count": 3,
   "metadata": {},
   "outputs": [
    {
     "data": {
      "text/html": [
       "<div>\n",
       "<style scoped>\n",
       "    .dataframe tbody tr th:only-of-type {\n",
       "        vertical-align: middle;\n",
       "    }\n",
       "\n",
       "    .dataframe tbody tr th {\n",
       "        vertical-align: top;\n",
       "    }\n",
       "\n",
       "    .dataframe thead th {\n",
       "        text-align: right;\n",
       "    }\n",
       "</style>\n",
       "<table border=\"1\" class=\"dataframe\">\n",
       "  <thead>\n",
       "    <tr style=\"text-align: right;\">\n",
       "      <th></th>\n",
       "      <th>TYPE</th>\n",
       "      <th>AGENCY3</th>\n",
       "      <th>SEX</th>\n",
       "      <th>BLACK</th>\n",
       "      <th>ASIAN</th>\n",
       "      <th>HISPANIC</th>\n",
       "      <th>MINORITY</th>\n",
       "      <th>AGE</th>\n",
       "      <th>MPH</th>\n",
       "      <th>MPHOVER</th>\n",
       "      <th>INTOWN</th>\n",
       "      <th>INSTATE</th>\n",
       "      <th>DAYNIGHT</th>\n",
       "    </tr>\n",
       "  </thead>\n",
       "  <tbody>\n",
       "    <tr>\n",
       "      <th>0</th>\n",
       "      <td>T</td>\n",
       "      <td>S</td>\n",
       "      <td>M</td>\n",
       "      <td>0.0</td>\n",
       "      <td>0.0</td>\n",
       "      <td>0.0</td>\n",
       "      <td>W</td>\n",
       "      <td>21.0</td>\n",
       "      <td>80</td>\n",
       "      <td>15.0</td>\n",
       "      <td>N</td>\n",
       "      <td>Y</td>\n",
       "      <td>day</td>\n",
       "    </tr>\n",
       "    <tr>\n",
       "      <th>1</th>\n",
       "      <td>T</td>\n",
       "      <td>S</td>\n",
       "      <td>F</td>\n",
       "      <td>0.0</td>\n",
       "      <td>0.0</td>\n",
       "      <td>0.0</td>\n",
       "      <td>W</td>\n",
       "      <td>36.0</td>\n",
       "      <td>0</td>\n",
       "      <td>NaN</td>\n",
       "      <td>N</td>\n",
       "      <td>Y</td>\n",
       "      <td>day</td>\n",
       "    </tr>\n",
       "  </tbody>\n",
       "</table>\n",
       "</div>"
      ],
      "text/plain": [
       "  TYPE AGENCY3 SEX  BLACK  ASIAN  HISPANIC MINORITY   AGE  MPH  MPHOVER  \\\n",
       "0    T       S   M    0.0    0.0       0.0        W  21.0   80     15.0   \n",
       "1    T       S   F    0.0    0.0       0.0        W  36.0    0      NaN   \n",
       "\n",
       "  INTOWN INSTATE DAYNIGHT  \n",
       "0      N       Y      day  \n",
       "1      N       Y      day  "
      ]
     },
     "execution_count": 3,
     "metadata": {},
     "output_type": "execute_result"
    }
   ],
   "source": [
    "# Unknown data is always coded as 'U', so we'll pass that to na_values\n",
    "df = pd.read_csv('data/tickets-warnings.csv', na_values='U')\n",
    "\n",
    "# Get rid of a lot of columns we don't care about\n",
    "df = df[['TYPE','AGENCY3','SEX','BLACK','ASIAN','HISPANIC','MINORITY','AGE','MPH','MPHOVER','INTOWN', 'INSTATE', 'DAYNIGHT']].copy()\n",
    "\n",
    "df.head(2)"
   ]
  },
  {
   "cell_type": "code",
   "execution_count": 15,
   "metadata": {},
   "outputs": [],
   "source": [
    "df['is_ticketed'] = df.TYPE.replace({\n",
    "'T': 1,\n",
    "'W': 0\n",
    "})"
   ]
  },
  {
   "cell_type": "code",
   "execution_count": 25,
   "metadata": {},
   "outputs": [
    {
     "data": {
      "text/plain": [
       "array(['N', 'Y', nan], dtype=object)"
      ]
     },
     "execution_count": 25,
     "metadata": {},
     "output_type": "execute_result"
    }
   ],
   "source": [
    "df.INTOWN.unique()"
   ]
  },
  {
   "cell_type": "code",
   "execution_count": 26,
   "metadata": {},
   "outputs": [],
   "source": [
    "df['is_intown'] = df.TYPE.replace({\n",
    "'N': 0,\n",
    "'Y': 1\n",
    "})"
   ]
  },
  {
   "cell_type": "markdown",
   "metadata": {},
   "source": [
    "## Basic analysis"
   ]
  },
  {
   "cell_type": "code",
   "execution_count": 4,
   "metadata": {},
   "outputs": [
    {
     "data": {
      "text/html": [
       "<div>\n",
       "<style scoped>\n",
       "    .dataframe tbody tr th:only-of-type {\n",
       "        vertical-align: middle;\n",
       "    }\n",
       "\n",
       "    .dataframe tbody tr th {\n",
       "        vertical-align: top;\n",
       "    }\n",
       "\n",
       "    .dataframe thead th {\n",
       "        text-align: right;\n",
       "    }\n",
       "</style>\n",
       "<table border=\"1\" class=\"dataframe\">\n",
       "  <thead>\n",
       "    <tr style=\"text-align: right;\">\n",
       "      <th>TYPE</th>\n",
       "      <th>T</th>\n",
       "      <th>W</th>\n",
       "    </tr>\n",
       "    <tr>\n",
       "      <th>MINORITY</th>\n",
       "      <th></th>\n",
       "      <th></th>\n",
       "    </tr>\n",
       "  </thead>\n",
       "  <tbody>\n",
       "    <tr>\n",
       "      <th>M</th>\n",
       "      <td>16072</td>\n",
       "      <td>12636</td>\n",
       "    </tr>\n",
       "    <tr>\n",
       "      <th>W</th>\n",
       "      <td>65624</td>\n",
       "      <td>68291</td>\n",
       "    </tr>\n",
       "  </tbody>\n",
       "</table>\n",
       "</div>"
      ],
      "text/plain": [
       "TYPE          T      W\n",
       "MINORITY              \n",
       "M         16072  12636\n",
       "W         65624  68291"
      ]
     },
     "execution_count": 4,
     "metadata": {},
     "output_type": "execute_result"
    }
   ],
   "source": [
    "pd.crosstab(df.MINORITY, df.TYPE) "
   ]
  },
  {
   "cell_type": "code",
   "execution_count": 5,
   "metadata": {},
   "outputs": [
    {
     "data": {
      "text/plain": [
       "<AxesSubplot:xlabel='MINORITY'>"
      ]
     },
     "execution_count": 5,
     "metadata": {},
     "output_type": "execute_result"
    },
    {
     "data": {
      "image/png": "[encoded data removed]",
      "text/plain": [
       "<Figure size 432x288 with 1 Axes>"
      ]
     },
     "metadata": {
      "needs_background": "light"
     },
     "output_type": "display_data"
    }
   ],
   "source": [
    "pd.crosstab(df.MINORITY, df.TYPE).plot(kind='bar') "
   ]
  },
  {
   "cell_type": "code",
   "execution_count": 8,
   "metadata": {},
   "outputs": [
    {
     "data": {
      "text/plain": [
       "<AxesSubplot:xlabel='MINORITY'>"
      ]
     },
     "execution_count": 8,
     "metadata": {},
     "output_type": "execute_result"
    },
    {
     "data": {
      "image/png": "[encoded data removed]",
      "text/plain": [
       "<Figure size 432x288 with 1 Axes>"
      ]
     },
     "metadata": {
      "needs_background": "light"
     },
     "output_type": "display_data"
    }
   ],
   "source": [
    "pd.crosstab(df.MINORITY, df.TYPE,normalize='index').plot(kind='bar') "
   ]
  },
  {
   "cell_type": "markdown",
   "metadata": {},
   "source": [
    "What does this not work?"
   ]
  },
  {
   "cell_type": "markdown",
   "metadata": {},
   "source": [
    "## What are we interested in?"
   ]
  },
  {
   "cell_type": "code",
   "execution_count": 9,
   "metadata": {},
   "outputs": [],
   "source": [
    "import statsmodels.formula.api as smf\n",
    "import numpy as np "
   ]
  },
  {
   "cell_type": "code",
   "execution_count": 20,
   "metadata": {},
   "outputs": [
    {
     "name": "stdout",
     "output_type": "stream",
     "text": [
      "Optimization terminated successfully.\n",
      "         Current function value: 0.691716\n",
      "         Iterations 4\n"
     ]
    },
    {
     "data": {
      "text/html": [
       "<table class=\"simpletable\">\n",
       "<caption>Logit Regression Results</caption>\n",
       "<tr>\n",
       "  <th>Dep. Variable:</th>      <td>is_ticketed</td>   <th>  No. Observations:  </th>   <td>162623</td>   \n",
       "</tr>\n",
       "<tr>\n",
       "  <th>Model:</th>                 <td>Logit</td>      <th>  Df Residuals:      </th>   <td>162621</td>   \n",
       "</tr>\n",
       "<tr>\n",
       "  <th>Method:</th>                 <td>MLE</td>       <th>  Df Model:          </th>   <td>     1</td>   \n",
       "</tr>\n",
       "<tr>\n",
       "  <th>Date:</th>            <td>Thu, 05 Aug 2021</td> <th>  Pseudo R-squ.:     </th>  <td>0.002048</td>  \n",
       "</tr>\n",
       "<tr>\n",
       "  <th>Time:</th>                <td>12:34:46</td>     <th>  Log-Likelihood:    </th> <td>-1.1249e+05</td>\n",
       "</tr>\n",
       "<tr>\n",
       "  <th>converged:</th>             <td>True</td>       <th>  LL-Null:           </th> <td>-1.1272e+05</td>\n",
       "</tr>\n",
       "<tr>\n",
       "  <th>Covariance Type:</th>     <td>nonrobust</td>    <th>  LLR p-value:       </th> <td>2.033e-102</td> \n",
       "</tr>\n",
       "</table>\n",
       "<table class=\"simpletable\">\n",
       "<tr>\n",
       "        <td></td>           <th>coef</th>     <th>std err</th>      <th>z</th>      <th>P>|z|</th>  <th>[0.025</th>    <th>0.975]</th>  \n",
       "</tr>\n",
       "<tr>\n",
       "  <th>Intercept</th>     <td>    0.2405</td> <td>    0.012</td> <td>   20.230</td> <td> 0.000</td> <td>    0.217</td> <td>    0.264</td>\n",
       "</tr>\n",
       "<tr>\n",
       "  <th>MINORITY[T.W]</th> <td>   -0.2804</td> <td>    0.013</td> <td>  -21.425</td> <td> 0.000</td> <td>   -0.306</td> <td>   -0.255</td>\n",
       "</tr>\n",
       "</table>"
      ],
      "text/plain": [
       "<class 'statsmodels.iolib.summary.Summary'>\n",
       "\"\"\"\n",
       "                           Logit Regression Results                           \n",
       "==============================================================================\n",
       "Dep. Variable:            is_ticketed   No. Observations:               162623\n",
       "Model:                          Logit   Df Residuals:                   162621\n",
       "Method:                           MLE   Df Model:                            1\n",
       "Date:                Thu, 05 Aug 2021   Pseudo R-squ.:                0.002048\n",
       "Time:                        12:34:46   Log-Likelihood:            -1.1249e+05\n",
       "converged:                       True   LL-Null:                   -1.1272e+05\n",
       "Covariance Type:            nonrobust   LLR p-value:                2.033e-102\n",
       "=================================================================================\n",
       "                    coef    std err          z      P>|z|      [0.025      0.975]\n",
       "---------------------------------------------------------------------------------\n",
       "Intercept         0.2405      0.012     20.230      0.000       0.217       0.264\n",
       "MINORITY[T.W]    -0.2804      0.013    -21.425      0.000      -0.306      -0.255\n",
       "=================================================================================\n",
       "\"\"\""
      ]
     },
     "execution_count": 20,
     "metadata": {},
     "output_type": "execute_result"
    }
   ],
   "source": [
    "model = smf.logit(\"\"\"\n",
    "    is_ticketed ~ MINORITY\n",
    "\"\"\",data=df)\n",
    "\n",
    "results = model.fit()\n",
    "\n",
    "results.summary()"
   ]
  },
  {
   "cell_type": "code",
   "execution_count": 21,
   "metadata": {},
   "outputs": [
    {
     "data": {
      "text/html": [
       "<div>\n",
       "<style scoped>\n",
       "    .dataframe tbody tr th:only-of-type {\n",
       "        vertical-align: middle;\n",
       "    }\n",
       "\n",
       "    .dataframe tbody tr th {\n",
       "        vertical-align: top;\n",
       "    }\n",
       "\n",
       "    .dataframe thead th {\n",
       "        text-align: right;\n",
       "    }\n",
       "</style>\n",
       "<table border=\"1\" class=\"dataframe\">\n",
       "  <thead>\n",
       "    <tr style=\"text-align: right;\">\n",
       "      <th></th>\n",
       "      <th>coef</th>\n",
       "      <th>odds ratio</th>\n",
       "      <th>name</th>\n",
       "    </tr>\n",
       "  </thead>\n",
       "  <tbody>\n",
       "    <tr>\n",
       "      <th>0</th>\n",
       "      <td>0.240529</td>\n",
       "      <td>1.271921</td>\n",
       "      <td>Intercept</td>\n",
       "    </tr>\n",
       "    <tr>\n",
       "      <th>1</th>\n",
       "      <td>-0.280365</td>\n",
       "      <td>0.755508</td>\n",
       "      <td>MINORITY[T.W]</td>\n",
       "    </tr>\n",
       "  </tbody>\n",
       "</table>\n",
       "</div>"
      ],
      "text/plain": [
       "       coef  odds ratio           name\n",
       "0  0.240529    1.271921      Intercept\n",
       "1 -0.280365    0.755508  MINORITY[T.W]"
      ]
     },
     "execution_count": 21,
     "metadata": {},
     "output_type": "execute_result"
    }
   ],
   "source": [
    "\n",
    "coefs = pd.DataFrame({\n",
    "'coef': results.params.values,\n",
    "    # odds ratio above 1 my odds increase. below 1 it decrease\n",
    "'odds ratio': np.exp(results.params.values),\n",
    "'name': results.params.index\n",
    "})\n",
    "coefs "
   ]
  },
  {
   "cell_type": "code",
   "execution_count": 27,
   "metadata": {},
   "outputs": [
    {
     "name": "stdout",
     "output_type": "stream",
     "text": [
      "Optimization terminated successfully.\n",
      "         Current function value: 0.684980\n",
      "         Iterations 4\n"
     ]
    },
    {
     "data": {
      "text/html": [
       "<table class=\"simpletable\">\n",
       "<caption>Logit Regression Results</caption>\n",
       "<tr>\n",
       "  <th>Dep. Variable:</th>      <td>is_ticketed</td>   <th>  No. Observations:  </th>   <td>160952</td>   \n",
       "</tr>\n",
       "<tr>\n",
       "  <th>Model:</th>                 <td>Logit</td>      <th>  Df Residuals:      </th>   <td>160948</td>   \n",
       "</tr>\n",
       "<tr>\n",
       "  <th>Method:</th>                 <td>MLE</td>       <th>  Df Model:          </th>   <td>     3</td>   \n",
       "</tr>\n",
       "<tr>\n",
       "  <th>Date:</th>            <td>Thu, 05 Aug 2021</td> <th>  Pseudo R-squ.:     </th>   <td>0.01177</td>  \n",
       "</tr>\n",
       "<tr>\n",
       "  <th>Time:</th>                <td>12:49:40</td>     <th>  Log-Likelihood:    </th> <td>-1.1025e+05</td>\n",
       "</tr>\n",
       "<tr>\n",
       "  <th>converged:</th>             <td>True</td>       <th>  LL-Null:           </th> <td>-1.1156e+05</td>\n",
       "</tr>\n",
       "<tr>\n",
       "  <th>Covariance Type:</th>     <td>nonrobust</td>    <th>  LLR p-value:       </th>   <td> 0.000</td>   \n",
       "</tr>\n",
       "</table>\n",
       "<table class=\"simpletable\">\n",
       "<tr>\n",
       "                  <td></td>                    <th>coef</th>     <th>std err</th>      <th>z</th>      <th>P>|z|</th>  <th>[0.025</th>    <th>0.975]</th>  \n",
       "</tr>\n",
       "<tr>\n",
       "  <th>Intercept</th>                        <td>   -0.5335</td> <td>    0.012</td> <td>  -44.164</td> <td> 0.000</td> <td>   -0.557</td> <td>   -0.510</td>\n",
       "</tr>\n",
       "<tr>\n",
       "  <th>C(MINORITY, Treatment('W'))[T.M]</th> <td>    0.3105</td> <td>    0.013</td> <td>   23.181</td> <td> 0.000</td> <td>    0.284</td> <td>    0.337</td>\n",
       "</tr>\n",
       "<tr>\n",
       "  <th>C(SEX, Treatment('F'))[T.M]</th>      <td>    0.3073</td> <td>    0.011</td> <td>   29.260</td> <td> 0.000</td> <td>    0.287</td> <td>    0.328</td>\n",
       "</tr>\n",
       "<tr>\n",
       "  <th>C(INTOWN, Treatment('Y'))[T.N]</th>   <td>    0.3987</td> <td>    0.011</td> <td>   34.784</td> <td> 0.000</td> <td>    0.376</td> <td>    0.421</td>\n",
       "</tr>\n",
       "</table>"
      ],
      "text/plain": [
       "<class 'statsmodels.iolib.summary.Summary'>\n",
       "\"\"\"\n",
       "                           Logit Regression Results                           \n",
       "==============================================================================\n",
       "Dep. Variable:            is_ticketed   No. Observations:               160952\n",
       "Model:                          Logit   Df Residuals:                   160948\n",
       "Method:                           MLE   Df Model:                            3\n",
       "Date:                Thu, 05 Aug 2021   Pseudo R-squ.:                 0.01177\n",
       "Time:                        12:49:40   Log-Likelihood:            -1.1025e+05\n",
       "converged:                       True   LL-Null:                   -1.1156e+05\n",
       "Covariance Type:            nonrobust   LLR p-value:                     0.000\n",
       "====================================================================================================\n",
       "                                       coef    std err          z      P>|z|      [0.025      0.975]\n",
       "----------------------------------------------------------------------------------------------------\n",
       "Intercept                           -0.5335      0.012    -44.164      0.000      -0.557      -0.510\n",
       "C(MINORITY, Treatment('W'))[T.M]     0.3105      0.013     23.181      0.000       0.284       0.337\n",
       "C(SEX, Treatment('F'))[T.M]          0.3073      0.011     29.260      0.000       0.287       0.328\n",
       "C(INTOWN, Treatment('Y'))[T.N]       0.3987      0.011     34.784      0.000       0.376       0.421\n",
       "====================================================================================================\n",
       "\"\"\""
      ]
     },
     "execution_count": 27,
     "metadata": {},
     "output_type": "execute_result"
    }
   ],
   "source": [
    "# Minority as categories = C(MINORITY)\n",
    "# White as baseline\n",
    "\n",
    "model = smf.logit(\"\"\"\n",
    "    is_ticketed ~ C(MINORITY, Treatment('W'))\n",
    "    + C(SEX, Treatment('F')) \n",
    "    + C(INTOWN, Treatment('Y')) \n",
    "\"\"\",data=df)\n",
    "\n",
    "results = model.fit()\n",
    "\n",
    "results.summary()"
   ]
  },
  {
   "cell_type": "code",
   "execution_count": 28,
   "metadata": {},
   "outputs": [
    {
     "data": {
      "text/html": [
       "<div>\n",
       "<style scoped>\n",
       "    .dataframe tbody tr th:only-of-type {\n",
       "        vertical-align: middle;\n",
       "    }\n",
       "\n",
       "    .dataframe tbody tr th {\n",
       "        vertical-align: top;\n",
       "    }\n",
       "\n",
       "    .dataframe thead th {\n",
       "        text-align: right;\n",
       "    }\n",
       "</style>\n",
       "<table border=\"1\" class=\"dataframe\">\n",
       "  <thead>\n",
       "    <tr style=\"text-align: right;\">\n",
       "      <th></th>\n",
       "      <th>coef</th>\n",
       "      <th>odds ratio</th>\n",
       "      <th>name</th>\n",
       "    </tr>\n",
       "  </thead>\n",
       "  <tbody>\n",
       "    <tr>\n",
       "      <th>0</th>\n",
       "      <td>-0.533461</td>\n",
       "      <td>0.586571</td>\n",
       "      <td>Intercept</td>\n",
       "    </tr>\n",
       "    <tr>\n",
       "      <th>1</th>\n",
       "      <td>0.310544</td>\n",
       "      <td>1.364166</td>\n",
       "      <td>C(MINORITY, Treatment('W'))[T.M]</td>\n",
       "    </tr>\n",
       "    <tr>\n",
       "      <th>2</th>\n",
       "      <td>0.307288</td>\n",
       "      <td>1.359733</td>\n",
       "      <td>C(SEX, Treatment('F'))[T.M]</td>\n",
       "    </tr>\n",
       "    <tr>\n",
       "      <th>3</th>\n",
       "      <td>0.398689</td>\n",
       "      <td>1.489871</td>\n",
       "      <td>C(INTOWN, Treatment('Y'))[T.N]</td>\n",
       "    </tr>\n",
       "  </tbody>\n",
       "</table>\n",
       "</div>"
      ],
      "text/plain": [
       "       coef  odds ratio                              name\n",
       "0 -0.533461    0.586571                         Intercept\n",
       "1  0.310544    1.364166  C(MINORITY, Treatment('W'))[T.M]\n",
       "2  0.307288    1.359733       C(SEX, Treatment('F'))[T.M]\n",
       "3  0.398689    1.489871    C(INTOWN, Treatment('Y'))[T.N]"
      ]
     },
     "execution_count": 28,
     "metadata": {},
     "output_type": "execute_result"
    }
   ],
   "source": [
    "coefs = pd.DataFrame({\n",
    "'coef': results.params.values,\n",
    "    # odds ratio above 1 my odds increase. below 1 it decrease\n",
    "'odds ratio': np.exp(results.params.values),\n",
    "'name': results.params.index\n",
    "})\n",
    "coefs "
   ]
  },
  {
   "cell_type": "code",
   "execution_count": 29,
   "metadata": {},
   "outputs": [
    {
     "data": {
      "text/plain": [
       "array([-0.5334614 ,  0.31054356,  0.30728805,  0.39868945])"
      ]
     },
     "execution_count": 29,
     "metadata": {},
     "output_type": "execute_result"
    }
   ],
   "source": [
    "results.params.values"
   ]
  },
  {
   "cell_type": "code",
   "execution_count": null,
   "metadata": {},
   "outputs": [],
   "source": []
  }
 ],
 "metadata": {
  "kernelspec": {
   "display_name": "Python 3",
   "language": "python",
   "name": "python3"
  },
  "language_info": {
   "codemirror_mode": {
    "name": "ipython",
    "version": 3
   },
   "file_extension": ".py",
   "mimetype": "text/x-python",
   "name": "python",
   "nbconvert_exporter": "python",
   "pygments_lexer": "ipython3",
   "version": "3.9.5"
  }
 },
 "nbformat": 4,
 "nbformat_minor": 4
}
