{
 "cells": [
  {
   "cell_type": "markdown",
   "metadata": {},
   "source": [
    "# Regression and Feature Importance with the Boston Globe\n",
    "\n",
    "Based on the super-old but super-relevant [Speed Trap: Who Gets a Ticket, Who Gets a Break?](http://archive.boston.com/globe/metro/packages/tickets/).\n",
    "\n",
    "For data, we'll be using `tickets-warnings.csv`.\n",
    "\n",
    "If you'd like to kind of ignore everything I say, you can go read [this page](https://investigate.ai/boston-globe-tickets/boston-globe-ticketing-regression/). It assumes some prior knowledge of logistic regression and the `statsmodels` package, though - we're coming into this backwards since we began with sentiment analysis!"
   ]
  },
  {
   "cell_type": "code",
   "execution_count": null,
   "metadata": {},
   "outputs": [],
   "source": []
  }
 ],
 "metadata": {
  "kernelspec": {
   "display_name": "Python 3",
   "language": "python",
   "name": "python3"
  },
  "language_info": {
   "codemirror_mode": {
    "name": "ipython",
    "version": 3
   },
   "file_extension": ".py",
   "mimetype": "text/x-python",
   "name": "python",
   "nbconvert_exporter": "python",
   "pygments_lexer": "ipython3",
   "version": "3.9.5"
  }
 },
 "nbformat": 4,
 "nbformat_minor": 4
}
