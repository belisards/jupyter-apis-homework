{
 "cells": [
  {
   "cell_type": "markdown",
   "metadata": {},
   "source": [
    "# Classification and Feature Engineering with Buzzfeed\n",
    "\n",
    "Working from [We Trained A Computer To Search For Hidden Spy Planes. This Is What It Found.](https://www.buzzfeednews.com/article/peteraldhous/hidden-spy-planes)\n",
    "\n",
    "For data, we'll be using `flights_data4-1529539200-cleaned.csv`.\n",
    "\n",
    "If you'd like to kind of ignore everything I say, you can maybe kind of look at [this page](https://investigate.ai/buzzfeed-spy-planes/feature-engineering-buzzfeed-spy-planes/)."
   ]
  },
  {
   "cell_type": "code",
   "execution_count": 2,
   "metadata": {},
   "outputs": [
    {
     "data": {
      "text/plain": [
       "array([[2, 0, 0],\n",
       "       [0, 0, 1],\n",
       "       [1, 0, 2]])"
      ]
     },
     "execution_count": 2,
     "metadata": {},
     "output_type": "execute_result"
    }
   ],
   "source": [
    "y_true = [\"cat\", \"ant\", \"cat\", \"cat\", \"ant\", \"bird\"]\n",
    "y_pred = [\"ant\", \"ant\", \"cat\", \"cat\", \"ant\", \"cat\"]\n",
    "\n",
    "from sklearn.metrics import confusion_matrix\n",
    "confusion_matrix(y_true, y_pred, labels=[\"ant\", \"bird\", \"cat\"])\n"
   ]
  },
  {
   "cell_type": "code",
   "execution_count": 46,
   "metadata": {},
   "outputs": [
    {
     "data": {
      "text/html": [
       "<div>\n",
       "<style scoped>\n",
       "    .dataframe tbody tr th:only-of-type {\n",
       "        vertical-align: middle;\n",
       "    }\n",
       "\n",
       "    .dataframe tbody tr th {\n",
       "        vertical-align: top;\n",
       "    }\n",
       "\n",
       "    .dataframe thead th {\n",
       "        text-align: right;\n",
       "    }\n",
       "</style>\n",
       "<table border=\"1\" class=\"dataframe\">\n",
       "  <thead>\n",
       "    <tr style=\"text-align: right;\">\n",
       "      <th></th>\n",
       "      <th>Predicted ant</th>\n",
       "      <th>Predicted cat</th>\n",
       "    </tr>\n",
       "  </thead>\n",
       "  <tbody>\n",
       "    <tr>\n",
       "      <th>Is ant</th>\n",
       "      <td>1</td>\n",
       "      <td>1</td>\n",
       "    </tr>\n",
       "    <tr>\n",
       "      <th>Is cat</th>\n",
       "      <td>2</td>\n",
       "      <td>1</td>\n",
       "    </tr>\n",
       "  </tbody>\n",
       "</table>\n",
       "</div>"
      ],
      "text/plain": [
       "        Predicted ant  Predicted cat\n",
       "Is ant              1              1\n",
       "Is cat              2              1"
      ]
     },
     "execution_count": 46,
     "metadata": {},
     "output_type": "execute_result"
    }
   ],
   "source": []
  },
  {
   "cell_type": "code",
   "execution_count": 36,
   "metadata": {},
   "outputs": [
    {
     "data": {
      "text/plain": [
       "['cat', 'ant']"
      ]
     },
     "execution_count": 36,
     "metadata": {},
     "output_type": "execute_result"
    }
   ],
   "source": [
    "list(set(real))"
   ]
  },
  {
   "cell_type": "code",
   "execution_count": 14,
   "metadata": {},
   "outputs": [
    {
     "data": {
      "text/plain": [
       "{'ant', 'cat'}"
      ]
     },
     "execution_count": 14,
     "metadata": {},
     "output_type": "execute_result"
    }
   ],
   "source": []
  },
  {
   "cell_type": "code",
   "execution_count": 1,
   "metadata": {},
   "outputs": [
    {
     "name": "stdout",
     "output_type": "stream",
     "text": [
      "Requirement already satisfied: pyproj in /usr/lib/python3/dist-packages (3.0.0)\n",
      "Collecting shapely\n",
      "  Downloading Shapely-1.7.1-1-cp39-cp39-manylinux1_x86_64.whl (1.0 MB)\n",
      "\u001b[K     |████████████████████████████████| 1.0 MB 4.3 MB/s eta 0:00:01\n",
      "\u001b[?25hInstalling collected packages: shapely\n",
      "Successfully installed shapely-1.7.1\n"
     ]
    }
   ],
   "source": [
    "!pip install pyproj\n",
    "!pip install shapely "
   ]
  },
  {
   "cell_type": "code",
   "execution_count": 2,
   "metadata": {},
   "outputs": [],
   "source": [
    "# Normal imports for data analysis\n",
    "import pandas as pd \n",
    "import numpy as np\n",
    "\n",
    "# Extra geographic bits, only used for for calculating fly zone area\n",
    "from shapely.geometry import Polygon\n",
    "from pyproj import Transformer \n",
    "\n",
    "%matplotlib inline "
   ]
  },
  {
   "cell_type": "code",
   "execution_count": 3,
   "metadata": {},
   "outputs": [
    {
     "data": {
      "text/html": [
       "<div>\n",
       "<style scoped>\n",
       "    .dataframe tbody tr th:only-of-type {\n",
       "        vertical-align: middle;\n",
       "    }\n",
       "\n",
       "    .dataframe tbody tr th {\n",
       "        vertical-align: top;\n",
       "    }\n",
       "\n",
       "    .dataframe thead th {\n",
       "        text-align: right;\n",
       "    }\n",
       "</style>\n",
       "<table border=\"1\" class=\"dataframe\">\n",
       "  <thead>\n",
       "    <tr style=\"text-align: right;\">\n",
       "      <th></th>\n",
       "      <th>icao24</th>\n",
       "      <th>callsign</th>\n",
       "      <th>day</th>\n",
       "      <th>firstseen</th>\n",
       "      <th>lastseen</th>\n",
       "      <th>estdepartureairport</th>\n",
       "      <th>estarrivalairport</th>\n",
       "      <th>time</th>\n",
       "      <th>altitude</th>\n",
       "      <th>latitude</th>\n",
       "      <th>longitude</th>\n",
       "      <th>heading</th>\n",
       "    </tr>\n",
       "  </thead>\n",
       "  <tbody>\n",
       "    <tr>\n",
       "      <th>0</th>\n",
       "      <td>a09909</td>\n",
       "      <td>NaN</td>\n",
       "      <td>1529539200</td>\n",
       "      <td>1.529574e+09</td>\n",
       "      <td>1529574562</td>\n",
       "      <td>KPWK</td>\n",
       "      <td>IN93</td>\n",
       "      <td>1529574561</td>\n",
       "      <td>609.6</td>\n",
       "      <td>41.702100</td>\n",
       "      <td>-86.469939</td>\n",
       "      <td>88.232170</td>\n",
       "    </tr>\n",
       "    <tr>\n",
       "      <th>1</th>\n",
       "      <td>a09909</td>\n",
       "      <td>NaN</td>\n",
       "      <td>1529539200</td>\n",
       "      <td>1.529574e+09</td>\n",
       "      <td>1529574562</td>\n",
       "      <td>KPWK</td>\n",
       "      <td>IN93</td>\n",
       "      <td>1529574559</td>\n",
       "      <td>609.6</td>\n",
       "      <td>41.702042</td>\n",
       "      <td>-86.472140</td>\n",
       "      <td>88.253716</td>\n",
       "    </tr>\n",
       "    <tr>\n",
       "      <th>2</th>\n",
       "      <td>a09909</td>\n",
       "      <td>NaN</td>\n",
       "      <td>1529539200</td>\n",
       "      <td>1.529574e+09</td>\n",
       "      <td>1529574562</td>\n",
       "      <td>KPWK</td>\n",
       "      <td>IN93</td>\n",
       "      <td>1529574490</td>\n",
       "      <td>914.4</td>\n",
       "      <td>41.700657</td>\n",
       "      <td>-86.553040</td>\n",
       "      <td>88.451843</td>\n",
       "    </tr>\n",
       "    <tr>\n",
       "      <th>3</th>\n",
       "      <td>a09909</td>\n",
       "      <td>NaN</td>\n",
       "      <td>1529539200</td>\n",
       "      <td>1.529574e+09</td>\n",
       "      <td>1529574562</td>\n",
       "      <td>KPWK</td>\n",
       "      <td>IN93</td>\n",
       "      <td>1529574466</td>\n",
       "      <td>1219.2</td>\n",
       "      <td>41.703683</td>\n",
       "      <td>-86.587595</td>\n",
       "      <td>111.037514</td>\n",
       "    </tr>\n",
       "    <tr>\n",
       "      <th>4</th>\n",
       "      <td>a09909</td>\n",
       "      <td>NaN</td>\n",
       "      <td>1529539200</td>\n",
       "      <td>1.529574e+09</td>\n",
       "      <td>1529574562</td>\n",
       "      <td>KPWK</td>\n",
       "      <td>IN93</td>\n",
       "      <td>1529574465</td>\n",
       "      <td>1219.2</td>\n",
       "      <td>41.703962</td>\n",
       "      <td>-86.588681</td>\n",
       "      <td>111.037514</td>\n",
       "    </tr>\n",
       "  </tbody>\n",
       "</table>\n",
       "</div>"
      ],
      "text/plain": [
       "   icao24 callsign         day     firstseen    lastseen estdepartureairport  \\\n",
       "0  a09909      NaN  1529539200  1.529574e+09  1529574562                KPWK   \n",
       "1  a09909      NaN  1529539200  1.529574e+09  1529574562                KPWK   \n",
       "2  a09909      NaN  1529539200  1.529574e+09  1529574562                KPWK   \n",
       "3  a09909      NaN  1529539200  1.529574e+09  1529574562                KPWK   \n",
       "4  a09909      NaN  1529539200  1.529574e+09  1529574562                KPWK   \n",
       "\n",
       "  estarrivalairport        time  altitude   latitude  longitude     heading  \n",
       "0              IN93  1529574561     609.6  41.702100 -86.469939   88.232170  \n",
       "1              IN93  1529574559     609.6  41.702042 -86.472140   88.253716  \n",
       "2              IN93  1529574490     914.4  41.700657 -86.553040   88.451843  \n",
       "3              IN93  1529574466    1219.2  41.703683 -86.587595  111.037514  \n",
       "4              IN93  1529574465    1219.2  41.703962 -86.588681  111.037514  "
      ]
     },
     "execution_count": 3,
     "metadata": {},
     "output_type": "execute_result"
    }
   ],
   "source": [
    "df = pd.read_csv('flights_data4-1529539200-cleaned.csv', dtype={'icao24': 'str'})\n",
    "df.head() "
   ]
  },
  {
   "cell_type": "code",
   "execution_count": 5,
   "metadata": {},
   "outputs": [
    {
     "data": {
      "text/plain": [
       "1524.0"
      ]
     },
     "execution_count": 5,
     "metadata": {},
     "output_type": "execute_result"
    }
   ],
   "source": [
    "df[df.icao24 == 'a09909'].altitude.median() "
   ]
  },
  {
   "cell_type": "code",
   "execution_count": 6,
   "metadata": {},
   "outputs": [
    {
     "data": {
      "text/plain": [
       "<AxesSubplot:>"
      ]
     },
     "execution_count": 6,
     "metadata": {},
     "output_type": "execute_result"
    },
    {
     "data": {
      "image/png": "[encoded data removed]",
      "text/plain": [
       "<Figure size 432x288 with 1 Axes>"
      ]
     },
     "metadata": {
      "needs_background": "light"
     },
     "output_type": "display_data"
    }
   ],
   "source": [
    "df[df.icao24 == 'a09909'].altitude.hist()"
   ]
  },
  {
   "cell_type": "code",
   "execution_count": null,
   "metadata": {},
   "outputs": [],
   "source": [
    "# Each row is one detection of a plane"
   ]
  }
 ],
 "metadata": {
  "kernelspec": {
   "display_name": "Python 3",
   "language": "python",
   "name": "python3"
  },
  "language_info": {
   "codemirror_mode": {
    "name": "ipython",
    "version": 3
   },
   "file_extension": ".py",
   "mimetype": "text/x-python",
   "name": "python",
   "nbconvert_exporter": "python",
   "pygments_lexer": "ipython3",
   "version": "3.9.5"
  }
 },
 "nbformat": 4,
 "nbformat_minor": 4
}
