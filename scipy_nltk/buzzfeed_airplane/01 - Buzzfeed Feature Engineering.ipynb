{
 "cells": [
  {
   "cell_type": "markdown",
   "metadata": {},
   "source": [
    "# Classification and Feature Engineering with Buzzfeed\n",
    "\n",
    "Working from [We Trained A Computer To Search For Hidden Spy Planes. This Is What It Found.](https://www.buzzfeednews.com/article/peteraldhous/hidden-spy-planes)\n",
    "\n",
    "For data, we'll be using `flights_data4-1529539200-cleaned.csv`.\n",
    "\n",
    "If you'd like to kind of ignore everything I say, you can maybe kind of look at [this page](https://investigate.ai/buzzfeed-spy-planes/feature-engineering-buzzfeed-spy-planes/)."
   ]
  },
  {
   "cell_type": "code",
   "execution_count": 1,
   "metadata": {},
   "outputs": [
    {
     "name": "stdout",
     "output_type": "stream",
     "text": [
      "Requirement already satisfied: pyproj in /Users/soma/.pyenv/versions/3.8.2/lib/python3.8/site-packages (3.1.0)\n",
      "Requirement already satisfied: certifi in /Users/soma/.pyenv/versions/3.8.2/lib/python3.8/site-packages (from pyproj) (2020.4.5.1)\n",
      "\u001b[33mWARNING: You are using pip version 19.2.3, however version 21.2.2 is available.\n",
      "You should consider upgrading via the 'pip install --upgrade pip' command.\u001b[0m\n",
      "Requirement already satisfied: shapely in /Users/soma/.pyenv/versions/3.8.2/lib/python3.8/site-packages (1.7.1)\n",
      "\u001b[33mWARNING: You are using pip version 19.2.3, however version 21.2.2 is available.\n",
      "You should consider upgrading via the 'pip install --upgrade pip' command.\u001b[0m\n"
     ]
    }
   ],
   "source": [
    "!pip install pyproj\n",
    "!pip install shapely"
   ]
  },
  {
   "cell_type": "code",
   "execution_count": 2,
   "metadata": {},
   "outputs": [],
   "source": [
    "# Normal imports for data analysis\n",
    "import pandas as pd \n",
    "import numpy as np\n",
    "\n",
    "# Extra geographic bits, only used for for calculating fly zone area\n",
    "from shapely.geometry import Polygon\n",
    "from pyproj import Transformer                                                                                                                \n",
    "\n",
    "%matplotlib inline"
   ]
  },
  {
   "cell_type": "code",
   "execution_count": 3,
   "metadata": {},
   "outputs": [
    {
     "data": {
      "text/html": [
       "<div>\n",
       "<style scoped>\n",
       "    .dataframe tbody tr th:only-of-type {\n",
       "        vertical-align: middle;\n",
       "    }\n",
       "\n",
       "    .dataframe tbody tr th {\n",
       "        vertical-align: top;\n",
       "    }\n",
       "\n",
       "    .dataframe thead th {\n",
       "        text-align: right;\n",
       "    }\n",
       "</style>\n",
       "<table border=\"1\" class=\"dataframe\">\n",
       "  <thead>\n",
       "    <tr style=\"text-align: right;\">\n",
       "      <th></th>\n",
       "      <th>icao24</th>\n",
       "      <th>callsign</th>\n",
       "      <th>day</th>\n",
       "      <th>firstseen</th>\n",
       "      <th>lastseen</th>\n",
       "      <th>estdepartureairport</th>\n",
       "      <th>estarrivalairport</th>\n",
       "      <th>time</th>\n",
       "      <th>altitude</th>\n",
       "      <th>latitude</th>\n",
       "      <th>longitude</th>\n",
       "      <th>heading</th>\n",
       "    </tr>\n",
       "  </thead>\n",
       "  <tbody>\n",
       "    <tr>\n",
       "      <th>0</th>\n",
       "      <td>a09909</td>\n",
       "      <td>NaN</td>\n",
       "      <td>1529539200</td>\n",
       "      <td>1.529574e+09</td>\n",
       "      <td>1529574562</td>\n",
       "      <td>KPWK</td>\n",
       "      <td>IN93</td>\n",
       "      <td>1529574561</td>\n",
       "      <td>609.6</td>\n",
       "      <td>41.702100</td>\n",
       "      <td>-86.469939</td>\n",
       "      <td>88.232170</td>\n",
       "    </tr>\n",
       "    <tr>\n",
       "      <th>1</th>\n",
       "      <td>a09909</td>\n",
       "      <td>NaN</td>\n",
       "      <td>1529539200</td>\n",
       "      <td>1.529574e+09</td>\n",
       "      <td>1529574562</td>\n",
       "      <td>KPWK</td>\n",
       "      <td>IN93</td>\n",
       "      <td>1529574559</td>\n",
       "      <td>609.6</td>\n",
       "      <td>41.702042</td>\n",
       "      <td>-86.472140</td>\n",
       "      <td>88.253716</td>\n",
       "    </tr>\n",
       "    <tr>\n",
       "      <th>2</th>\n",
       "      <td>a09909</td>\n",
       "      <td>NaN</td>\n",
       "      <td>1529539200</td>\n",
       "      <td>1.529574e+09</td>\n",
       "      <td>1529574562</td>\n",
       "      <td>KPWK</td>\n",
       "      <td>IN93</td>\n",
       "      <td>1529574490</td>\n",
       "      <td>914.4</td>\n",
       "      <td>41.700657</td>\n",
       "      <td>-86.553040</td>\n",
       "      <td>88.451843</td>\n",
       "    </tr>\n",
       "    <tr>\n",
       "      <th>3</th>\n",
       "      <td>a09909</td>\n",
       "      <td>NaN</td>\n",
       "      <td>1529539200</td>\n",
       "      <td>1.529574e+09</td>\n",
       "      <td>1529574562</td>\n",
       "      <td>KPWK</td>\n",
       "      <td>IN93</td>\n",
       "      <td>1529574466</td>\n",
       "      <td>1219.2</td>\n",
       "      <td>41.703683</td>\n",
       "      <td>-86.587595</td>\n",
       "      <td>111.037514</td>\n",
       "    </tr>\n",
       "    <tr>\n",
       "      <th>4</th>\n",
       "      <td>a09909</td>\n",
       "      <td>NaN</td>\n",
       "      <td>1529539200</td>\n",
       "      <td>1.529574e+09</td>\n",
       "      <td>1529574562</td>\n",
       "      <td>KPWK</td>\n",
       "      <td>IN93</td>\n",
       "      <td>1529574465</td>\n",
       "      <td>1219.2</td>\n",
       "      <td>41.703962</td>\n",
       "      <td>-86.588681</td>\n",
       "      <td>111.037514</td>\n",
       "    </tr>\n",
       "  </tbody>\n",
       "</table>\n",
       "</div>"
      ],
      "text/plain": [
       "   icao24 callsign         day     firstseen    lastseen estdepartureairport  \\\n",
       "0  a09909      NaN  1529539200  1.529574e+09  1529574562                KPWK   \n",
       "1  a09909      NaN  1529539200  1.529574e+09  1529574562                KPWK   \n",
       "2  a09909      NaN  1529539200  1.529574e+09  1529574562                KPWK   \n",
       "3  a09909      NaN  1529539200  1.529574e+09  1529574562                KPWK   \n",
       "4  a09909      NaN  1529539200  1.529574e+09  1529574562                KPWK   \n",
       "\n",
       "  estarrivalairport        time  altitude   latitude  longitude     heading  \n",
       "0              IN93  1529574561     609.6  41.702100 -86.469939   88.232170  \n",
       "1              IN93  1529574559     609.6  41.702042 -86.472140   88.253716  \n",
       "2              IN93  1529574490     914.4  41.700657 -86.553040   88.451843  \n",
       "3              IN93  1529574466    1219.2  41.703683 -86.587595  111.037514  \n",
       "4              IN93  1529574465    1219.2  41.703962 -86.588681  111.037514  "
      ]
     },
     "execution_count": 3,
     "metadata": {},
     "output_type": "execute_result"
    }
   ],
   "source": [
    "df = pd.read_csv('flights_data4-1529539200-cleaned.csv', dtype={'icao24': 'str'})\n",
    "df.head()"
   ]
  },
  {
   "cell_type": "code",
   "execution_count": 4,
   "metadata": {},
   "outputs": [],
   "source": [
    "# \"How often does the plane start and end at the same airport\"\n",
    "# Break these measurements into individual flights,\n",
    "# then combine individual flights into individual planes"
   ]
  },
  {
   "cell_type": "code",
   "execution_count": 6,
   "metadata": {},
   "outputs": [
    {
     "data": {
      "text/html": [
       "<div>\n",
       "<style scoped>\n",
       "    .dataframe tbody tr th:only-of-type {\n",
       "        vertical-align: middle;\n",
       "    }\n",
       "\n",
       "    .dataframe tbody tr th {\n",
       "        vertical-align: top;\n",
       "    }\n",
       "\n",
       "    .dataframe thead th {\n",
       "        text-align: right;\n",
       "    }\n",
       "</style>\n",
       "<table border=\"1\" class=\"dataframe\">\n",
       "  <thead>\n",
       "    <tr style=\"text-align: right;\">\n",
       "      <th></th>\n",
       "      <th>icao24</th>\n",
       "      <th>callsign</th>\n",
       "      <th>day</th>\n",
       "      <th>firstseen</th>\n",
       "      <th>lastseen</th>\n",
       "      <th>estdepartureairport</th>\n",
       "      <th>estarrivalairport</th>\n",
       "      <th>time</th>\n",
       "      <th>altitude</th>\n",
       "      <th>latitude</th>\n",
       "      <th>longitude</th>\n",
       "      <th>heading</th>\n",
       "    </tr>\n",
       "  </thead>\n",
       "  <tbody>\n",
       "    <tr>\n",
       "      <th>0</th>\n",
       "      <td>a09909</td>\n",
       "      <td>NaN</td>\n",
       "      <td>1529539200</td>\n",
       "      <td>1.529574e+09</td>\n",
       "      <td>1529574562</td>\n",
       "      <td>KPWK</td>\n",
       "      <td>IN93</td>\n",
       "      <td>1529574561</td>\n",
       "      <td>609.6</td>\n",
       "      <td>41.702100</td>\n",
       "      <td>-86.469939</td>\n",
       "      <td>88.232170</td>\n",
       "    </tr>\n",
       "    <tr>\n",
       "      <th>1</th>\n",
       "      <td>a09909</td>\n",
       "      <td>NaN</td>\n",
       "      <td>1529539200</td>\n",
       "      <td>1.529574e+09</td>\n",
       "      <td>1529574562</td>\n",
       "      <td>KPWK</td>\n",
       "      <td>IN93</td>\n",
       "      <td>1529574559</td>\n",
       "      <td>609.6</td>\n",
       "      <td>41.702042</td>\n",
       "      <td>-86.472140</td>\n",
       "      <td>88.253716</td>\n",
       "    </tr>\n",
       "    <tr>\n",
       "      <th>2</th>\n",
       "      <td>a09909</td>\n",
       "      <td>NaN</td>\n",
       "      <td>1529539200</td>\n",
       "      <td>1.529574e+09</td>\n",
       "      <td>1529574562</td>\n",
       "      <td>KPWK</td>\n",
       "      <td>IN93</td>\n",
       "      <td>1529574490</td>\n",
       "      <td>914.4</td>\n",
       "      <td>41.700657</td>\n",
       "      <td>-86.553040</td>\n",
       "      <td>88.451843</td>\n",
       "    </tr>\n",
       "    <tr>\n",
       "      <th>3</th>\n",
       "      <td>a09909</td>\n",
       "      <td>NaN</td>\n",
       "      <td>1529539200</td>\n",
       "      <td>1.529574e+09</td>\n",
       "      <td>1529574562</td>\n",
       "      <td>KPWK</td>\n",
       "      <td>IN93</td>\n",
       "      <td>1529574466</td>\n",
       "      <td>1219.2</td>\n",
       "      <td>41.703683</td>\n",
       "      <td>-86.587595</td>\n",
       "      <td>111.037514</td>\n",
       "    </tr>\n",
       "    <tr>\n",
       "      <th>4</th>\n",
       "      <td>a09909</td>\n",
       "      <td>NaN</td>\n",
       "      <td>1529539200</td>\n",
       "      <td>1.529574e+09</td>\n",
       "      <td>1529574562</td>\n",
       "      <td>KPWK</td>\n",
       "      <td>IN93</td>\n",
       "      <td>1529574465</td>\n",
       "      <td>1219.2</td>\n",
       "      <td>41.703962</td>\n",
       "      <td>-86.588681</td>\n",
       "      <td>111.037514</td>\n",
       "    </tr>\n",
       "    <tr>\n",
       "      <th>...</th>\n",
       "      <td>...</td>\n",
       "      <td>...</td>\n",
       "      <td>...</td>\n",
       "      <td>...</td>\n",
       "      <td>...</td>\n",
       "      <td>...</td>\n",
       "      <td>...</td>\n",
       "      <td>...</td>\n",
       "      <td>...</td>\n",
       "      <td>...</td>\n",
       "      <td>...</td>\n",
       "      <td>...</td>\n",
       "    </tr>\n",
       "    <tr>\n",
       "      <th>81</th>\n",
       "      <td>a09909</td>\n",
       "      <td>NaN</td>\n",
       "      <td>1529539200</td>\n",
       "      <td>1.529574e+09</td>\n",
       "      <td>1529574562</td>\n",
       "      <td>KPWK</td>\n",
       "      <td>IN93</td>\n",
       "      <td>1529573603</td>\n",
       "      <td>609.6</td>\n",
       "      <td>42.153982</td>\n",
       "      <td>-87.919368</td>\n",
       "      <td>347.686951</td>\n",
       "    </tr>\n",
       "    <tr>\n",
       "      <th>82</th>\n",
       "      <td>a09909</td>\n",
       "      <td>NaN</td>\n",
       "      <td>1529539200</td>\n",
       "      <td>1.529574e+09</td>\n",
       "      <td>1529574562</td>\n",
       "      <td>KPWK</td>\n",
       "      <td>IN93</td>\n",
       "      <td>1529573587</td>\n",
       "      <td>609.6</td>\n",
       "      <td>42.140076</td>\n",
       "      <td>-87.914845</td>\n",
       "      <td>345.191620</td>\n",
       "    </tr>\n",
       "    <tr>\n",
       "      <th>83</th>\n",
       "      <td>a09909</td>\n",
       "      <td>NaN</td>\n",
       "      <td>1529539200</td>\n",
       "      <td>1.529574e+09</td>\n",
       "      <td>1529574562</td>\n",
       "      <td>KPWK</td>\n",
       "      <td>IN93</td>\n",
       "      <td>1529573582</td>\n",
       "      <td>609.6</td>\n",
       "      <td>42.136432</td>\n",
       "      <td>-87.913492</td>\n",
       "      <td>343.141602</td>\n",
       "    </tr>\n",
       "    <tr>\n",
       "      <th>84</th>\n",
       "      <td>a09909</td>\n",
       "      <td>NaN</td>\n",
       "      <td>1529539200</td>\n",
       "      <td>1.529574e+09</td>\n",
       "      <td>1529574562</td>\n",
       "      <td>KPWK</td>\n",
       "      <td>IN93</td>\n",
       "      <td>1529573571</td>\n",
       "      <td>304.8</td>\n",
       "      <td>42.128357</td>\n",
       "      <td>-87.910038</td>\n",
       "      <td>341.104858</td>\n",
       "    </tr>\n",
       "    <tr>\n",
       "      <th>85</th>\n",
       "      <td>a09909</td>\n",
       "      <td>NaN</td>\n",
       "      <td>1529539200</td>\n",
       "      <td>1.529574e+09</td>\n",
       "      <td>1529574562</td>\n",
       "      <td>KPWK</td>\n",
       "      <td>IN93</td>\n",
       "      <td>1529573568</td>\n",
       "      <td>304.8</td>\n",
       "      <td>42.126330</td>\n",
       "      <td>-87.909021</td>\n",
       "      <td>338.614258</td>\n",
       "    </tr>\n",
       "  </tbody>\n",
       "</table>\n",
       "<p>86 rows × 12 columns</p>\n",
       "</div>"
      ],
      "text/plain": [
       "    icao24 callsign         day     firstseen    lastseen estdepartureairport  \\\n",
       "0   a09909      NaN  1529539200  1.529574e+09  1529574562                KPWK   \n",
       "1   a09909      NaN  1529539200  1.529574e+09  1529574562                KPWK   \n",
       "2   a09909      NaN  1529539200  1.529574e+09  1529574562                KPWK   \n",
       "3   a09909      NaN  1529539200  1.529574e+09  1529574562                KPWK   \n",
       "4   a09909      NaN  1529539200  1.529574e+09  1529574562                KPWK   \n",
       "..     ...      ...         ...           ...         ...                 ...   \n",
       "81  a09909      NaN  1529539200  1.529574e+09  1529574562                KPWK   \n",
       "82  a09909      NaN  1529539200  1.529574e+09  1529574562                KPWK   \n",
       "83  a09909      NaN  1529539200  1.529574e+09  1529574562                KPWK   \n",
       "84  a09909      NaN  1529539200  1.529574e+09  1529574562                KPWK   \n",
       "85  a09909      NaN  1529539200  1.529574e+09  1529574562                KPWK   \n",
       "\n",
       "   estarrivalairport        time  altitude   latitude  longitude     heading  \n",
       "0               IN93  1529574561     609.6  41.702100 -86.469939   88.232170  \n",
       "1               IN93  1529574559     609.6  41.702042 -86.472140   88.253716  \n",
       "2               IN93  1529574490     914.4  41.700657 -86.553040   88.451843  \n",
       "3               IN93  1529574466    1219.2  41.703683 -86.587595  111.037514  \n",
       "4               IN93  1529574465    1219.2  41.703962 -86.588681  111.037514  \n",
       "..               ...         ...       ...        ...        ...         ...  \n",
       "81              IN93  1529573603     609.6  42.153982 -87.919368  347.686951  \n",
       "82              IN93  1529573587     609.6  42.140076 -87.914845  345.191620  \n",
       "83              IN93  1529573582     609.6  42.136432 -87.913492  343.141602  \n",
       "84              IN93  1529573571     304.8  42.128357 -87.910038  341.104858  \n",
       "85              IN93  1529573568     304.8  42.126330 -87.909021  338.614258  \n",
       "\n",
       "[86 rows x 12 columns]"
      ]
     },
     "execution_count": 6,
     "metadata": {},
     "output_type": "execute_result"
    }
   ],
   "source": [
    "# This is a single plane\n",
    "# each plane has an icao24\n",
    "df[df.icao24 == 'a09909']"
   ]
  },
  {
   "cell_type": "code",
   "execution_count": 7,
   "metadata": {},
   "outputs": [
    {
     "data": {
      "text/plain": [
       "1524.0"
      ]
     },
     "execution_count": 7,
     "metadata": {},
     "output_type": "execute_result"
    }
   ],
   "source": [
    "df[df.icao24 == 'a09909'].altitude.median()"
   ]
  },
  {
   "cell_type": "code",
   "execution_count": 12,
   "metadata": {},
   "outputs": [
    {
     "data": {
      "text/plain": [
       "count      86.000000\n",
       "mean     1601.972093\n",
       "std       720.053997\n",
       "min       304.800000\n",
       "25%      1219.200000\n",
       "50%      1524.000000\n",
       "75%      1828.800000\n",
       "max      3048.000000\n",
       "Name: altitude, dtype: float64"
      ]
     },
     "execution_count": 12,
     "metadata": {},
     "output_type": "execute_result"
    }
   ],
   "source": [
    "df[df.icao24 == 'a09909'].altitude.describe()"
   ]
  },
  {
   "cell_type": "code",
   "execution_count": null,
   "metadata": {},
   "outputs": [],
   "source": []
  },
  {
   "cell_type": "code",
   "execution_count": null,
   "metadata": {},
   "outputs": [],
   "source": []
  },
  {
   "cell_type": "code",
   "execution_count": null,
   "metadata": {},
   "outputs": [],
   "source": []
  },
  {
   "cell_type": "code",
   "execution_count": 8,
   "metadata": {},
   "outputs": [
    {
     "data": {
      "text/plain": [
       "icao24\n",
       "000001      914.4\n",
       "009f55     7620.0\n",
       "00b0ec     2743.2\n",
       "00b1fa     1524.0\n",
       "00b208     3048.0\n",
       "           ...   \n",
       "ef3c61      609.6\n",
       "f5cb1a     1524.0\n",
       "f9d82d     1828.8\n",
       "fab184     4267.2\n",
       "ffe3bf    11582.4\n",
       "Name: altitude, Length: 13840, dtype: float64"
      ]
     },
     "execution_count": 8,
     "metadata": {},
     "output_type": "execute_result"
    }
   ],
   "source": [
    "df.groupby('icao24').altitude.median()"
   ]
  },
  {
   "cell_type": "code",
   "execution_count": 11,
   "metadata": {},
   "outputs": [
    {
     "data": {
      "text/plain": [
       "icao24\n",
       "000001      894.0\n",
       "000001    30940.0\n",
       "000001    15530.0\n",
       "009f55     1695.0\n",
       "00b0ec    53862.0\n",
       "           ...   \n",
       "f9d82d     1316.0\n",
       "f9d82d      897.0\n",
       "f9d82d     1440.0\n",
       "fab184      784.0\n",
       "ffe3bf     1812.0\n",
       "Length: 30929, dtype: float64"
      ]
     },
     "execution_count": 11,
     "metadata": {},
     "output_type": "execute_result"
    }
   ],
   "source": [
    "# Durations of each flight\n",
    "flight_times = df.groupby(['icao24', 'firstseen']).lastseen.last().reset_index(level=1)\n",
    "durations = flight_times.lastseen - flight_times.firstseen\n",
    "durations"
   ]
  },
  {
   "cell_type": "code",
   "execution_count": 13,
   "metadata": {},
   "outputs": [
    {
     "data": {
      "text/plain": [
       "0.2      914.4\n",
       "0.4     1828.8\n",
       "0.6     4572.0\n",
       "0.8    10058.4\n",
       "Name: altitude, dtype: float64"
      ]
     },
     "execution_count": 13,
     "metadata": {},
     "output_type": "execute_result"
    }
   ],
   "source": [
    "quantiles = df.altitude.quantile([0.2, 0.4, 0.6, 0.8])\n",
    "quantiles"
   ]
  },
  {
   "cell_type": "code",
   "execution_count": 16,
   "metadata": {},
   "outputs": [
    {
     "data": {
      "text/plain": [
       "0      609.6\n",
       "1      609.6\n",
       "2      914.4\n",
       "3     1219.2\n",
       "4     1219.2\n",
       "       ...  \n",
       "81     609.6\n",
       "82     609.6\n",
       "83     609.6\n",
       "84     304.8\n",
       "85     304.8\n",
       "Name: altitude, Length: 86, dtype: float64"
      ]
     },
     "execution_count": 16,
     "metadata": {},
     "output_type": "execute_result"
    }
   ],
   "source": [
    "# All of the altitude measurements for plan a09909\n",
    "altitudes = df[df.icao24 == 'a09909'].altitude\n",
    "altitudes"
   ]
  },
  {
   "cell_type": "code",
   "execution_count": 19,
   "metadata": {},
   "outputs": [
    {
     "data": {
      "text/plain": [
       "altitude1    18.614021\n",
       "altitude2    81.385979\n",
       "altitude3     0.000000\n",
       "altitude4     0.000000\n",
       "altitude5     0.000000\n",
       "Name: altitude, dtype: float64"
      ]
     },
     "execution_count": 19,
     "metadata": {},
     "output_type": "execute_result"
    }
   ],
   "source": [
    "# Create buckets based on the quantiles of all planes,\n",
    "# reusing our variable from above\n",
    "bin_quantiles = [-np.inf, *quantiles, np.inf]\n",
    "\n",
    "# altitude1: -infinity to 914.4\n",
    "# altitude2: 914.4     to 1,828.8\n",
    "# altitude3: 1,828.8   to 4,572.0\n",
    "# altitude4: 4,572.0   to 10,058.4\n",
    "# altitude5: 10,058.4  to infinity\n",
    "bin_labels = ['altitude1','altitude2','altitude3','altitude4','altitude5']\n",
    "\n",
    "# Get the altitudes for just this plane\n",
    "altitudes = df[df.icao24 == 'a4f179'].altitude\n",
    "\n",
    "# Count how many altitude reading are in each bucket\n",
    "# normalize=True to give us percentages\n",
    "# bins=bin_labels to name them\n",
    "# sort=False so we can see them in order of 1-5\n",
    "# * 100 to convert to percentages because it's easier to read\n",
    "pd.cut(altitudes, \n",
    "       bins=bin_quantiles,\n",
    "       labels=bin_labels).value_counts(sort=False, normalize=True) * 100"
   ]
  },
  {
   "cell_type": "code",
   "execution_count": 21,
   "metadata": {},
   "outputs": [
    {
     "data": {
      "text/plain": [
       "altitude1     8.139535\n",
       "altitude2    70.930233\n",
       "altitude3    20.930233\n",
       "altitude4     0.000000\n",
       "altitude5     0.000000\n",
       "Name: altitude, dtype: float64"
      ]
     },
     "execution_count": 21,
     "metadata": {},
     "output_type": "execute_result"
    }
   ],
   "source": [
    "# Create buckets based on the quantiles of all planes,\n",
    "# reusing our variable from above\n",
    "bin_quantiles = [-np.inf, *quantiles, np.inf]\n",
    "\n",
    "# altitude1: -infinity to 914.4\n",
    "# altitude2: 914.4     to 1,828.8\n",
    "# altitude3: 1,828.8   to 4,572.0\n",
    "# altitude4: 4,572.0   to 10,058.4\n",
    "# altitude5: 10,058.4  to infinity\n",
    "bin_labels = ['altitude1','altitude2','altitude3','altitude4','altitude5']\n",
    "\n",
    "# Get the altitudes for just this plane\n",
    "altitudes = df[df.icao24 == 'a09909'].altitude\n",
    "\n",
    "# Count how many altitude reading are in each bucket\n",
    "# normalize=True to give us percentages\n",
    "# bins=bin_labels to name them\n",
    "# sort=False so we can see them in order of 1-5\n",
    "# * 100 to convert to percentages because it's easier to read\n",
    "pd.cut(altitudes, \n",
    "       bins=bin_quantiles,\n",
    "       labels=bin_labels).value_counts(sort=False, normalize=True) * 100"
   ]
  },
  {
   "cell_type": "code",
   "execution_count": null,
   "metadata": {},
   "outputs": [],
   "source": []
  }
 ],
 "metadata": {
  "kernelspec": {
   "display_name": "Python 3",
   "language": "python",
   "name": "python3"
  },
  "language_info": {
   "codemirror_mode": {
    "name": "ipython",
    "version": 3
   },
   "file_extension": ".py",
   "mimetype": "text/x-python",
   "name": "python",
   "nbconvert_exporter": "python",
   "pygments_lexer": "ipython3",
   "version": "3.8.2"
  }
 },
 "nbformat": 4,
 "nbformat_minor": 4
}
