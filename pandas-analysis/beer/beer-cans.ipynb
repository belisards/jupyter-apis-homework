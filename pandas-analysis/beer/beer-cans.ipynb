{
 "cells": [
  {
   "cell_type": "markdown",
   "metadata": {
    "collapsed": true
   },
   "source": [
    "# Homework 6, Part One: Lots and lots of questions about beer"
   ]
  },
  {
   "cell_type": "markdown",
   "metadata": {},
   "source": [
    "### Do your importing and your setup"
   ]
  },
  {
   "cell_type": "code",
   "execution_count": 10,
   "metadata": {},
   "outputs": [],
   "source": [
    "import pandas as pd\n",
    "import numpy as np\n",
    "import matplotlib"
   ]
  },
  {
   "cell_type": "markdown",
   "metadata": {},
   "source": [
    "## Read in the file `craftcans.csv`, and look at the first first rows"
   ]
  },
  {
   "cell_type": "code",
   "execution_count": 11,
   "metadata": {},
   "outputs": [
    {
     "output_type": "execute_result",
     "data": {
      "text/plain": [
       "                          Beer              Brewery         Location  \\\n",
       "0                 Get Together    NorthGate Brewing  Minneapolis, MN   \n",
       "1                Maggie's Leap    NorthGate Brewing  Minneapolis, MN   \n",
       "2                   Wall's End    NorthGate Brewing  Minneapolis, MN   \n",
       "3                      Pumpion    NorthGate Brewing  Minneapolis, MN   \n",
       "4                   Stronghold    NorthGate Brewing  Minneapolis, MN   \n",
       "...                        ...                  ...              ...   \n",
       "2411  Mama's Little Yella Pils  Oskar Blues Brewery     Longmont, CO   \n",
       "2412        GUBNA Imperial IPA  Oskar Blues Brewery     Longmont, CO   \n",
       "2413                  Old Chub  Oskar Blues Brewery     Longmont, CO   \n",
       "2414         Gordon Ale (2009)  Oskar Blues Brewery     Longmont, CO   \n",
       "2415           Dale's Pale Ale  Oskar Blues Brewery     Longmont, CO   \n",
       "\n",
       "                               Style    Size    ABV   IBUs  \n",
       "0                       American IPA  16 oz.  4.50%   50.0  \n",
       "1                 Milk / Sweet Stout  16 oz.  4.90%   26.0  \n",
       "2                  English Brown Ale  16 oz.  4.80%   19.0  \n",
       "3                        Pumpkin Ale  16 oz.  6.00%   38.0  \n",
       "4                    American Porter  16 oz.  6.00%   25.0  \n",
       "...                              ...     ...    ...    ...  \n",
       "2411                  Czech Pilsener  12 oz.  5.30%   35.0  \n",
       "2412  American Double / Imperial IPA  12 oz.  9.90%  100.0  \n",
       "2413                    Scottish Ale  12 oz.  8.00%   35.0  \n",
       "2414  American Double / Imperial IPA  12 oz.  8.70%   85.0  \n",
       "2415         American Pale Ale (APA)  12 oz.  6.50%   65.0  \n",
       "\n",
       "[2416 rows x 7 columns]"
      ],
      "text/html": "<div>\n<style scoped>\n    .dataframe tbody tr th:only-of-type {\n        vertical-align: middle;\n    }\n\n    .dataframe tbody tr th {\n        vertical-align: top;\n    }\n\n    .dataframe thead th {\n        text-align: right;\n    }\n</style>\n<table border=\"1\" class=\"dataframe\">\n  <thead>\n    <tr style=\"text-align: right;\">\n      <th></th>\n      <th>Beer</th>\n      <th>Brewery</th>\n      <th>Location</th>\n      <th>Style</th>\n      <th>Size</th>\n      <th>ABV</th>\n      <th>IBUs</th>\n    </tr>\n  </thead>\n  <tbody>\n    <tr>\n      <th>0</th>\n      <td>Get Together</td>\n      <td>NorthGate Brewing</td>\n      <td>Minneapolis, MN</td>\n      <td>American IPA</td>\n      <td>16 oz.</td>\n      <td>4.50%</td>\n      <td>50.0</td>\n    </tr>\n    <tr>\n      <th>1</th>\n      <td>Maggie's Leap</td>\n      <td>NorthGate Brewing</td>\n      <td>Minneapolis, MN</td>\n      <td>Milk / Sweet Stout</td>\n      <td>16 oz.</td>\n      <td>4.90%</td>\n      <td>26.0</td>\n    </tr>\n    <tr>\n      <th>2</th>\n      <td>Wall's End</td>\n      <td>NorthGate Brewing</td>\n      <td>Minneapolis, MN</td>\n      <td>English Brown Ale</td>\n      <td>16 oz.</td>\n      <td>4.80%</td>\n      <td>19.0</td>\n    </tr>\n    <tr>\n      <th>3</th>\n      <td>Pumpion</td>\n      <td>NorthGate Brewing</td>\n      <td>Minneapolis, MN</td>\n      <td>Pumpkin Ale</td>\n      <td>16 oz.</td>\n      <td>6.00%</td>\n      <td>38.0</td>\n    </tr>\n    <tr>\n      <th>4</th>\n      <td>Stronghold</td>\n      <td>NorthGate Brewing</td>\n      <td>Minneapolis, MN</td>\n      <td>American Porter</td>\n      <td>16 oz.</td>\n      <td>6.00%</td>\n      <td>25.0</td>\n    </tr>\n    <tr>\n      <th>...</th>\n      <td>...</td>\n      <td>...</td>\n      <td>...</td>\n      <td>...</td>\n      <td>...</td>\n      <td>...</td>\n      <td>...</td>\n    </tr>\n    <tr>\n      <th>2411</th>\n      <td>Mama's Little Yella Pils</td>\n      <td>Oskar Blues Brewery</td>\n      <td>Longmont, CO</td>\n      <td>Czech Pilsener</td>\n      <td>12 oz.</td>\n      <td>5.30%</td>\n      <td>35.0</td>\n    </tr>\n    <tr>\n      <th>2412</th>\n      <td>GUBNA Imperial IPA</td>\n      <td>Oskar Blues Brewery</td>\n      <td>Longmont, CO</td>\n      <td>American Double / Imperial IPA</td>\n      <td>12 oz.</td>\n      <td>9.90%</td>\n      <td>100.0</td>\n    </tr>\n    <tr>\n      <th>2413</th>\n      <td>Old Chub</td>\n      <td>Oskar Blues Brewery</td>\n      <td>Longmont, CO</td>\n      <td>Scottish Ale</td>\n      <td>12 oz.</td>\n      <td>8.00%</td>\n      <td>35.0</td>\n    </tr>\n    <tr>\n      <th>2414</th>\n      <td>Gordon Ale (2009)</td>\n      <td>Oskar Blues Brewery</td>\n      <td>Longmont, CO</td>\n      <td>American Double / Imperial IPA</td>\n      <td>12 oz.</td>\n      <td>8.70%</td>\n      <td>85.0</td>\n    </tr>\n    <tr>\n      <th>2415</th>\n      <td>Dale's Pale Ale</td>\n      <td>Oskar Blues Brewery</td>\n      <td>Longmont, CO</td>\n      <td>American Pale Ale (APA)</td>\n      <td>12 oz.</td>\n      <td>6.50%</td>\n      <td>65.0</td>\n    </tr>\n  </tbody>\n</table>\n<p>2416 rows × 7 columns</p>\n</div>"
     },
     "metadata": {},
     "execution_count": 11
    }
   ],
   "source": [
    "ignore_na = ['Does not apply','NaN','nan']\n",
    "\n",
    "df = pd.read_csv(\"craftcans.csv\",na_values = ignore_na)\n",
    "\n",
    "df"
   ]
  },
  {
   "cell_type": "markdown",
   "metadata": {},
   "source": [
    "## How many rows do you have in the data? What are the column types?"
   ]
  },
  {
   "cell_type": "code",
   "execution_count": 12,
   "metadata": {},
   "outputs": [
    {
     "output_type": "stream",
     "name": "stdout",
     "text": [
      "<class 'pandas.core.frame.DataFrame'>\nRangeIndex: 2416 entries, 0 to 2415\nData columns (total 7 columns):\n #   Column    Non-Null Count  Dtype  \n---  ------    --------------  -----  \n 0   Beer      2416 non-null   object \n 1   Brewery   2410 non-null   object \n 2   Location  2410 non-null   object \n 3   Style     2405 non-null   object \n 4   Size      2410 non-null   object \n 5   ABV       2348 non-null   object \n 6   IBUs      1405 non-null   float64\ndtypes: float64(1), object(6)\nmemory usage: 132.2+ KB\n"
     ]
    }
   ],
   "source": [
    "df.info()"
   ]
  },
  {
   "cell_type": "markdown",
   "metadata": {},
   "source": [
    "# Checking out our alcohol"
   ]
  },
  {
   "cell_type": "markdown",
   "metadata": {},
   "source": [
    "## What are the top 10 producers of cans of beer?"
   ]
  },
  {
   "cell_type": "code",
   "execution_count": 13,
   "metadata": {},
   "outputs": [
    {
     "output_type": "execute_result",
     "data": {
      "text/plain": [
       "Brewery Vivant                62\n",
       "Oskar Blues Brewery           46\n",
       "Sun King Brewing Company      38\n",
       "Cigar City Brewing Company    25\n",
       "Sixpoint Craft Ales           24\n",
       "Hopworks Urban Brewery        23\n",
       "Stevens Point Brewery         22\n",
       "21st Amendment Brewery        20\n",
       "Great Crescent Brewery        20\n",
       "Bonfire Brewing Company       19\n",
       "Name: Brewery, dtype: int64"
      ]
     },
     "metadata": {},
     "execution_count": 13
    }
   ],
   "source": [
    "df.Brewery.value_counts().head(10)"
   ]
  },
  {
   "cell_type": "markdown",
   "metadata": {},
   "source": [
    "## What is the most common ABV? (alcohol by volume)"
   ]
  },
  {
   "cell_type": "code",
   "execution_count": 14,
   "metadata": {},
   "outputs": [
    {
     "output_type": "execute_result",
     "data": {
      "text/plain": [
       "5.00%    215\n",
       "5.50%    158\n",
       "6.00%    125\n",
       "6.50%    123\n",
       "5.20%    107\n",
       "7.00%     92\n",
       "4.50%     89\n",
       "4.80%     72\n",
       "5.80%     66\n",
       "5.60%     66\n",
       "Name: ABV, dtype: int64"
      ]
     },
     "metadata": {},
     "execution_count": 14
    }
   ],
   "source": [
    "df.ABV.value_counts().head(10)"
   ]
  },
  {
   "cell_type": "markdown",
   "metadata": {},
   "source": [
    "## Oh, weird, ABV isn't a number. Convert it to a number for me, please.\n",
    "\n",
    "It's going to take a few steps!\n",
    "\n",
    "### First, let's just look at the ABV column by itself"
   ]
  },
  {
   "cell_type": "code",
   "execution_count": 15,
   "metadata": {},
   "outputs": [
    {
     "output_type": "execute_result",
     "data": {
      "text/plain": [
       "0       4.50%\n",
       "1       4.90%\n",
       "2       4.80%\n",
       "3       6.00%\n",
       "4       6.00%\n",
       "        ...  \n",
       "2411    5.30%\n",
       "2412    9.90%\n",
       "2413    8.00%\n",
       "2414    8.70%\n",
       "2415    6.50%\n",
       "Name: ABV, Length: 2416, dtype: object"
      ]
     },
     "metadata": {},
     "execution_count": 15
    }
   ],
   "source": [
    "df.ABV"
   ]
  },
  {
   "cell_type": "markdown",
   "metadata": {},
   "source": [
    "### Hm, `%` isn't part of  a number. Let's remove it.\n",
    "\n",
    "When you're confident you got it right, save the results back into the `ABV` column.\n",
    "\n",
    "- *Tip: In programming the easiest way to remove something is to *replacing it with nothing*.\n",
    "- *Tip: \"nothing\" might seem like `NaN` sinc we talked about it a lot in class, but in this case it isn't! It's just an empty string, like \"\"*\n",
    "- *Tip: `.replace` is used for replacing ENTIRE cells, while `.str.replace` is useful for replacing PARTS of cells (see my New York example)*"
   ]
  },
  {
   "cell_type": "code",
   "execution_count": 16,
   "metadata": {},
   "outputs": [],
   "source": [
    "df.ABV = df.ABV.str.replace('%','')"
   ]
  },
  {
   "cell_type": "markdown",
   "metadata": {},
   "source": [
    "### Now let's turn `ABV` into a numeric data type\n",
    "\n",
    "Save the results back into the `ABV` column (again), and then check `df.dtypes` to make sure it worked.\n",
    "\n",
    "- *Tip: We used `.astype(int)` during class, but this has a decimal in it...*"
   ]
  },
  {
   "cell_type": "code",
   "execution_count": 17,
   "metadata": {},
   "outputs": [
    {
     "output_type": "execute_result",
     "data": {
      "text/plain": [
       "Beer         object\n",
       "Brewery      object\n",
       "Location     object\n",
       "Style        object\n",
       "Size         object\n",
       "ABV         float64\n",
       "IBUs        float64\n",
       "dtype: object"
      ]
     },
     "metadata": {},
     "execution_count": 17
    }
   ],
   "source": [
    "df['ABV'] = df['ABV'].astype(float)\n",
    "\n",
    "df.dtypes"
   ]
  },
  {
   "cell_type": "markdown",
   "metadata": {},
   "source": [
    "## What's the ABV of the average beer look like?\n",
    "\n",
    "### Show me in two different ways: one command to show the `median`/`mean`/etc, and secondly show me a chart"
   ]
  },
  {
   "cell_type": "code",
   "execution_count": 18,
   "metadata": {},
   "outputs": [
    {
     "output_type": "error",
     "ename": "AttributeError",
     "evalue": "'float' object has no attribute 'round'",
     "traceback": [
      "\u001b[0;31m---------------------------------------------------------------------------\u001b[0m",
      "\u001b[0;31mAttributeError\u001b[0m                            Traceback (most recent call last)",
      "\u001b[0;32m<ipython-input-18-fcabefe26324>\u001b[0m in \u001b[0;36m<module>\u001b[0;34m\u001b[0m\n\u001b[0;32m----> 1\u001b[0;31m \u001b[0mprint\u001b[0m\u001b[0;34m(\u001b[0m\u001b[0;34mf'Mean:{df.ABV.mean().round(1)} & Median: {df.ABV.median()}'\u001b[0m\u001b[0;34m)\u001b[0m\u001b[0;34m\u001b[0m\u001b[0;34m\u001b[0m\u001b[0m\n\u001b[0m",
      "\u001b[0;31mAttributeError\u001b[0m: 'float' object has no attribute 'round'"
     ]
    }
   ],
   "source": [
    "print(f'Mean:{df.ABV.mean().round(1)} & Median: {df.ABV.median()}')\n"
   ]
  },
  {
   "cell_type": "code",
   "execution_count": 396,
   "metadata": {},
   "outputs": [
    {
     "data": {
      "text/plain": [
       "<AxesSubplot:>"
      ]
     },
     "execution_count": 396,
     "metadata": {},
     "output_type": "execute_result"
    },
    {
     "data": {
      "image/png": "[encoded data removed]",
      "text/plain": [
       "<Figure size 432x288 with 1 Axes>"
      ]
     },
     "metadata": {
      "needs_background": "light"
     },
     "output_type": "display_data"
    }
   ],
   "source": [
    "df['ABV'].hist()"
   ]
  },
  {
   "cell_type": "markdown",
   "metadata": {},
   "source": [
    "### We don't have ABV for all of the beers, how many are we missing them from?\n",
    "\n",
    "- *Tip: You can use `isnull()` or `notnull()` to see where a column is missing data.*\n",
    "- *Tip: You just want to count how many `True`s and `False`s there are.*\n",
    "- *Tip: It's a weird trick involving something we usually use to count things in a column*"
   ]
  },
  {
   "cell_type": "code",
   "execution_count": 397,
   "metadata": {},
   "outputs": [
    {
     "data": {
      "text/html": [
       "<div>\n",
       "<style scoped>\n",
       "    .dataframe tbody tr th:only-of-type {\n",
       "        vertical-align: middle;\n",
       "    }\n",
       "\n",
       "    .dataframe tbody tr th {\n",
       "        vertical-align: top;\n",
       "    }\n",
       "\n",
       "    .dataframe thead th {\n",
       "        text-align: right;\n",
       "    }\n",
       "</style>\n",
       "<table border=\"1\" class=\"dataframe\">\n",
       "  <thead>\n",
       "    <tr style=\"text-align: right;\">\n",
       "      <th></th>\n",
       "      <th>Beer</th>\n",
       "      <th>Brewery</th>\n",
       "      <th>Location</th>\n",
       "      <th>Style</th>\n",
       "      <th>Size</th>\n",
       "      <th>ABV</th>\n",
       "      <th>IBUs</th>\n",
       "    </tr>\n",
       "  </thead>\n",
       "  <tbody>\n",
       "    <tr>\n",
       "      <th>94</th>\n",
       "      <td>Bastian</td>\n",
       "      <td>James Page Brewing Company</td>\n",
       "      <td>Stevens Point, WI</td>\n",
       "      <td>American Strong Ale</td>\n",
       "      <td>12 oz.</td>\n",
       "      <td>NaN</td>\n",
       "      <td>NaN</td>\n",
       "    </tr>\n",
       "    <tr>\n",
       "      <th>199</th>\n",
       "      <td>Professor Black</td>\n",
       "      <td>Blue Owl Brewing</td>\n",
       "      <td>Austin, TX</td>\n",
       "      <td>American Stout</td>\n",
       "      <td>12 oz.</td>\n",
       "      <td>NaN</td>\n",
       "      <td>NaN</td>\n",
       "    </tr>\n",
       "    <tr>\n",
       "      <th>200</th>\n",
       "      <td>Little Boss</td>\n",
       "      <td>Blue Owl Brewing</td>\n",
       "      <td>Austin, TX</td>\n",
       "      <td>American Pale Wheat Ale</td>\n",
       "      <td>12 oz.</td>\n",
       "      <td>NaN</td>\n",
       "      <td>NaN</td>\n",
       "    </tr>\n",
       "    <tr>\n",
       "      <th>201</th>\n",
       "      <td>Van Dayum!</td>\n",
       "      <td>Blue Owl Brewing</td>\n",
       "      <td>Austin, TX</td>\n",
       "      <td>American Amber / Red Ale</td>\n",
       "      <td>12 oz.</td>\n",
       "      <td>NaN</td>\n",
       "      <td>NaN</td>\n",
       "    </tr>\n",
       "    <tr>\n",
       "      <th>202</th>\n",
       "      <td>Spirit Animal</td>\n",
       "      <td>Blue Owl Brewing</td>\n",
       "      <td>Austin, TX</td>\n",
       "      <td>American Pale Ale (APA)</td>\n",
       "      <td>12 oz.</td>\n",
       "      <td>NaN</td>\n",
       "      <td>NaN</td>\n",
       "    </tr>\n",
       "    <tr>\n",
       "      <th>...</th>\n",
       "      <td>...</td>\n",
       "      <td>...</td>\n",
       "      <td>...</td>\n",
       "      <td>...</td>\n",
       "      <td>...</td>\n",
       "      <td>...</td>\n",
       "      <td>...</td>\n",
       "    </tr>\n",
       "    <tr>\n",
       "      <th>2357</th>\n",
       "      <td>Lift Bridge Brown Ale</td>\n",
       "      <td>Keweenaw Brewing Company</td>\n",
       "      <td>Houghton, MI</td>\n",
       "      <td>American Brown Ale</td>\n",
       "      <td>12 oz.</td>\n",
       "      <td>NaN</td>\n",
       "      <td>NaN</td>\n",
       "    </tr>\n",
       "    <tr>\n",
       "      <th>2358</th>\n",
       "      <td>Pick Axe Blonde Ale</td>\n",
       "      <td>Keweenaw Brewing Company</td>\n",
       "      <td>Houghton, MI</td>\n",
       "      <td>American Blonde Ale</td>\n",
       "      <td>12 oz.</td>\n",
       "      <td>NaN</td>\n",
       "      <td>NaN</td>\n",
       "    </tr>\n",
       "    <tr>\n",
       "      <th>2359</th>\n",
       "      <td>Red Jacket Amber Ale</td>\n",
       "      <td>Keweenaw Brewing Company</td>\n",
       "      <td>Houghton, MI</td>\n",
       "      <td>American Amber / Red Ale</td>\n",
       "      <td>12 oz.</td>\n",
       "      <td>NaN</td>\n",
       "      <td>NaN</td>\n",
       "    </tr>\n",
       "    <tr>\n",
       "      <th>2374</th>\n",
       "      <td>(16 oz.) (2010)</td>\n",
       "      <td>NaN</td>\n",
       "      <td>NaN</td>\n",
       "      <td>NaN</td>\n",
       "      <td>NaN</td>\n",
       "      <td>NaN</td>\n",
       "      <td>NaN</td>\n",
       "    </tr>\n",
       "    <tr>\n",
       "      <th>2376</th>\n",
       "      <td>(16 oz.) (2010)</td>\n",
       "      <td>NaN</td>\n",
       "      <td>NaN</td>\n",
       "      <td>NaN</td>\n",
       "      <td>NaN</td>\n",
       "      <td>NaN</td>\n",
       "      <td>NaN</td>\n",
       "    </tr>\n",
       "  </tbody>\n",
       "</table>\n",
       "<p>68 rows × 7 columns</p>\n",
       "</div>"
      ],
      "text/plain": [
       "                       Beer                     Brewery           Location  \\\n",
       "94                  Bastian  James Page Brewing Company  Stevens Point, WI   \n",
       "199         Professor Black            Blue Owl Brewing         Austin, TX   \n",
       "200             Little Boss            Blue Owl Brewing         Austin, TX   \n",
       "201              Van Dayum!            Blue Owl Brewing         Austin, TX   \n",
       "202           Spirit Animal            Blue Owl Brewing         Austin, TX   \n",
       "...                     ...                         ...                ...   \n",
       "2357  Lift Bridge Brown Ale    Keweenaw Brewing Company       Houghton, MI   \n",
       "2358    Pick Axe Blonde Ale    Keweenaw Brewing Company       Houghton, MI   \n",
       "2359   Red Jacket Amber Ale    Keweenaw Brewing Company       Houghton, MI   \n",
       "2374        (16 oz.) (2010)                         NaN                NaN   \n",
       "2376        (16 oz.) (2010)                         NaN                NaN   \n",
       "\n",
       "                         Style    Size  ABV  IBUs  \n",
       "94         American Strong Ale  12 oz.  NaN   NaN  \n",
       "199             American Stout  12 oz.  NaN   NaN  \n",
       "200    American Pale Wheat Ale  12 oz.  NaN   NaN  \n",
       "201   American Amber / Red Ale  12 oz.  NaN   NaN  \n",
       "202    American Pale Ale (APA)  12 oz.  NaN   NaN  \n",
       "...                        ...     ...  ...   ...  \n",
       "2357        American Brown Ale  12 oz.  NaN   NaN  \n",
       "2358       American Blonde Ale  12 oz.  NaN   NaN  \n",
       "2359  American Amber / Red Ale  12 oz.  NaN   NaN  \n",
       "2374                       NaN     NaN  NaN   NaN  \n",
       "2376                       NaN     NaN  NaN   NaN  \n",
       "\n",
       "[68 rows x 7 columns]"
      ]
     },
     "execution_count": 397,
     "metadata": {},
     "output_type": "execute_result"
    }
   ],
   "source": [
    "df[df['ABV'].isnull()]"
   ]
  },
  {
   "cell_type": "code",
   "execution_count": 399,
   "metadata": {},
   "outputs": [
    {
     "data": {
      "text/plain": [
       "False    2348\n",
       "True       68\n",
       "Name: ABV, dtype: int64"
      ]
     },
     "execution_count": 399,
     "metadata": {},
     "output_type": "execute_result"
    }
   ],
   "source": [
    "df['ABV'].isnull().value_counts()"
   ]
  },
  {
   "cell_type": "markdown",
   "metadata": {},
   "source": [
    "# Looking at location\n",
    "\n",
    "Brooklyn used to produce 80% of the country's beer! Let's see if it's still true."
   ]
  },
  {
   "cell_type": "markdown",
   "metadata": {},
   "source": [
    "## What are the top 10 cities in the US for canned craft beer?"
   ]
  },
  {
   "cell_type": "code",
   "execution_count": 400,
   "metadata": {},
   "outputs": [
    {
     "data": {
      "text/plain": [
       "Grand Rapids, MI    66\n",
       "Chicago, IL         55\n",
       "Portland, OR        52\n",
       "Indianapolis, IN    43\n",
       "San Diego, CA       42\n",
       "Boulder, CO         41\n",
       "Denver, CO          40\n",
       "Brooklyn, NY        38\n",
       "Seattle, WA         35\n",
       "Longmont, CO        33\n",
       "Name: Location, dtype: int64"
      ]
     },
     "execution_count": 400,
     "metadata": {},
     "output_type": "execute_result"
    }
   ],
   "source": [
    "df['Location'].value_counts().head(10)"
   ]
  },
  {
   "cell_type": "markdown",
   "metadata": {},
   "source": [
    "## List all of the beer from Brooklyn, NY"
   ]
  },
  {
   "cell_type": "code",
   "execution_count": 401,
   "metadata": {},
   "outputs": [
    {
     "data": {
      "text/html": [
       "<div>\n",
       "<style scoped>\n",
       "    .dataframe tbody tr th:only-of-type {\n",
       "        vertical-align: middle;\n",
       "    }\n",
       "\n",
       "    .dataframe tbody tr th {\n",
       "        vertical-align: top;\n",
       "    }\n",
       "\n",
       "    .dataframe thead th {\n",
       "        text-align: right;\n",
       "    }\n",
       "</style>\n",
       "<table border=\"1\" class=\"dataframe\">\n",
       "  <thead>\n",
       "    <tr style=\"text-align: right;\">\n",
       "      <th></th>\n",
       "      <th>Beer</th>\n",
       "      <th>Brewery</th>\n",
       "      <th>Location</th>\n",
       "      <th>Style</th>\n",
       "      <th>Size</th>\n",
       "      <th>ABV</th>\n",
       "      <th>IBUs</th>\n",
       "    </tr>\n",
       "  </thead>\n",
       "  <tbody>\n",
       "    <tr>\n",
       "      <th>115</th>\n",
       "      <td>4Beans</td>\n",
       "      <td>Sixpoint Craft Ales</td>\n",
       "      <td>Brooklyn, NY</td>\n",
       "      <td>Baltic Porter</td>\n",
       "      <td>12 oz.</td>\n",
       "      <td>10.0</td>\n",
       "      <td>52.0</td>\n",
       "    </tr>\n",
       "    <tr>\n",
       "      <th>210</th>\n",
       "      <td>Jammer</td>\n",
       "      <td>Sixpoint Craft Ales</td>\n",
       "      <td>Brooklyn, NY</td>\n",
       "      <td>Gose</td>\n",
       "      <td>12 oz. Slimline</td>\n",
       "      <td>4.2</td>\n",
       "      <td>16.0</td>\n",
       "    </tr>\n",
       "    <tr>\n",
       "      <th>246</th>\n",
       "      <td>Abigale</td>\n",
       "      <td>Sixpoint Craft Ales</td>\n",
       "      <td>Brooklyn, NY</td>\n",
       "      <td>Belgian Pale Ale</td>\n",
       "      <td>12 oz.</td>\n",
       "      <td>8.0</td>\n",
       "      <td>NaN</td>\n",
       "    </tr>\n",
       "    <tr>\n",
       "      <th>404</th>\n",
       "      <td>Nomader Weiss</td>\n",
       "      <td>Evil Twin Brewing</td>\n",
       "      <td>Brooklyn, NY</td>\n",
       "      <td>Berliner Weissbier</td>\n",
       "      <td>12 oz.</td>\n",
       "      <td>4.0</td>\n",
       "      <td>NaN</td>\n",
       "    </tr>\n",
       "    <tr>\n",
       "      <th>421</th>\n",
       "      <td>Rad</td>\n",
       "      <td>Sixpoint Craft Ales</td>\n",
       "      <td>Brooklyn, NY</td>\n",
       "      <td>Fruit / Vegetable Beer</td>\n",
       "      <td>16 oz.</td>\n",
       "      <td>3.2</td>\n",
       "      <td>7.0</td>\n",
       "    </tr>\n",
       "    <tr>\n",
       "      <th>439</th>\n",
       "      <td>Molotov Lite</td>\n",
       "      <td>Evil Twin Brewing</td>\n",
       "      <td>Brooklyn, NY</td>\n",
       "      <td>American Double / Imperial IPA</td>\n",
       "      <td>16 oz.</td>\n",
       "      <td>8.5</td>\n",
       "      <td>NaN</td>\n",
       "    </tr>\n",
       "    <tr>\n",
       "      <th>588</th>\n",
       "      <td>Bengali</td>\n",
       "      <td>Sixpoint Craft Ales</td>\n",
       "      <td>Brooklyn, NY</td>\n",
       "      <td>American IPA</td>\n",
       "      <td>24 oz. \"Silo Can\"</td>\n",
       "      <td>6.5</td>\n",
       "      <td>62.0</td>\n",
       "    </tr>\n",
       "    <tr>\n",
       "      <th>713</th>\n",
       "      <td>Sensi Harvest</td>\n",
       "      <td>Sixpoint Craft Ales</td>\n",
       "      <td>Brooklyn, NY</td>\n",
       "      <td>American Pale Ale (APA)</td>\n",
       "      <td>12 oz.</td>\n",
       "      <td>4.7</td>\n",
       "      <td>50.0</td>\n",
       "    </tr>\n",
       "    <tr>\n",
       "      <th>969</th>\n",
       "      <td>Hi-Res</td>\n",
       "      <td>Sixpoint Craft Ales</td>\n",
       "      <td>Brooklyn, NY</td>\n",
       "      <td>American Double / Imperial IPA</td>\n",
       "      <td>12 oz.</td>\n",
       "      <td>9.9</td>\n",
       "      <td>111.0</td>\n",
       "    </tr>\n",
       "    <tr>\n",
       "      <th>987</th>\n",
       "      <td>KelSo Nut Brown Lager</td>\n",
       "      <td>KelSo Beer Company</td>\n",
       "      <td>Brooklyn, NY</td>\n",
       "      <td>Euro Dark Lager</td>\n",
       "      <td>12 oz.</td>\n",
       "      <td>5.7</td>\n",
       "      <td>19.0</td>\n",
       "    </tr>\n",
       "    <tr>\n",
       "      <th>1057</th>\n",
       "      <td>Global Warmer</td>\n",
       "      <td>Sixpoint Craft Ales</td>\n",
       "      <td>Brooklyn, NY</td>\n",
       "      <td>American Strong Ale</td>\n",
       "      <td>12 oz.</td>\n",
       "      <td>7.0</td>\n",
       "      <td>70.0</td>\n",
       "    </tr>\n",
       "    <tr>\n",
       "      <th>1074</th>\n",
       "      <td>Autumnation (2013)</td>\n",
       "      <td>Sixpoint Craft Ales</td>\n",
       "      <td>Brooklyn, NY</td>\n",
       "      <td>American IPA</td>\n",
       "      <td>16 oz.</td>\n",
       "      <td>6.7</td>\n",
       "      <td>74.0</td>\n",
       "    </tr>\n",
       "    <tr>\n",
       "      <th>1093</th>\n",
       "      <td>KelSo India Pale Ale</td>\n",
       "      <td>KelSo Beer Company</td>\n",
       "      <td>Brooklyn, NY</td>\n",
       "      <td>American IPA</td>\n",
       "      <td>12 oz.</td>\n",
       "      <td>6.0</td>\n",
       "      <td>64.0</td>\n",
       "    </tr>\n",
       "    <tr>\n",
       "      <th>1267</th>\n",
       "      <td>The Crisp</td>\n",
       "      <td>Sixpoint Craft Ales</td>\n",
       "      <td>Brooklyn, NY</td>\n",
       "      <td>German Pilsener</td>\n",
       "      <td>16 oz.</td>\n",
       "      <td>5.4</td>\n",
       "      <td>42.0</td>\n",
       "    </tr>\n",
       "    <tr>\n",
       "      <th>1268</th>\n",
       "      <td>Sweet Action</td>\n",
       "      <td>Sixpoint Craft Ales</td>\n",
       "      <td>Brooklyn, NY</td>\n",
       "      <td>Cream Ale</td>\n",
       "      <td>16 oz.</td>\n",
       "      <td>5.2</td>\n",
       "      <td>34.0</td>\n",
       "    </tr>\n",
       "    <tr>\n",
       "      <th>1269</th>\n",
       "      <td>Righteous Ale</td>\n",
       "      <td>Sixpoint Craft Ales</td>\n",
       "      <td>Brooklyn, NY</td>\n",
       "      <td>Rye Beer</td>\n",
       "      <td>16 oz.</td>\n",
       "      <td>6.3</td>\n",
       "      <td>57.0</td>\n",
       "    </tr>\n",
       "    <tr>\n",
       "      <th>1270</th>\n",
       "      <td>Bengali Tiger</td>\n",
       "      <td>Sixpoint Craft Ales</td>\n",
       "      <td>Brooklyn, NY</td>\n",
       "      <td>American IPA</td>\n",
       "      <td>16 oz.</td>\n",
       "      <td>6.4</td>\n",
       "      <td>62.0</td>\n",
       "    </tr>\n",
       "    <tr>\n",
       "      <th>1305</th>\n",
       "      <td>KelSo Pilsner</td>\n",
       "      <td>KelSo Beer Company</td>\n",
       "      <td>Brooklyn, NY</td>\n",
       "      <td>Czech Pilsener</td>\n",
       "      <td>12 oz.</td>\n",
       "      <td>5.5</td>\n",
       "      <td>23.0</td>\n",
       "    </tr>\n",
       "    <tr>\n",
       "      <th>1365</th>\n",
       "      <td>Hipster Ale (Two Roads Brewing)</td>\n",
       "      <td>Evil Twin Brewing</td>\n",
       "      <td>Brooklyn, NY</td>\n",
       "      <td>American Pale Ale (APA)</td>\n",
       "      <td>12 oz.</td>\n",
       "      <td>5.5</td>\n",
       "      <td>NaN</td>\n",
       "    </tr>\n",
       "    <tr>\n",
       "      <th>1366</th>\n",
       "      <td>Bikini Beer</td>\n",
       "      <td>Evil Twin Brewing</td>\n",
       "      <td>Brooklyn, NY</td>\n",
       "      <td>American IPA</td>\n",
       "      <td>12 oz.</td>\n",
       "      <td>2.7</td>\n",
       "      <td>NaN</td>\n",
       "    </tr>\n",
       "    <tr>\n",
       "      <th>1373</th>\n",
       "      <td>East India Pale Ale</td>\n",
       "      <td>Brooklyn Brewery</td>\n",
       "      <td>Brooklyn, NY</td>\n",
       "      <td>English India Pale Ale (IPA)</td>\n",
       "      <td>16 oz.</td>\n",
       "      <td>6.8</td>\n",
       "      <td>47.0</td>\n",
       "    </tr>\n",
       "    <tr>\n",
       "      <th>1624</th>\n",
       "      <td>3Beans</td>\n",
       "      <td>Sixpoint Craft Ales</td>\n",
       "      <td>Brooklyn, NY</td>\n",
       "      <td>Baltic Porter</td>\n",
       "      <td>12 oz.</td>\n",
       "      <td>9.9</td>\n",
       "      <td>85.0</td>\n",
       "    </tr>\n",
       "    <tr>\n",
       "      <th>1836</th>\n",
       "      <td>Brownstone</td>\n",
       "      <td>Sixpoint Craft Ales</td>\n",
       "      <td>Brooklyn, NY</td>\n",
       "      <td>American Brown Ale</td>\n",
       "      <td>16 oz.</td>\n",
       "      <td>5.9</td>\n",
       "      <td>47.0</td>\n",
       "    </tr>\n",
       "    <tr>\n",
       "      <th>1857</th>\n",
       "      <td>Brooklyn Summer Ale</td>\n",
       "      <td>Brooklyn Brewery</td>\n",
       "      <td>Brooklyn, NY</td>\n",
       "      <td>English Pale Mild Ale</td>\n",
       "      <td>12 oz.</td>\n",
       "      <td>4.5</td>\n",
       "      <td>NaN</td>\n",
       "    </tr>\n",
       "    <tr>\n",
       "      <th>1962</th>\n",
       "      <td>Hipster Ale (Westbrook Brewing)</td>\n",
       "      <td>Evil Twin Brewing</td>\n",
       "      <td>Brooklyn, NY</td>\n",
       "      <td>American Pale Ale (APA)</td>\n",
       "      <td>12 oz.</td>\n",
       "      <td>5.5</td>\n",
       "      <td>NaN</td>\n",
       "    </tr>\n",
       "    <tr>\n",
       "      <th>1970</th>\n",
       "      <td>Apollo</td>\n",
       "      <td>Sixpoint Craft Ales</td>\n",
       "      <td>Brooklyn, NY</td>\n",
       "      <td>American Pale Wheat Ale</td>\n",
       "      <td>16 oz.</td>\n",
       "      <td>5.2</td>\n",
       "      <td>11.0</td>\n",
       "    </tr>\n",
       "    <tr>\n",
       "      <th>1971</th>\n",
       "      <td>Harbinger</td>\n",
       "      <td>Sixpoint Craft Ales</td>\n",
       "      <td>Brooklyn, NY</td>\n",
       "      <td>Saison / Farmhouse Ale</td>\n",
       "      <td>16 oz.</td>\n",
       "      <td>4.9</td>\n",
       "      <td>35.0</td>\n",
       "    </tr>\n",
       "    <tr>\n",
       "      <th>1972</th>\n",
       "      <td>Resin</td>\n",
       "      <td>Sixpoint Craft Ales</td>\n",
       "      <td>Brooklyn, NY</td>\n",
       "      <td>American Double / Imperial IPA</td>\n",
       "      <td>12 oz.</td>\n",
       "      <td>9.1</td>\n",
       "      <td>103.0</td>\n",
       "    </tr>\n",
       "    <tr>\n",
       "      <th>2027</th>\n",
       "      <td>East India Pale Ale</td>\n",
       "      <td>Brooklyn Brewery</td>\n",
       "      <td>Brooklyn, NY</td>\n",
       "      <td>English India Pale Ale (IPA)</td>\n",
       "      <td>12 oz.</td>\n",
       "      <td>6.8</td>\n",
       "      <td>47.0</td>\n",
       "    </tr>\n",
       "    <tr>\n",
       "      <th>2062</th>\n",
       "      <td>Diesel</td>\n",
       "      <td>Sixpoint Craft Ales</td>\n",
       "      <td>Brooklyn, NY</td>\n",
       "      <td>American Stout</td>\n",
       "      <td>16 oz.</td>\n",
       "      <td>6.3</td>\n",
       "      <td>69.0</td>\n",
       "    </tr>\n",
       "    <tr>\n",
       "      <th>2074</th>\n",
       "      <td>Autumnation (2011-12) (2011)</td>\n",
       "      <td>Sixpoint Craft Ales</td>\n",
       "      <td>Brooklyn, NY</td>\n",
       "      <td>Pumpkin Ale</td>\n",
       "      <td>16 oz.</td>\n",
       "      <td>6.0</td>\n",
       "      <td>48.0</td>\n",
       "    </tr>\n",
       "    <tr>\n",
       "      <th>2140</th>\n",
       "      <td>The Crisp (2011)</td>\n",
       "      <td>Sixpoint Craft Ales</td>\n",
       "      <td>Brooklyn, NY</td>\n",
       "      <td>German Pilsener</td>\n",
       "      <td>16 oz.</td>\n",
       "      <td>5.4</td>\n",
       "      <td>42.0</td>\n",
       "    </tr>\n",
       "    <tr>\n",
       "      <th>2141</th>\n",
       "      <td>Sweet Action (2011)</td>\n",
       "      <td>Sixpoint Craft Ales</td>\n",
       "      <td>Brooklyn, NY</td>\n",
       "      <td>Cream Ale</td>\n",
       "      <td>16 oz.</td>\n",
       "      <td>5.2</td>\n",
       "      <td>34.0</td>\n",
       "    </tr>\n",
       "    <tr>\n",
       "      <th>2142</th>\n",
       "      <td>Righteous Ale (2011)</td>\n",
       "      <td>Sixpoint Craft Ales</td>\n",
       "      <td>Brooklyn, NY</td>\n",
       "      <td>Rye Beer</td>\n",
       "      <td>16 oz.</td>\n",
       "      <td>6.3</td>\n",
       "      <td>57.0</td>\n",
       "    </tr>\n",
       "    <tr>\n",
       "      <th>2143</th>\n",
       "      <td>Bengali Tiger (2011)</td>\n",
       "      <td>Sixpoint Craft Ales</td>\n",
       "      <td>Brooklyn, NY</td>\n",
       "      <td>American IPA</td>\n",
       "      <td>16 oz.</td>\n",
       "      <td>6.4</td>\n",
       "      <td>62.0</td>\n",
       "    </tr>\n",
       "    <tr>\n",
       "      <th>2219</th>\n",
       "      <td>Brooklyn Summer Ale (2011)</td>\n",
       "      <td>Brooklyn Brewery</td>\n",
       "      <td>Brooklyn, NY</td>\n",
       "      <td>English Pale Mild Ale</td>\n",
       "      <td>12 oz.</td>\n",
       "      <td>4.5</td>\n",
       "      <td>NaN</td>\n",
       "    </tr>\n",
       "    <tr>\n",
       "      <th>2350</th>\n",
       "      <td>Brooklyn Lager (16 oz.)</td>\n",
       "      <td>Brooklyn Brewery</td>\n",
       "      <td>Brooklyn, NY</td>\n",
       "      <td>American Amber / Red Lager</td>\n",
       "      <td>16 oz.</td>\n",
       "      <td>5.2</td>\n",
       "      <td>NaN</td>\n",
       "    </tr>\n",
       "    <tr>\n",
       "      <th>2351</th>\n",
       "      <td>Brooklyn Lager (12 oz.)</td>\n",
       "      <td>Brooklyn Brewery</td>\n",
       "      <td>Brooklyn, NY</td>\n",
       "      <td>American Amber / Red Lager</td>\n",
       "      <td>12 oz.</td>\n",
       "      <td>5.2</td>\n",
       "      <td>NaN</td>\n",
       "    </tr>\n",
       "  </tbody>\n",
       "</table>\n",
       "</div>"
      ],
      "text/plain": [
       "                                 Beer              Brewery      Location  \\\n",
       "115                            4Beans  Sixpoint Craft Ales  Brooklyn, NY   \n",
       "210                            Jammer  Sixpoint Craft Ales  Brooklyn, NY   \n",
       "246                           Abigale  Sixpoint Craft Ales  Brooklyn, NY   \n",
       "404                     Nomader Weiss    Evil Twin Brewing  Brooklyn, NY   \n",
       "421                               Rad  Sixpoint Craft Ales  Brooklyn, NY   \n",
       "439                      Molotov Lite    Evil Twin Brewing  Brooklyn, NY   \n",
       "588                           Bengali  Sixpoint Craft Ales  Brooklyn, NY   \n",
       "713                     Sensi Harvest  Sixpoint Craft Ales  Brooklyn, NY   \n",
       "969                            Hi-Res  Sixpoint Craft Ales  Brooklyn, NY   \n",
       "987             KelSo Nut Brown Lager   KelSo Beer Company  Brooklyn, NY   \n",
       "1057                    Global Warmer  Sixpoint Craft Ales  Brooklyn, NY   \n",
       "1074               Autumnation (2013)  Sixpoint Craft Ales  Brooklyn, NY   \n",
       "1093             KelSo India Pale Ale   KelSo Beer Company  Brooklyn, NY   \n",
       "1267                        The Crisp  Sixpoint Craft Ales  Brooklyn, NY   \n",
       "1268                     Sweet Action  Sixpoint Craft Ales  Brooklyn, NY   \n",
       "1269                    Righteous Ale  Sixpoint Craft Ales  Brooklyn, NY   \n",
       "1270                    Bengali Tiger  Sixpoint Craft Ales  Brooklyn, NY   \n",
       "1305                    KelSo Pilsner   KelSo Beer Company  Brooklyn, NY   \n",
       "1365  Hipster Ale (Two Roads Brewing)    Evil Twin Brewing  Brooklyn, NY   \n",
       "1366                      Bikini Beer    Evil Twin Brewing  Brooklyn, NY   \n",
       "1373              East India Pale Ale     Brooklyn Brewery  Brooklyn, NY   \n",
       "1624                           3Beans  Sixpoint Craft Ales  Brooklyn, NY   \n",
       "1836                       Brownstone  Sixpoint Craft Ales  Brooklyn, NY   \n",
       "1857              Brooklyn Summer Ale     Brooklyn Brewery  Brooklyn, NY   \n",
       "1962  Hipster Ale (Westbrook Brewing)    Evil Twin Brewing  Brooklyn, NY   \n",
       "1970                           Apollo  Sixpoint Craft Ales  Brooklyn, NY   \n",
       "1971                        Harbinger  Sixpoint Craft Ales  Brooklyn, NY   \n",
       "1972                            Resin  Sixpoint Craft Ales  Brooklyn, NY   \n",
       "2027              East India Pale Ale     Brooklyn Brewery  Brooklyn, NY   \n",
       "2062                           Diesel  Sixpoint Craft Ales  Brooklyn, NY   \n",
       "2074     Autumnation (2011-12) (2011)  Sixpoint Craft Ales  Brooklyn, NY   \n",
       "2140                 The Crisp (2011)  Sixpoint Craft Ales  Brooklyn, NY   \n",
       "2141              Sweet Action (2011)  Sixpoint Craft Ales  Brooklyn, NY   \n",
       "2142             Righteous Ale (2011)  Sixpoint Craft Ales  Brooklyn, NY   \n",
       "2143             Bengali Tiger (2011)  Sixpoint Craft Ales  Brooklyn, NY   \n",
       "2219       Brooklyn Summer Ale (2011)     Brooklyn Brewery  Brooklyn, NY   \n",
       "2350          Brooklyn Lager (16 oz.)     Brooklyn Brewery  Brooklyn, NY   \n",
       "2351          Brooklyn Lager (12 oz.)     Brooklyn Brewery  Brooklyn, NY   \n",
       "\n",
       "                               Style               Size   ABV   IBUs  \n",
       "115                    Baltic Porter             12 oz.  10.0   52.0  \n",
       "210                             Gose    12 oz. Slimline   4.2   16.0  \n",
       "246                 Belgian Pale Ale             12 oz.   8.0    NaN  \n",
       "404               Berliner Weissbier             12 oz.   4.0    NaN  \n",
       "421           Fruit / Vegetable Beer             16 oz.   3.2    7.0  \n",
       "439   American Double / Imperial IPA             16 oz.   8.5    NaN  \n",
       "588                     American IPA  24 oz. \"Silo Can\"   6.5   62.0  \n",
       "713          American Pale Ale (APA)             12 oz.   4.7   50.0  \n",
       "969   American Double / Imperial IPA             12 oz.   9.9  111.0  \n",
       "987                  Euro Dark Lager             12 oz.   5.7   19.0  \n",
       "1057             American Strong Ale             12 oz.   7.0   70.0  \n",
       "1074                    American IPA             16 oz.   6.7   74.0  \n",
       "1093                    American IPA             12 oz.   6.0   64.0  \n",
       "1267                 German Pilsener             16 oz.   5.4   42.0  \n",
       "1268                       Cream Ale             16 oz.   5.2   34.0  \n",
       "1269                        Rye Beer             16 oz.   6.3   57.0  \n",
       "1270                    American IPA             16 oz.   6.4   62.0  \n",
       "1305                  Czech Pilsener             12 oz.   5.5   23.0  \n",
       "1365         American Pale Ale (APA)             12 oz.   5.5    NaN  \n",
       "1366                    American IPA             12 oz.   2.7    NaN  \n",
       "1373    English India Pale Ale (IPA)             16 oz.   6.8   47.0  \n",
       "1624                   Baltic Porter             12 oz.   9.9   85.0  \n",
       "1836              American Brown Ale             16 oz.   5.9   47.0  \n",
       "1857           English Pale Mild Ale             12 oz.   4.5    NaN  \n",
       "1962         American Pale Ale (APA)             12 oz.   5.5    NaN  \n",
       "1970         American Pale Wheat Ale             16 oz.   5.2   11.0  \n",
       "1971          Saison / Farmhouse Ale             16 oz.   4.9   35.0  \n",
       "1972  American Double / Imperial IPA             12 oz.   9.1  103.0  \n",
       "2027    English India Pale Ale (IPA)             12 oz.   6.8   47.0  \n",
       "2062                  American Stout             16 oz.   6.3   69.0  \n",
       "2074                     Pumpkin Ale             16 oz.   6.0   48.0  \n",
       "2140                 German Pilsener             16 oz.   5.4   42.0  \n",
       "2141                       Cream Ale             16 oz.   5.2   34.0  \n",
       "2142                        Rye Beer             16 oz.   6.3   57.0  \n",
       "2143                    American IPA             16 oz.   6.4   62.0  \n",
       "2219           English Pale Mild Ale             12 oz.   4.5    NaN  \n",
       "2350      American Amber / Red Lager             16 oz.   5.2    NaN  \n",
       "2351      American Amber / Red Lager             12 oz.   5.2    NaN  "
      ]
     },
     "execution_count": 401,
     "metadata": {},
     "output_type": "execute_result"
    }
   ],
   "source": [
    "df[df['Location'] == 'Brooklyn, NY']"
   ]
  },
  {
   "cell_type": "markdown",
   "metadata": {},
   "source": [
    "## What brewery in Brooklyn puts out the most cans of beer?"
   ]
  },
  {
   "cell_type": "code",
   "execution_count": 402,
   "metadata": {},
   "outputs": [
    {
     "data": {
      "text/plain": [
       "Sixpoint Craft Ales    24\n",
       "Brooklyn Brewery        6\n",
       "Evil Twin Brewing       5\n",
       "KelSo Beer Company      3\n",
       "Name: Brewery, dtype: int64"
      ]
     },
     "execution_count": 402,
     "metadata": {},
     "output_type": "execute_result"
    }
   ],
   "source": [
    "df[df['Location'] == 'Brooklyn, NY']['Brewery'].value_counts()"
   ]
  },
  {
   "cell_type": "markdown",
   "metadata": {},
   "source": [
    "## What are the five most popular styles of beer produced by Sixpoint?"
   ]
  },
  {
   "cell_type": "code",
   "execution_count": 403,
   "metadata": {},
   "outputs": [
    {
     "data": {
      "text/plain": [
       "American IPA       4\n",
       "German Pilsener    2\n",
       "Rye Beer           2\n",
       "Baltic Porter      2\n",
       "Cream Ale          2\n",
       "Name: Style, dtype: int64"
      ]
     },
     "execution_count": 403,
     "metadata": {},
     "output_type": "execute_result"
    }
   ],
   "source": [
    "df[df['Brewery'] == 'Sixpoint Craft Ales']['Style'].value_counts().head(5)"
   ]
  },
  {
   "cell_type": "code",
   "execution_count": 404,
   "metadata": {},
   "outputs": [
    {
     "data": {
      "text/html": [
       "<div>\n",
       "<style scoped>\n",
       "    .dataframe tbody tr th:only-of-type {\n",
       "        vertical-align: middle;\n",
       "    }\n",
       "\n",
       "    .dataframe tbody tr th {\n",
       "        vertical-align: top;\n",
       "    }\n",
       "\n",
       "    .dataframe thead th {\n",
       "        text-align: right;\n",
       "    }\n",
       "</style>\n",
       "<table border=\"1\" class=\"dataframe\">\n",
       "  <thead>\n",
       "    <tr style=\"text-align: right;\">\n",
       "      <th></th>\n",
       "      <th>Beer</th>\n",
       "      <th>Brewery</th>\n",
       "      <th>Location</th>\n",
       "      <th>Style</th>\n",
       "      <th>Size</th>\n",
       "      <th>ABV</th>\n",
       "      <th>IBUs</th>\n",
       "    </tr>\n",
       "  </thead>\n",
       "  <tbody>\n",
       "    <tr>\n",
       "      <th>0</th>\n",
       "      <td>Get Together</td>\n",
       "      <td>NorthGate Brewing</td>\n",
       "      <td>Minneapolis, MN</td>\n",
       "      <td>American IPA</td>\n",
       "      <td>16 oz.</td>\n",
       "      <td>4.5</td>\n",
       "      <td>50.0</td>\n",
       "    </tr>\n",
       "    <tr>\n",
       "      <th>1</th>\n",
       "      <td>Maggie's Leap</td>\n",
       "      <td>NorthGate Brewing</td>\n",
       "      <td>Minneapolis, MN</td>\n",
       "      <td>Milk / Sweet Stout</td>\n",
       "      <td>16 oz.</td>\n",
       "      <td>4.9</td>\n",
       "      <td>26.0</td>\n",
       "    </tr>\n",
       "    <tr>\n",
       "      <th>2</th>\n",
       "      <td>Wall's End</td>\n",
       "      <td>NorthGate Brewing</td>\n",
       "      <td>Minneapolis, MN</td>\n",
       "      <td>English Brown Ale</td>\n",
       "      <td>16 oz.</td>\n",
       "      <td>4.8</td>\n",
       "      <td>19.0</td>\n",
       "    </tr>\n",
       "    <tr>\n",
       "      <th>3</th>\n",
       "      <td>Pumpion</td>\n",
       "      <td>NorthGate Brewing</td>\n",
       "      <td>Minneapolis, MN</td>\n",
       "      <td>Pumpkin Ale</td>\n",
       "      <td>16 oz.</td>\n",
       "      <td>6.0</td>\n",
       "      <td>38.0</td>\n",
       "    </tr>\n",
       "    <tr>\n",
       "      <th>4</th>\n",
       "      <td>Stronghold</td>\n",
       "      <td>NorthGate Brewing</td>\n",
       "      <td>Minneapolis, MN</td>\n",
       "      <td>American Porter</td>\n",
       "      <td>16 oz.</td>\n",
       "      <td>6.0</td>\n",
       "      <td>25.0</td>\n",
       "    </tr>\n",
       "    <tr>\n",
       "      <th>...</th>\n",
       "      <td>...</td>\n",
       "      <td>...</td>\n",
       "      <td>...</td>\n",
       "      <td>...</td>\n",
       "      <td>...</td>\n",
       "      <td>...</td>\n",
       "      <td>...</td>\n",
       "    </tr>\n",
       "    <tr>\n",
       "      <th>2411</th>\n",
       "      <td>Mama's Little Yella Pils</td>\n",
       "      <td>Oskar Blues Brewery</td>\n",
       "      <td>Longmont, CO</td>\n",
       "      <td>Czech Pilsener</td>\n",
       "      <td>12 oz.</td>\n",
       "      <td>5.3</td>\n",
       "      <td>35.0</td>\n",
       "    </tr>\n",
       "    <tr>\n",
       "      <th>2412</th>\n",
       "      <td>GUBNA Imperial IPA</td>\n",
       "      <td>Oskar Blues Brewery</td>\n",
       "      <td>Longmont, CO</td>\n",
       "      <td>American Double / Imperial IPA</td>\n",
       "      <td>12 oz.</td>\n",
       "      <td>9.9</td>\n",
       "      <td>100.0</td>\n",
       "    </tr>\n",
       "    <tr>\n",
       "      <th>2413</th>\n",
       "      <td>Old Chub</td>\n",
       "      <td>Oskar Blues Brewery</td>\n",
       "      <td>Longmont, CO</td>\n",
       "      <td>Scottish Ale</td>\n",
       "      <td>12 oz.</td>\n",
       "      <td>8.0</td>\n",
       "      <td>35.0</td>\n",
       "    </tr>\n",
       "    <tr>\n",
       "      <th>2414</th>\n",
       "      <td>Gordon Ale (2009)</td>\n",
       "      <td>Oskar Blues Brewery</td>\n",
       "      <td>Longmont, CO</td>\n",
       "      <td>American Double / Imperial IPA</td>\n",
       "      <td>12 oz.</td>\n",
       "      <td>8.7</td>\n",
       "      <td>85.0</td>\n",
       "    </tr>\n",
       "    <tr>\n",
       "      <th>2415</th>\n",
       "      <td>Dale's Pale Ale</td>\n",
       "      <td>Oskar Blues Brewery</td>\n",
       "      <td>Longmont, CO</td>\n",
       "      <td>American Pale Ale (APA)</td>\n",
       "      <td>12 oz.</td>\n",
       "      <td>6.5</td>\n",
       "      <td>65.0</td>\n",
       "    </tr>\n",
       "  </tbody>\n",
       "</table>\n",
       "<p>2416 rows × 7 columns</p>\n",
       "</div>"
      ],
      "text/plain": [
       "                          Beer              Brewery         Location  \\\n",
       "0                 Get Together    NorthGate Brewing  Minneapolis, MN   \n",
       "1                Maggie's Leap    NorthGate Brewing  Minneapolis, MN   \n",
       "2                   Wall's End    NorthGate Brewing  Minneapolis, MN   \n",
       "3                      Pumpion    NorthGate Brewing  Minneapolis, MN   \n",
       "4                   Stronghold    NorthGate Brewing  Minneapolis, MN   \n",
       "...                        ...                  ...              ...   \n",
       "2411  Mama's Little Yella Pils  Oskar Blues Brewery     Longmont, CO   \n",
       "2412        GUBNA Imperial IPA  Oskar Blues Brewery     Longmont, CO   \n",
       "2413                  Old Chub  Oskar Blues Brewery     Longmont, CO   \n",
       "2414         Gordon Ale (2009)  Oskar Blues Brewery     Longmont, CO   \n",
       "2415           Dale's Pale Ale  Oskar Blues Brewery     Longmont, CO   \n",
       "\n",
       "                               Style    Size  ABV   IBUs  \n",
       "0                       American IPA  16 oz.  4.5   50.0  \n",
       "1                 Milk / Sweet Stout  16 oz.  4.9   26.0  \n",
       "2                  English Brown Ale  16 oz.  4.8   19.0  \n",
       "3                        Pumpkin Ale  16 oz.  6.0   38.0  \n",
       "4                    American Porter  16 oz.  6.0   25.0  \n",
       "...                              ...     ...  ...    ...  \n",
       "2411                  Czech Pilsener  12 oz.  5.3   35.0  \n",
       "2412  American Double / Imperial IPA  12 oz.  9.9  100.0  \n",
       "2413                    Scottish Ale  12 oz.  8.0   35.0  \n",
       "2414  American Double / Imperial IPA  12 oz.  8.7   85.0  \n",
       "2415         American Pale Ale (APA)  12 oz.  6.5   65.0  \n",
       "\n",
       "[2416 rows x 7 columns]"
      ]
     },
     "execution_count": 404,
     "metadata": {},
     "output_type": "execute_result"
    }
   ],
   "source": [
    "df"
   ]
  },
  {
   "cell_type": "markdown",
   "metadata": {},
   "source": [
    "## List all of the breweries in New York state.\n",
    "\n",
    "- *Tip: We want to match *part* of the `Location` column, but not all of it.*\n",
    "- *Tip: Watch out for `NaN` values! You might be close, but you'll need to pass an extra parameter to make it work without an error.*"
   ]
  },
  {
   "cell_type": "code",
   "execution_count": 408,
   "metadata": {},
   "outputs": [],
   "source": [
    "df_city_state = df[\"Location\"].str.split(\", \", expand=True).rename(\n",
    "    columns={0: 'city', 1:'state'})\n",
    "\n",
    "df = pd.concat([df,df_city_state],axis=1)"
   ]
  },
  {
   "cell_type": "code",
   "execution_count": 409,
   "metadata": {},
   "outputs": [
    {
     "data": {
      "text/html": [
       "<div>\n",
       "<style scoped>\n",
       "    .dataframe tbody tr th:only-of-type {\n",
       "        vertical-align: middle;\n",
       "    }\n",
       "\n",
       "    .dataframe tbody tr th {\n",
       "        vertical-align: top;\n",
       "    }\n",
       "\n",
       "    .dataframe thead th {\n",
       "        text-align: right;\n",
       "    }\n",
       "</style>\n",
       "<table border=\"1\" class=\"dataframe\">\n",
       "  <thead>\n",
       "    <tr style=\"text-align: right;\">\n",
       "      <th></th>\n",
       "      <th>Beer</th>\n",
       "      <th>Brewery</th>\n",
       "      <th>Location</th>\n",
       "      <th>Style</th>\n",
       "      <th>Size</th>\n",
       "      <th>ABV</th>\n",
       "      <th>IBUs</th>\n",
       "      <th>city</th>\n",
       "      <th>state</th>\n",
       "    </tr>\n",
       "  </thead>\n",
       "  <tbody>\n",
       "    <tr>\n",
       "      <th>115</th>\n",
       "      <td>4Beans</td>\n",
       "      <td>Sixpoint Craft Ales</td>\n",
       "      <td>Brooklyn, NY</td>\n",
       "      <td>Baltic Porter</td>\n",
       "      <td>12 oz.</td>\n",
       "      <td>10.0</td>\n",
       "      <td>52.0</td>\n",
       "      <td>Brooklyn</td>\n",
       "      <td>NY</td>\n",
       "    </tr>\n",
       "    <tr>\n",
       "      <th>210</th>\n",
       "      <td>Jammer</td>\n",
       "      <td>Sixpoint Craft Ales</td>\n",
       "      <td>Brooklyn, NY</td>\n",
       "      <td>Gose</td>\n",
       "      <td>12 oz. Slimline</td>\n",
       "      <td>4.2</td>\n",
       "      <td>16.0</td>\n",
       "      <td>Brooklyn</td>\n",
       "      <td>NY</td>\n",
       "    </tr>\n",
       "    <tr>\n",
       "      <th>246</th>\n",
       "      <td>Abigale</td>\n",
       "      <td>Sixpoint Craft Ales</td>\n",
       "      <td>Brooklyn, NY</td>\n",
       "      <td>Belgian Pale Ale</td>\n",
       "      <td>12 oz.</td>\n",
       "      <td>8.0</td>\n",
       "      <td>NaN</td>\n",
       "      <td>Brooklyn</td>\n",
       "      <td>NY</td>\n",
       "    </tr>\n",
       "    <tr>\n",
       "      <th>404</th>\n",
       "      <td>Nomader Weiss</td>\n",
       "      <td>Evil Twin Brewing</td>\n",
       "      <td>Brooklyn, NY</td>\n",
       "      <td>Berliner Weissbier</td>\n",
       "      <td>12 oz.</td>\n",
       "      <td>4.0</td>\n",
       "      <td>NaN</td>\n",
       "      <td>Brooklyn</td>\n",
       "      <td>NY</td>\n",
       "    </tr>\n",
       "    <tr>\n",
       "      <th>421</th>\n",
       "      <td>Rad</td>\n",
       "      <td>Sixpoint Craft Ales</td>\n",
       "      <td>Brooklyn, NY</td>\n",
       "      <td>Fruit / Vegetable Beer</td>\n",
       "      <td>16 oz.</td>\n",
       "      <td>3.2</td>\n",
       "      <td>7.0</td>\n",
       "      <td>Brooklyn</td>\n",
       "      <td>NY</td>\n",
       "    </tr>\n",
       "    <tr>\n",
       "      <th>...</th>\n",
       "      <td>...</td>\n",
       "      <td>...</td>\n",
       "      <td>...</td>\n",
       "      <td>...</td>\n",
       "      <td>...</td>\n",
       "      <td>...</td>\n",
       "      <td>...</td>\n",
       "      <td>...</td>\n",
       "      <td>...</td>\n",
       "    </tr>\n",
       "    <tr>\n",
       "      <th>2351</th>\n",
       "      <td>Brooklyn Lager (12 oz.)</td>\n",
       "      <td>Brooklyn Brewery</td>\n",
       "      <td>Brooklyn, NY</td>\n",
       "      <td>American Amber / Red Lager</td>\n",
       "      <td>12 oz.</td>\n",
       "      <td>5.2</td>\n",
       "      <td>NaN</td>\n",
       "      <td>Brooklyn</td>\n",
       "      <td>NY</td>\n",
       "    </tr>\n",
       "    <tr>\n",
       "      <th>2364</th>\n",
       "      <td>Heinnieweisse Weissebier</td>\n",
       "      <td>Butternuts Beer and Ale</td>\n",
       "      <td>Garrattsville, NY</td>\n",
       "      <td>Hefeweizen</td>\n",
       "      <td>12 oz.</td>\n",
       "      <td>4.9</td>\n",
       "      <td>NaN</td>\n",
       "      <td>Garrattsville</td>\n",
       "      <td>NY</td>\n",
       "    </tr>\n",
       "    <tr>\n",
       "      <th>2365</th>\n",
       "      <td>Snapperhead IPA</td>\n",
       "      <td>Butternuts Beer and Ale</td>\n",
       "      <td>Garrattsville, NY</td>\n",
       "      <td>American IPA</td>\n",
       "      <td>12 oz.</td>\n",
       "      <td>6.8</td>\n",
       "      <td>NaN</td>\n",
       "      <td>Garrattsville</td>\n",
       "      <td>NY</td>\n",
       "    </tr>\n",
       "    <tr>\n",
       "      <th>2366</th>\n",
       "      <td>Moo Thunder Stout</td>\n",
       "      <td>Butternuts Beer and Ale</td>\n",
       "      <td>Garrattsville, NY</td>\n",
       "      <td>Milk / Sweet Stout</td>\n",
       "      <td>12 oz.</td>\n",
       "      <td>4.9</td>\n",
       "      <td>NaN</td>\n",
       "      <td>Garrattsville</td>\n",
       "      <td>NY</td>\n",
       "    </tr>\n",
       "    <tr>\n",
       "      <th>2367</th>\n",
       "      <td>Porkslap Pale Ale</td>\n",
       "      <td>Butternuts Beer and Ale</td>\n",
       "      <td>Garrattsville, NY</td>\n",
       "      <td>American Pale Ale (APA)</td>\n",
       "      <td>12 oz.</td>\n",
       "      <td>4.3</td>\n",
       "      <td>NaN</td>\n",
       "      <td>Garrattsville</td>\n",
       "      <td>NY</td>\n",
       "    </tr>\n",
       "  </tbody>\n",
       "</table>\n",
       "<p>74 rows × 9 columns</p>\n",
       "</div>"
      ],
      "text/plain": [
       "                          Beer                  Brewery           Location  \\\n",
       "115                     4Beans      Sixpoint Craft Ales       Brooklyn, NY   \n",
       "210                     Jammer      Sixpoint Craft Ales       Brooklyn, NY   \n",
       "246                    Abigale      Sixpoint Craft Ales       Brooklyn, NY   \n",
       "404              Nomader Weiss        Evil Twin Brewing       Brooklyn, NY   \n",
       "421                        Rad      Sixpoint Craft Ales       Brooklyn, NY   \n",
       "...                        ...                      ...                ...   \n",
       "2351   Brooklyn Lager (12 oz.)         Brooklyn Brewery       Brooklyn, NY   \n",
       "2364  Heinnieweisse Weissebier  Butternuts Beer and Ale  Garrattsville, NY   \n",
       "2365           Snapperhead IPA  Butternuts Beer and Ale  Garrattsville, NY   \n",
       "2366         Moo Thunder Stout  Butternuts Beer and Ale  Garrattsville, NY   \n",
       "2367         Porkslap Pale Ale  Butternuts Beer and Ale  Garrattsville, NY   \n",
       "\n",
       "                           Style             Size   ABV  IBUs           city  \\\n",
       "115                Baltic Porter           12 oz.  10.0  52.0       Brooklyn   \n",
       "210                         Gose  12 oz. Slimline   4.2  16.0       Brooklyn   \n",
       "246             Belgian Pale Ale           12 oz.   8.0   NaN       Brooklyn   \n",
       "404           Berliner Weissbier           12 oz.   4.0   NaN       Brooklyn   \n",
       "421       Fruit / Vegetable Beer           16 oz.   3.2   7.0       Brooklyn   \n",
       "...                          ...              ...   ...   ...            ...   \n",
       "2351  American Amber / Red Lager           12 oz.   5.2   NaN       Brooklyn   \n",
       "2364                  Hefeweizen           12 oz.   4.9   NaN  Garrattsville   \n",
       "2365                American IPA           12 oz.   6.8   NaN  Garrattsville   \n",
       "2366          Milk / Sweet Stout           12 oz.   4.9   NaN  Garrattsville   \n",
       "2367     American Pale Ale (APA)           12 oz.   4.3   NaN  Garrattsville   \n",
       "\n",
       "     state  \n",
       "115     NY  \n",
       "210     NY  \n",
       "246     NY  \n",
       "404     NY  \n",
       "421     NY  \n",
       "...    ...  \n",
       "2351    NY  \n",
       "2364    NY  \n",
       "2365    NY  \n",
       "2366    NY  \n",
       "2367    NY  \n",
       "\n",
       "[74 rows x 9 columns]"
      ]
     },
     "execution_count": 409,
     "metadata": {},
     "output_type": "execute_result"
    }
   ],
   "source": [
    "df[df['state'] == 'NY']"
   ]
  },
  {
   "cell_type": "markdown",
   "metadata": {},
   "source": [
    "\n",
    "### Now *count* all of the breweries in New York state"
   ]
  },
  {
   "cell_type": "code",
   "execution_count": 410,
   "metadata": {},
   "outputs": [
    {
     "data": {
      "text/plain": [
       "Sixpoint Craft Ales              24\n",
       "Matt Brewing Company             13\n",
       "Brooklyn Brewery                  6\n",
       "Evil Twin Brewing                 5\n",
       "Blue Point Brewing Company        4\n",
       "Butternuts Beer and Ale           4\n",
       "KelSo Beer Company                3\n",
       "The Bronx Brewery                 3\n",
       "Upstate Brewing Company           2\n",
       "Montauk Brewing Company           2\n",
       "Bomb Beer Company                 2\n",
       "Chatham Brewing                   2\n",
       "Southampton Publick House         1\n",
       "Dundee Brewing Company            1\n",
       "Newburgh Brewing Company          1\n",
       "The Manhattan Brewing Company     1\n",
       "Name: Brewery, dtype: int64"
      ]
     },
     "execution_count": 410,
     "metadata": {},
     "output_type": "execute_result"
    }
   ],
   "source": [
    "df[df['state'] == 'NY']['Brewery'].value_counts()"
   ]
  },
  {
   "cell_type": "markdown",
   "metadata": {},
   "source": [
    "# Measuring International Bitterness Units\n",
    "\n",
    "## Display all of the IPAs\n",
    "\n",
    "Include American IPAs, Imperial IPAs, and anything else with \"IPA in it.\"\n",
    "\n",
    "IPA stands for [India Pale Ale](https://www.bonappetit.com/story/ipa-beer-styles), and is probably the most popular kind of beer in the US for people who are drinking [craft beer](https://www.craftbeer.com/beer/what-is-craft-beer)."
   ]
  },
  {
   "cell_type": "code",
   "execution_count": 411,
   "metadata": {},
   "outputs": [
    {
     "data": {
      "text/html": [
       "<div>\n",
       "<style scoped>\n",
       "    .dataframe tbody tr th:only-of-type {\n",
       "        vertical-align: middle;\n",
       "    }\n",
       "\n",
       "    .dataframe tbody tr th {\n",
       "        vertical-align: top;\n",
       "    }\n",
       "\n",
       "    .dataframe thead th {\n",
       "        text-align: right;\n",
       "    }\n",
       "</style>\n",
       "<table border=\"1\" class=\"dataframe\">\n",
       "  <thead>\n",
       "    <tr style=\"text-align: right;\">\n",
       "      <th></th>\n",
       "      <th>Beer</th>\n",
       "      <th>Brewery</th>\n",
       "      <th>Location</th>\n",
       "      <th>Style</th>\n",
       "      <th>Size</th>\n",
       "      <th>ABV</th>\n",
       "      <th>IBUs</th>\n",
       "      <th>city</th>\n",
       "      <th>state</th>\n",
       "    </tr>\n",
       "  </thead>\n",
       "  <tbody>\n",
       "    <tr>\n",
       "      <th>0</th>\n",
       "      <td>Get Together</td>\n",
       "      <td>NorthGate Brewing</td>\n",
       "      <td>Minneapolis, MN</td>\n",
       "      <td>American IPA</td>\n",
       "      <td>16 oz.</td>\n",
       "      <td>4.5</td>\n",
       "      <td>50.0</td>\n",
       "      <td>Minneapolis</td>\n",
       "      <td>MN</td>\n",
       "    </tr>\n",
       "    <tr>\n",
       "      <th>6</th>\n",
       "      <td>Citra Ass Down</td>\n",
       "      <td>Against the Grain Brewery</td>\n",
       "      <td>Louisville, KY</td>\n",
       "      <td>American Double / Imperial IPA</td>\n",
       "      <td>16 oz.</td>\n",
       "      <td>8.0</td>\n",
       "      <td>68.0</td>\n",
       "      <td>Louisville</td>\n",
       "      <td>KY</td>\n",
       "    </tr>\n",
       "    <tr>\n",
       "      <th>14</th>\n",
       "      <td>Rico Sauvin</td>\n",
       "      <td>Against the Grain Brewery</td>\n",
       "      <td>Louisville, KY</td>\n",
       "      <td>American Double / Imperial IPA</td>\n",
       "      <td>16 oz.</td>\n",
       "      <td>7.6</td>\n",
       "      <td>68.0</td>\n",
       "      <td>Louisville</td>\n",
       "      <td>KY</td>\n",
       "    </tr>\n",
       "    <tr>\n",
       "      <th>17</th>\n",
       "      <td>Pile of Face</td>\n",
       "      <td>Against the Grain Brewery</td>\n",
       "      <td>Louisville, KY</td>\n",
       "      <td>American IPA</td>\n",
       "      <td>16 oz.</td>\n",
       "      <td>6.0</td>\n",
       "      <td>65.0</td>\n",
       "      <td>Louisville</td>\n",
       "      <td>KY</td>\n",
       "    </tr>\n",
       "    <tr>\n",
       "      <th>24</th>\n",
       "      <td>Habitus (2014)</td>\n",
       "      <td>Mike Hess Brewing Company</td>\n",
       "      <td>San Diego, CA</td>\n",
       "      <td>American Double / Imperial IPA</td>\n",
       "      <td>16 oz.</td>\n",
       "      <td>8.0</td>\n",
       "      <td>100.0</td>\n",
       "      <td>San Diego</td>\n",
       "      <td>CA</td>\n",
       "    </tr>\n",
       "    <tr>\n",
       "      <th>...</th>\n",
       "      <td>...</td>\n",
       "      <td>...</td>\n",
       "      <td>...</td>\n",
       "      <td>...</td>\n",
       "      <td>...</td>\n",
       "      <td>...</td>\n",
       "      <td>...</td>\n",
       "      <td>...</td>\n",
       "      <td>...</td>\n",
       "    </tr>\n",
       "    <tr>\n",
       "      <th>2403</th>\n",
       "      <td>Abrasive Ale</td>\n",
       "      <td>Surly Brewing Company</td>\n",
       "      <td>Brooklyn Center, MN</td>\n",
       "      <td>American Double / Imperial IPA</td>\n",
       "      <td>16 oz.</td>\n",
       "      <td>9.7</td>\n",
       "      <td>120.0</td>\n",
       "      <td>Brooklyn Center</td>\n",
       "      <td>MN</td>\n",
       "    </tr>\n",
       "    <tr>\n",
       "      <th>2406</th>\n",
       "      <td>Furious</td>\n",
       "      <td>Surly Brewing Company</td>\n",
       "      <td>Brooklyn Center, MN</td>\n",
       "      <td>American IPA</td>\n",
       "      <td>16 oz.</td>\n",
       "      <td>6.2</td>\n",
       "      <td>99.0</td>\n",
       "      <td>Brooklyn Center</td>\n",
       "      <td>MN</td>\n",
       "    </tr>\n",
       "    <tr>\n",
       "      <th>2408</th>\n",
       "      <td>Brew Free! or Die IPA</td>\n",
       "      <td>21st Amendment Brewery</td>\n",
       "      <td>San Francisco, CA</td>\n",
       "      <td>American IPA</td>\n",
       "      <td>12 oz.</td>\n",
       "      <td>7.0</td>\n",
       "      <td>65.0</td>\n",
       "      <td>San Francisco</td>\n",
       "      <td>CA</td>\n",
       "    </tr>\n",
       "    <tr>\n",
       "      <th>2412</th>\n",
       "      <td>GUBNA Imperial IPA</td>\n",
       "      <td>Oskar Blues Brewery</td>\n",
       "      <td>Longmont, CO</td>\n",
       "      <td>American Double / Imperial IPA</td>\n",
       "      <td>12 oz.</td>\n",
       "      <td>9.9</td>\n",
       "      <td>100.0</td>\n",
       "      <td>Longmont</td>\n",
       "      <td>CO</td>\n",
       "    </tr>\n",
       "    <tr>\n",
       "      <th>2414</th>\n",
       "      <td>Gordon Ale (2009)</td>\n",
       "      <td>Oskar Blues Brewery</td>\n",
       "      <td>Longmont, CO</td>\n",
       "      <td>American Double / Imperial IPA</td>\n",
       "      <td>12 oz.</td>\n",
       "      <td>8.7</td>\n",
       "      <td>85.0</td>\n",
       "      <td>Longmont</td>\n",
       "      <td>CO</td>\n",
       "    </tr>\n",
       "  </tbody>\n",
       "</table>\n",
       "<p>571 rows × 9 columns</p>\n",
       "</div>"
      ],
      "text/plain": [
       "                       Beer                    Brewery             Location  \\\n",
       "0              Get Together          NorthGate Brewing      Minneapolis, MN   \n",
       "6            Citra Ass Down  Against the Grain Brewery       Louisville, KY   \n",
       "14              Rico Sauvin  Against the Grain Brewery       Louisville, KY   \n",
       "17             Pile of Face  Against the Grain Brewery       Louisville, KY   \n",
       "24           Habitus (2014)  Mike Hess Brewing Company        San Diego, CA   \n",
       "...                     ...                        ...                  ...   \n",
       "2403           Abrasive Ale      Surly Brewing Company  Brooklyn Center, MN   \n",
       "2406                Furious      Surly Brewing Company  Brooklyn Center, MN   \n",
       "2408  Brew Free! or Die IPA     21st Amendment Brewery    San Francisco, CA   \n",
       "2412     GUBNA Imperial IPA        Oskar Blues Brewery         Longmont, CO   \n",
       "2414      Gordon Ale (2009)        Oskar Blues Brewery         Longmont, CO   \n",
       "\n",
       "                               Style    Size  ABV   IBUs             city  \\\n",
       "0                       American IPA  16 oz.  4.5   50.0      Minneapolis   \n",
       "6     American Double / Imperial IPA  16 oz.  8.0   68.0       Louisville   \n",
       "14    American Double / Imperial IPA  16 oz.  7.6   68.0       Louisville   \n",
       "17                      American IPA  16 oz.  6.0   65.0       Louisville   \n",
       "24    American Double / Imperial IPA  16 oz.  8.0  100.0        San Diego   \n",
       "...                              ...     ...  ...    ...              ...   \n",
       "2403  American Double / Imperial IPA  16 oz.  9.7  120.0  Brooklyn Center   \n",
       "2406                    American IPA  16 oz.  6.2   99.0  Brooklyn Center   \n",
       "2408                    American IPA  12 oz.  7.0   65.0    San Francisco   \n",
       "2412  American Double / Imperial IPA  12 oz.  9.9  100.0         Longmont   \n",
       "2414  American Double / Imperial IPA  12 oz.  8.7   85.0         Longmont   \n",
       "\n",
       "     state  \n",
       "0       MN  \n",
       "6       KY  \n",
       "14      KY  \n",
       "17      KY  \n",
       "24      CA  \n",
       "...    ...  \n",
       "2403    MN  \n",
       "2406    MN  \n",
       "2408    CA  \n",
       "2412    CO  \n",
       "2414    CO  \n",
       "\n",
       "[571 rows x 9 columns]"
      ]
     },
     "execution_count": 411,
     "metadata": {},
     "output_type": "execute_result"
    }
   ],
   "source": [
    "df[df['Style'].str.contains(\"IPA\",na=False)]"
   ]
  },
  {
   "cell_type": "markdown",
   "metadata": {},
   "source": [
    "IPAs are usually pretty hoppy and bitter. IBU stands for [International Bitterness Unit](http://www.thebrewenthusiast.com/ibus/), and while a lot of places like to brag about having the most bitter beer (it's an American thing!), IBUs don't necessary *mean anything*.\n",
    "\n",
    "Let's look at how different beers have different IBU measurements."
   ]
  },
  {
   "cell_type": "markdown",
   "metadata": {},
   "source": [
    "## Try to get the average IBU measurement across all beers"
   ]
  },
  {
   "cell_type": "code",
   "execution_count": 412,
   "metadata": {},
   "outputs": [
    {
     "data": {
      "text/html": [
       "<div>\n",
       "<style scoped>\n",
       "    .dataframe tbody tr th:only-of-type {\n",
       "        vertical-align: middle;\n",
       "    }\n",
       "\n",
       "    .dataframe tbody tr th {\n",
       "        vertical-align: top;\n",
       "    }\n",
       "\n",
       "    .dataframe thead th {\n",
       "        text-align: right;\n",
       "    }\n",
       "</style>\n",
       "<table border=\"1\" class=\"dataframe\">\n",
       "  <thead>\n",
       "    <tr style=\"text-align: right;\">\n",
       "      <th></th>\n",
       "      <th>ABV</th>\n",
       "      <th>IBUs</th>\n",
       "    </tr>\n",
       "  </thead>\n",
       "  <tbody>\n",
       "    <tr>\n",
       "      <th>count</th>\n",
       "      <td>2348.000000</td>\n",
       "      <td>1405.000000</td>\n",
       "    </tr>\n",
       "    <tr>\n",
       "      <th>mean</th>\n",
       "      <td>5.977342</td>\n",
       "      <td>42.713167</td>\n",
       "    </tr>\n",
       "    <tr>\n",
       "      <th>std</th>\n",
       "      <td>1.354173</td>\n",
       "      <td>25.954066</td>\n",
       "    </tr>\n",
       "    <tr>\n",
       "      <th>min</th>\n",
       "      <td>0.100000</td>\n",
       "      <td>4.000000</td>\n",
       "    </tr>\n",
       "    <tr>\n",
       "      <th>25%</th>\n",
       "      <td>5.000000</td>\n",
       "      <td>21.000000</td>\n",
       "    </tr>\n",
       "    <tr>\n",
       "      <th>50%</th>\n",
       "      <td>5.600000</td>\n",
       "      <td>35.000000</td>\n",
       "    </tr>\n",
       "    <tr>\n",
       "      <th>75%</th>\n",
       "      <td>6.700000</td>\n",
       "      <td>64.000000</td>\n",
       "    </tr>\n",
       "    <tr>\n",
       "      <th>max</th>\n",
       "      <td>12.800000</td>\n",
       "      <td>138.000000</td>\n",
       "    </tr>\n",
       "  </tbody>\n",
       "</table>\n",
       "</div>"
      ],
      "text/plain": [
       "               ABV         IBUs\n",
       "count  2348.000000  1405.000000\n",
       "mean      5.977342    42.713167\n",
       "std       1.354173    25.954066\n",
       "min       0.100000     4.000000\n",
       "25%       5.000000    21.000000\n",
       "50%       5.600000    35.000000\n",
       "75%       6.700000    64.000000\n",
       "max      12.800000   138.000000"
      ]
     },
     "execution_count": 412,
     "metadata": {},
     "output_type": "execute_result"
    }
   ],
   "source": [
    "df.describe()"
   ]
  },
  {
   "cell_type": "markdown",
   "metadata": {},
   "source": [
    "### Oh no, it doesn't work!\n",
    "\n",
    "It looks like some of those values *aren't numbers*. There are two ways to fix this:\n",
    "\n",
    "1. Do the `.replace` and `np.nan` thing we did in class. Then convert the column to a number. This is boring.\n",
    "2. When you're reading in your csv, there [is an option called `na_values`](http://pandas.pydata.org/pandas-docs/version/0.23/generated/pandas.read_csv.html). You can give it a list of **numbers or strings to count as `NaN`**. It's a lot easier than doing the `np.nan` thing, although you'll need to go add it up top and run all of your cells again.\n",
    "\n",
    "- *Tip: Make sure you're giving `na_values` a LIST, not just a string*\n",
    "\n",
    "### Now try to get the average IBUs again"
   ]
  },
  {
   "cell_type": "code",
   "execution_count": 413,
   "metadata": {},
   "outputs": [
    {
     "data": {
      "text/plain": [
       "array([ 50.,  26.,  19.,  38.,  25.,  47.,  68.,  80.,  42.,  21.,  13.,\n",
       "        17.,  nan,  65.,  20.,  18.,  15.,  45., 100.,  85.,  24.,  30.,\n",
       "        28.,  16.,  75.,  35.,  54.,  12.,  10.,  40.,  72.,  90.,  46.,\n",
       "        64.,  31.,  37.,  27.,  58.,  29.,  23.,  22.,  11.,  60.,   8.,\n",
       "        34.,  52.,  70.,  51.,  44.,  33.,   5.,  82., 115.,  69.,  55.,\n",
       "        63.,  67.,  93.,  66., 126.,  61.,  36.,  87.,  88., 103.,   6.,\n",
       "         9.,  14.,  49.,  32.,  89.,  43.,  71.,   7.,  73.,  41.,  53.,\n",
       "        62.,  77.,  86., 118.,  81., 130.,  99.,  76.,  48.,  39.,  83.,\n",
       "       108.,  74., 104., 110., 111., 135.,  95.,  92.,  78., 101.,  94.,\n",
       "        98.,  57.,   4., 120., 138., 105.,  91.,  97., 113.])"
      ]
     },
     "execution_count": 413,
     "metadata": {},
     "output_type": "execute_result"
    }
   ],
   "source": [
    "df['IBUs'].unique()"
   ]
  },
  {
   "cell_type": "code",
   "execution_count": 414,
   "metadata": {},
   "outputs": [
    {
     "data": {
      "text/plain": [
       "42.71"
      ]
     },
     "execution_count": 414,
     "metadata": {},
     "output_type": "execute_result"
    }
   ],
   "source": [
    "df['IBUs'] = df['IBUs'].astype(float)\n",
    "df['IBUs'].mean().round(2)"
   ]
  },
  {
   "cell_type": "markdown",
   "metadata": {},
   "source": [
    "## Draw the distribution of IBU measurements, but with *twenty* bins instead of the default of 10\n",
    "\n",
    "- *Tip: Every time I ask for a distribution, I'm looking for a histogram*\n",
    "- *Tip: Use the `?` to get all of the options for building a histogram*\n",
    "- *Tip: Make sure your `matplotlib` thing is set up right!*"
   ]
  },
  {
   "cell_type": "code",
   "execution_count": 415,
   "metadata": {},
   "outputs": [
    {
     "data": {
      "text/plain": [
       "<AxesSubplot:>"
      ]
     },
     "execution_count": 415,
     "metadata": {},
     "output_type": "execute_result"
    },
    {
     "data": {
      "image/png": "[encoded data removed]",
      "text/plain": [
       "<Figure size 432x288 with 1 Axes>"
      ]
     },
     "metadata": {
      "needs_background": "light"
     },
     "output_type": "display_data"
    }
   ],
   "source": [
    "df['IBUs'].hist(bins=20)"
   ]
  },
  {
   "cell_type": "markdown",
   "metadata": {},
   "source": [
    "## Hm, Interesting distribution. List all of the beers with IBUs above the 75th percentile\n",
    "\n",
    "- *Tip: There's a single that gives you the 25/50/75th percentile*\n",
    "- *Tip: You can just manually type the number when you list those beers*"
   ]
  },
  {
   "cell_type": "code",
   "execution_count": 416,
   "metadata": {},
   "outputs": [],
   "source": [
    "high_ibu = df[df['IBUs'] > df.IBUs.quantile(0.75)]"
   ]
  },
  {
   "cell_type": "code",
   "execution_count": 417,
   "metadata": {},
   "outputs": [
    {
     "data": {
      "text/html": [
       "<div>\n",
       "<style scoped>\n",
       "    .dataframe tbody tr th:only-of-type {\n",
       "        vertical-align: middle;\n",
       "    }\n",
       "\n",
       "    .dataframe tbody tr th {\n",
       "        vertical-align: top;\n",
       "    }\n",
       "\n",
       "    .dataframe thead th {\n",
       "        text-align: right;\n",
       "    }\n",
       "</style>\n",
       "<table border=\"1\" class=\"dataframe\">\n",
       "  <thead>\n",
       "    <tr style=\"text-align: right;\">\n",
       "      <th></th>\n",
       "      <th>Beer</th>\n",
       "      <th>Brewery</th>\n",
       "      <th>Location</th>\n",
       "      <th>Style</th>\n",
       "      <th>Size</th>\n",
       "      <th>ABV</th>\n",
       "      <th>IBUs</th>\n",
       "      <th>city</th>\n",
       "      <th>state</th>\n",
       "    </tr>\n",
       "  </thead>\n",
       "  <tbody>\n",
       "    <tr>\n",
       "      <th>6</th>\n",
       "      <td>Citra Ass Down</td>\n",
       "      <td>Against the Grain Brewery</td>\n",
       "      <td>Louisville, KY</td>\n",
       "      <td>American Double / Imperial IPA</td>\n",
       "      <td>16 oz.</td>\n",
       "      <td>8.0</td>\n",
       "      <td>68.0</td>\n",
       "      <td>Louisville</td>\n",
       "      <td>KY</td>\n",
       "    </tr>\n",
       "    <tr>\n",
       "      <th>7</th>\n",
       "      <td>London Balling</td>\n",
       "      <td>Against the Grain Brewery</td>\n",
       "      <td>Louisville, KY</td>\n",
       "      <td>English Barleywine</td>\n",
       "      <td>16 oz.</td>\n",
       "      <td>12.5</td>\n",
       "      <td>80.0</td>\n",
       "      <td>Louisville</td>\n",
       "      <td>KY</td>\n",
       "    </tr>\n",
       "    <tr>\n",
       "      <th>14</th>\n",
       "      <td>Rico Sauvin</td>\n",
       "      <td>Against the Grain Brewery</td>\n",
       "      <td>Louisville, KY</td>\n",
       "      <td>American Double / Imperial IPA</td>\n",
       "      <td>16 oz.</td>\n",
       "      <td>7.6</td>\n",
       "      <td>68.0</td>\n",
       "      <td>Louisville</td>\n",
       "      <td>KY</td>\n",
       "    </tr>\n",
       "    <tr>\n",
       "      <th>17</th>\n",
       "      <td>Pile of Face</td>\n",
       "      <td>Against the Grain Brewery</td>\n",
       "      <td>Louisville, KY</td>\n",
       "      <td>American IPA</td>\n",
       "      <td>16 oz.</td>\n",
       "      <td>6.0</td>\n",
       "      <td>65.0</td>\n",
       "      <td>Louisville</td>\n",
       "      <td>KY</td>\n",
       "    </tr>\n",
       "    <tr>\n",
       "      <th>21</th>\n",
       "      <td>Excess IPL</td>\n",
       "      <td>Jack's Abby Craft Lagers</td>\n",
       "      <td>Framingham, MA</td>\n",
       "      <td>American India Pale Lager</td>\n",
       "      <td>16 oz.</td>\n",
       "      <td>7.2</td>\n",
       "      <td>80.0</td>\n",
       "      <td>Framingham</td>\n",
       "      <td>MA</td>\n",
       "    </tr>\n",
       "    <tr>\n",
       "      <th>...</th>\n",
       "      <td>...</td>\n",
       "      <td>...</td>\n",
       "      <td>...</td>\n",
       "      <td>...</td>\n",
       "      <td>...</td>\n",
       "      <td>...</td>\n",
       "      <td>...</td>\n",
       "      <td>...</td>\n",
       "      <td>...</td>\n",
       "    </tr>\n",
       "    <tr>\n",
       "      <th>2408</th>\n",
       "      <td>Brew Free! or Die IPA</td>\n",
       "      <td>21st Amendment Brewery</td>\n",
       "      <td>San Francisco, CA</td>\n",
       "      <td>American IPA</td>\n",
       "      <td>12 oz.</td>\n",
       "      <td>7.0</td>\n",
       "      <td>65.0</td>\n",
       "      <td>San Francisco</td>\n",
       "      <td>CA</td>\n",
       "    </tr>\n",
       "    <tr>\n",
       "      <th>2410</th>\n",
       "      <td>Ten Fidy Imperial Stout</td>\n",
       "      <td>Oskar Blues Brewery</td>\n",
       "      <td>Longmont, CO</td>\n",
       "      <td>Russian Imperial Stout</td>\n",
       "      <td>12 oz.</td>\n",
       "      <td>9.9</td>\n",
       "      <td>98.0</td>\n",
       "      <td>Longmont</td>\n",
       "      <td>CO</td>\n",
       "    </tr>\n",
       "    <tr>\n",
       "      <th>2412</th>\n",
       "      <td>GUBNA Imperial IPA</td>\n",
       "      <td>Oskar Blues Brewery</td>\n",
       "      <td>Longmont, CO</td>\n",
       "      <td>American Double / Imperial IPA</td>\n",
       "      <td>12 oz.</td>\n",
       "      <td>9.9</td>\n",
       "      <td>100.0</td>\n",
       "      <td>Longmont</td>\n",
       "      <td>CO</td>\n",
       "    </tr>\n",
       "    <tr>\n",
       "      <th>2414</th>\n",
       "      <td>Gordon Ale (2009)</td>\n",
       "      <td>Oskar Blues Brewery</td>\n",
       "      <td>Longmont, CO</td>\n",
       "      <td>American Double / Imperial IPA</td>\n",
       "      <td>12 oz.</td>\n",
       "      <td>8.7</td>\n",
       "      <td>85.0</td>\n",
       "      <td>Longmont</td>\n",
       "      <td>CO</td>\n",
       "    </tr>\n",
       "    <tr>\n",
       "      <th>2415</th>\n",
       "      <td>Dale's Pale Ale</td>\n",
       "      <td>Oskar Blues Brewery</td>\n",
       "      <td>Longmont, CO</td>\n",
       "      <td>American Pale Ale (APA)</td>\n",
       "      <td>12 oz.</td>\n",
       "      <td>6.5</td>\n",
       "      <td>65.0</td>\n",
       "      <td>Longmont</td>\n",
       "      <td>CO</td>\n",
       "    </tr>\n",
       "  </tbody>\n",
       "</table>\n",
       "<p>346 rows × 9 columns</p>\n",
       "</div>"
      ],
      "text/plain": [
       "                         Beer                    Brewery           Location  \\\n",
       "6              Citra Ass Down  Against the Grain Brewery     Louisville, KY   \n",
       "7              London Balling  Against the Grain Brewery     Louisville, KY   \n",
       "14                Rico Sauvin  Against the Grain Brewery     Louisville, KY   \n",
       "17               Pile of Face  Against the Grain Brewery     Louisville, KY   \n",
       "21                 Excess IPL   Jack's Abby Craft Lagers     Framingham, MA   \n",
       "...                       ...                        ...                ...   \n",
       "2408    Brew Free! or Die IPA     21st Amendment Brewery  San Francisco, CA   \n",
       "2410  Ten Fidy Imperial Stout        Oskar Blues Brewery       Longmont, CO   \n",
       "2412       GUBNA Imperial IPA        Oskar Blues Brewery       Longmont, CO   \n",
       "2414        Gordon Ale (2009)        Oskar Blues Brewery       Longmont, CO   \n",
       "2415          Dale's Pale Ale        Oskar Blues Brewery       Longmont, CO   \n",
       "\n",
       "                               Style    Size   ABV   IBUs           city state  \n",
       "6     American Double / Imperial IPA  16 oz.   8.0   68.0     Louisville    KY  \n",
       "7                 English Barleywine  16 oz.  12.5   80.0     Louisville    KY  \n",
       "14    American Double / Imperial IPA  16 oz.   7.6   68.0     Louisville    KY  \n",
       "17                      American IPA  16 oz.   6.0   65.0     Louisville    KY  \n",
       "21         American India Pale Lager  16 oz.   7.2   80.0     Framingham    MA  \n",
       "...                              ...     ...   ...    ...            ...   ...  \n",
       "2408                    American IPA  12 oz.   7.0   65.0  San Francisco    CA  \n",
       "2410          Russian Imperial Stout  12 oz.   9.9   98.0       Longmont    CO  \n",
       "2412  American Double / Imperial IPA  12 oz.   9.9  100.0       Longmont    CO  \n",
       "2414  American Double / Imperial IPA  12 oz.   8.7   85.0       Longmont    CO  \n",
       "2415         American Pale Ale (APA)  12 oz.   6.5   65.0       Longmont    CO  \n",
       "\n",
       "[346 rows x 9 columns]"
      ]
     },
     "execution_count": 417,
     "metadata": {},
     "output_type": "execute_result"
    }
   ],
   "source": [
    "high_ibu"
   ]
  },
  {
   "cell_type": "markdown",
   "metadata": {},
   "source": [
    "## List all of the beers with IBUs below the 25th percentile"
   ]
  },
  {
   "cell_type": "code",
   "execution_count": 418,
   "metadata": {},
   "outputs": [
    {
     "data": {
      "text/html": [
       "<div>\n",
       "<style scoped>\n",
       "    .dataframe tbody tr th:only-of-type {\n",
       "        vertical-align: middle;\n",
       "    }\n",
       "\n",
       "    .dataframe tbody tr th {\n",
       "        vertical-align: top;\n",
       "    }\n",
       "\n",
       "    .dataframe thead th {\n",
       "        text-align: right;\n",
       "    }\n",
       "</style>\n",
       "<table border=\"1\" class=\"dataframe\">\n",
       "  <thead>\n",
       "    <tr style=\"text-align: right;\">\n",
       "      <th></th>\n",
       "      <th>Beer</th>\n",
       "      <th>Brewery</th>\n",
       "      <th>Location</th>\n",
       "      <th>Style</th>\n",
       "      <th>Size</th>\n",
       "      <th>ABV</th>\n",
       "      <th>IBUs</th>\n",
       "      <th>city</th>\n",
       "      <th>state</th>\n",
       "    </tr>\n",
       "  </thead>\n",
       "  <tbody>\n",
       "    <tr>\n",
       "      <th>2</th>\n",
       "      <td>Wall's End</td>\n",
       "      <td>NorthGate Brewing</td>\n",
       "      <td>Minneapolis, MN</td>\n",
       "      <td>English Brown Ale</td>\n",
       "      <td>16 oz.</td>\n",
       "      <td>4.8</td>\n",
       "      <td>19.0</td>\n",
       "      <td>Minneapolis</td>\n",
       "      <td>MN</td>\n",
       "    </tr>\n",
       "    <tr>\n",
       "      <th>12</th>\n",
       "      <td>Sho'nuff</td>\n",
       "      <td>Against the Grain Brewery</td>\n",
       "      <td>Louisville, KY</td>\n",
       "      <td>Belgian Pale Ale</td>\n",
       "      <td>16 oz.</td>\n",
       "      <td>4.0</td>\n",
       "      <td>13.0</td>\n",
       "      <td>Louisville</td>\n",
       "      <td>KY</td>\n",
       "    </tr>\n",
       "    <tr>\n",
       "      <th>13</th>\n",
       "      <td>Bloody Show</td>\n",
       "      <td>Against the Grain Brewery</td>\n",
       "      <td>Louisville, KY</td>\n",
       "      <td>American Pilsner</td>\n",
       "      <td>16 oz.</td>\n",
       "      <td>5.5</td>\n",
       "      <td>17.0</td>\n",
       "      <td>Louisville</td>\n",
       "      <td>KY</td>\n",
       "    </tr>\n",
       "    <tr>\n",
       "      <th>18</th>\n",
       "      <td>The Brown Note</td>\n",
       "      <td>Against the Grain Brewery</td>\n",
       "      <td>Louisville, KY</td>\n",
       "      <td>English Brown Ale</td>\n",
       "      <td>16 oz.</td>\n",
       "      <td>5.0</td>\n",
       "      <td>20.0</td>\n",
       "      <td>Louisville</td>\n",
       "      <td>KY</td>\n",
       "    </tr>\n",
       "    <tr>\n",
       "      <th>19</th>\n",
       "      <td>House Lager</td>\n",
       "      <td>Jack's Abby Craft Lagers</td>\n",
       "      <td>Framingham, MA</td>\n",
       "      <td>Keller Bier / Zwickel Bier</td>\n",
       "      <td>16 oz.</td>\n",
       "      <td>5.2</td>\n",
       "      <td>18.0</td>\n",
       "      <td>Framingham</td>\n",
       "      <td>MA</td>\n",
       "    </tr>\n",
       "    <tr>\n",
       "      <th>...</th>\n",
       "      <td>...</td>\n",
       "      <td>...</td>\n",
       "      <td>...</td>\n",
       "      <td>...</td>\n",
       "      <td>...</td>\n",
       "      <td>...</td>\n",
       "      <td>...</td>\n",
       "      <td>...</td>\n",
       "      <td>...</td>\n",
       "    </tr>\n",
       "    <tr>\n",
       "      <th>2372</th>\n",
       "      <td>Bombshell Blonde</td>\n",
       "      <td>Southern Star Brewing Company</td>\n",
       "      <td>Conroe, TX</td>\n",
       "      <td>American Blonde Ale</td>\n",
       "      <td>12 oz.</td>\n",
       "      <td>5.0</td>\n",
       "      <td>20.0</td>\n",
       "      <td>Conroe</td>\n",
       "      <td>TX</td>\n",
       "    </tr>\n",
       "    <tr>\n",
       "      <th>2385</th>\n",
       "      <td>Bikini Blonde Lager</td>\n",
       "      <td>Maui Brewing Company</td>\n",
       "      <td>Lahaina, HI</td>\n",
       "      <td>Munich Helles Lager</td>\n",
       "      <td>12 oz.</td>\n",
       "      <td>4.5</td>\n",
       "      <td>18.0</td>\n",
       "      <td>Lahaina</td>\n",
       "      <td>HI</td>\n",
       "    </tr>\n",
       "    <tr>\n",
       "      <th>2396</th>\n",
       "      <td>Royal Weisse Ale</td>\n",
       "      <td>Sly Fox Brewing Company</td>\n",
       "      <td>Pottstown, PA</td>\n",
       "      <td>Hefeweizen</td>\n",
       "      <td>12 oz.</td>\n",
       "      <td>5.6</td>\n",
       "      <td>11.0</td>\n",
       "      <td>Pottstown</td>\n",
       "      <td>PA</td>\n",
       "    </tr>\n",
       "    <tr>\n",
       "      <th>2404</th>\n",
       "      <td>Hell</td>\n",
       "      <td>Surly Brewing Company</td>\n",
       "      <td>Brooklyn Center, MN</td>\n",
       "      <td>Keller Bier / Zwickel Bier</td>\n",
       "      <td>16 oz.</td>\n",
       "      <td>5.1</td>\n",
       "      <td>20.0</td>\n",
       "      <td>Brooklyn Center</td>\n",
       "      <td>MN</td>\n",
       "    </tr>\n",
       "    <tr>\n",
       "      <th>2409</th>\n",
       "      <td>Hell or High Watermelon Wheat</td>\n",
       "      <td>21st Amendment Brewery</td>\n",
       "      <td>San Francisco, CA</td>\n",
       "      <td>Fruit / Vegetable Beer</td>\n",
       "      <td>12 oz.</td>\n",
       "      <td>4.9</td>\n",
       "      <td>17.0</td>\n",
       "      <td>San Francisco</td>\n",
       "      <td>CA</td>\n",
       "    </tr>\n",
       "  </tbody>\n",
       "</table>\n",
       "<p>338 rows × 9 columns</p>\n",
       "</div>"
      ],
      "text/plain": [
       "                               Beer                        Brewery  \\\n",
       "2                        Wall's End              NorthGate Brewing   \n",
       "12                         Sho'nuff      Against the Grain Brewery   \n",
       "13                      Bloody Show      Against the Grain Brewery   \n",
       "18                   The Brown Note      Against the Grain Brewery   \n",
       "19                      House Lager       Jack's Abby Craft Lagers   \n",
       "...                             ...                            ...   \n",
       "2372               Bombshell Blonde  Southern Star Brewing Company   \n",
       "2385            Bikini Blonde Lager           Maui Brewing Company   \n",
       "2396               Royal Weisse Ale        Sly Fox Brewing Company   \n",
       "2404                           Hell          Surly Brewing Company   \n",
       "2409  Hell or High Watermelon Wheat         21st Amendment Brewery   \n",
       "\n",
       "                 Location                       Style    Size  ABV  IBUs  \\\n",
       "2         Minneapolis, MN           English Brown Ale  16 oz.  4.8  19.0   \n",
       "12         Louisville, KY            Belgian Pale Ale  16 oz.  4.0  13.0   \n",
       "13         Louisville, KY            American Pilsner  16 oz.  5.5  17.0   \n",
       "18         Louisville, KY           English Brown Ale  16 oz.  5.0  20.0   \n",
       "19         Framingham, MA  Keller Bier / Zwickel Bier  16 oz.  5.2  18.0   \n",
       "...                   ...                         ...     ...  ...   ...   \n",
       "2372           Conroe, TX         American Blonde Ale  12 oz.  5.0  20.0   \n",
       "2385          Lahaina, HI         Munich Helles Lager  12 oz.  4.5  18.0   \n",
       "2396        Pottstown, PA                  Hefeweizen  12 oz.  5.6  11.0   \n",
       "2404  Brooklyn Center, MN  Keller Bier / Zwickel Bier  16 oz.  5.1  20.0   \n",
       "2409    San Francisco, CA      Fruit / Vegetable Beer  12 oz.  4.9  17.0   \n",
       "\n",
       "                 city state  \n",
       "2         Minneapolis    MN  \n",
       "12         Louisville    KY  \n",
       "13         Louisville    KY  \n",
       "18         Louisville    KY  \n",
       "19         Framingham    MA  \n",
       "...               ...   ...  \n",
       "2372           Conroe    TX  \n",
       "2385          Lahaina    HI  \n",
       "2396        Pottstown    PA  \n",
       "2404  Brooklyn Center    MN  \n",
       "2409    San Francisco    CA  \n",
       "\n",
       "[338 rows x 9 columns]"
      ]
     },
     "execution_count": 418,
     "metadata": {},
     "output_type": "execute_result"
    }
   ],
   "source": [
    "low_ibu = df[df['IBUs'] < df.IBUs.quantile(0.25)]\n",
    "\n",
    "low_ibu"
   ]
  },
  {
   "cell_type": "markdown",
   "metadata": {},
   "source": [
    "## List the median IBUs of each type of beer. Graph it.\n",
    "\n",
    "Put the highest at the top, and the missing ones at the bottom.\n",
    "\n",
    "- Tip: Look at the options for `sort_values` to figure out the `NaN` thing. The `?` probably won't help you here."
   ]
  },
  {
   "cell_type": "code",
   "execution_count": 420,
   "metadata": {},
   "outputs": [
    {
     "data": {
      "image/png": "[encoded data removed]",
      "text/plain": [
       "<Figure size 432x288 with 1 Axes>"
      ]
     },
     "metadata": {
      "needs_background": "light"
     },
     "output_type": "display_data"
    }
   ],
   "source": [
    "# Not sure if this is what we are looking for..\n",
    "\n",
    "df.groupby(by='Style').median('IBUs').sort_values(by='IBUs',ascending=False).plot.barh(y='IBUs').invert_yaxis()"
   ]
  },
  {
   "cell_type": "markdown",
   "metadata": {},
   "source": [
    "## Hmmmm, it looks like they are generally different styles. What are the most common 5 styles of high-IBU beer vs. low-IBU beer?\n",
    "\n",
    "- *Tip: You'll want to think about it in three pieces - filtering to only find the specific beers beers, then finding out what the most common styles are, then getting the top 5.*\n",
    "- *Tip: You CANNOT do this in one command. It's going to be one command for the high and one for the low.*\n",
    "- *Tip: \"High IBU\" means higher than 75th percentile, \"Low IBU\" is under 25th percentile*"
   ]
  },
  {
   "cell_type": "code",
   "execution_count": 421,
   "metadata": {},
   "outputs": [
    {
     "data": {
      "text/html": [
       "<div>\n",
       "<style scoped>\n",
       "    .dataframe tbody tr th:only-of-type {\n",
       "        vertical-align: middle;\n",
       "    }\n",
       "\n",
       "    .dataframe tbody tr th {\n",
       "        vertical-align: top;\n",
       "    }\n",
       "\n",
       "    .dataframe thead th {\n",
       "        text-align: right;\n",
       "    }\n",
       "</style>\n",
       "<table border=\"1\" class=\"dataframe\">\n",
       "  <thead>\n",
       "    <tr style=\"text-align: right;\">\n",
       "      <th></th>\n",
       "      <th>ABV</th>\n",
       "      <th>IBUs</th>\n",
       "    </tr>\n",
       "    <tr>\n",
       "      <th>Style</th>\n",
       "      <th></th>\n",
       "      <th></th>\n",
       "    </tr>\n",
       "  </thead>\n",
       "  <tbody>\n",
       "    <tr>\n",
       "      <th>American Amber / Red Ale</th>\n",
       "      <td>7.2</td>\n",
       "      <td>80.0</td>\n",
       "    </tr>\n",
       "    <tr>\n",
       "      <th>American Barleywine</th>\n",
       "      <td>9.9</td>\n",
       "      <td>96.0</td>\n",
       "    </tr>\n",
       "    <tr>\n",
       "      <th>American Black Ale</th>\n",
       "      <td>7.3</td>\n",
       "      <td>80.0</td>\n",
       "    </tr>\n",
       "    <tr>\n",
       "      <th>American Brown Ale</th>\n",
       "      <td>6.5</td>\n",
       "      <td>65.0</td>\n",
       "    </tr>\n",
       "    <tr>\n",
       "      <th>American Double / Imperial IPA</th>\n",
       "      <td>8.7</td>\n",
       "      <td>93.0</td>\n",
       "    </tr>\n",
       "  </tbody>\n",
       "</table>\n",
       "</div>"
      ],
      "text/plain": [
       "                                ABV  IBUs\n",
       "Style                                    \n",
       "American Amber / Red Ale        7.2  80.0\n",
       "American Barleywine             9.9  96.0\n",
       "American Black Ale              7.3  80.0\n",
       "American Brown Ale              6.5  65.0\n",
       "American Double / Imperial IPA  8.7  93.0"
      ]
     },
     "execution_count": 421,
     "metadata": {},
     "output_type": "execute_result"
    }
   ],
   "source": [
    "high_ibu.groupby(by='Style').median('IBUs').head(5)"
   ]
  },
  {
   "cell_type": "code",
   "execution_count": 422,
   "metadata": {},
   "outputs": [
    {
     "data": {
      "text/html": [
       "<div>\n",
       "<style scoped>\n",
       "    .dataframe tbody tr th:only-of-type {\n",
       "        vertical-align: middle;\n",
       "    }\n",
       "\n",
       "    .dataframe tbody tr th {\n",
       "        vertical-align: top;\n",
       "    }\n",
       "\n",
       "    .dataframe thead th {\n",
       "        text-align: right;\n",
       "    }\n",
       "</style>\n",
       "<table border=\"1\" class=\"dataframe\">\n",
       "  <thead>\n",
       "    <tr style=\"text-align: right;\">\n",
       "      <th></th>\n",
       "      <th>ABV</th>\n",
       "      <th>IBUs</th>\n",
       "    </tr>\n",
       "    <tr>\n",
       "      <th>Style</th>\n",
       "      <th></th>\n",
       "      <th></th>\n",
       "    </tr>\n",
       "  </thead>\n",
       "  <tbody>\n",
       "    <tr>\n",
       "      <th>Altbier</th>\n",
       "      <td>5.3</td>\n",
       "      <td>18.0</td>\n",
       "    </tr>\n",
       "    <tr>\n",
       "      <th>American Adjunct Lager</th>\n",
       "      <td>4.7</td>\n",
       "      <td>9.0</td>\n",
       "    </tr>\n",
       "    <tr>\n",
       "      <th>American Amber / Red Ale</th>\n",
       "      <td>5.4</td>\n",
       "      <td>18.0</td>\n",
       "    </tr>\n",
       "    <tr>\n",
       "      <th>American Amber / Red Lager</th>\n",
       "      <td>4.6</td>\n",
       "      <td>18.0</td>\n",
       "    </tr>\n",
       "    <tr>\n",
       "      <th>American Black Ale</th>\n",
       "      <td>5.2</td>\n",
       "      <td>9.0</td>\n",
       "    </tr>\n",
       "  </tbody>\n",
       "</table>\n",
       "</div>"
      ],
      "text/plain": [
       "                            ABV  IBUs\n",
       "Style                                \n",
       "Altbier                     5.3  18.0\n",
       "American Adjunct Lager      4.7   9.0\n",
       "American Amber / Red Ale    5.4  18.0\n",
       "American Amber / Red Lager  4.6  18.0\n",
       "American Black Ale          5.2   9.0"
      ]
     },
     "execution_count": 422,
     "metadata": {},
     "output_type": "execute_result"
    }
   ],
   "source": [
    "low_ibu.groupby(by='Style').median('IBUs').head(5)"
   ]
  },
  {
   "cell_type": "markdown",
   "metadata": {},
   "source": [
    "## Get the average IBU of \"Witbier\", \"Hefeweizen\" and \"American Pale Wheat Ale\" styles\n",
    "\n",
    "I'm counting these as wheat beers. If you see any other wheat beer categories, feel free to include them. I want ONE measurement and ONE graph, not three separate ones. And 20 to 30 bins in the histogram, please.\n",
    "\n",
    "- *Tip: I hope that `isin` is in your toolbox*"
   ]
  },
  {
   "cell_type": "code",
   "execution_count": 423,
   "metadata": {},
   "outputs": [
    {
     "data": {
      "text/html": [
       "<div>\n",
       "<style scoped>\n",
       "    .dataframe tbody tr th:only-of-type {\n",
       "        vertical-align: middle;\n",
       "    }\n",
       "\n",
       "    .dataframe tbody tr th {\n",
       "        vertical-align: top;\n",
       "    }\n",
       "\n",
       "    .dataframe thead th {\n",
       "        text-align: right;\n",
       "    }\n",
       "</style>\n",
       "<table border=\"1\" class=\"dataframe\">\n",
       "  <thead>\n",
       "    <tr style=\"text-align: right;\">\n",
       "      <th></th>\n",
       "      <th>ABV</th>\n",
       "      <th>IBUs</th>\n",
       "    </tr>\n",
       "    <tr>\n",
       "      <th>Style</th>\n",
       "      <th></th>\n",
       "      <th></th>\n",
       "    </tr>\n",
       "  </thead>\n",
       "  <tbody>\n",
       "    <tr>\n",
       "      <th>American Pale Wheat Ale</th>\n",
       "      <td>4.8</td>\n",
       "      <td>20.0</td>\n",
       "    </tr>\n",
       "    <tr>\n",
       "      <th>Hefeweizen</th>\n",
       "      <td>5.0</td>\n",
       "      <td>15.0</td>\n",
       "    </tr>\n",
       "    <tr>\n",
       "      <th>Witbier</th>\n",
       "      <td>5.0</td>\n",
       "      <td>15.5</td>\n",
       "    </tr>\n",
       "  </tbody>\n",
       "</table>\n",
       "</div>"
      ],
      "text/plain": [
       "                         ABV  IBUs\n",
       "Style                             \n",
       "American Pale Wheat Ale  4.8  20.0\n",
       "Hefeweizen               5.0  15.0\n",
       "Witbier                  5.0  15.5"
      ]
     },
     "execution_count": 423,
     "metadata": {},
     "output_type": "execute_result"
    }
   ],
   "source": [
    "list = ['Witbier','Hefeweizen','American Pale Wheat Ale']\n",
    "\n",
    "df[df['Style'].isin(list)].groupby(by='Style').median('IBUs')"
   ]
  },
  {
   "cell_type": "markdown",
   "metadata": {},
   "source": [
    "## Draw a histogram of the IBUs of those beers"
   ]
  },
  {
   "cell_type": "code",
   "execution_count": 426,
   "metadata": {},
   "outputs": [
    {
     "data": {
      "text/plain": [
       "array([[<AxesSubplot:title={'center':'IBUs'}>]], dtype=object)"
      ]
     },
     "execution_count": 426,
     "metadata": {},
     "output_type": "execute_result"
    },
    {
     "data": {
      "image/png": "[encoded data removed]",
      "text/plain": [
       "<Figure size 432x288 with 1 Axes>"
      ]
     },
     "metadata": {
      "needs_background": "light"
     },
     "output_type": "display_data"
    }
   ],
   "source": [
    "df[df['Style'].isin(list)].groupby(by='Style').median('IBUs').hist('IBUs')"
   ]
  },
  {
   "cell_type": "markdown",
   "metadata": {},
   "source": [
    "## Get the average IBU of any style with \"IPA\" in it (also draw a histogram)"
   ]
  },
  {
   "cell_type": "code",
   "execution_count": 427,
   "metadata": {},
   "outputs": [
    {
     "data": {
      "text/html": [
       "<div>\n",
       "<style scoped>\n",
       "    .dataframe tbody tr th:only-of-type {\n",
       "        vertical-align: middle;\n",
       "    }\n",
       "\n",
       "    .dataframe tbody tr th {\n",
       "        vertical-align: top;\n",
       "    }\n",
       "\n",
       "    .dataframe thead th {\n",
       "        text-align: right;\n",
       "    }\n",
       "</style>\n",
       "<table border=\"1\" class=\"dataframe\">\n",
       "  <thead>\n",
       "    <tr style=\"text-align: right;\">\n",
       "      <th></th>\n",
       "      <th>ABV</th>\n",
       "      <th>IBUs</th>\n",
       "    </tr>\n",
       "    <tr>\n",
       "      <th>Style</th>\n",
       "      <th></th>\n",
       "      <th></th>\n",
       "    </tr>\n",
       "  </thead>\n",
       "  <tbody>\n",
       "    <tr>\n",
       "      <th>American Double / Imperial IPA</th>\n",
       "      <td>8.7</td>\n",
       "      <td>91.0</td>\n",
       "    </tr>\n",
       "    <tr>\n",
       "      <th>American IPA</th>\n",
       "      <td>6.5</td>\n",
       "      <td>69.0</td>\n",
       "    </tr>\n",
       "    <tr>\n",
       "      <th>American White IPA</th>\n",
       "      <td>6.0</td>\n",
       "      <td>45.0</td>\n",
       "    </tr>\n",
       "    <tr>\n",
       "      <th>Belgian IPA</th>\n",
       "      <td>7.0</td>\n",
       "      <td>61.0</td>\n",
       "    </tr>\n",
       "    <tr>\n",
       "      <th>English India Pale Ale (IPA)</th>\n",
       "      <td>6.3</td>\n",
       "      <td>47.0</td>\n",
       "    </tr>\n",
       "  </tbody>\n",
       "</table>\n",
       "</div>"
      ],
      "text/plain": [
       "                                ABV  IBUs\n",
       "Style                                    \n",
       "American Double / Imperial IPA  8.7  91.0\n",
       "American IPA                    6.5  69.0\n",
       "American White IPA              6.0  45.0\n",
       "Belgian IPA                     7.0  61.0\n",
       "English India Pale Ale (IPA)    6.3  47.0"
      ]
     },
     "execution_count": 427,
     "metadata": {},
     "output_type": "execute_result"
    }
   ],
   "source": [
    "df[df['Style'].str.contains(\"IPA\",na=False)].groupby(by='Style').median('IBUs')"
   ]
  },
  {
   "cell_type": "code",
   "execution_count": 429,
   "metadata": {},
   "outputs": [
    {
     "data": {
      "text/plain": [
       "array([[<AxesSubplot:title={'center':'IBUs'}>]], dtype=object)"
      ]
     },
     "execution_count": 429,
     "metadata": {},
     "output_type": "execute_result"
    },
    {
     "data": {
      "image/png": "[encoded data removed]",
      "text/plain": [
       "<Figure size 432x288 with 1 Axes>"
      ]
     },
     "metadata": {
      "needs_background": "light"
     },
     "output_type": "display_data"
    }
   ],
   "source": [
    "df[df['Style'].str.contains(\"IPA\",na=False)].groupby(by='Style').median('IBUs').hist('IBUs')"
   ]
  },
  {
   "cell_type": "markdown",
   "metadata": {},
   "source": [
    "## Plot those two histograms on top of one another\n",
    "\n",
    "To plot two plots on top of one another, you do two steps.\n",
    "\n",
    "1. First, you make a plot using `plot` or `hist`, and you save it into a variable called `ax`.\n",
    "2. You draw your second graph using `plot` or `hist`, and send `ax=ax` to it as a parameter.\n",
    "\n",
    "It would look something like this:\n",
    "\n",
    "```python\n",
    "ax = df.plot(....)\n",
    "df.plot(ax=ax, ....)\n",
    "``` \n",
    "\n",
    "(...except totally different)"
   ]
  },
  {
   "cell_type": "code",
   "execution_count": 431,
   "metadata": {},
   "outputs": [
    {
     "data": {
      "text/plain": [
       "array([<AxesSubplot:title={'center':'IBUs'}>], dtype=object)"
      ]
     },
     "execution_count": 431,
     "metadata": {},
     "output_type": "execute_result"
    },
    {
     "data": {
      "image/png": "[encoded data removed]",
      "text/plain": [
       "<Figure size 432x288 with 1 Axes>"
      ]
     },
     "metadata": {
      "needs_background": "light"
     },
     "output_type": "display_data"
    }
   ],
   "source": [
    "ax = df[df['Style'].str.contains(\"IPA\",na=False)].groupby(by='Style').median('IBUs').hist('IBUs')\n",
    "\n",
    "df[df['Style'].isin(list)].groupby(by='Style').median('IBUs').hist('IBUs',ax=ax)\n",
    "\n",
    "# side by side works?"
   ]
  },
  {
   "cell_type": "markdown",
   "metadata": {},
   "source": [
    "## Compare the ABV of wheat beers vs. IPAs : their IBUs were really different, but how about their alcohol percentage?\n",
    "\n",
    "Wheat beers might include witbier, hefeweizen, American Pale Wheat Ale, and anything else you think is wheaty. IPAs probably have \"IPA\" in their name."
   ]
  },
  {
   "cell_type": "code",
   "execution_count": 432,
   "metadata": {},
   "outputs": [
    {
     "data": {
      "text/plain": [
       "array(['Abbey Single Ale', 'Altbier', 'American Adjunct Lager',\n",
       "       'American Amber / Red Ale', 'American Amber / Red Lager',\n",
       "       'American Barleywine', 'American Black Ale', 'American Blonde Ale',\n",
       "       'American Brown Ale', 'American Dark Wheat Ale',\n",
       "       'American Double / Imperial IPA',\n",
       "       'American Double / Imperial Pilsner',\n",
       "       'American Double / Imperial Stout', 'American IPA',\n",
       "       'American India Pale Lager', 'American Malt Liquor',\n",
       "       'American Pale Ale (APA)', 'American Pale Lager',\n",
       "       'American Pale Wheat Ale', 'American Pilsner', 'American Porter',\n",
       "       'American Stout', 'American Strong Ale', 'American White IPA',\n",
       "       'American Wild Ale', 'Baltic Porter', 'Belgian Dark Ale',\n",
       "       'Belgian IPA', 'Belgian Pale Ale', 'Belgian Strong Dark Ale',\n",
       "       'Belgian Strong Pale Ale', 'Berliner Weissbier', 'Bière de Garde',\n",
       "       'Bock', 'Braggot', 'California Common / Steam Beer', 'Chile Beer',\n",
       "       'Cider', 'Cream Ale', 'Czech Pilsener', 'Doppelbock',\n",
       "       'Dortmunder / Export Lager', 'Dubbel', 'Dunkelweizen',\n",
       "       'English Barleywine', 'English Bitter', 'English Brown Ale',\n",
       "       'English Dark Mild Ale', 'English India Pale Ale (IPA)',\n",
       "       'English Pale Ale', 'English Pale Mild Ale', 'English Stout',\n",
       "       'English Strong Ale', 'Euro Dark Lager', 'Euro Pale Lager',\n",
       "       'Extra Special / Strong Bitter (ESB)', 'Flanders Oud Bruin',\n",
       "       'Flanders Red Ale', 'Foreign / Export Stout',\n",
       "       'Fruit / Vegetable Beer', 'German Pilsener', 'Gose', 'Grisette',\n",
       "       'Hefeweizen', 'Herbed / Spiced Beer', 'Irish Dry Stout',\n",
       "       'Irish Red Ale', 'Keller Bier / Zwickel Bier', 'Kristalweizen',\n",
       "       'Kölsch', 'Light Lager', 'Low Alcohol Beer',\n",
       "       'Maibock / Helles Bock', 'Mead', 'Milk / Sweet Stout',\n",
       "       'Munich Dunkel Lager', 'Munich Helles Lager',\n",
       "       'Märzen / Oktoberfest', 'Oatmeal Stout', 'Old Ale', 'Other',\n",
       "       'Pumpkin Ale', 'Quadrupel (Quad)', 'Radler', 'Rauchbier',\n",
       "       'Roggenbier', 'Russian Imperial Stout', 'Rye Beer',\n",
       "       'Saison / Farmhouse Ale', 'Schwarzbier', 'Scotch Ale / Wee Heavy',\n",
       "       'Scottish Ale', 'Shandy', 'Smoked Beer', 'Tripel', 'Vienna Lager',\n",
       "       'Wheat Ale', 'Winter Warmer', 'Witbier', nan], dtype=object)"
      ]
     },
     "execution_count": 432,
     "metadata": {},
     "output_type": "execute_result"
    }
   ],
   "source": [
    "df['Style'].sort_values().unique()"
   ]
  },
  {
   "cell_type": "code",
   "execution_count": 443,
   "metadata": {},
   "outputs": [],
   "source": [
    "ABV_list= ['IPA','Hefeweizen','American Pale Wheat Ale','Wheat']\n",
    "\n",
    "# transform to regex\n",
    "ABV_list = '|'.join(ABV_list)\n",
    "\n",
    "ipa_wit = df[df['Style'].str.contains(ABV_list,na=False)]"
   ]
  },
  {
   "cell_type": "code",
   "execution_count": 454,
   "metadata": {},
   "outputs": [
    {
     "name": "stderr",
     "output_type": "stream",
     "text": [
      "<ipython-input-454-c62e971d241d>:1: SettingWithCopyWarning:\n",
      "\n",
      "\n",
      "A value is trying to be set on a copy of a slice from a DataFrame.\n",
      "Try using .loc[row_indexer,col_indexer] = value instead\n",
      "\n",
      "See the caveats in the documentation: https://pandas.pydata.org/pandas-docs/stable/user_guide/indexing.html#returning-a-view-versus-a-copy\n",
      "\n"
     ]
    },
    {
     "data": {
      "text/html": [
       "<div>\n",
       "<style scoped>\n",
       "    .dataframe tbody tr th:only-of-type {\n",
       "        vertical-align: middle;\n",
       "    }\n",
       "\n",
       "    .dataframe tbody tr th {\n",
       "        vertical-align: top;\n",
       "    }\n",
       "\n",
       "    .dataframe thead th {\n",
       "        text-align: right;\n",
       "    }\n",
       "</style>\n",
       "<table border=\"1\" class=\"dataframe\">\n",
       "  <thead>\n",
       "    <tr style=\"text-align: right;\">\n",
       "      <th></th>\n",
       "      <th>Beer</th>\n",
       "      <th>Brewery</th>\n",
       "      <th>Location</th>\n",
       "      <th>Style</th>\n",
       "      <th>Size</th>\n",
       "      <th>ABV</th>\n",
       "      <th>IBUs</th>\n",
       "      <th>city</th>\n",
       "      <th>state</th>\n",
       "      <th>Style_Type</th>\n",
       "    </tr>\n",
       "  </thead>\n",
       "  <tbody>\n",
       "    <tr>\n",
       "      <th>313</th>\n",
       "      <td>Mr. Blue Sky</td>\n",
       "      <td>Griffin Claw Brewing Company</td>\n",
       "      <td>Birmingham, MI</td>\n",
       "      <td>American Pale Wheat Ale</td>\n",
       "      <td>16 oz.</td>\n",
       "      <td>4.5</td>\n",
       "      <td>6.0</td>\n",
       "      <td>Birmingham</td>\n",
       "      <td>MI</td>\n",
       "      <td>Wheat</td>\n",
       "    </tr>\n",
       "    <tr>\n",
       "      <th>1842</th>\n",
       "      <td>Point Nude Beach Summer Wheat (2011)</td>\n",
       "      <td>Stevens Point Brewery</td>\n",
       "      <td>Stevens Point, WI</td>\n",
       "      <td>American Pale Wheat Ale</td>\n",
       "      <td>12 oz.</td>\n",
       "      <td>5.0</td>\n",
       "      <td>7.0</td>\n",
       "      <td>Stevens Point</td>\n",
       "      <td>WI</td>\n",
       "      <td>Wheat</td>\n",
       "    </tr>\n",
       "    <tr>\n",
       "      <th>1505</th>\n",
       "      <td>Samuel Adams Summer Ale</td>\n",
       "      <td>Boston Beer Company</td>\n",
       "      <td>Boston, MA</td>\n",
       "      <td>American Pale Wheat Ale</td>\n",
       "      <td>12 oz.</td>\n",
       "      <td>5.3</td>\n",
       "      <td>7.0</td>\n",
       "      <td>Boston</td>\n",
       "      <td>MA</td>\n",
       "      <td>Wheat</td>\n",
       "    </tr>\n",
       "    <tr>\n",
       "      <th>1426</th>\n",
       "      <td>Point Nude Beach Summer Wheat</td>\n",
       "      <td>Stevens Point Brewery</td>\n",
       "      <td>Stevens Point, WI</td>\n",
       "      <td>American Pale Wheat Ale</td>\n",
       "      <td>16 oz.</td>\n",
       "      <td>5.2</td>\n",
       "      <td>7.0</td>\n",
       "      <td>Stevens Point</td>\n",
       "      <td>WI</td>\n",
       "      <td>Wheat</td>\n",
       "    </tr>\n",
       "    <tr>\n",
       "      <th>1801</th>\n",
       "      <td>Point Nude Beach Summer Wheat</td>\n",
       "      <td>Stevens Point Brewery</td>\n",
       "      <td>Stevens Point, WI</td>\n",
       "      <td>American Pale Wheat Ale</td>\n",
       "      <td>12 oz.</td>\n",
       "      <td>5.0</td>\n",
       "      <td>7.0</td>\n",
       "      <td>Stevens Point</td>\n",
       "      <td>WI</td>\n",
       "      <td>Wheat</td>\n",
       "    </tr>\n",
       "    <tr>\n",
       "      <th>...</th>\n",
       "      <td>...</td>\n",
       "      <td>...</td>\n",
       "      <td>...</td>\n",
       "      <td>...</td>\n",
       "      <td>...</td>\n",
       "      <td>...</td>\n",
       "      <td>...</td>\n",
       "      <td>...</td>\n",
       "      <td>...</td>\n",
       "      <td>...</td>\n",
       "    </tr>\n",
       "    <tr>\n",
       "      <th>2341</th>\n",
       "      <td>Epic IPA</td>\n",
       "      <td>Mammoth Brewing Company</td>\n",
       "      <td>Mammoth Lakes, CA</td>\n",
       "      <td>American IPA</td>\n",
       "      <td>12 oz.</td>\n",
       "      <td>6.5</td>\n",
       "      <td>NaN</td>\n",
       "      <td>Mammoth Lakes</td>\n",
       "      <td>CA</td>\n",
       "      <td>IPA</td>\n",
       "    </tr>\n",
       "    <tr>\n",
       "      <th>2344</th>\n",
       "      <td>Sunshine Wheat Beer (2009)</td>\n",
       "      <td>New Belgium Brewing Company</td>\n",
       "      <td>Fort Collins, CO</td>\n",
       "      <td>American Pale Wheat Ale</td>\n",
       "      <td>12 oz.</td>\n",
       "      <td>4.8</td>\n",
       "      <td>NaN</td>\n",
       "      <td>Fort Collins</td>\n",
       "      <td>CO</td>\n",
       "      <td>Wheat</td>\n",
       "    </tr>\n",
       "    <tr>\n",
       "      <th>2364</th>\n",
       "      <td>Heinnieweisse Weissebier</td>\n",
       "      <td>Butternuts Beer and Ale</td>\n",
       "      <td>Garrattsville, NY</td>\n",
       "      <td>Hefeweizen</td>\n",
       "      <td>12 oz.</td>\n",
       "      <td>4.9</td>\n",
       "      <td>NaN</td>\n",
       "      <td>Garrattsville</td>\n",
       "      <td>NY</td>\n",
       "      <td>Wheat</td>\n",
       "    </tr>\n",
       "    <tr>\n",
       "      <th>2365</th>\n",
       "      <td>Snapperhead IPA</td>\n",
       "      <td>Butternuts Beer and Ale</td>\n",
       "      <td>Garrattsville, NY</td>\n",
       "      <td>American IPA</td>\n",
       "      <td>12 oz.</td>\n",
       "      <td>6.8</td>\n",
       "      <td>NaN</td>\n",
       "      <td>Garrattsville</td>\n",
       "      <td>NY</td>\n",
       "      <td>IPA</td>\n",
       "    </tr>\n",
       "    <tr>\n",
       "      <th>2379</th>\n",
       "      <td>Sea Hag IPA (Current)</td>\n",
       "      <td>New England Brewing Company</td>\n",
       "      <td>Woodbridge, CT</td>\n",
       "      <td>American IPA</td>\n",
       "      <td>12 oz.</td>\n",
       "      <td>6.2</td>\n",
       "      <td>NaN</td>\n",
       "      <td>Woodbridge</td>\n",
       "      <td>CT</td>\n",
       "      <td>IPA</td>\n",
       "    </tr>\n",
       "  </tbody>\n",
       "</table>\n",
       "<p>716 rows × 10 columns</p>\n",
       "</div>"
      ],
      "text/plain": [
       "                                      Beer                       Brewery  \\\n",
       "313                           Mr. Blue Sky  Griffin Claw Brewing Company   \n",
       "1842  Point Nude Beach Summer Wheat (2011)         Stevens Point Brewery   \n",
       "1505               Samuel Adams Summer Ale           Boston Beer Company   \n",
       "1426         Point Nude Beach Summer Wheat         Stevens Point Brewery   \n",
       "1801         Point Nude Beach Summer Wheat         Stevens Point Brewery   \n",
       "...                                    ...                           ...   \n",
       "2341                              Epic IPA       Mammoth Brewing Company   \n",
       "2344            Sunshine Wheat Beer (2009)   New Belgium Brewing Company   \n",
       "2364              Heinnieweisse Weissebier       Butternuts Beer and Ale   \n",
       "2365                       Snapperhead IPA       Butternuts Beer and Ale   \n",
       "2379                 Sea Hag IPA (Current)   New England Brewing Company   \n",
       "\n",
       "               Location                    Style    Size  ABV  IBUs  \\\n",
       "313      Birmingham, MI  American Pale Wheat Ale  16 oz.  4.5   6.0   \n",
       "1842  Stevens Point, WI  American Pale Wheat Ale  12 oz.  5.0   7.0   \n",
       "1505         Boston, MA  American Pale Wheat Ale  12 oz.  5.3   7.0   \n",
       "1426  Stevens Point, WI  American Pale Wheat Ale  16 oz.  5.2   7.0   \n",
       "1801  Stevens Point, WI  American Pale Wheat Ale  12 oz.  5.0   7.0   \n",
       "...                 ...                      ...     ...  ...   ...   \n",
       "2341  Mammoth Lakes, CA             American IPA  12 oz.  6.5   NaN   \n",
       "2344   Fort Collins, CO  American Pale Wheat Ale  12 oz.  4.8   NaN   \n",
       "2364  Garrattsville, NY               Hefeweizen  12 oz.  4.9   NaN   \n",
       "2365  Garrattsville, NY             American IPA  12 oz.  6.8   NaN   \n",
       "2379     Woodbridge, CT             American IPA  12 oz.  6.2   NaN   \n",
       "\n",
       "               city state Style_Type  \n",
       "313      Birmingham    MI      Wheat  \n",
       "1842  Stevens Point    WI      Wheat  \n",
       "1505         Boston    MA      Wheat  \n",
       "1426  Stevens Point    WI      Wheat  \n",
       "1801  Stevens Point    WI      Wheat  \n",
       "...             ...   ...        ...  \n",
       "2341  Mammoth Lakes    CA        IPA  \n",
       "2344   Fort Collins    CO      Wheat  \n",
       "2364  Garrattsville    NY      Wheat  \n",
       "2365  Garrattsville    NY        IPA  \n",
       "2379     Woodbridge    CT        IPA  \n",
       "\n",
       "[716 rows x 10 columns]"
      ]
     },
     "execution_count": 454,
     "metadata": {},
     "output_type": "execute_result"
    }
   ],
   "source": [
    "ipa_wit['Style_Type'] = np.where((ipa_wit.Style.str.contains('IPA')), 'IPA', 'Wheat')\n",
    "\n",
    "ipa_wit.sort_values(by='IBUs')"
   ]
  },
  {
   "cell_type": "code",
   "execution_count": 459,
   "metadata": {},
   "outputs": [
    {
     "data": {
      "application/vnd.plotly.v1+json": {
       "config": {
        "plotlyServerURL": "https://plot.ly"
       },
       "data": [
        {
         "customdata": [
          [
           "Get Together"
          ],
          [
           "Citra Ass Down"
          ],
          [
           "Rico Sauvin"
          ],
          [
           "Pile of Face"
          ],
          [
           "Habitus (2014)"
          ],
          [
           "Solis"
          ],
          [
           "Habitus"
          ],
          [
           "Villager"
          ],
          [
           "HopArt"
          ],
          [
           "Boy King"
          ],
          [
           "Rumble"
          ],
          [
           "Lasso"
          ],
          [
           "Titan IPA"
          ],
          [
           "Nordskye"
          ],
          [
           "98 Problems (Cuz A Hop Ain't One)"
          ],
          [
           "Grapefruit IPA"
          ],
          [
           "Train Hopper"
          ],
          [
           "Thai.p.a"
          ],
          [
           "The 26th"
          ],
          [
           "The Gadget"
          ],
          [
           "Galaxyfest"
          ],
          [
           "Citrafest"
          ],
          [
           "Gone A-Rye"
          ],
          [
           "Linnaeus Mango IPA"
          ],
          [
           "Heavy Lifting"
          ],
          [
           "Grapefruit Sculpin"
          ],
          [
           "Liberty Ale"
          ],
          [
           "Raja"
          ],
          [
           "Galaxy IPA"
          ],
          [
           "Mosaic Single Hop IPA"
          ],
          [
           "Lost Galaxy"
          ],
          [
           "Jah Mon"
          ],
          [
           "IPA"
          ],
          [
           "Hop Session"
          ],
          [
           "Easy Jack"
          ],
          [
           "Flying Mouse 4"
          ],
          [
           "Moar"
          ],
          [
           "Uber Lupin Schwarz IPA"
          ],
          [
           "Todd the Axe Man"
          ],
          [
           "Barrel Aged Triomphe"
          ],
          [
           "Citra Ass Down"
          ],
          [
           "Monkey Dancing On A Razor Blade"
          ],
          [
           "Vinyl Frontier"
          ],
          [
           "Disco Superfly"
          ],
          [
           "Misty Mountain Hop"
          ],
          [
           "One-Hit Wonderful"
          ],
          [
           "Love In An Ellavator"
          ],
          [
           "Soul Doubt"
          ],
          [
           "Bimini Twist"
          ],
          [
           "Pump House IPA"
          ],
          [
           "Suicide Blonde IPA"
          ],
          [
           "Long Leaf"
          ],
          [
           "Double Duckpin"
          ],
          [
           "Hop A-Peel"
          ],
          [
           "Nuit Serpent"
          ],
          [
           "Wobble"
          ],
          [
           "I.P. Eh!"
          ],
          [
           "Baby Daddy Session IPA"
          ],
          [
           "The Grand Army"
          ],
          [
           "Slow Ride"
          ],
          [
           "Hopkick Dropkick"
          ],
          [
           "Ryecoe"
          ],
          [
           "Union Jack"
          ],
          [
           "India Pale Ale"
          ],
          [
           "Chupahopra"
          ],
          [
           "Galaxy High"
          ],
          [
           "Self Starter"
          ],
          [
           "Reactor"
          ],
          [
           "Mission IPA"
          ],
          [
           "Bay of Bengal Double IPA (2014)"
          ],
          [
           "Newport Storm IPA"
          ],
          [
           "White Reaper"
          ],
          [
           "Clean Shave IPA"
          ],
          [
           "Big Star White IPA"
          ],
          [
           "Firestarter India Pale Ale"
          ],
          [
           "Back Bay IPA"
          ],
          [
           "4000 Footer IPA"
          ],
          [
           "Unchained #18 Hop Silo"
          ],
          [
           "Harness the Winter"
          ],
          [
           "Welcome to Scoville"
          ],
          [
           "Rule G IPA"
          ],
          [
           "Yellow Wolf Imperial IPA"
          ],
          [
           "IPA #11"
          ],
          [
           "The Green Room"
          ],
          [
           "Hop Ryot"
          ],
          [
           "2014 IPA Cicada Series"
          ],
          [
           "Sinister Minister Black IPA"
          ],
          [
           "O’Malley’s IPA"
          ],
          [
           "Charlie's Rye IPA"
          ],
          [
           "Watershed IPA"
          ],
          [
           "Ultra Gnar Gnar IPA"
          ],
          [
           "Hoodoo Voodoo IPA"
          ],
          [
           "Hopportunity Knocks IPA"
          ],
          [
           "Camelback"
          ],
          [
           "Homefront IPA"
          ],
          [
           "Pinner Throwback IPA"
          ],
          [
           "Mango Ginger"
          ],
          [
           "Little Sister India Style Session Ale"
          ],
          [
           "Mastermind"
          ],
          [
           "Divided Sky"
          ],
          [
           "Resurrected"
          ],
          [
           "Rise of the Phoenix"
          ],
          [
           "Sinister"
          ],
          [
           "Sex and Candy"
          ],
          [
           "Flower Child (2014)"
          ],
          [
           "Salamander Slam"
          ],
          [
           "Molotov Lite"
          ],
          [
           "Torpedo"
          ],
          [
           "Day Hike Session"
          ],
          [
           "Ranger IPA"
          ],
          [
           "Flyin' Rye"
          ],
          [
           "Scarecrow"
          ],
          [
           "Lil' Helper"
          ],
          [
           "Bitter Biker Double IPA"
          ],
          [
           "Hopworks IPA"
          ],
          [
           "Goose Island India Pale Ale"
          ],
          [
           "Worthy IPA"
          ],
          [
           "Campside Session IPA"
          ],
          [
           "Tsunami IPA"
          ],
          [
           "Tsunami IPA"
          ],
          [
           "Mound Builder IPA"
          ],
          [
           "The Optimist"
          ],
          [
           "Amazon Princess IPA"
          ],
          [
           "Dream Crusher Double IPA"
          ],
          [
           "Sucha Much IPA"
          ],
          [
           "City of the Sun"
          ],
          [
           "3:33 Black IPA"
          ],
          [
           "Booming Rollers"
          ],
          [
           "Beyond The Pale IPA"
          ],
          [
           "#002 American I.P.A."
          ],
          [
           "#004 Session I.P.A."
          ],
          [
           "Norm's Raggedy Ass IPA"
          ],
          [
           "Working for the Weekend"
          ],
          [
           "Cone Crusher"
          ],
          [
           "More Cowbell"
          ],
          [
           "The Imperial Texan"
          ],
          [
           "Brutus"
          ],
          [
           "1916 Shore Shiver"
          ],
          [
           "Even Keel"
          ],
          [
           "Arcus IPA"
          ],
          [
           "Pleasure Town"
          ],
          [
           "BRIPA"
          ],
          [
           "Bengali"
          ],
          [
           "Hop Stalker Fresh Hop IPA"
          ],
          [
           "W.I.P.A Snappa"
          ],
          [
           "No Wake IPA"
          ],
          [
           "MCA"
          ],
          [
           "Dead-Eye DIPA"
          ],
          [
           "Fisherman's IPA"
          ],
          [
           "Count Hopula (Vault Series)"
          ],
          [
           "Palate Mallet"
          ],
          [
           "Dankosaurus"
          ],
          [
           "Dayman IPA"
          ],
          [
           "Captain's Daughter"
          ],
          [
           "Infamous IPA"
          ],
          [
           "South Bay Session IPA"
          ],
          [
           "Tropicalia"
          ],
          [
           "Hyzer Flip"
          ],
          [
           "Pursuit"
          ],
          [
           "Vertex IPA"
          ],
          [
           "Operation Homefront"
          ],
          [
           "Happening Now"
          ],
          [
           "Norm's Gateway IPA"
          ],
          [
           "Barrio Blanco"
          ],
          [
           "Escape to Colorado"
          ],
          [
           "Giant DIPA"
          ],
          [
           "Fistful Of Hops Red"
          ],
          [
           "Fistful of Hops Orange"
          ],
          [
           "Fistful Of Hops Blue"
          ],
          [
           "Fistful of Hops Green"
          ],
          [
           "Two Hearted"
          ],
          [
           "Hardcore Chimera"
          ],
          [
           "Troll Destroyer"
          ],
          [
           "Texas Pale Ale (TPA)"
          ],
          [
           "Sky-Five"
          ],
          [
           "Ghost Ship White IPA"
          ],
          [
           "Dragonfly IPA"
          ],
          [
           "30 Min Coma"
          ],
          [
           "Tree Bucket"
          ],
          [
           "Incredible Pedal IPA"
          ],
          [
           "Rudie Session IPA"
          ],
          [
           "077XX"
          ],
          [
           "Gatecrasher"
          ],
          [
           "Almanac IPA"
          ],
          [
           "Missile IPA"
          ],
          [
           "Thai Style White IPA"
          ],
          [
           "Second Fiddle"
          ],
          [
           "Long Trail IPA"
          ],
          [
           "Trader Session IPA"
          ],
          [
           "Left of the Dial IPA"
          ],
          [
           "The Crusher"
          ],
          [
           "40 Mile IPA"
          ],
          [
           "Suicide Squeeze IPA"
          ],
          [
           "Fresh Slice White IPA"
          ],
          [
           "Let It Ride IPA"
          ],
          [
           "Bent Hop Golden IPA"
          ],
          [
           "Lost Sailor IPA"
          ],
          [
           "Blackmarket Rye IPA"
          ],
          [
           "Groupe G"
          ],
          [
           "Hill 88 Double IPA"
          ],
          [
           "Longhop IPA"
          ],
          [
           "Hoperation Overload"
          ],
          [
           "Thrasher Session India Pale Ale"
          ],
          [
           "Hop Freak"
          ],
          [
           "Hop Lace"
          ],
          [
           "El Chingon IPA"
          ],
          [
           "Saint Archer IPA"
          ],
          [
           "Supergoose IPA"
          ],
          [
           "IPA & a Half"
          ],
          [
           "Blue Boots IPA"
          ],
          [
           "Truth"
          ],
          [
           "Wachusett Light IPA"
          ],
          [
           "Green Monsta IPA"
          ],
          [
           "Wachusett IPA"
          ],
          [
           "Hop Farm IPA"
          ],
          [
           "Our Legacy IPA"
          ],
          [
           "Squatters Hop Rising Double IPA"
          ],
          [
           "Wasatch Ghostrider White IPA"
          ],
          [
           "Bitter Biker Double IPA"
          ],
          [
           "Spiteful IPA"
          ],
          [
           "Pleasure Town IPA"
          ],
          [
           "Quarter Mile Double IPA"
          ],
          [
           "Focal Banger"
          ],
          [
           "Hoptopus Double IPA"
          ],
          [
           "Java the Hop"
          ],
          [
           "Last Stop IPA"
          ],
          [
           "Filthy Hoppin' IPA"
          ],
          [
           "Half Court IPA"
          ],
          [
           "Appreciation Ale"
          ],
          [
           "Toughcats IPA"
          ],
          [
           "Kiss Off IPA"
          ],
          [
           "2020 IPA"
          ],
          [
           "Jacaranada Rye IPA"
          ],
          [
           "Lil SIPA"
          ],
          [
           "Golden Ratio IPA"
          ],
          [
           "Hemlock Double IPA"
          ],
          [
           "GreyBeard™ IPA"
          ],
          [
           "County Line IPA"
          ],
          [
           "Juke Joint IPA"
          ],
          [
           "Heyoka IPA"
          ],
          [
           "Icey.P.A."
          ],
          [
           "Birth IPA"
          ],
          [
           "Just IPA"
          ],
          [
           "Firewater India Pale Ale"
          ],
          [
           "Red Cockaded Ale"
          ],
          [
           "Hopped on the High Seas (Hop #529)"
          ],
          [
           "Hopped on the High Seas (Calypso)"
          ],
          [
           "Hop Nosh IPA"
          ],
          [
           "Big Sky IPA"
          ],
          [
           "SweetWater IPA"
          ],
          [
           "Great Crescent IPA"
          ],
          [
           "Wolf Among Weeds IPA"
          ],
          [
           "Be Hoppy IPA"
          ],
          [
           "Hi-Res"
          ],
          [
           "Dry-Hopped On The High Seas Caribbean-Style IPA"
          ],
          [
           "Hopped on the High Seas (Citra)"
          ],
          [
           "Hopped on the High Seas (Ahtanum)"
          ],
          [
           "Irregardless IPA"
          ],
          [
           "Category 3 IPA"
          ],
          [
           "Hula Hoppie Session IPA"
          ],
          [
           "Wasatch Ghostrider White IPA (2014)"
          ],
          [
           "Squatters Hop Rising Double IPA (2014)"
          ],
          [
           "The Great Return"
          ],
          [
           "Troopers Alley IPA"
          ],
          [
           "Madra Allta"
          ],
          [
           "Chaotic Double IPA"
          ],
          [
           "Manzanita IPA"
          ],
          [
           "King Street IPA"
          ],
          [
           "Trailhead ISA"
          ],
          [
           "Evo IPA"
          ],
          [
           "Double Dagger Imperial IPA"
          ],
          [
           "The Long Thaw White IPA"
          ],
          [
           "White Cap White IPA"
          ],
          [
           "Lucky Day IPA"
          ],
          [
           "Terrace Hill Double IPA"
          ],
          [
           "Better Weather IPA"
          ],
          [
           "Aslan IPA"
          ],
          [
           "Rebel IPA"
          ],
          [
           "Manayunk IPA"
          ],
          [
           "Lift Off IPA"
          ],
          [
           "Hop Drop 'N Roll IPA"
          ],
          [
           "Hop Slayer Double IPA"
          ],
          [
           "Better Half"
          ],
          [
           "Half Cycle IPA"
          ],
          [
           "Initial Point India Pale Ale"
          ],
          [
           "Good Vibes IPA"
          ],
          [
           "Dagger Falls IPA"
          ],
          [
           "Dagger Falls IPA"
          ],
          [
           "Autumnation (2013)"
          ],
          [
           "PONTO S.I.P.A."
          ],
          [
           "RoughTail IPA"
          ],
          [
           "KelSo India Pale Ale"
          ],
          [
           "Mad Manatee IPA"
          ],
          [
           "Centennial IPA"
          ],
          [
           "Double Trunk"
          ],
          [
           "Batch 69 IPA"
          ],
          [
           "Charlie in the Rye"
          ],
          [
           "Farmer Wirtz India Pale Ale"
          ],
          [
           "Proxima IPA"
          ],
          [
           "Monkey Fist IPA"
          ],
          [
           "G'KNIGHT"
          ],
          [
           "Modus Hoperandi"
          ],
          [
           "Pink-I Raspberry IPA"
          ],
          [
           "3-Way IPA (2013)"
          ],
          [
           "Lights Out Vanilla Cream Extra Stout"
          ],
          [
           "Worthy IPA (2013)"
          ],
          [
           "Perpetual IPA"
          ],
          [
           "Miami Vice IPA"
          ],
          [
           "Country Boy IPA"
          ],
          [
           "Green House India Pale Ale"
          ],
          [
           "Super G IPA"
          ],
          [
           "Valkyrie Double IPA"
          ],
          [
           "Point the Way IPA"
          ],
          [
           "51K IPA"
          ],
          [
           "Damnesia"
          ],
          [
           "Ananda India Pale Ale"
          ],
          [
           "Shipwrecked Double IPA"
          ],
          [
           "Moirai India Pale Ale"
          ],
          [
           "Overlord Imperial IPA"
          ],
          [
           "Hopnoxious Imperial IPA"
          ],
          [
           "Trebuchet Double IPA"
          ],
          [
           "F5 IPA"
          ],
          [
           "Boat Beer"
          ],
          [
           "Wood Chipper India Pale Ale"
          ],
          [
           "Hat Trick Hop IPA"
          ],
          [
           "Grapefruit Jungle (GFJ)"
          ],
          [
           "Larry Imperial IPA"
          ],
          [
           "Mind's Eye PA"
          ],
          [
           "Big Eye India Pale Ale"
          ],
          [
           "Heal the Bay IPA"
          ],
          [
           "Pigwar White India Pale Ale"
          ],
          [
           "Laughing Dog IPA"
          ],
          [
           "Bengali Tiger"
          ],
          [
           "Elephant Rock IPA"
          ],
          [
           "Crank Yanker IPA"
          ],
          [
           "Harpoon IPA"
          ],
          [
           "Casinos IPA"
          ],
          [
           "Alphadelic IPA"
          ],
          [
           "Habitus IPA"
          ],
          [
           "Dreamin' Double IPA"
          ],
          [
           "Deviant Dale's IPA"
          ],
          [
           "Hop Ottin' IPA"
          ],
          [
           "Green Bullet Organic India Pale Ale"
          ],
          [
           "Pernicious Double IPA"
          ],
          [
           "Upslope Imperial India Pale Ale"
          ],
          [
           "Face Plant IPA"
          ],
          [
           "Paleo IPA"
          ],
          [
           "Blur India Pale Ale"
          ],
          [
           "Supermonk I.P.A."
          ],
          [
           "Point the Way IPA"
          ],
          [
           "Bozone HopZone IPA"
          ],
          [
           "Bikini Beer"
          ],
          [
           "Nice Rack IPA"
          ],
          [
           "East India Pale Ale"
          ],
          [
           "Old Grogham Imperial India Pale Ale"
          ],
          [
           "5 Day IPA"
          ],
          [
           "Bad Axe Imperial IPA"
          ],
          [
           "JP's Ould Sod Irish Red IPA"
          ],
          [
           "Duluchan India Pale Ale"
          ],
          [
           "Big Nose"
          ],
          [
           "The Imperial Texan"
          ],
          [
           "Dodgy Knight Imperial IPA"
          ],
          [
           "Hoppy Bitch IPA"
          ],
          [
           "Dank IPA"
          ],
          [
           "All Day IPA"
          ],
          [
           "Cropduster Mid-American IPA"
          ],
          [
           "360° India Pale Ale"
          ],
          [
           "Red Clay IPA"
          ],
          [
           "Northern Lights India Pale Ale"
          ],
          [
           "Indian Paintbrush IPA"
          ],
          [
           "Swami's India Pale Ale"
          ],
          [
           "Honeyspot Road White IPA"
          ],
          [
           "Mutiny IPA"
          ],
          [
           "Redacted Rye IPA"
          ],
          [
           "77 Fremont Select Spring Session IPA"
          ],
          [
           "Evolutionary IPA (2012)"
          ],
          [
           "Road 2 Ruin Double IPA"
          ],
          [
           "La Frontera Premium IPA"
          ],
          [
           "Kentucky IPA"
          ],
          [
           "Nebraska India Pale Ale"
          ],
          [
           "Humidor Series India Pale Ale"
          ],
          [
           "Jai Alai IPA Aged on White Oak"
          ],
          [
           "Our Legacy IPA"
          ],
          [
           "Misty Mountain IPA"
          ],
          [
           "Psychopathy"
          ],
          [
           "MechaHopzilla"
          ],
          [
           "Overrated! West Coast Style IPA"
          ],
          [
           "Heady Topper"
          ],
          [
           "Descender IPA"
          ],
          [
           "Old Wylie's IPA"
          ],
          [
           "Hop Notch IPA (2013)"
          ],
          [
           "Hop Happy"
          ],
          [
           "Schlafly IPA"
          ],
          [
           "Hop Shock IPA"
          ],
          [
           "Outlaw IPA"
          ],
          [
           "Wachusett Light IPA (2013)"
          ],
          [
           "Preservation IPA"
          ],
          [
           "N Street Drive-In 50th Anniversary IPA"
          ],
          [
           "Quaff India Style Session Ale"
          ],
          [
           "Sculpin IPA"
          ],
          [
           "Ethos IPA"
          ],
          [
           "Red Cockaded Ale (2013)"
          ],
          [
           "Elevation Triple India Pale Ale"
          ],
          [
           "Big Elm IPA"
          ],
          [
           "Watershed IPA (2013)"
          ],
          [
           "oSKAr the G'Rauch"
          ],
          [
           "oSKAr the G'Rauch"
          ],
          [
           "Loose Cannon"
          ],
          [
           "Bark Bite IPA"
          ],
          [
           "Backyahd IPA"
          ],
          [
           "Bitter Bitch Imperial IPA"
          ],
          [
           "Rude Parrot IPA"
          ],
          [
           "Des Moines IPA"
          ],
          [
           "Topcutter India Pale Ale"
          ],
          [
           "Dank IPA (2012)"
          ],
          [
           "Alloy"
          ],
          [
           "Twister Creek India Pale Ale"
          ],
          [
           "Long Hammer IPA"
          ],
          [
           "Deep Ellum IPA"
          ],
          [
           "Gangway IPA"
          ],
          [
           "Belgorado"
          ],
          [
           "Frankenlou's IPA"
          ],
          [
           "Green Head IPA"
          ],
          [
           "Odyssey Imperial IPA"
          ],
          [
           "Overbite IPA"
          ],
          [
           "Sea Hag IPA"
          ],
          [
           "Hop Abomination"
          ],
          [
           "Dagger Falls IPA"
          ],
          [
           "Interurban IPA"
          ],
          [
           "PRO-AM (2012) (2012)"
          ],
          [
           "On the Wings of Armageddon"
          ],
          [
           "Meat Wave"
          ],
          [
           "Marble India Pale Ale"
          ],
          [
           "Desolation IPA"
          ],
          [
           "Tempter IPA"
          ],
          [
           "Gordon Imperial Red (2010)"
          ],
          [
           "Gordon (2005)"
          ],
          [
           "21st Amendment IPA (2006)"
          ],
          [
           "Brew Free! or Die IPA (2008)"
          ],
          [
           "Brew Free! or Die IPA (2009)"
          ],
          [
           "Caldera IPA (2009)"
          ],
          [
           "Caldera IPA (2007)"
          ],
          [
           "Harpoon IPA (2012)"
          ],
          [
           "Hopluia (2004)"
          ],
          [
           "Ace IPA"
          ],
          [
           "Double Haul IPA (2009)"
          ],
          [
           "Double Haul IPA (2006)"
          ],
          [
           "Burning Bush Smoked IPA"
          ],
          [
           "Wolf Among Weeds IPA (2012)"
          ],
          [
           "Old Grogham Imperial India Pale Ale (2012)"
          ],
          [
           "Hop Slayer Double IPA (2011)"
          ],
          [
           "Gordon Beer (2006)"
          ],
          [
           "California Sunshine Rye IPA"
          ],
          [
           "G'KNIGHT (16 oz.)"
          ],
          [
           "Cant Dog Imperial Pale Ale"
          ],
          [
           "Rich Man's IIPA"
          ],
          [
           "Hog Wild India Pale Ale"
          ],
          [
           "Blue Point White IPA"
          ],
          [
           "Mystic Mama IPA"
          ],
          [
           "Saranac White IPA"
          ],
          [
           "Mjolnir Imperial IPA"
          ],
          [
           "Trebuchet Double IPA (2012)"
          ],
          [
           "Rodeo Clown Double IPA"
          ],
          [
           "Elevated IPA"
          ],
          [
           "TailGate IPA"
          ],
          [
           "TailGate IPA"
          ],
          [
           "Indie Pale Ale"
          ],
          [
           "Hopworks IPA (2012)"
          ],
          [
           "West Sixth IPA"
          ],
          [
           "Isis"
          ],
          [
           "Fairweather IPA"
          ],
          [
           "Johnny's American IPA"
          ],
          [
           "Outlaw IPA (2015)"
          ],
          [
           "Hoppy Boy"
          ],
          [
           "Monkeynaut IPA"
          ],
          [
           "Ryeteous Rye IPA (2012)"
          ],
          [
           "Firestarter India Pale Ale"
          ],
          [
           "House Brand IPA"
          ],
          [
           "Resin"
          ],
          [
           "Desert Magic IPA"
          ],
          [
           "Green Monsta IPA"
          ],
          [
           "Snake Dog IPA"
          ],
          [
           "Independence Pass Ale"
          ],
          [
           "Triangle India Pale Ale"
          ],
          [
           "Long Hammer IPA"
          ],
          [
           "Big Sky IPA (2012)"
          ],
          [
           "Westbrook IPA"
          ],
          [
           "East India Pale Ale"
          ],
          [
           "Deviant Dale's IPA"
          ],
          [
           "Ranger IPA"
          ],
          [
           "I-10 IPA"
          ],
          [
           "Point the Way IPA (2012)"
          ],
          [
           "Jai Alai IPA"
          ],
          [
           "Old Elephant Foot IPA"
          ],
          [
           "Big Cock IPA"
          ],
          [
           "Tour de Nez Belgian IPA (Current)"
          ],
          [
           "Grapefruit Jungle (GFJ) (2011)"
          ],
          [
           "Flagship IPA"
          ],
          [
           "Grand Circus IPA"
          ],
          [
           "Inclined Plane Ale"
          ],
          [
           "Jockamo IPA"
          ],
          [
           "Firewater India Pale Ale"
          ],
          [
           "Evolutionary IPA (2011)"
          ],
          [
           "Alphadelic IPA (2011)"
          ],
          [
           "Hopitoulas IPA"
          ],
          [
           "Trailhead India Style Session Ale (2011)"
          ],
          [
           "Threadless IPA"
          ],
          [
           "Missouri Mule India Pale Ale"
          ],
          [
           "Tumbleweed IPA"
          ],
          [
           "Hop Box Imperial IPA"
          ],
          [
           "Hopadillo India Pale Ale"
          ],
          [
           "Snaggletooth Double Pale Ale"
          ],
          [
           "Great Crescent IPA (2011)"
          ],
          [
           "Flyin' HI.P.Hay"
          ],
          [
           "Sockeye Red IPA"
          ],
          [
           "Hop Crisis"
          ],
          [
           "Hop Slayer Double IPA (2011)"
          ],
          [
           "Shiva IPA"
          ],
          [
           "Torpedo"
          ],
          [
           "Bengali Tiger (2011)"
          ],
          [
           "Anti-Hero IPA"
          ],
          [
           "Crank Yanker IPA (2011)"
          ],
          [
           "Pako’s EyePA"
          ],
          [
           "One Hit Wonder"
          ],
          [
           "G'KNIGHT (12 oz.)"
          ],
          [
           "Triomphe"
          ],
          [
           "Upstate I.P.W."
          ],
          [
           "Heady Topper"
          ],
          [
           "Northern Lights India Pale Ale"
          ],
          [
           "Hop Ottin' IPA (2011)"
          ],
          [
           "Hop Knot IPA"
          ],
          [
           "Lumberyard IPA"
          ],
          [
           "Sunken Island IPA"
          ],
          [
           "Fire Eagle IPA"
          ],
          [
           "Ponderosa IPA"
          ],
          [
           "WET"
          ],
          [
           "Gandhi-Bot Double IPA "
          ],
          [
           "Vortex IPA"
          ],
          [
           "Hop Shock IPA (2010)"
          ],
          [
           "Snake Handler Double IPA"
          ],
          [
           "Good People IPA"
          ],
          [
           "11th Hour IPA"
          ],
          [
           "Happy Camper IPA"
          ],
          [
           "Lucky U IPA"
          ],
          [
           "The Corruption"
          ],
          [
           "Stowaway IPA"
          ],
          [
           "Ice Pick Ale"
          ],
          [
           "Cornerstone IPA"
          ],
          [
           "Black Iron India Pale Ale"
          ],
          [
           "Harpoon IPA (2010)"
          ],
          [
           "Ranger IPA (Current)"
          ],
          [
           "Avery India Pale Ale"
          ],
          [
           "Oasis (2010)"
          ],
          [
           "Tallgrass IPA"
          ],
          [
           "Third Eye Pale Ale"
          ],
          [
           "Double Haul IPA"
          ],
          [
           "Upslope India Pale Ale"
          ],
          [
           "Epic IPA"
          ],
          [
           "Modus Hoperandi"
          ],
          [
           "Snapperhead IPA"
          ],
          [
           "Ballz Deep Double IPA"
          ],
          [
           "Gandhi-Bot Double IPA "
          ],
          [
           "Sea Hag IPA (Current)"
          ],
          [
           "Caldera IPA"
          ],
          [
           "Big Swell IPA"
          ],
          [
           "113 IPA"
          ],
          [
           "Abrasive Ale"
          ],
          [
           "Furious"
          ],
          [
           "Brew Free! or Die IPA"
          ],
          [
           "GUBNA Imperial IPA"
          ],
          [
           "Gordon Ale (2009)"
          ]
         ],
         "hovertemplate": "Style_Type=IPA<br>IBUs=%{x}<br>ABV=%{y}<br>Beer=%{customdata[0]}<extra></extra>",
         "legendgroup": "IPA",
         "marker": {
          "color": "#636efa",
          "symbol": "circle"
         },
         "mode": "markers",
         "name": "IPA",
         "orientation": "v",
         "showlegend": true,
         "type": "scatter",
         "x": [
          50,
          68,
          68,
          65,
          100,
          85,
          100,
          42,
          null,
          null,
          null,
          null,
          null,
          47,
          65,
          35,
          72,
          46,
          null,
          90,
          null,
          45,
          90,
          null,
          80,
          null,
          null,
          null,
          60,
          null,
          null,
          100,
          null,
          null,
          47,
          70,
          44,
          null,
          null,
          null,
          68,
          null,
          null,
          null,
          null,
          null,
          null,
          70,
          82,
          45,
          null,
          75,
          90,
          115,
          null,
          69,
          null,
          35,
          null,
          40,
          115,
          null,
          75,
          65,
          63,
          null,
          67,
          null,
          66,
          126,
          75,
          61,
          70,
          70,
          72,
          85,
          82,
          100,
          87,
          null,
          88,
          103,
          58,
          75,
          null,
          72,
          65,
          89,
          null,
          70,
          60,
          82,
          100,
          60,
          70,
          35,
          null,
          60,
          null,
          null,
          null,
          null,
          null,
          null,
          null,
          73,
          null,
          65,
          41,
          70,
          null,
          65,
          70,
          null,
          75,
          55,
          69,
          50,
          75,
          75,
          77,
          null,
          62,
          100,
          null,
          85,
          86,
          75,
          64,
          60,
          38,
          null,
          null,
          null,
          118,
          null,
          69,
          65,
          40,
          81,
          61,
          null,
          62,
          80,
          null,
          50,
          null,
          130,
          64,
          99,
          null,
          70,
          null,
          69,
          75,
          null,
          65,
          null,
          40,
          76,
          65,
          null,
          55,
          60,
          null,
          88,
          75,
          75,
          75,
          75,
          null,
          null,
          null,
          40,
          70,
          55,
          null,
          null,
          null,
          null,
          null,
          80,
          null,
          72,
          65,
          33,
          80,
          42,
          42,
          null,
          null,
          50,
          null,
          45,
          90,
          68,
          40,
          35,
          65,
          77,
          30,
          85,
          44,
          80,
          null,
          73,
          66,
          67,
          87,
          null,
          75,
          37,
          55,
          50,
          45,
          60,
          75,
          null,
          null,
          null,
          61,
          80,
          null,
          108,
          null,
          60,
          72,
          null,
          null,
          null,
          null,
          74,
          60,
          55,
          68,
          104,
          51,
          null,
          60,
          null,
          null,
          null,
          45,
          null,
          110,
          60,
          60,
          83,
          65,
          null,
          60,
          70,
          69,
          111,
          60,
          60,
          60,
          75,
          64,
          null,
          null,
          75,
          70,
          135,
          95,
          93,
          88,
          70,
          48,
          70,
          null,
          45,
          null,
          85,
          99,
          92,
          null,
          45,
          null,
          null,
          80,
          100,
          null,
          104,
          92,
          85,
          100,
          100,
          74,
          null,
          80,
          64,
          null,
          65,
          101,
          69,
          55,
          94,
          70,
          65,
          85,
          65,
          null,
          null,
          30,
          69,
          85,
          62,
          80,
          null,
          null,
          100,
          60,
          51,
          null,
          61,
          75,
          70,
          115,
          null,
          null,
          100,
          35,
          70,
          null,
          77,
          85,
          74,
          75,
          65,
          60,
          66,
          62,
          75,
          74,
          42,
          null,
          90,
          86,
          85,
          85,
          80,
          45,
          null,
          90,
          65,
          null,
          60,
          null,
          60,
          80,
          null,
          65,
          47,
          86,
          66,
          76,
          null,
          70,
          50,
          null,
          95,
          null,
          null,
          42,
          null,
          null,
          null,
          52,
          75,
          null,
          null,
          70,
          100,
          null,
          70,
          null,
          null,
          null,
          65,
          70,
          70,
          60,
          null,
          70,
          null,
          69,
          120,
          70,
          null,
          82,
          51,
          30,
          85,
          65,
          37,
          null,
          null,
          null,
          70,
          110,
          110,
          100,
          null,
          70,
          null,
          null,
          45,
          50,
          null,
          138,
          75,
          75,
          70,
          null,
          36,
          71,
          44,
          70,
          55,
          45,
          105,
          null,
          90,
          null,
          null,
          100,
          100,
          80,
          100,
          115,
          null,
          null,
          43,
          null,
          85,
          85,
          70,
          70,
          70,
          94,
          94,
          42,
          null,
          83,
          65,
          65,
          70,
          70,
          86,
          100,
          60,
          85,
          85,
          null,
          null,
          null,
          40,
          null,
          null,
          null,
          null,
          85,
          100,
          44,
          44,
          null,
          75,
          null,
          91,
          64,
          null,
          null,
          65,
          70,
          100,
          72,
          55,
          103,
          null,
          55,
          60,
          67,
          null,
          44,
          65,
          65,
          47,
          null,
          70,
          55,
          60,
          70,
          80,
          70,
          null,
          77,
          null,
          62,
          null,
          52,
          null,
          70,
          90,
          null,
          48,
          null,
          70,
          null,
          90,
          70,
          null,
          60,
          68,
          70,
          94,
          100,
          69,
          65,
          62,
          70,
          74,
          60,
          60,
          85,
          null,
          70,
          120,
          52,
          80,
          47,
          null,
          null,
          null,
          null,
          90,
          85,
          97,
          85,
          103,
          64,
          null,
          null,
          68,
          80,
          69,
          null,
          null,
          null,
          42,
          70,
          69,
          93,
          60,
          65,
          65,
          null,
          null,
          65,
          null,
          82,
          85,
          null,
          94,
          65,
          113,
          120,
          99,
          65,
          100,
          85
         ],
         "xaxis": "x",
         "y": [
          4.5,
          8,
          7.6,
          6,
          8,
          7.5,
          8,
          6.3,
          7.7,
          9.7,
          7.1,
          5,
          7.1,
          4.8,
          6.5,
          5,
          5.8,
          7,
          6,
          6.4,
          6.5,
          5,
          8.5,
          6,
          6.2,
          7,
          5.9,
          8,
          7.5,
          5.5,
          4.5,
          5,
          6.5,
          5,
          4.5,
          7,
          4.4,
          8.3,
          7.2,
          6.5,
          8.2,
          8.5,
          8.3,
          8,
          7.5,
          7.5,
          7.5,
          5.9,
          7,
          5.5,
          7,
          7.1,
          8.5,
          7.5,
          5,
          6.3,
          6.8,
          4.7,
          5.5,
          4.5,
          9.9,
          6.2,
          7.5,
          6.3,
          7.5,
          9.9,
          5.2,
          7,
          6.8,
          8.9,
          6.5,
          7,
          6.7,
          7,
          6.6,
          6.8,
          6.5,
          8.3,
          7.2,
          6.9,
          7,
          8.2,
          5.7,
          6,
          6.5,
          7.5,
          7.7,
          7.5,
          6,
          6.7,
          6.7,
          6.2,
          6.8,
          6.1,
          6,
          4.9,
          5.8,
          4.3,
          8.1,
          6.5,
          6.5,
          7.1,
          9,
          7.5,
          6.5,
          7,
          8.5,
          7.2,
          4.1,
          6.5,
          7,
          6.9,
          7,
          9.6,
          6.6,
          5.9,
          6.9,
          4.5,
          7.2,
          7.2,
          6.5,
          6.2,
          6.2,
          8.5,
          7.1,
          7.5,
          7.2,
          6.8,
          6.3,
          7.1,
          4.8,
          7.5,
          7.9,
          8.6,
          9,
          8,
          7.1,
          6.9,
          3.8,
          6.9,
          6.3,
          6.2,
          6.5,
          7,
          5.3,
          7.2,
          6.8,
          9,
          5.5,
          9.1,
          8.6,
          6.8,
          5,
          8.5,
          7,
          5,
          6.5,
          8.2,
          7,
          6.3,
          6.2,
          4.5,
          4,
          6,
          6.2,
          8.9,
          6.4,
          6.3,
          6.4,
          6.4,
          7,
          9,
          8.5,
          5.5,
          6.7,
          5.6,
          6,
          null,
          9.3,
          7,
          4.5,
          7.8,
          6.6,
          6.2,
          7,
          6.5,
          8.2,
          5.9,
          4,
          4.3,
          9.6,
          6,
          4.5,
          5.5,
          6.8,
          6.2,
          5.5,
          7.5,
          7.6,
          8.8,
          4.2,
          9.6,
          4.5,
          8.7,
          6.2,
          7.6,
          6.8,
          6.9,
          7.3,
          6.9,
          7.2,
          4,
          6,
          5.6,
          5.8,
          6.5,
          9,
          6,
          9.6,
          6.2,
          6.3,
          8,
          7,
          8.8,
          6.5,
          7.2,
          6.5,
          6.3,
          null,
          7.2,
          6.3,
          7.4,
          6.7,
          5,
          7,
          9.5,
          6.9,
          6.6,
          7,
          7,
          null,
          null,
          4.6,
          5.2,
          8.5,
          7,
          7,
          7.3,
          6.2,
          6.4,
          6.2,
          8,
          6.5,
          9.9,
          7,
          7,
          7,
          6.5,
          6.1,
          4.8,
          6,
          9,
          7.5,
          5.9,
          6.4,
          9.9,
          8,
          6,
          4.8,
          6.2,
          9.2,
          6.2,
          4.2,
          7.2,
          9.5,
          9.4,
          7.7,
          6.5,
          5.5,
          7.2,
          7.2,
          8.2,
          6.8,
          6,
          7.1,
          7.3,
          6.3,
          6.3,
          6.7,
          4.5,
          7,
          6,
          6.5,
          7.2,
          9.9,
          6.9,
          5.8,
          7,
          6.3,
          6.9,
          8.7,
          6.8,
          6.8,
          6.7,
          7.7,
          6.9,
          7.5,
          7.1,
          6.2,
          7,
          6,
          9.2,
          5.9,
          7,
          6.2,
          6.2,
          9.2,
          7,
          8.5,
          7.9,
          9.3,
          6.8,
          4.2,
          6.7,
          6.8,
          7.5,
          8.5,
          6.7,
          7,
          6.8,
          6,
          6.4,
          6.4,
          7,
          7.8,
          5.9,
          7,
          6.5,
          8,
          8.5,
          8,
          7,
          7,
          9.6,
          9.9,
          6.2,
          6,
          7.4,
          6.5,
          5.9,
          7,
          2.7,
          5.5,
          6.8,
          8.5,
          6.1,
          9.8,
          6,
          5.6,
          7.3,
          8,
          8,
          6.3,
          6.5,
          4.7,
          6.5,
          6.2,
          7,
          6.5,
          7,
          6.8,
          6,
          6.2,
          7,
          4,
          6.2,
          7.2,
          7.8,
          6.5,
          6.5,
          7.5,
          7.5,
          6.5,
          7,
          6.9,
          8.8,
          7.3,
          8,
          7,
          6.2,
          7.3,
          7.5,
          4.5,
          7,
          6.2,
          4,
          6.8,
          null,
          5.1,
          7,
          6.8,
          8.5,
          9.9,
          7,
          6.7,
          8.5,
          8.5,
          7.2,
          6.6,
          6,
          8.2,
          5.9,
          6.8,
          6.8,
          6.5,
          5.8,
          6.5,
          6.5,
          7,
          6.2,
          6.7,
          7,
          7.2,
          8.4,
          7.5,
          6.2,
          6.6,
          6.3,
          6.5,
          9.9,
          9.2,
          6,
          6.2,
          6.2,
          6.4,
          8.7,
          9.2,
          7,
          7,
          7,
          6.1,
          6.1,
          5.9,
          null,
          7.4,
          6.5,
          6.5,
          8,
          8,
          8.5,
          8.2,
          8.7,
          7.1,
          8.7,
          9.7,
          8.7,
          6.7,
          6,
          7,
          6,
          6.9,
          9.7,
          9.5,
          7.2,
          5,
          5,
          6.5,
          6.6,
          null,
          9.1,
          6.1,
          4,
          6.5,
          6.2,
          7.2,
          7,
          6.6,
          6,
          9.1,
          7.2,
          6,
          7.1,
          7,
          5.7,
          6.5,
          6.2,
          6.8,
          6.8,
          8,
          6.5,
          6.8,
          5.9,
          7.5,
          7,
          7,
          8,
          7.5,
          5.7,
          5,
          null,
          6.5,
          5.2,
          6.2,
          6.5,
          6.5,
          4.8,
          7.5,
          7,
          5.7,
          9.3,
          6.6,
          null,
          6.2,
          6.8,
          5.7,
          9.7,
          8.2,
          6,
          7.2,
          6.4,
          6.5,
          7.8,
          6.8,
          9,
          8.7,
          6.5,
          6.5,
          8,
          6.5,
          7,
          6.7,
          6.1,
          6.8,
          6.2,
          null,
          7.5,
          8.8,
          7.4,
          7,
          9.3,
          6,
          6,
          6.6,
          6.2,
          6.5,
          6.9,
          6.8,
          7,
          null,
          5.9,
          6.5,
          6.3,
          7.2,
          6.3,
          6.5,
          6.5,
          7.2,
          6.5,
          6.8,
          6.8,
          8.4,
          8.8,
          6.2,
          6.1,
          6.2,
          7,
          9.7,
          6.2,
          7,
          9.9,
          8.7
         ],
         "yaxis": "y"
        },
        {
         "customdata": [
          [
           "Jucundus"
          ],
          [
           "Park"
          ],
          [
           "Whitewater"
          ],
          [
           "Citra Faced"
          ],
          [
           "Summer Wheat"
          ],
          [
           "Waterkeeper"
          ],
          [
           "Weissenheimer"
          ],
          [
           "Beach Cruiser"
          ],
          [
           "Oberon"
          ],
          [
           "Little Boss"
          ],
          [
           "Healani"
          ],
          [
           "Coconoats"
          ],
          [
           "Blackberry Wheat"
          ],
          [
           "Bobblehead"
          ],
          [
           "Suncaster Summer Wheat"
          ],
          [
           "Nonstop Hef Hop"
          ],
          [
           "Nonstop Hef Hop"
          ],
          [
           "Nonstop Hef Hop"
          ],
          [
           "Nonstop Hef Hop"
          ],
          [
           "Nonstop Hef Hop"
          ],
          [
           "Nonstop Hef Hop"
          ],
          [
           "Nonstop Hef Hop"
          ],
          [
           "Nonstop Hef Hop"
          ],
          [
           "Nonstop Hef Hop"
          ],
          [
           "Nonstop Hef Hop"
          ],
          [
           "Nonstop Hef Hop"
          ],
          [
           "Nonstop Hef Hop"
          ],
          [
           "Watermelon Wheat"
          ],
          [
           "Laka Laka Pineapple"
          ],
          [
           "Mr. Blue Sky"
          ],
          [
           "Weisse Versa (2012)"
          ],
          [
           "Morning Wood Wheat (Current)"
          ],
          [
           "Hunny Do Wheat"
          ],
          [
           "Shotgun Betty"
          ],
          [
           "Night Cat"
          ],
          [
           "312 Urban Wheat Ale"
          ],
          [
           "Occidental Hefeweizen"
          ],
          [
           "Joey Wheat"
          ],
          [
           "Monarch Classic American Wheat"
          ],
          [
           "Weize Guy"
          ],
          [
           "Oberon"
          ],
          [
           "Farmer's Daughter Wheat"
          ],
          [
           "Honey Lav"
          ],
          [
           "Summer Session Ale"
          ],
          [
           "Black Market Hefeweizen"
          ],
          [
           "Contact High"
          ],
          [
           "Hefe Black"
          ],
          [
           "Widmer Brothers Hefeweizen"
          ],
          [
           "312 Urban Wheat Ale"
          ],
          [
           "Are Wheat There Yet?"
          ],
          [
           "On the Count of 3 (2015)"
          ],
          [
           "A Slice of Hefen"
          ],
          [
           "Heliocentric Hefeweizen"
          ],
          [
           "Montana Trout Slayer Ale"
          ],
          [
           "Snapshot"
          ],
          [
           "Sunshine Wheat Beer"
          ],
          [
           "King Street Hefeweizen"
          ],
          [
           "Wet Hot American Wheat Ale"
          ],
          [
           "In the Weeds"
          ],
          [
           "Night Cat (2014)"
          ],
          [
           "1800 Big Log Wheat (2012)"
          ],
          [
           "Agave Wheat"
          ],
          [
           "Fortunate Islands"
          ],
          [
           "Golden Road Hefeweizen"
          ],
          [
           "Summer Paradise"
          ],
          [
           "Helios Hefeweizen (2013)"
          ],
          [
           "Endless Sun Ale"
          ],
          [
           "Old Chico Crystal Wheat"
          ],
          [
           "I.W.A. (2011)"
          ],
          [
           "Schlafly Yakima Wheat Ale"
          ],
          [
           "Bozone Hefe Weizen"
          ],
          [
           "No Limits Hefeweizen"
          ],
          [
           "El Hefe Speaks"
          ],
          [
           "Tropical Heatwave"
          ],
          [
           "Mad Beach"
          ],
          [
           "Point Nude Beach Summer Wheat"
          ],
          [
           "Summer Swelter"
          ],
          [
           "Hips Don't Lie"
          ],
          [
           "Wagon Box Wheat Beer"
          ],
          [
           "Big Bend Hefeweizen"
          ],
          [
           "Woolybugger Wheat"
          ],
          [
           "EOS Hefeweizen"
          ],
          [
           "Samuel Adams Summer Ale"
          ],
          [
           "Shenanigans Summer Ale"
          ],
          [
           "Elder Betty"
          ],
          [
           "Sweet As Pacific Ale"
          ],
          [
           "Orange Grove Wheat Ale"
          ],
          [
           "Narragansett Summer Ale"
          ],
          [
           "SanTan HefeWeizen"
          ],
          [
           "Akari Shogun American Wheat Ale"
          ],
          [
           "Pete's Wicked Summer Brew (1995)"
          ],
          [
           "Pete's Wicked Summer Brew (2002)"
          ],
          [
           "Pete's Wicked Summer Brew (1997)"
          ],
          [
           "Pete's Wicked Summer Brew (1996)"
          ],
          [
           "Honey Wheat"
          ],
          [
           "Wachusett Summer"
          ],
          [
           "Shipyard Summer Ale"
          ],
          [
           "Dirty Hippie Dark Wheat"
          ],
          [
           "Dead Horse Amber"
          ],
          [
           "Wheat the People"
          ],
          [
           "Dry Dock Hefeweizen"
          ],
          [
           "Black Walnut Wheat"
          ],
          [
           "Tonganoxie Honey Wheat"
          ],
          [
           "Point Nude Beach Summer Wheat"
          ],
          [
           "Choc Beer (2003)"
          ],
          [
           "Point Nude Beach Summer Wheat (2011)"
          ],
          [
           "Montana Trout Slayer Ale (2012)"
          ],
          [
           "Celsius Summer Ale (2012)"
          ],
          [
           "Halcyon Unfiltered Wheat"
          ],
          [
           "Apollo"
          ],
          [
           "TailGate Hefeweizen"
          ],
          [
           "Frosted Fields Winter Wheat"
          ],
          [
           "UFO White"
          ],
          [
           "Schlafly Hefeweizen"
          ],
          [
           "312 Urban Wheat Ale (2012)"
          ],
          [
           "Golden Road Hefeweizen (2012)"
          ],
          [
           "Dolores River Hefeweizen"
          ],
          [
           "Endless Summer Ale (2011)"
          ],
          [
           "White Water Wheat"
          ],
          [
           "Miner's Gold Hefeweizen"
          ],
          [
           "Weisse Versa"
          ],
          [
           "Dundee Summer Wheat Beer"
          ],
          [
           "Saranac Summer Ale (2011)"
          ],
          [
           "Panorama Wheat Ale"
          ],
          [
           "Washita Wheat"
          ],
          [
           "Halcyon Unfiltered Wheat"
          ],
          [
           "Sunny Haze"
          ],
          [
           "Narragansett Summer Ale"
          ],
          [
           "Pyramid Hefeweizen (2011)"
          ],
          [
           "SummerBright Ale"
          ],
          [
           "Whitsun"
          ],
          [
           "TailGate Hefeweizen"
          ],
          [
           "Mana Wheat"
          ],
          [
           "SanTan HefeWeizen (2010)"
          ],
          [
           "Island Wheat"
          ],
          [
           "Point Nude Beach Summer Wheat (2010)"
          ],
          [
           "Dry Heat Hefeweizen (2006)"
          ],
          [
           "Morning Wood Wheat (Current)"
          ],
          [
           "Cornstalker Dark Wheat"
          ],
          [
           "Floppin' Crappie"
          ],
          [
           "Haywire Hefeweizen (2010)"
          ],
          [
           "Sunshine Wheat Beer (2009)"
          ],
          [
           "Heinnieweisse Weissebier"
          ],
          [
           "Montana Trout Slayer Ale (2009)"
          ],
          [
           "Royal Weisse Ale"
          ]
         ],
         "hovertemplate": "Style_Type=Wheat<br>IBUs=%{x}<br>ABV=%{y}<br>Beer=%{customdata[0]}<extra></extra>",
         "legendgroup": "Wheat",
         "marker": {
          "color": "#EF553B",
          "symbol": "circle"
         },
         "mode": "markers",
         "name": "Wheat",
         "orientation": "v",
         "showlegend": true,
         "type": "scatter",
         "x": [
          24,
          19,
          null,
          64,
          null,
          null,
          16,
          null,
          null,
          null,
          null,
          null,
          11,
          null,
          28,
          20,
          20,
          20,
          20,
          20,
          20,
          20,
          20,
          20,
          20,
          20,
          20,
          null,
          17,
          6,
          16,
          14,
          18,
          11,
          43,
          18,
          null,
          16,
          21,
          15,
          null,
          null,
          null,
          61,
          8,
          28,
          30,
          30,
          18,
          28,
          42,
          15,
          null,
          35,
          null,
          null,
          10,
          22,
          null,
          43,
          null,
          9,
          46,
          15,
          18,
          null,
          null,
          26,
          null,
          45,
          25,
          null,
          11,
          null,
          23,
          7,
          null,
          null,
          15,
          null,
          12,
          10,
          7,
          27,
          13,
          18,
          null,
          24,
          15,
          null,
          null,
          null,
          null,
          null,
          14,
          null,
          null,
          null,
          null,
          13,
          12,
          18,
          22,
          7,
          9,
          7,
          35,
          null,
          20,
          11,
          28,
          25,
          10,
          16,
          20,
          15,
          null,
          null,
          null,
          null,
          15,
          18,
          null,
          null,
          14,
          20,
          null,
          24,
          18,
          15,
          17,
          28,
          15,
          15,
          null,
          7,
          null,
          14,
          null,
          null,
          18,
          null,
          null,
          35,
          11
         ],
         "xaxis": "x",
         "y": [
          6,
          4.7,
          6.1,
          5.5,
          4.5,
          5.7,
          5.2,
          4.5,
          5.8,
          null,
          4.5,
          6.5,
          4.8,
          5.1,
          5,
          3.9,
          3.9,
          3.9,
          3.9,
          3.9,
          3.9,
          3.9,
          3.9,
          3.9,
          3.9,
          3.9,
          3.9,
          5.6,
          5.1,
          4.5,
          5.2,
          5.9,
          4.8,
          5.8,
          5.8,
          4.2,
          4.7,
          6.8,
          4.3,
          5,
          5.8,
          4.2,
          5.2,
          5,
          5,
          5,
          4.9,
          4.9,
          4.2,
          5.5,
          7,
          5.4,
          4.7,
          5,
          5.2,
          4.8,
          5.7,
          5,
          5.5,
          5.8,
          5,
          4.2,
          4.7,
          4.6,
          5,
          4.7,
          4.5,
          4.8,
          6,
          5,
          6,
          5,
          5.3,
          5.2,
          4.8,
          5.2,
          4.7,
          6.2,
          5.9,
          5.6,
          4.6,
          4.8,
          5.3,
          4.6,
          5.5,
          6,
          null,
          4.2,
          5,
          5.5,
          4.7,
          4.7,
          4.7,
          4.7,
          4.7,
          4.7,
          5.1,
          5.3,
          4,
          4.4,
          4.3,
          4.5,
          4.4,
          5,
          4,
          5,
          5,
          4.7,
          5,
          5.2,
          4.9,
          6,
          4.8,
          4.1,
          4.2,
          4.6,
          null,
          4.8,
          5,
          5,
          5.2,
          4.5,
          4.7,
          4.6,
          5.3,
          5,
          5,
          4.2,
          5.2,
          4.5,
          6.2,
          4.9,
          5.5,
          5,
          4.2,
          5,
          5.5,
          5.9,
          null,
          4.5,
          5.2,
          4.8,
          4.9,
          5,
          5.6
         ],
         "yaxis": "y"
        }
       ],
       "layout": {
        "legend": {
         "title": {
          "text": "Style_Type"
         },
         "tracegroupgap": 0
        },
        "margin": {
         "t": 60
        },
        "template": {
         "data": {
          "bar": [
           {
            "error_x": {
             "color": "#2a3f5f"
            },
            "error_y": {
             "color": "#2a3f5f"
            },
            "marker": {
             "line": {
              "color": "#E5ECF6",
              "width": 0.5
             }
            },
            "type": "bar"
           }
          ],
          "barpolar": [
           {
            "marker": {
             "line": {
              "color": "#E5ECF6",
              "width": 0.5
             }
            },
            "type": "barpolar"
           }
          ],
          "carpet": [
           {
            "aaxis": {
             "endlinecolor": "#2a3f5f",
             "gridcolor": "white",
             "linecolor": "white",
             "minorgridcolor": "white",
             "startlinecolor": "#2a3f5f"
            },
            "baxis": {
             "endlinecolor": "#2a3f5f",
             "gridcolor": "white",
             "linecolor": "white",
             "minorgridcolor": "white",
             "startlinecolor": "#2a3f5f"
            },
            "type": "carpet"
           }
          ],
          "choropleth": [
           {
            "colorbar": {
             "outlinewidth": 0,
             "ticks": ""
            },
            "type": "choropleth"
           }
          ],
          "contour": [
           {
            "colorbar": {
             "outlinewidth": 0,
             "ticks": ""
            },
            "colorscale": [
             [
              0,
              "#0d0887"
             ],
             [
              0.1111111111111111,
              "#46039f"
             ],
             [
              0.2222222222222222,
              "#7201a8"
             ],
             [
              0.3333333333333333,
              "#9c179e"
             ],
             [
              0.4444444444444444,
              "#bd3786"
             ],
             [
              0.5555555555555556,
              "#d8576b"
             ],
             [
              0.6666666666666666,
              "#ed7953"
             ],
             [
              0.7777777777777778,
              "#fb9f3a"
             ],
             [
              0.8888888888888888,
              "#fdca26"
             ],
             [
              1,
              "#f0f921"
             ]
            ],
            "type": "contour"
           }
          ],
          "contourcarpet": [
           {
            "colorbar": {
             "outlinewidth": 0,
             "ticks": ""
            },
            "type": "contourcarpet"
           }
          ],
          "heatmap": [
           {
            "colorbar": {
             "outlinewidth": 0,
             "ticks": ""
            },
            "colorscale": [
             [
              0,
              "#0d0887"
             ],
             [
              0.1111111111111111,
              "#46039f"
             ],
             [
              0.2222222222222222,
              "#7201a8"
             ],
             [
              0.3333333333333333,
              "#9c179e"
             ],
             [
              0.4444444444444444,
              "#bd3786"
             ],
             [
              0.5555555555555556,
              "#d8576b"
             ],
             [
              0.6666666666666666,
              "#ed7953"
             ],
             [
              0.7777777777777778,
              "#fb9f3a"
             ],
             [
              0.8888888888888888,
              "#fdca26"
             ],
             [
              1,
              "#f0f921"
             ]
            ],
            "type": "heatmap"
           }
          ],
          "heatmapgl": [
           {
            "colorbar": {
             "outlinewidth": 0,
             "ticks": ""
            },
            "colorscale": [
             [
              0,
              "#0d0887"
             ],
             [
              0.1111111111111111,
              "#46039f"
             ],
             [
              0.2222222222222222,
              "#7201a8"
             ],
             [
              0.3333333333333333,
              "#9c179e"
             ],
             [
              0.4444444444444444,
              "#bd3786"
             ],
             [
              0.5555555555555556,
              "#d8576b"
             ],
             [
              0.6666666666666666,
              "#ed7953"
             ],
             [
              0.7777777777777778,
              "#fb9f3a"
             ],
             [
              0.8888888888888888,
              "#fdca26"
             ],
             [
              1,
              "#f0f921"
             ]
            ],
            "type": "heatmapgl"
           }
          ],
          "histogram": [
           {
            "marker": {
             "colorbar": {
              "outlinewidth": 0,
              "ticks": ""
             }
            },
            "type": "histogram"
           }
          ],
          "histogram2d": [
           {
            "colorbar": {
             "outlinewidth": 0,
             "ticks": ""
            },
            "colorscale": [
             [
              0,
              "#0d0887"
             ],
             [
              0.1111111111111111,
              "#46039f"
             ],
             [
              0.2222222222222222,
              "#7201a8"
             ],
             [
              0.3333333333333333,
              "#9c179e"
             ],
             [
              0.4444444444444444,
              "#bd3786"
             ],
             [
              0.5555555555555556,
              "#d8576b"
             ],
             [
              0.6666666666666666,
              "#ed7953"
             ],
             [
              0.7777777777777778,
              "#fb9f3a"
             ],
             [
              0.8888888888888888,
              "#fdca26"
             ],
             [
              1,
              "#f0f921"
             ]
            ],
            "type": "histogram2d"
           }
          ],
          "histogram2dcontour": [
           {
            "colorbar": {
             "outlinewidth": 0,
             "ticks": ""
            },
            "colorscale": [
             [
              0,
              "#0d0887"
             ],
             [
              0.1111111111111111,
              "#46039f"
             ],
             [
              0.2222222222222222,
              "#7201a8"
             ],
             [
              0.3333333333333333,
              "#9c179e"
             ],
             [
              0.4444444444444444,
              "#bd3786"
             ],
             [
              0.5555555555555556,
              "#d8576b"
             ],
             [
              0.6666666666666666,
              "#ed7953"
             ],
             [
              0.7777777777777778,
              "#fb9f3a"
             ],
             [
              0.8888888888888888,
              "#fdca26"
             ],
             [
              1,
              "#f0f921"
             ]
            ],
            "type": "histogram2dcontour"
           }
          ],
          "mesh3d": [
           {
            "colorbar": {
             "outlinewidth": 0,
             "ticks": ""
            },
            "type": "mesh3d"
           }
          ],
          "parcoords": [
           {
            "line": {
             "colorbar": {
              "outlinewidth": 0,
              "ticks": ""
             }
            },
            "type": "parcoords"
           }
          ],
          "pie": [
           {
            "automargin": true,
            "type": "pie"
           }
          ],
          "scatter": [
           {
            "marker": {
             "colorbar": {
              "outlinewidth": 0,
              "ticks": ""
             }
            },
            "type": "scatter"
           }
          ],
          "scatter3d": [
           {
            "line": {
             "colorbar": {
              "outlinewidth": 0,
              "ticks": ""
             }
            },
            "marker": {
             "colorbar": {
              "outlinewidth": 0,
              "ticks": ""
             }
            },
            "type": "scatter3d"
           }
          ],
          "scattercarpet": [
           {
            "marker": {
             "colorbar": {
              "outlinewidth": 0,
              "ticks": ""
             }
            },
            "type": "scattercarpet"
           }
          ],
          "scattergeo": [
           {
            "marker": {
             "colorbar": {
              "outlinewidth": 0,
              "ticks": ""
             }
            },
            "type": "scattergeo"
           }
          ],
          "scattergl": [
           {
            "marker": {
             "colorbar": {
              "outlinewidth": 0,
              "ticks": ""
             }
            },
            "type": "scattergl"
           }
          ],
          "scattermapbox": [
           {
            "marker": {
             "colorbar": {
              "outlinewidth": 0,
              "ticks": ""
             }
            },
            "type": "scattermapbox"
           }
          ],
          "scatterpolar": [
           {
            "marker": {
             "colorbar": {
              "outlinewidth": 0,
              "ticks": ""
             }
            },
            "type": "scatterpolar"
           }
          ],
          "scatterpolargl": [
           {
            "marker": {
             "colorbar": {
              "outlinewidth": 0,
              "ticks": ""
             }
            },
            "type": "scatterpolargl"
           }
          ],
          "scatterternary": [
           {
            "marker": {
             "colorbar": {
              "outlinewidth": 0,
              "ticks": ""
             }
            },
            "type": "scatterternary"
           }
          ],
          "surface": [
           {
            "colorbar": {
             "outlinewidth": 0,
             "ticks": ""
            },
            "colorscale": [
             [
              0,
              "#0d0887"
             ],
             [
              0.1111111111111111,
              "#46039f"
             ],
             [
              0.2222222222222222,
              "#7201a8"
             ],
             [
              0.3333333333333333,
              "#9c179e"
             ],
             [
              0.4444444444444444,
              "#bd3786"
             ],
             [
              0.5555555555555556,
              "#d8576b"
             ],
             [
              0.6666666666666666,
              "#ed7953"
             ],
             [
              0.7777777777777778,
              "#fb9f3a"
             ],
             [
              0.8888888888888888,
              "#fdca26"
             ],
             [
              1,
              "#f0f921"
             ]
            ],
            "type": "surface"
           }
          ],
          "table": [
           {
            "cells": {
             "fill": {
              "color": "#EBF0F8"
             },
             "line": {
              "color": "white"
             }
            },
            "header": {
             "fill": {
              "color": "#C8D4E3"
             },
             "line": {
              "color": "white"
             }
            },
            "type": "table"
           }
          ]
         },
         "layout": {
          "annotationdefaults": {
           "arrowcolor": "#2a3f5f",
           "arrowhead": 0,
           "arrowwidth": 1
          },
          "autotypenumbers": "strict",
          "coloraxis": {
           "colorbar": {
            "outlinewidth": 0,
            "ticks": ""
           }
          },
          "colorscale": {
           "diverging": [
            [
             0,
             "#8e0152"
            ],
            [
             0.1,
             "#c51b7d"
            ],
            [
             0.2,
             "#de77ae"
            ],
            [
             0.3,
             "#f1b6da"
            ],
            [
             0.4,
             "#fde0ef"
            ],
            [
             0.5,
             "#f7f7f7"
            ],
            [
             0.6,
             "#e6f5d0"
            ],
            [
             0.7,
             "#b8e186"
            ],
            [
             0.8,
             "#7fbc41"
            ],
            [
             0.9,
             "#4d9221"
            ],
            [
             1,
             "#276419"
            ]
           ],
           "sequential": [
            [
             0,
             "#0d0887"
            ],
            [
             0.1111111111111111,
             "#46039f"
            ],
            [
             0.2222222222222222,
             "#7201a8"
            ],
            [
             0.3333333333333333,
             "#9c179e"
            ],
            [
             0.4444444444444444,
             "#bd3786"
            ],
            [
             0.5555555555555556,
             "#d8576b"
            ],
            [
             0.6666666666666666,
             "#ed7953"
            ],
            [
             0.7777777777777778,
             "#fb9f3a"
            ],
            [
             0.8888888888888888,
             "#fdca26"
            ],
            [
             1,
             "#f0f921"
            ]
           ],
           "sequentialminus": [
            [
             0,
             "#0d0887"
            ],
            [
             0.1111111111111111,
             "#46039f"
            ],
            [
             0.2222222222222222,
             "#7201a8"
            ],
            [
             0.3333333333333333,
             "#9c179e"
            ],
            [
             0.4444444444444444,
             "#bd3786"
            ],
            [
             0.5555555555555556,
             "#d8576b"
            ],
            [
             0.6666666666666666,
             "#ed7953"
            ],
            [
             0.7777777777777778,
             "#fb9f3a"
            ],
            [
             0.8888888888888888,
             "#fdca26"
            ],
            [
             1,
             "#f0f921"
            ]
           ]
          },
          "colorway": [
           "#636efa",
           "#EF553B",
           "#00cc96",
           "#ab63fa",
           "#FFA15A",
           "#19d3f3",
           "#FF6692",
           "#B6E880",
           "#FF97FF",
           "#FECB52"
          ],
          "font": {
           "color": "#2a3f5f"
          },
          "geo": {
           "bgcolor": "white",
           "lakecolor": "white",
           "landcolor": "#E5ECF6",
           "showlakes": true,
           "showland": true,
           "subunitcolor": "white"
          },
          "hoverlabel": {
           "align": "left"
          },
          "hovermode": "closest",
          "mapbox": {
           "style": "light"
          },
          "paper_bgcolor": "white",
          "plot_bgcolor": "#E5ECF6",
          "polar": {
           "angularaxis": {
            "gridcolor": "white",
            "linecolor": "white",
            "ticks": ""
           },
           "bgcolor": "#E5ECF6",
           "radialaxis": {
            "gridcolor": "white",
            "linecolor": "white",
            "ticks": ""
           }
          },
          "scene": {
           "xaxis": {
            "backgroundcolor": "#E5ECF6",
            "gridcolor": "white",
            "gridwidth": 2,
            "linecolor": "white",
            "showbackground": true,
            "ticks": "",
            "zerolinecolor": "white"
           },
           "yaxis": {
            "backgroundcolor": "#E5ECF6",
            "gridcolor": "white",
            "gridwidth": 2,
            "linecolor": "white",
            "showbackground": true,
            "ticks": "",
            "zerolinecolor": "white"
           },
           "zaxis": {
            "backgroundcolor": "#E5ECF6",
            "gridcolor": "white",
            "gridwidth": 2,
            "linecolor": "white",
            "showbackground": true,
            "ticks": "",
            "zerolinecolor": "white"
           }
          },
          "shapedefaults": {
           "line": {
            "color": "#2a3f5f"
           }
          },
          "ternary": {
           "aaxis": {
            "gridcolor": "white",
            "linecolor": "white",
            "ticks": ""
           },
           "baxis": {
            "gridcolor": "white",
            "linecolor": "white",
            "ticks": ""
           },
           "bgcolor": "#E5ECF6",
           "caxis": {
            "gridcolor": "white",
            "linecolor": "white",
            "ticks": ""
           }
          },
          "title": {
           "x": 0.05
          },
          "xaxis": {
           "automargin": true,
           "gridcolor": "white",
           "linecolor": "white",
           "ticks": "",
           "title": {
            "standoff": 15
           },
           "zerolinecolor": "white",
           "zerolinewidth": 2
          },
          "yaxis": {
           "automargin": true,
           "gridcolor": "white",
           "linecolor": "white",
           "ticks": "",
           "title": {
            "standoff": 15
           },
           "zerolinecolor": "white",
           "zerolinewidth": 2
          }
         }
        },
        "xaxis": {
         "anchor": "y",
         "domain": [
          0,
          1
         ],
         "title": {
          "text": "IBUs"
         }
        },
        "yaxis": {
         "anchor": "x",
         "domain": [
          0,
          1
         ],
         "title": {
          "text": "ABV"
         }
        }
       }
      },
      "text/html": [
       "<div>                            <div id=\"2fd867e6-a628-4c3b-b449-2ab83ec5aaf0\" class=\"plotly-graph-div\" style=\"height:525px; width:100%;\"></div>            <script type=\"text/javascript\">                require([\"plotly\"], function(Plotly) {                    window.PLOTLYENV=window.PLOTLYENV || {};                                    if (document.getElementById(\"2fd867e6-a628-4c3b-b449-2ab83ec5aaf0\")) {                    Plotly.newPlot(                        \"2fd867e6-a628-4c3b-b449-2ab83ec5aaf0\",                        [{\"customdata\": [[\"Get Together\"], [\"Citra Ass Down\"], [\"Rico Sauvin\"], [\"Pile of Face\"], [\"Habitus (2014)\"], [\"Solis\"], [\"Habitus\"], [\"Villager\"], [\"HopArt\"], [\"Boy King\"], [\"Rumble\"], [\"Lasso\"], [\"Titan IPA\"], [\"Nordskye\"], [\"98 Problems (Cuz A Hop Ain't One)\"], [\"Grapefruit IPA\"], [\"Train Hopper\"], [\"Thai.p.a\"], [\"The 26th\"], [\"The Gadget\"], [\"Galaxyfest\"], [\"Citrafest\"], [\"Gone A-Rye\"], [\"Linnaeus Mango IPA\"], [\"Heavy Lifting\"], [\"Grapefruit Sculpin\"], [\"Liberty Ale\"], [\"Raja\"], [\"Galaxy IPA\"], [\"Mosaic Single Hop IPA\"], [\"Lost Galaxy\"], [\"Jah Mon\"], [\"IPA\"], [\"Hop Session\"], [\"Easy Jack\"], [\"Flying Mouse 4\"], [\"Moar\"], [\"Uber Lupin Schwarz IPA\"], [\"Todd the Axe Man\"], [\"Barrel Aged Triomphe\"], [\"Citra Ass Down\"], [\"Monkey Dancing On A Razor Blade\"], [\"Vinyl Frontier\"], [\"Disco Superfly\"], [\"Misty Mountain Hop\"], [\"One-Hit Wonderful\"], [\"Love In An Ellavator\"], [\"Soul Doubt\"], [\"Bimini Twist\"], [\"Pump House IPA\"], [\"Suicide Blonde IPA\"], [\"Long Leaf\"], [\"Double Duckpin\"], [\"Hop A-Peel\"], [\"Nuit Serpent\"], [\"Wobble\"], [\"I.P. Eh!\"], [\"Baby Daddy Session IPA\"], [\"The Grand Army\"], [\"Slow Ride\"], [\"Hopkick Dropkick\"], [\"Ryecoe\"], [\"Union Jack\"], [\"India Pale Ale\"], [\"Chupahopra\"], [\"Galaxy High\"], [\"Self Starter\"], [\"Reactor\"], [\"Mission IPA\"], [\"Bay of Bengal Double IPA (2014)\"], [\"Newport Storm IPA\"], [\"White Reaper\"], [\"Clean Shave IPA\"], [\"Big Star White IPA\"], [\"Firestarter India Pale Ale\"], [\"Back Bay IPA\"], [\"4000 Footer IPA\"], [\"Unchained #18 Hop Silo\"], [\"Harness the Winter\"], [\"Welcome to Scoville\"], [\"Rule G IPA\"], [\"Yellow Wolf Imperial IPA\"], [\"IPA #11\"], [\"The Green Room\"], [\"Hop Ryot\"], [\"2014 IPA Cicada Series\"], [\"Sinister Minister Black IPA\"], [\"O\\u2019Malley\\u2019s IPA\"], [\"Charlie's Rye IPA\"], [\"Watershed IPA\"], [\"Ultra Gnar Gnar IPA\"], [\"Hoodoo Voodoo IPA\"], [\"Hopportunity Knocks IPA\"], [\"Camelback\"], [\"Homefront IPA\"], [\"Pinner Throwback IPA\"], [\"Mango Ginger\"], [\"Little Sister India Style Session Ale\"], [\"Mastermind\"], [\"Divided Sky\"], [\"Resurrected\"], [\"Rise of the Phoenix\"], [\"Sinister\"], [\"Sex and Candy\"], [\"Flower Child (2014)\"], [\"Salamander Slam\"], [\"Molotov Lite\"], [\"Torpedo\"], [\"Day Hike Session\"], [\"Ranger IPA\"], [\"Flyin' Rye\"], [\"Scarecrow\"], [\"Lil' Helper\"], [\"Bitter Biker Double IPA\"], [\"Hopworks IPA\"], [\"Goose Island India Pale Ale\"], [\"Worthy IPA\"], [\"Campside Session IPA\"], [\"Tsunami IPA\"], [\"Tsunami IPA\"], [\"Mound Builder IPA\"], [\"The Optimist\"], [\"Amazon Princess IPA\"], [\"Dream Crusher Double IPA\"], [\"Sucha Much IPA\"], [\"City of the Sun\"], [\"3:33 Black IPA\"], [\"Booming Rollers\"], [\"Beyond The Pale IPA\"], [\"#002 American I.P.A.\"], [\"#004 Session I.P.A.\"], [\"Norm's Raggedy Ass IPA\"], [\"Working for the Weekend\"], [\"Cone Crusher\"], [\"More Cowbell\"], [\"The Imperial Texan\"], [\"Brutus\"], [\"1916 Shore Shiver\"], [\"Even Keel\"], [\"Arcus IPA\"], [\"Pleasure Town\"], [\"BRIPA\"], [\"Bengali\"], [\"Hop Stalker Fresh Hop IPA\"], [\"W.I.P.A Snappa\"], [\"No Wake IPA\"], [\"MCA\"], [\"Dead-Eye DIPA\"], [\"Fisherman's IPA\"], [\"Count Hopula (Vault Series)\"], [\"Palate Mallet\"], [\"Dankosaurus\"], [\"Dayman IPA\"], [\"Captain's Daughter\"], [\"Infamous IPA\"], [\"South Bay Session IPA\"], [\"Tropicalia\"], [\"Hyzer Flip\"], [\"Pursuit\"], [\"Vertex IPA\"], [\"Operation Homefront\"], [\"Happening Now\"], [\"Norm's Gateway IPA\"], [\"Barrio Blanco\"], [\"Escape to Colorado\"], [\"Giant DIPA\"], [\"Fistful Of Hops Red\"], [\"Fistful of Hops Orange\"], [\"Fistful Of Hops Blue\"], [\"Fistful of Hops Green\"], [\"Two Hearted\"], [\"Hardcore Chimera\"], [\"Troll Destroyer\"], [\"Texas Pale Ale (TPA)\"], [\"Sky-Five\"], [\"Ghost Ship White IPA\"], [\"Dragonfly IPA\"], [\"30 Min Coma\"], [\"Tree Bucket\"], [\"Incredible Pedal IPA\"], [\"Rudie Session IPA\"], [\"077XX\"], [\"Gatecrasher\"], [\"Almanac IPA\"], [\"Missile IPA\"], [\"Thai Style White IPA\"], [\"Second Fiddle\"], [\"Long Trail IPA\"], [\"Trader Session IPA\"], [\"Left of the Dial IPA\"], [\"The Crusher\"], [\"40 Mile IPA\"], [\"Suicide Squeeze IPA\"], [\"Fresh Slice White IPA\"], [\"Let It Ride IPA\"], [\"Bent Hop Golden IPA\"], [\"Lost Sailor IPA\"], [\"Blackmarket Rye IPA\"], [\"Groupe G\"], [\"Hill 88 Double IPA\"], [\"Longhop IPA\"], [\"Hoperation Overload\"], [\"Thrasher Session India Pale Ale\"], [\"Hop Freak\"], [\"Hop Lace\"], [\"El Chingon IPA\"], [\"Saint Archer IPA\"], [\"Supergoose IPA\"], [\"IPA & a Half\"], [\"Blue Boots IPA\"], [\"Truth\"], [\"Wachusett Light IPA\"], [\"Green Monsta IPA\"], [\"Wachusett IPA\"], [\"Hop Farm IPA\"], [\"Our Legacy IPA\"], [\"Squatters Hop Rising Double IPA\"], [\"Wasatch Ghostrider White IPA\"], [\"Bitter Biker Double IPA\"], [\"Spiteful IPA\"], [\"Pleasure Town IPA\"], [\"Quarter Mile Double IPA\"], [\"Focal Banger\"], [\"Hoptopus Double IPA\"], [\"Java the Hop\"], [\"Last Stop IPA\"], [\"Filthy Hoppin' IPA\"], [\"Half Court IPA\"], [\"Appreciation Ale\"], [\"Toughcats IPA\"], [\"Kiss Off IPA\"], [\"2020 IPA\"], [\"Jacaranada Rye IPA\"], [\"Lil SIPA\"], [\"Golden Ratio IPA\"], [\"Hemlock Double IPA\"], [\"GreyBeard\\u2122 IPA\"], [\"County Line IPA\"], [\"Juke Joint IPA\"], [\"Heyoka IPA\"], [\"Icey.P.A.\"], [\"Birth IPA\"], [\"Just IPA\"], [\"Firewater India Pale Ale\"], [\"Red Cockaded Ale\"], [\"Hopped on the High Seas (Hop #529)\"], [\"Hopped on the High Seas (Calypso)\"], [\"Hop Nosh IPA\"], [\"Big Sky IPA\"], [\"SweetWater IPA\"], [\"Great Crescent IPA\"], [\"Wolf Among Weeds IPA\"], [\"Be Hoppy IPA\"], [\"Hi-Res\"], [\"Dry-Hopped On The High Seas Caribbean-Style IPA\"], [\"Hopped on the High Seas (Citra)\"], [\"Hopped on the High Seas (Ahtanum)\"], [\"Irregardless IPA\"], [\"Category 3 IPA\"], [\"Hula Hoppie Session IPA\"], [\"Wasatch Ghostrider White IPA (2014)\"], [\"Squatters Hop Rising Double IPA (2014)\"], [\"The Great Return\"], [\"Troopers Alley IPA\"], [\"Madra Allta\"], [\"Chaotic Double IPA\"], [\"Manzanita IPA\"], [\"King Street IPA\"], [\"Trailhead ISA\"], [\"Evo IPA\"], [\"Double Dagger Imperial IPA\"], [\"The Long Thaw White IPA\"], [\"White Cap White IPA\"], [\"Lucky Day IPA\"], [\"Terrace Hill Double IPA\"], [\"Better Weather IPA\"], [\"Aslan IPA\"], [\"Rebel IPA\"], [\"Manayunk IPA\"], [\"Lift Off IPA\"], [\"Hop Drop 'N Roll IPA\"], [\"Hop Slayer Double IPA\"], [\"Better Half\"], [\"Half Cycle IPA\"], [\"Initial Point India Pale Ale\"], [\"Good Vibes IPA\"], [\"Dagger Falls IPA\"], [\"Dagger Falls IPA\"], [\"Autumnation (2013)\"], [\"PONTO S.I.P.A.\"], [\"RoughTail IPA\"], [\"KelSo India Pale Ale\"], [\"Mad Manatee IPA\"], [\"Centennial IPA\"], [\"Double Trunk\"], [\"Batch 69 IPA\"], [\"Charlie in the Rye\"], [\"Farmer Wirtz India Pale Ale\"], [\"Proxima IPA\"], [\"Monkey Fist IPA\"], [\"G'KNIGHT\"], [\"Modus Hoperandi\"], [\"Pink-I Raspberry IPA\"], [\"3-Way IPA (2013)\"], [\"Lights Out Vanilla Cream Extra Stout\"], [\"Worthy IPA (2013)\"], [\"Perpetual IPA\"], [\"Miami Vice IPA\"], [\"Country Boy IPA\"], [\"Green House India Pale Ale\"], [\"Super G IPA\"], [\"Valkyrie Double IPA\"], [\"Point the Way IPA\"], [\"51K IPA\"], [\"Damnesia\"], [\"Ananda India Pale Ale\"], [\"Shipwrecked Double IPA\"], [\"Moirai India Pale Ale\"], [\"Overlord Imperial IPA\"], [\"Hopnoxious Imperial IPA\"], [\"Trebuchet Double IPA\"], [\"F5 IPA\"], [\"Boat Beer\"], [\"Wood Chipper India Pale Ale\"], [\"Hat Trick Hop IPA\"], [\"Grapefruit Jungle (GFJ)\"], [\"Larry Imperial IPA\"], [\"Mind's Eye PA\"], [\"Big Eye India Pale Ale\"], [\"Heal the Bay IPA\"], [\"Pigwar White India Pale Ale\"], [\"Laughing Dog IPA\"], [\"Bengali Tiger\"], [\"Elephant Rock IPA\"], [\"Crank Yanker IPA\"], [\"Harpoon IPA\"], [\"Casinos IPA\"], [\"Alphadelic IPA\"], [\"Habitus IPA\"], [\"Dreamin' Double IPA\"], [\"Deviant Dale's IPA\"], [\"Hop Ottin' IPA\"], [\"Green Bullet Organic India Pale Ale\"], [\"Pernicious Double IPA\"], [\"Upslope Imperial India Pale Ale\"], [\"Face Plant IPA\"], [\"Paleo IPA\"], [\"Blur India Pale Ale\"], [\"Supermonk I.P.A.\"], [\"Point the Way IPA\"], [\"Bozone HopZone IPA\"], [\"Bikini Beer\"], [\"Nice Rack IPA\"], [\"East India Pale Ale\"], [\"Old Grogham Imperial India Pale Ale\"], [\"5 Day IPA\"], [\"Bad Axe Imperial IPA\"], [\"JP's Ould Sod Irish Red IPA\"], [\"Duluchan India Pale Ale\"], [\"Big Nose\"], [\"The Imperial Texan\"], [\"Dodgy Knight Imperial IPA\"], [\"Hoppy Bitch IPA\"], [\"Dank IPA\"], [\"All Day IPA\"], [\"Cropduster Mid-American IPA\"], [\"360\\u00b0 India Pale Ale\"], [\"Red Clay IPA\"], [\"Northern Lights India Pale Ale\"], [\"Indian Paintbrush IPA\"], [\"Swami's India Pale Ale\"], [\"Honeyspot Road White IPA\"], [\"Mutiny IPA\"], [\"Redacted Rye IPA\"], [\"77 Fremont Select Spring Session IPA\"], [\"Evolutionary IPA (2012)\"], [\"Road 2 Ruin Double IPA\"], [\"La Frontera Premium IPA\"], [\"Kentucky IPA\"], [\"Nebraska India Pale Ale\"], [\"Humidor Series India Pale Ale\"], [\"Jai Alai IPA Aged on White Oak\"], [\"Our Legacy IPA\"], [\"Misty Mountain IPA\"], [\"Psychopathy\"], [\"MechaHopzilla\"], [\"Overrated! West Coast Style IPA\"], [\"Heady Topper\"], [\"Descender IPA\"], [\"Old Wylie's IPA\"], [\"Hop Notch IPA (2013)\"], [\"Hop Happy\"], [\"Schlafly IPA\"], [\"Hop Shock IPA\"], [\"Outlaw IPA\"], [\"Wachusett Light IPA (2013)\"], [\"Preservation IPA\"], [\"N Street Drive-In 50th Anniversary IPA\"], [\"Quaff India Style Session Ale\"], [\"Sculpin IPA\"], [\"Ethos IPA\"], [\"Red Cockaded Ale (2013)\"], [\"Elevation Triple India Pale Ale\"], [\"Big Elm IPA\"], [\"Watershed IPA (2013)\"], [\"oSKAr the G'Rauch\"], [\"oSKAr the G'Rauch\"], [\"Loose Cannon\"], [\"Bark Bite IPA\"], [\"Backyahd IPA\"], [\"Bitter Bitch Imperial IPA\"], [\"Rude Parrot IPA\"], [\"Des Moines IPA\"], [\"Topcutter India Pale Ale\"], [\"Dank IPA (2012)\"], [\"Alloy\"], [\"Twister Creek India Pale Ale\"], [\"Long Hammer IPA\"], [\"Deep Ellum IPA\"], [\"Gangway IPA\"], [\"Belgorado\"], [\"Frankenlou's IPA\"], [\"Green Head IPA\"], [\"Odyssey Imperial IPA\"], [\"Overbite IPA\"], [\"Sea Hag IPA\"], [\"Hop Abomination\"], [\"Dagger Falls IPA\"], [\"Interurban IPA\"], [\"PRO-AM (2012) (2012)\"], [\"On the Wings of Armageddon\"], [\"Meat Wave\"], [\"Marble India Pale Ale\"], [\"Desolation IPA\"], [\"Tempter IPA\"], [\"Gordon Imperial Red (2010)\"], [\"Gordon (2005)\"], [\"21st Amendment IPA (2006)\"], [\"Brew Free! or Die IPA (2008)\"], [\"Brew Free! or Die IPA (2009)\"], [\"Caldera IPA (2009)\"], [\"Caldera IPA (2007)\"], [\"Harpoon IPA (2012)\"], [\"Hopluia (2004)\"], [\"Ace IPA\"], [\"Double Haul IPA (2009)\"], [\"Double Haul IPA (2006)\"], [\"Burning Bush Smoked IPA\"], [\"Wolf Among Weeds IPA (2012)\"], [\"Old Grogham Imperial India Pale Ale (2012)\"], [\"Hop Slayer Double IPA (2011)\"], [\"Gordon Beer (2006)\"], [\"California Sunshine Rye IPA\"], [\"G'KNIGHT (16 oz.)\"], [\"Cant Dog Imperial Pale Ale\"], [\"Rich Man's IIPA\"], [\"Hog Wild India Pale Ale\"], [\"Blue Point White IPA\"], [\"Mystic Mama IPA\"], [\"Saranac White IPA\"], [\"Mjolnir Imperial IPA\"], [\"Trebuchet Double IPA (2012)\"], [\"Rodeo Clown Double IPA\"], [\"Elevated IPA\"], [\"TailGate IPA\"], [\"TailGate IPA\"], [\"Indie Pale Ale\"], [\"Hopworks IPA (2012)\"], [\"West Sixth IPA\"], [\"Isis\"], [\"Fairweather IPA\"], [\"Johnny's American IPA\"], [\"Outlaw IPA (2015)\"], [\"Hoppy Boy\"], [\"Monkeynaut IPA\"], [\"Ryeteous Rye IPA (2012)\"], [\"Firestarter India Pale Ale\"], [\"House Brand IPA\"], [\"Resin\"], [\"Desert Magic IPA\"], [\"Green Monsta IPA\"], [\"Snake Dog IPA\"], [\"Independence Pass Ale\"], [\"Triangle India Pale Ale\"], [\"Long Hammer IPA\"], [\"Big Sky IPA (2012)\"], [\"Westbrook IPA\"], [\"East India Pale Ale\"], [\"Deviant Dale's IPA\"], [\"Ranger IPA\"], [\"I-10 IPA\"], [\"Point the Way IPA (2012)\"], [\"Jai Alai IPA\"], [\"Old Elephant Foot IPA\"], [\"Big Cock IPA\"], [\"Tour de Nez Belgian IPA (Current)\"], [\"Grapefruit Jungle (GFJ) (2011)\"], [\"Flagship IPA\"], [\"Grand Circus IPA\"], [\"Inclined Plane Ale\"], [\"Jockamo IPA\"], [\"Firewater India Pale Ale\"], [\"Evolutionary IPA (2011)\"], [\"Alphadelic IPA (2011)\"], [\"Hopitoulas IPA\"], [\"Trailhead India Style Session Ale (2011)\"], [\"Threadless IPA\"], [\"Missouri Mule India Pale Ale\"], [\"Tumbleweed IPA\"], [\"Hop Box Imperial IPA\"], [\"Hopadillo India Pale Ale\"], [\"Snaggletooth Double Pale Ale\"], [\"Great Crescent IPA (2011)\"], [\"Flyin' HI.P.Hay\"], [\"Sockeye Red IPA\"], [\"Hop Crisis\"], [\"Hop Slayer Double IPA (2011)\"], [\"Shiva IPA\"], [\"Torpedo\"], [\"Bengali Tiger (2011)\"], [\"Anti-Hero IPA\"], [\"Crank Yanker IPA (2011)\"], [\"Pako\\u2019s EyePA\"], [\"One Hit Wonder\"], [\"G'KNIGHT (12 oz.)\"], [\"Triomphe\"], [\"Upstate I.P.W.\"], [\"Heady Topper\"], [\"Northern Lights India Pale Ale\"], [\"Hop Ottin' IPA (2011)\"], [\"Hop Knot IPA\"], [\"Lumberyard IPA\"], [\"Sunken Island IPA\"], [\"Fire Eagle IPA\"], [\"Ponderosa IPA\"], [\"WET\"], [\"Gandhi-Bot Double IPA \"], [\"Vortex IPA\"], [\"Hop Shock IPA (2010)\"], [\"Snake Handler Double IPA\"], [\"Good People IPA\"], [\"11th Hour IPA\"], [\"Happy Camper IPA\"], [\"Lucky U IPA\"], [\"The Corruption\"], [\"Stowaway IPA\"], [\"Ice Pick Ale\"], [\"Cornerstone IPA\"], [\"Black Iron India Pale Ale\"], [\"Harpoon IPA (2010)\"], [\"Ranger IPA (Current)\"], [\"Avery India Pale Ale\"], [\"Oasis (2010)\"], [\"Tallgrass IPA\"], [\"Third Eye Pale Ale\"], [\"Double Haul IPA\"], [\"Upslope India Pale Ale\"], [\"Epic IPA\"], [\"Modus Hoperandi\"], [\"Snapperhead IPA\"], [\"Ballz Deep Double IPA\"], [\"Gandhi-Bot Double IPA \"], [\"Sea Hag IPA (Current)\"], [\"Caldera IPA\"], [\"Big Swell IPA\"], [\"113 IPA\"], [\"Abrasive Ale\"], [\"Furious\"], [\"Brew Free! or Die IPA\"], [\"GUBNA Imperial IPA\"], [\"Gordon Ale (2009)\"]], \"hovertemplate\": \"Style_Type=IPA<br>IBUs=%{x}<br>ABV=%{y}<br>Beer=%{customdata[0]}<extra></extra>\", \"legendgroup\": \"IPA\", \"marker\": {\"color\": \"#636efa\", \"symbol\": \"circle\"}, \"mode\": \"markers\", \"name\": \"IPA\", \"orientation\": \"v\", \"showlegend\": true, \"type\": \"scatter\", \"x\": [50.0, 68.0, 68.0, 65.0, 100.0, 85.0, 100.0, 42.0, null, null, null, null, null, 47.0, 65.0, 35.0, 72.0, 46.0, null, 90.0, null, 45.0, 90.0, null, 80.0, null, null, null, 60.0, null, null, 100.0, null, null, 47.0, 70.0, 44.0, null, null, null, 68.0, null, null, null, null, null, null, 70.0, 82.0, 45.0, null, 75.0, 90.0, 115.0, null, 69.0, null, 35.0, null, 40.0, 115.0, null, 75.0, 65.0, 63.0, null, 67.0, null, 66.0, 126.0, 75.0, 61.0, 70.0, 70.0, 72.0, 85.0, 82.0, 100.0, 87.0, null, 88.0, 103.0, 58.0, 75.0, null, 72.0, 65.0, 89.0, null, 70.0, 60.0, 82.0, 100.0, 60.0, 70.0, 35.0, null, 60.0, null, null, null, null, null, null, null, 73.0, null, 65.0, 41.0, 70.0, null, 65.0, 70.0, null, 75.0, 55.0, 69.0, 50.0, 75.0, 75.0, 77.0, null, 62.0, 100.0, null, 85.0, 86.0, 75.0, 64.0, 60.0, 38.0, null, null, null, 118.0, null, 69.0, 65.0, 40.0, 81.0, 61.0, null, 62.0, 80.0, null, 50.0, null, 130.0, 64.0, 99.0, null, 70.0, null, 69.0, 75.0, null, 65.0, null, 40.0, 76.0, 65.0, null, 55.0, 60.0, null, 88.0, 75.0, 75.0, 75.0, 75.0, null, null, null, 40.0, 70.0, 55.0, null, null, null, null, null, 80.0, null, 72.0, 65.0, 33.0, 80.0, 42.0, 42.0, null, null, 50.0, null, 45.0, 90.0, 68.0, 40.0, 35.0, 65.0, 77.0, 30.0, 85.0, 44.0, 80.0, null, 73.0, 66.0, 67.0, 87.0, null, 75.0, 37.0, 55.0, 50.0, 45.0, 60.0, 75.0, null, null, null, 61.0, 80.0, null, 108.0, null, 60.0, 72.0, null, null, null, null, 74.0, 60.0, 55.0, 68.0, 104.0, 51.0, null, 60.0, null, null, null, 45.0, null, 110.0, 60.0, 60.0, 83.0, 65.0, null, 60.0, 70.0, 69.0, 111.0, 60.0, 60.0, 60.0, 75.0, 64.0, null, null, 75.0, 70.0, 135.0, 95.0, 93.0, 88.0, 70.0, 48.0, 70.0, null, 45.0, null, 85.0, 99.0, 92.0, null, 45.0, null, null, 80.0, 100.0, null, 104.0, 92.0, 85.0, 100.0, 100.0, 74.0, null, 80.0, 64.0, null, 65.0, 101.0, 69.0, 55.0, 94.0, 70.0, 65.0, 85.0, 65.0, null, null, 30.0, 69.0, 85.0, 62.0, 80.0, null, null, 100.0, 60.0, 51.0, null, 61.0, 75.0, 70.0, 115.0, null, null, 100.0, 35.0, 70.0, null, 77.0, 85.0, 74.0, 75.0, 65.0, 60.0, 66.0, 62.0, 75.0, 74.0, 42.0, null, 90.0, 86.0, 85.0, 85.0, 80.0, 45.0, null, 90.0, 65.0, null, 60.0, null, 60.0, 80.0, null, 65.0, 47.0, 86.0, 66.0, 76.0, null, 70.0, 50.0, null, 95.0, null, null, 42.0, null, null, null, 52.0, 75.0, null, null, 70.0, 100.0, null, 70.0, null, null, null, 65.0, 70.0, 70.0, 60.0, null, 70.0, null, 69.0, 120.0, 70.0, null, 82.0, 51.0, 30.0, 85.0, 65.0, 37.0, null, null, null, 70.0, 110.0, 110.0, 100.0, null, 70.0, null, null, 45.0, 50.0, null, 138.0, 75.0, 75.0, 70.0, null, 36.0, 71.0, 44.0, 70.0, 55.0, 45.0, 105.0, null, 90.0, null, null, 100.0, 100.0, 80.0, 100.0, 115.0, null, null, 43.0, null, 85.0, 85.0, 70.0, 70.0, 70.0, 94.0, 94.0, 42.0, null, 83.0, 65.0, 65.0, 70.0, 70.0, 86.0, 100.0, 60.0, 85.0, 85.0, null, null, null, 40.0, null, null, null, null, 85.0, 100.0, 44.0, 44.0, null, 75.0, null, 91.0, 64.0, null, null, 65.0, 70.0, 100.0, 72.0, 55.0, 103.0, null, 55.0, 60.0, 67.0, null, 44.0, 65.0, 65.0, 47.0, null, 70.0, 55.0, 60.0, 70.0, 80.0, 70.0, null, 77.0, null, 62.0, null, 52.0, null, 70.0, 90.0, null, 48.0, null, 70.0, null, 90.0, 70.0, null, 60.0, 68.0, 70.0, 94.0, 100.0, 69.0, 65.0, 62.0, 70.0, 74.0, 60.0, 60.0, 85.0, null, 70.0, 120.0, 52.0, 80.0, 47.0, null, null, null, null, 90.0, 85.0, 97.0, 85.0, 103.0, 64.0, null, null, 68.0, 80.0, 69.0, null, null, null, 42.0, 70.0, 69.0, 93.0, 60.0, 65.0, 65.0, null, null, 65.0, null, 82.0, 85.0, null, 94.0, 65.0, 113.0, 120.0, 99.0, 65.0, 100.0, 85.0], \"xaxis\": \"x\", \"y\": [4.5, 8.0, 7.6, 6.0, 8.0, 7.5, 8.0, 6.3, 7.7, 9.7, 7.1, 5.0, 7.1, 4.8, 6.5, 5.0, 5.8, 7.0, 6.0, 6.4, 6.5, 5.0, 8.5, 6.0, 6.2, 7.0, 5.9, 8.0, 7.5, 5.5, 4.5, 5.0, 6.5, 5.0, 4.5, 7.0, 4.4, 8.3, 7.2, 6.5, 8.2, 8.5, 8.3, 8.0, 7.5, 7.5, 7.5, 5.9, 7.0, 5.5, 7.0, 7.1, 8.5, 7.5, 5.0, 6.3, 6.8, 4.7, 5.5, 4.5, 9.9, 6.2, 7.5, 6.3, 7.5, 9.9, 5.2, 7.0, 6.8, 8.9, 6.5, 7.0, 6.7, 7.0, 6.6, 6.8, 6.5, 8.3, 7.2, 6.9, 7.0, 8.2, 5.7, 6.0, 6.5, 7.5, 7.7, 7.5, 6.0, 6.7, 6.7, 6.2, 6.8, 6.1, 6.0, 4.9, 5.8, 4.3, 8.1, 6.5, 6.5, 7.1, 9.0, 7.5, 6.5, 7.0, 8.5, 7.2, 4.1, 6.5, 7.0, 6.9, 7.0, 9.6, 6.6, 5.9, 6.9, 4.5, 7.2, 7.2, 6.5, 6.2, 6.2, 8.5, 7.1, 7.5, 7.2, 6.8, 6.3, 7.1, 4.8, 7.5, 7.9, 8.6, 9.0, 8.0, 7.1, 6.9, 3.8, 6.9, 6.3, 6.2, 6.5, 7.0, 5.3, 7.2, 6.8, 9.0, 5.5, 9.1, 8.6, 6.8, 5.0, 8.5, 7.0, 5.0, 6.5, 8.2, 7.0, 6.3, 6.2, 4.5, 4.0, 6.0, 6.2, 8.9, 6.4, 6.3, 6.4, 6.4, 7.0, 9.0, 8.5, 5.5, 6.7, 5.6, 6.0, null, 9.3, 7.0, 4.5, 7.8, 6.6, 6.2, 7.0, 6.5, 8.2, 5.9, 4.0, 4.3, 9.6, 6.0, 4.5, 5.5, 6.8, 6.2, 5.5, 7.5, 7.6, 8.8, 4.2, 9.6, 4.5, 8.7, 6.2, 7.6, 6.8, 6.9, 7.3, 6.9, 7.2, 4.0, 6.0, 5.6, 5.8, 6.5, 9.0, 6.0, 9.6, 6.2, 6.3, 8.0, 7.0, 8.8, 6.5, 7.2, 6.5, 6.3, null, 7.2, 6.3, 7.4, 6.7, 5.0, 7.0, 9.5, 6.9, 6.6, 7.0, 7.0, null, null, 4.6, 5.2, 8.5, 7.0, 7.0, 7.3, 6.2, 6.4, 6.2, 8.0, 6.5, 9.9, 7.0, 7.0, 7.0, 6.5, 6.1, 4.8, 6.0, 9.0, 7.5, 5.9, 6.4, 9.9, 8.0, 6.0, 4.8, 6.2, 9.2, 6.2, 4.2, 7.2, 9.5, 9.4, 7.7, 6.5, 5.5, 7.2, 7.2, 8.2, 6.8, 6.0, 7.1, 7.3, 6.3, 6.3, 6.7, 4.5, 7.0, 6.0, 6.5, 7.2, 9.9, 6.9, 5.8, 7.0, 6.3, 6.9, 8.7, 6.8, 6.8, 6.7, 7.7, 6.9, 7.5, 7.1, 6.2, 7.0, 6.0, 9.2, 5.9, 7.0, 6.2, 6.2, 9.2, 7.0, 8.5, 7.9, 9.3, 6.8, 4.2, 6.7, 6.8, 7.5, 8.5, 6.7, 7.0, 6.8, 6.0, 6.4, 6.4, 7.0, 7.8, 5.9, 7.0, 6.5, 8.0, 8.5, 8.0, 7.0, 7.0, 9.6, 9.9, 6.2, 6.0, 7.4, 6.5, 5.9, 7.0, 2.7, 5.5, 6.8, 8.5, 6.1, 9.8, 6.0, 5.6, 7.3, 8.0, 8.0, 6.3, 6.5, 4.7, 6.5, 6.2, 7.0, 6.5, 7.0, 6.8, 6.0, 6.2, 7.0, 4.0, 6.2, 7.2, 7.8, 6.5, 6.5, 7.5, 7.5, 6.5, 7.0, 6.9, 8.8, 7.3, 8.0, 7.0, 6.2, 7.3, 7.5, 4.5, 7.0, 6.2, 4.0, 6.8, null, 5.1, 7.0, 6.8, 8.5, 9.9, 7.0, 6.7, 8.5, 8.5, 7.2, 6.6, 6.0, 8.2, 5.9, 6.8, 6.8, 6.5, 5.8, 6.5, 6.5, 7.0, 6.2, 6.7, 7.0, 7.2, 8.4, 7.5, 6.2, 6.6, 6.3, 6.5, 9.9, 9.2, 6.0, 6.2, 6.2, 6.4, 8.7, 9.2, 7.0, 7.0, 7.0, 6.1, 6.1, 5.9, null, 7.4, 6.5, 6.5, 8.0, 8.0, 8.5, 8.2, 8.7, 7.1, 8.7, 9.7, 8.7, 6.7, 6.0, 7.0, 6.0, 6.9, 9.7, 9.5, 7.2, 5.0, 5.0, 6.5, 6.6, null, 9.1, 6.1, 4.0, 6.5, 6.2, 7.2, 7.0, 6.6, 6.0, 9.1, 7.2, 6.0, 7.1, 7.0, 5.7, 6.5, 6.2, 6.8, 6.8, 8.0, 6.5, 6.8, 5.9, 7.5, 7.0, 7.0, 8.0, 7.5, 5.7, 5.0, null, 6.5, 5.2, 6.2, 6.5, 6.5, 4.8, 7.5, 7.0, 5.7, 9.3, 6.6, null, 6.2, 6.8, 5.7, 9.7, 8.2, 6.0, 7.2, 6.4, 6.5, 7.8, 6.8, 9.0, 8.7, 6.5, 6.5, 8.0, 6.5, 7.0, 6.7, 6.1, 6.8, 6.2, null, 7.5, 8.8, 7.4, 7.0, 9.3, 6.0, 6.0, 6.6, 6.2, 6.5, 6.9, 6.8, 7.0, null, 5.9, 6.5, 6.3, 7.2, 6.3, 6.5, 6.5, 7.2, 6.5, 6.8, 6.8, 8.4, 8.8, 6.2, 6.1, 6.2, 7.0, 9.7, 6.2, 7.0, 9.9, 8.7], \"yaxis\": \"y\"}, {\"customdata\": [[\"Jucundus\"], [\"Park\"], [\"Whitewater\"], [\"Citra Faced\"], [\"Summer Wheat\"], [\"Waterkeeper\"], [\"Weissenheimer\"], [\"Beach Cruiser\"], [\"Oberon\"], [\"Little Boss\"], [\"Healani\"], [\"Coconoats\"], [\"Blackberry Wheat\"], [\"Bobblehead\"], [\"Suncaster Summer Wheat\"], [\"Nonstop Hef Hop\"], [\"Nonstop Hef Hop\"], [\"Nonstop Hef Hop\"], [\"Nonstop Hef Hop\"], [\"Nonstop Hef Hop\"], [\"Nonstop Hef Hop\"], [\"Nonstop Hef Hop\"], [\"Nonstop Hef Hop\"], [\"Nonstop Hef Hop\"], [\"Nonstop Hef Hop\"], [\"Nonstop Hef Hop\"], [\"Nonstop Hef Hop\"], [\"Watermelon Wheat\"], [\"Laka Laka Pineapple\"], [\"Mr. Blue Sky\"], [\"Weisse Versa (2012)\"], [\"Morning Wood Wheat (Current)\"], [\"Hunny Do Wheat\"], [\"Shotgun Betty\"], [\"Night Cat\"], [\"312 Urban Wheat Ale\"], [\"Occidental Hefeweizen\"], [\"Joey Wheat\"], [\"Monarch Classic American Wheat\"], [\"Weize Guy\"], [\"Oberon\"], [\"Farmer's Daughter Wheat\"], [\"Honey Lav\"], [\"Summer Session Ale\"], [\"Black Market Hefeweizen\"], [\"Contact High\"], [\"Hefe Black\"], [\"Widmer Brothers Hefeweizen\"], [\"312 Urban Wheat Ale\"], [\"Are Wheat There Yet?\"], [\"On the Count of 3 (2015)\"], [\"A Slice of Hefen\"], [\"Heliocentric Hefeweizen\"], [\"Montana Trout Slayer Ale\"], [\"Snapshot\"], [\"Sunshine Wheat Beer\"], [\"King Street Hefeweizen\"], [\"Wet Hot American Wheat Ale\"], [\"In the Weeds\"], [\"Night Cat (2014)\"], [\"1800 Big Log Wheat (2012)\"], [\"Agave Wheat\"], [\"Fortunate Islands\"], [\"Golden Road Hefeweizen\"], [\"Summer Paradise\"], [\"Helios Hefeweizen (2013)\"], [\"Endless Sun Ale\"], [\"Old Chico Crystal Wheat\"], [\"I.W.A. (2011)\"], [\"Schlafly Yakima Wheat Ale\"], [\"Bozone Hefe Weizen\"], [\"No Limits Hefeweizen\"], [\"El Hefe Speaks\"], [\"Tropical Heatwave\"], [\"Mad Beach\"], [\"Point Nude Beach Summer Wheat\"], [\"Summer Swelter\"], [\"Hips Don't Lie\"], [\"Wagon Box Wheat Beer\"], [\"Big Bend Hefeweizen\"], [\"Woolybugger Wheat\"], [\"EOS Hefeweizen\"], [\"Samuel Adams Summer Ale\"], [\"Shenanigans Summer Ale\"], [\"Elder Betty\"], [\"Sweet As Pacific Ale\"], [\"Orange Grove Wheat Ale\"], [\"Narragansett Summer Ale\"], [\"SanTan HefeWeizen\"], [\"Akari Shogun American Wheat Ale\"], [\"Pete's Wicked Summer Brew (1995)\"], [\"Pete's Wicked Summer Brew (2002)\"], [\"Pete's Wicked Summer Brew (1997)\"], [\"Pete's Wicked Summer Brew (1996)\"], [\"Honey Wheat\"], [\"Wachusett Summer\"], [\"Shipyard Summer Ale\"], [\"Dirty Hippie Dark Wheat\"], [\"Dead Horse Amber\"], [\"Wheat the People\"], [\"Dry Dock Hefeweizen\"], [\"Black Walnut Wheat\"], [\"Tonganoxie Honey Wheat\"], [\"Point Nude Beach Summer Wheat\"], [\"Choc Beer (2003)\"], [\"Point Nude Beach Summer Wheat (2011)\"], [\"Montana Trout Slayer Ale (2012)\"], [\"Celsius Summer Ale (2012)\"], [\"Halcyon Unfiltered Wheat\"], [\"Apollo\"], [\"TailGate Hefeweizen\"], [\"Frosted Fields Winter Wheat\"], [\"UFO White\"], [\"Schlafly Hefeweizen\"], [\"312 Urban Wheat Ale (2012)\"], [\"Golden Road Hefeweizen (2012)\"], [\"Dolores River Hefeweizen\"], [\"Endless Summer Ale (2011)\"], [\"White Water Wheat\"], [\"Miner's Gold Hefeweizen\"], [\"Weisse Versa\"], [\"Dundee Summer Wheat Beer\"], [\"Saranac Summer Ale (2011)\"], [\"Panorama Wheat Ale\"], [\"Washita Wheat\"], [\"Halcyon Unfiltered Wheat\"], [\"Sunny Haze\"], [\"Narragansett Summer Ale\"], [\"Pyramid Hefeweizen (2011)\"], [\"SummerBright Ale\"], [\"Whitsun\"], [\"TailGate Hefeweizen\"], [\"Mana Wheat\"], [\"SanTan HefeWeizen (2010)\"], [\"Island Wheat\"], [\"Point Nude Beach Summer Wheat (2010)\"], [\"Dry Heat Hefeweizen (2006)\"], [\"Morning Wood Wheat (Current)\"], [\"Cornstalker Dark Wheat\"], [\"Floppin' Crappie\"], [\"Haywire Hefeweizen (2010)\"], [\"Sunshine Wheat Beer (2009)\"], [\"Heinnieweisse Weissebier\"], [\"Montana Trout Slayer Ale (2009)\"], [\"Royal Weisse Ale\"]], \"hovertemplate\": \"Style_Type=Wheat<br>IBUs=%{x}<br>ABV=%{y}<br>Beer=%{customdata[0]}<extra></extra>\", \"legendgroup\": \"Wheat\", \"marker\": {\"color\": \"#EF553B\", \"symbol\": \"circle\"}, \"mode\": \"markers\", \"name\": \"Wheat\", \"orientation\": \"v\", \"showlegend\": true, \"type\": \"scatter\", \"x\": [24.0, 19.0, null, 64.0, null, null, 16.0, null, null, null, null, null, 11.0, null, 28.0, 20.0, 20.0, 20.0, 20.0, 20.0, 20.0, 20.0, 20.0, 20.0, 20.0, 20.0, 20.0, null, 17.0, 6.0, 16.0, 14.0, 18.0, 11.0, 43.0, 18.0, null, 16.0, 21.0, 15.0, null, null, null, 61.0, 8.0, 28.0, 30.0, 30.0, 18.0, 28.0, 42.0, 15.0, null, 35.0, null, null, 10.0, 22.0, null, 43.0, null, 9.0, 46.0, 15.0, 18.0, null, null, 26.0, null, 45.0, 25.0, null, 11.0, null, 23.0, 7.0, null, null, 15.0, null, 12.0, 10.0, 7.0, 27.0, 13.0, 18.0, null, 24.0, 15.0, null, null, null, null, null, 14.0, null, null, null, null, 13.0, 12.0, 18.0, 22.0, 7.0, 9.0, 7.0, 35.0, null, 20.0, 11.0, 28.0, 25.0, 10.0, 16.0, 20.0, 15.0, null, null, null, null, 15.0, 18.0, null, null, 14.0, 20.0, null, 24.0, 18.0, 15.0, 17.0, 28.0, 15.0, 15.0, null, 7.0, null, 14.0, null, null, 18.0, null, null, 35.0, 11.0], \"xaxis\": \"x\", \"y\": [6.0, 4.7, 6.1, 5.5, 4.5, 5.7, 5.2, 4.5, 5.8, null, 4.5, 6.5, 4.8, 5.1, 5.0, 3.9, 3.9, 3.9, 3.9, 3.9, 3.9, 3.9, 3.9, 3.9, 3.9, 3.9, 3.9, 5.6, 5.1, 4.5, 5.2, 5.9, 4.8, 5.8, 5.8, 4.2, 4.7, 6.8, 4.3, 5.0, 5.8, 4.2, 5.2, 5.0, 5.0, 5.0, 4.9, 4.9, 4.2, 5.5, 7.0, 5.4, 4.7, 5.0, 5.2, 4.8, 5.7, 5.0, 5.5, 5.8, 5.0, 4.2, 4.7, 4.6, 5.0, 4.7, 4.5, 4.8, 6.0, 5.0, 6.0, 5.0, 5.3, 5.2, 4.8, 5.2, 4.7, 6.2, 5.9, 5.6, 4.6, 4.8, 5.3, 4.6, 5.5, 6.0, null, 4.2, 5.0, 5.5, 4.7, 4.7, 4.7, 4.7, 4.7, 4.7, 5.1, 5.3, 4.0, 4.4, 4.3, 4.5, 4.4, 5.0, 4.0, 5.0, 5.0, 4.7, 5.0, 5.2, 4.9, 6.0, 4.8, 4.1, 4.2, 4.6, null, 4.8, 5.0, 5.0, 5.2, 4.5, 4.7, 4.6, 5.3, 5.0, 5.0, 4.2, 5.2, 4.5, 6.2, 4.9, 5.5, 5.0, 4.2, 5.0, 5.5, 5.9, null, 4.5, 5.2, 4.8, 4.9, 5.0, 5.6], \"yaxis\": \"y\"}],                        {\"legend\": {\"title\": {\"text\": \"Style_Type\"}, \"tracegroupgap\": 0}, \"margin\": {\"t\": 60}, \"template\": {\"data\": {\"bar\": [{\"error_x\": {\"color\": \"#2a3f5f\"}, \"error_y\": {\"color\": \"#2a3f5f\"}, \"marker\": {\"line\": {\"color\": \"#E5ECF6\", \"width\": 0.5}}, \"type\": \"bar\"}], \"barpolar\": [{\"marker\": {\"line\": {\"color\": \"#E5ECF6\", \"width\": 0.5}}, \"type\": \"barpolar\"}], \"carpet\": [{\"aaxis\": {\"endlinecolor\": \"#2a3f5f\", \"gridcolor\": \"white\", \"linecolor\": \"white\", \"minorgridcolor\": \"white\", \"startlinecolor\": \"#2a3f5f\"}, \"baxis\": {\"endlinecolor\": \"#2a3f5f\", \"gridcolor\": \"white\", \"linecolor\": \"white\", \"minorgridcolor\": \"white\", \"startlinecolor\": \"#2a3f5f\"}, \"type\": \"carpet\"}], \"choropleth\": [{\"colorbar\": {\"outlinewidth\": 0, \"ticks\": \"\"}, \"type\": \"choropleth\"}], \"contour\": [{\"colorbar\": {\"outlinewidth\": 0, \"ticks\": \"\"}, \"colorscale\": [[0.0, \"#0d0887\"], [0.1111111111111111, \"#46039f\"], [0.2222222222222222, \"#7201a8\"], [0.3333333333333333, \"#9c179e\"], [0.4444444444444444, \"#bd3786\"], [0.5555555555555556, \"#d8576b\"], [0.6666666666666666, \"#ed7953\"], [0.7777777777777778, \"#fb9f3a\"], [0.8888888888888888, \"#fdca26\"], [1.0, \"#f0f921\"]], \"type\": \"contour\"}], \"contourcarpet\": [{\"colorbar\": {\"outlinewidth\": 0, \"ticks\": \"\"}, \"type\": \"contourcarpet\"}], \"heatmap\": [{\"colorbar\": {\"outlinewidth\": 0, \"ticks\": \"\"}, \"colorscale\": [[0.0, \"#0d0887\"], [0.1111111111111111, \"#46039f\"], [0.2222222222222222, \"#7201a8\"], [0.3333333333333333, \"#9c179e\"], [0.4444444444444444, \"#bd3786\"], [0.5555555555555556, \"#d8576b\"], [0.6666666666666666, \"#ed7953\"], [0.7777777777777778, \"#fb9f3a\"], [0.8888888888888888, \"#fdca26\"], [1.0, \"#f0f921\"]], \"type\": \"heatmap\"}], \"heatmapgl\": [{\"colorbar\": {\"outlinewidth\": 0, \"ticks\": \"\"}, \"colorscale\": [[0.0, \"#0d0887\"], [0.1111111111111111, \"#46039f\"], [0.2222222222222222, \"#7201a8\"], [0.3333333333333333, \"#9c179e\"], [0.4444444444444444, \"#bd3786\"], [0.5555555555555556, \"#d8576b\"], [0.6666666666666666, \"#ed7953\"], [0.7777777777777778, \"#fb9f3a\"], [0.8888888888888888, \"#fdca26\"], [1.0, \"#f0f921\"]], \"type\": \"heatmapgl\"}], \"histogram\": [{\"marker\": {\"colorbar\": {\"outlinewidth\": 0, \"ticks\": \"\"}}, \"type\": \"histogram\"}], \"histogram2d\": [{\"colorbar\": {\"outlinewidth\": 0, \"ticks\": \"\"}, \"colorscale\": [[0.0, \"#0d0887\"], [0.1111111111111111, \"#46039f\"], [0.2222222222222222, \"#7201a8\"], [0.3333333333333333, \"#9c179e\"], [0.4444444444444444, \"#bd3786\"], [0.5555555555555556, \"#d8576b\"], [0.6666666666666666, \"#ed7953\"], [0.7777777777777778, \"#fb9f3a\"], [0.8888888888888888, \"#fdca26\"], [1.0, \"#f0f921\"]], \"type\": \"histogram2d\"}], \"histogram2dcontour\": [{\"colorbar\": {\"outlinewidth\": 0, \"ticks\": \"\"}, \"colorscale\": [[0.0, \"#0d0887\"], [0.1111111111111111, \"#46039f\"], [0.2222222222222222, \"#7201a8\"], [0.3333333333333333, \"#9c179e\"], [0.4444444444444444, \"#bd3786\"], [0.5555555555555556, \"#d8576b\"], [0.6666666666666666, \"#ed7953\"], [0.7777777777777778, \"#fb9f3a\"], [0.8888888888888888, \"#fdca26\"], [1.0, \"#f0f921\"]], \"type\": \"histogram2dcontour\"}], \"mesh3d\": [{\"colorbar\": {\"outlinewidth\": 0, \"ticks\": \"\"}, \"type\": \"mesh3d\"}], \"parcoords\": [{\"line\": {\"colorbar\": {\"outlinewidth\": 0, \"ticks\": \"\"}}, \"type\": \"parcoords\"}], \"pie\": [{\"automargin\": true, \"type\": \"pie\"}], \"scatter\": [{\"marker\": {\"colorbar\": {\"outlinewidth\": 0, \"ticks\": \"\"}}, \"type\": \"scatter\"}], \"scatter3d\": [{\"line\": {\"colorbar\": {\"outlinewidth\": 0, \"ticks\": \"\"}}, \"marker\": {\"colorbar\": {\"outlinewidth\": 0, \"ticks\": \"\"}}, \"type\": \"scatter3d\"}], \"scattercarpet\": [{\"marker\": {\"colorbar\": {\"outlinewidth\": 0, \"ticks\": \"\"}}, \"type\": \"scattercarpet\"}], \"scattergeo\": [{\"marker\": {\"colorbar\": {\"outlinewidth\": 0, \"ticks\": \"\"}}, \"type\": \"scattergeo\"}], \"scattergl\": [{\"marker\": {\"colorbar\": {\"outlinewidth\": 0, \"ticks\": \"\"}}, \"type\": \"scattergl\"}], \"scattermapbox\": [{\"marker\": {\"colorbar\": {\"outlinewidth\": 0, \"ticks\": \"\"}}, \"type\": \"scattermapbox\"}], \"scatterpolar\": [{\"marker\": {\"colorbar\": {\"outlinewidth\": 0, \"ticks\": \"\"}}, \"type\": \"scatterpolar\"}], \"scatterpolargl\": [{\"marker\": {\"colorbar\": {\"outlinewidth\": 0, \"ticks\": \"\"}}, \"type\": \"scatterpolargl\"}], \"scatterternary\": [{\"marker\": {\"colorbar\": {\"outlinewidth\": 0, \"ticks\": \"\"}}, \"type\": \"scatterternary\"}], \"surface\": [{\"colorbar\": {\"outlinewidth\": 0, \"ticks\": \"\"}, \"colorscale\": [[0.0, \"#0d0887\"], [0.1111111111111111, \"#46039f\"], [0.2222222222222222, \"#7201a8\"], [0.3333333333333333, \"#9c179e\"], [0.4444444444444444, \"#bd3786\"], [0.5555555555555556, \"#d8576b\"], [0.6666666666666666, \"#ed7953\"], [0.7777777777777778, \"#fb9f3a\"], [0.8888888888888888, \"#fdca26\"], [1.0, \"#f0f921\"]], \"type\": \"surface\"}], \"table\": [{\"cells\": {\"fill\": {\"color\": \"#EBF0F8\"}, \"line\": {\"color\": \"white\"}}, \"header\": {\"fill\": {\"color\": \"#C8D4E3\"}, \"line\": {\"color\": \"white\"}}, \"type\": \"table\"}]}, \"layout\": {\"annotationdefaults\": {\"arrowcolor\": \"#2a3f5f\", \"arrowhead\": 0, \"arrowwidth\": 1}, \"autotypenumbers\": \"strict\", \"coloraxis\": {\"colorbar\": {\"outlinewidth\": 0, \"ticks\": \"\"}}, \"colorscale\": {\"diverging\": [[0, \"#8e0152\"], [0.1, \"#c51b7d\"], [0.2, \"#de77ae\"], [0.3, \"#f1b6da\"], [0.4, \"#fde0ef\"], [0.5, \"#f7f7f7\"], [0.6, \"#e6f5d0\"], [0.7, \"#b8e186\"], [0.8, \"#7fbc41\"], [0.9, \"#4d9221\"], [1, \"#276419\"]], \"sequential\": [[0.0, \"#0d0887\"], [0.1111111111111111, \"#46039f\"], [0.2222222222222222, \"#7201a8\"], [0.3333333333333333, \"#9c179e\"], [0.4444444444444444, \"#bd3786\"], [0.5555555555555556, \"#d8576b\"], [0.6666666666666666, \"#ed7953\"], [0.7777777777777778, \"#fb9f3a\"], [0.8888888888888888, \"#fdca26\"], [1.0, \"#f0f921\"]], \"sequentialminus\": [[0.0, \"#0d0887\"], [0.1111111111111111, \"#46039f\"], [0.2222222222222222, \"#7201a8\"], [0.3333333333333333, \"#9c179e\"], [0.4444444444444444, \"#bd3786\"], [0.5555555555555556, \"#d8576b\"], [0.6666666666666666, \"#ed7953\"], [0.7777777777777778, \"#fb9f3a\"], [0.8888888888888888, \"#fdca26\"], [1.0, \"#f0f921\"]]}, \"colorway\": [\"#636efa\", \"#EF553B\", \"#00cc96\", \"#ab63fa\", \"#FFA15A\", \"#19d3f3\", \"#FF6692\", \"#B6E880\", \"#FF97FF\", \"#FECB52\"], \"font\": {\"color\": \"#2a3f5f\"}, \"geo\": {\"bgcolor\": \"white\", \"lakecolor\": \"white\", \"landcolor\": \"#E5ECF6\", \"showlakes\": true, \"showland\": true, \"subunitcolor\": \"white\"}, \"hoverlabel\": {\"align\": \"left\"}, \"hovermode\": \"closest\", \"mapbox\": {\"style\": \"light\"}, \"paper_bgcolor\": \"white\", \"plot_bgcolor\": \"#E5ECF6\", \"polar\": {\"angularaxis\": {\"gridcolor\": \"white\", \"linecolor\": \"white\", \"ticks\": \"\"}, \"bgcolor\": \"#E5ECF6\", \"radialaxis\": {\"gridcolor\": \"white\", \"linecolor\": \"white\", \"ticks\": \"\"}}, \"scene\": {\"xaxis\": {\"backgroundcolor\": \"#E5ECF6\", \"gridcolor\": \"white\", \"gridwidth\": 2, \"linecolor\": \"white\", \"showbackground\": true, \"ticks\": \"\", \"zerolinecolor\": \"white\"}, \"yaxis\": {\"backgroundcolor\": \"#E5ECF6\", \"gridcolor\": \"white\", \"gridwidth\": 2, \"linecolor\": \"white\", \"showbackground\": true, \"ticks\": \"\", \"zerolinecolor\": \"white\"}, \"zaxis\": {\"backgroundcolor\": \"#E5ECF6\", \"gridcolor\": \"white\", \"gridwidth\": 2, \"linecolor\": \"white\", \"showbackground\": true, \"ticks\": \"\", \"zerolinecolor\": \"white\"}}, \"shapedefaults\": {\"line\": {\"color\": \"#2a3f5f\"}}, \"ternary\": {\"aaxis\": {\"gridcolor\": \"white\", \"linecolor\": \"white\", \"ticks\": \"\"}, \"baxis\": {\"gridcolor\": \"white\", \"linecolor\": \"white\", \"ticks\": \"\"}, \"bgcolor\": \"#E5ECF6\", \"caxis\": {\"gridcolor\": \"white\", \"linecolor\": \"white\", \"ticks\": \"\"}}, \"title\": {\"x\": 0.05}, \"xaxis\": {\"automargin\": true, \"gridcolor\": \"white\", \"linecolor\": \"white\", \"ticks\": \"\", \"title\": {\"standoff\": 15}, \"zerolinecolor\": \"white\", \"zerolinewidth\": 2}, \"yaxis\": {\"automargin\": true, \"gridcolor\": \"white\", \"linecolor\": \"white\", \"ticks\": \"\", \"title\": {\"standoff\": 15}, \"zerolinecolor\": \"white\", \"zerolinewidth\": 2}}}, \"xaxis\": {\"anchor\": \"y\", \"domain\": [0.0, 1.0], \"title\": {\"text\": \"IBUs\"}}, \"yaxis\": {\"anchor\": \"x\", \"domain\": [0.0, 1.0], \"title\": {\"text\": \"ABV\"}}},                        {\"responsive\": true}                    ).then(function(){\n",
       "                            \n",
       "var gd = document.getElementById('2fd867e6-a628-4c3b-b449-2ab83ec5aaf0');\n",
       "var x = new MutationObserver(function (mutations, observer) {{\n",
       "        var display = window.getComputedStyle(gd).display;\n",
       "        if (!display || display === 'none') {{\n",
       "            console.log([gd, 'removed!']);\n",
       "            Plotly.purge(gd);\n",
       "            observer.disconnect();\n",
       "        }}\n",
       "}});\n",
       "\n",
       "// Listen for the removal of the full notebook cells\n",
       "var notebookContainer = gd.closest('#notebook-container');\n",
       "if (notebookContainer) {{\n",
       "    x.observe(notebookContainer, {childList: true});\n",
       "}}\n",
       "\n",
       "// Listen for the clearing of the current output cell\n",
       "var outputEl = gd.closest('.output');\n",
       "if (outputEl) {{\n",
       "    x.observe(outputEl, {childList: true});\n",
       "}}\n",
       "\n",
       "                        })                };                });            </script>        </div>"
      ]
     },
     "metadata": {},
     "output_type": "display_data"
    }
   ],
   "source": [
    "px.scatter(ipa_wit,x='IBUs',y='ABV',color='Style_Type',hover_data=['Beer'])"
   ]
  },
  {
   "cell_type": "markdown",
   "metadata": {
    "collapsed": true
   },
   "source": [
    "## Good work!\n",
    "\n",
    "If you made it this far you deserve a drink."
   ]
  },
  {
   "cell_type": "code",
   "execution_count": null,
   "metadata": {},
   "outputs": [],
   "source": [
    "# o/"
   ]
  }
 ],
 "metadata": {
  "kernelspec": {
   "name": "python3",
   "display_name": "Python 3.9.5 64-bit"
  },
  "language_info": {
   "codemirror_mode": {
    "name": "ipython",
    "version": 3
   },
   "file_extension": ".py",
   "mimetype": "text/x-python",
   "name": "python",
   "nbconvert_exporter": "python",
   "pygments_lexer": "ipython3",
   "version": "3.9.5"
  },
  "interpreter": {
   "hash": "31f2aee4e71d21fbe5cf8b01ff0e069b9275f58929596ceb00d14d90e3e16cd6"
  }
 },
 "nbformat": 4,
 "nbformat_minor": 2
}