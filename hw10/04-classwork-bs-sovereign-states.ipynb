{
 "cells": [
  {
   "cell_type": "markdown",
   "id": "384edd27-ab7f-409c-8881-edf70501f42e",
   "metadata": {},
   "source": [
    "# 04 - More BeautifulSoup practice\n",
    "Using the soverign states Wikipedia page, you're going to identify different parts of the unconventionally "
   ]
  },
  {
   "cell_type": "markdown",
   "id": "cd9a24f2-5614-4787-92a5-963dec15bd3f",
   "metadata": {},
   "source": [
    "## 1. Select all the rows of the first table on the page"
   ]
  },
  {
   "cell_type": "code",
   "execution_count": 2,
   "id": "79dbee50-2da4-4eb8-b9ac-fb0bf4c08bb0",
   "metadata": {},
   "outputs": [],
   "source": [
    "import pandas as pd\n",
    "from bs4 import BeautifulSoup\n",
    "import requests\n",
    "\n",
    "pd.set_option('display.max_rows', 255)"
   ]
  },
  {
   "cell_type": "code",
   "execution_count": 4,
   "id": "006a8dc5-658b-4c01-babd-2824a74a8713",
   "metadata": {},
   "outputs": [],
   "source": [
    "# soverign states wikipedia url\n",
    "states_url = 'https://en.wikipedia.org/wiki/List_of_sovereign_states'"
   ]
  },
  {
   "cell_type": "code",
   "execution_count": 3,
   "id": "78b99568-fd4f-4bc6-83e0-76737b9a1d68",
   "metadata": {},
   "outputs": [],
   "source": [
    "# select the first table\n",
    "df = pd.read_html(states_url, flavor='html5lib')[0]"
   ]
  },
  {
   "cell_type": "code",
   "execution_count": 16,
   "id": "5ee86266-0e41-4bfe-8554-658f855678a1",
   "metadata": {},
   "outputs": [
    {
     "output_type": "execute_result",
     "data": {
      "text/plain": [
       "                               Common and formal names  \\\n",
       "226           ↑ UN member states and observer states ↑   \n",
       "227                                                NaN   \n",
       "228                                   ↓ Other states ↓   \n",
       "229                    Abkhazia – Republic of Abkhazia   \n",
       "230                  Artsakh – Republic of Artsakh[ag]   \n",
       "231                                       Cook Islands   \n",
       "232                        Kosovo – Republic of Kosovo   \n",
       "233                                               Niue   \n",
       "234  Northern Cyprus – Turkish Republic of Northern...   \n",
       "235                   Sahrawi Arab Democratic Republic   \n",
       "236                Somaliland – Republic of Somaliland   \n",
       "237  South Ossetia – Republic of South Ossetia–the ...   \n",
       "238                      Taiwan – Republic of China[l]   \n",
       "239   Transnistria – Pridnestrovian Moldavian Republic   \n",
       "240                                   ↑ Other states ↑   \n",
       "241                                                NaN   \n",
       "\n",
       "                    Membership within the UN System[a]  \\\n",
       "226                                                NaN   \n",
       "227                                                NaN   \n",
       "228                                                NaN   \n",
       "229                                      No membership   \n",
       "230                                      No membership   \n",
       "231            Member of eight UN specialized agencies   \n",
       "232              Member of two UN specialized agencies   \n",
       "233             Member of five UN specialized agencies   \n",
       "234                                      No membership   \n",
       "235                                      No membership   \n",
       "236                                      No membership   \n",
       "237                                      No membership   \n",
       "238  Former UN member and former permanent UN Secur...   \n",
       "239                                      No membership   \n",
       "240                                                NaN   \n",
       "241                                                NaN   \n",
       "\n",
       "                        Sovereignty dispute[b]  \\\n",
       "226                                        NaN   \n",
       "227                                        NaN   \n",
       "228                                        NaN   \n",
       "229                         Claimed by Georgia   \n",
       "230                      Claimed by Azerbaijan   \n",
       "231                 None(See political status)   \n",
       "232                          Claimed by Serbia   \n",
       "233                 None(See political status)   \n",
       "234          Claimed by the Republic of Cyprus   \n",
       "235                         Claimed by Morocco   \n",
       "236                         Claimed by Somalia   \n",
       "237                         Claimed by Georgia   \n",
       "238  Claimed by the People's Republic of China   \n",
       "239                         Claimed by Moldova   \n",
       "240                                        NaN   \n",
       "241                                        NaN   \n",
       "\n",
       "    Further information on status and recognition of sovereignty[d]  \n",
       "226                                                NaN               \n",
       "227                                                NaN               \n",
       "228                                                NaN               \n",
       "229  Recognised by Russia, Nauru, Nicaragua, Syria,...               \n",
       "230  A de facto independent state,[56][57][58] reco...               \n",
       "231  A state in free association with New Zealand, ...               \n",
       "232  Pursuant to United Nations Security Council Re...               \n",
       "233  A state in free association with New Zealand, ...               \n",
       "234  Recognised only by Turkey. Under the name \"Tur...               \n",
       "235  Recognised at some stage by 84 UN member state...               \n",
       "236  A de facto independent state,[56][65][66][67][...               \n",
       "237  A de facto independent state,[70] recognised b...               \n",
       "238  A state competing (nominally) for recognition ...               \n",
       "239  A de facto independent state,[56] recognised o...               \n",
       "240                                                NaN               \n",
       "241                                                NaN               "
      ],
      "text/html": "<div>\n<style scoped>\n    .dataframe tbody tr th:only-of-type {\n        vertical-align: middle;\n    }\n\n    .dataframe tbody tr th {\n        vertical-align: top;\n    }\n\n    .dataframe thead th {\n        text-align: right;\n    }\n</style>\n<table border=\"1\" class=\"dataframe\">\n  <thead>\n    <tr style=\"text-align: right;\">\n      <th></th>\n      <th>Common and formal names</th>\n      <th>Membership within the UN System[a]</th>\n      <th>Sovereignty dispute[b]</th>\n      <th>Further information on status and recognition of sovereignty[d]</th>\n    </tr>\n  </thead>\n  <tbody>\n    <tr>\n      <th>226</th>\n      <td>↑ UN member states and observer states ↑</td>\n      <td>NaN</td>\n      <td>NaN</td>\n      <td>NaN</td>\n    </tr>\n    <tr>\n      <th>227</th>\n      <td>NaN</td>\n      <td>NaN</td>\n      <td>NaN</td>\n      <td>NaN</td>\n    </tr>\n    <tr>\n      <th>228</th>\n      <td>↓ Other states ↓</td>\n      <td>NaN</td>\n      <td>NaN</td>\n      <td>NaN</td>\n    </tr>\n    <tr>\n      <th>229</th>\n      <td>Abkhazia – Republic of Abkhazia</td>\n      <td>No membership</td>\n      <td>Claimed by Georgia</td>\n      <td>Recognised by Russia, Nauru, Nicaragua, Syria,...</td>\n    </tr>\n    <tr>\n      <th>230</th>\n      <td>Artsakh – Republic of Artsakh[ag]</td>\n      <td>No membership</td>\n      <td>Claimed by Azerbaijan</td>\n      <td>A de facto independent state,[56][57][58] reco...</td>\n    </tr>\n    <tr>\n      <th>231</th>\n      <td>Cook Islands</td>\n      <td>Member of eight UN specialized agencies</td>\n      <td>None(See political status)</td>\n      <td>A state in free association with New Zealand, ...</td>\n    </tr>\n    <tr>\n      <th>232</th>\n      <td>Kosovo – Republic of Kosovo</td>\n      <td>Member of two UN specialized agencies</td>\n      <td>Claimed by Serbia</td>\n      <td>Pursuant to United Nations Security Council Re...</td>\n    </tr>\n    <tr>\n      <th>233</th>\n      <td>Niue</td>\n      <td>Member of five UN specialized agencies</td>\n      <td>None(See political status)</td>\n      <td>A state in free association with New Zealand, ...</td>\n    </tr>\n    <tr>\n      <th>234</th>\n      <td>Northern Cyprus – Turkish Republic of Northern...</td>\n      <td>No membership</td>\n      <td>Claimed by the Republic of Cyprus</td>\n      <td>Recognised only by Turkey. Under the name \"Tur...</td>\n    </tr>\n    <tr>\n      <th>235</th>\n      <td>Sahrawi Arab Democratic Republic</td>\n      <td>No membership</td>\n      <td>Claimed by Morocco</td>\n      <td>Recognised at some stage by 84 UN member state...</td>\n    </tr>\n    <tr>\n      <th>236</th>\n      <td>Somaliland – Republic of Somaliland</td>\n      <td>No membership</td>\n      <td>Claimed by Somalia</td>\n      <td>A de facto independent state,[56][65][66][67][...</td>\n    </tr>\n    <tr>\n      <th>237</th>\n      <td>South Ossetia – Republic of South Ossetia–the ...</td>\n      <td>No membership</td>\n      <td>Claimed by Georgia</td>\n      <td>A de facto independent state,[70] recognised b...</td>\n    </tr>\n    <tr>\n      <th>238</th>\n      <td>Taiwan – Republic of China[l]</td>\n      <td>Former UN member and former permanent UN Secur...</td>\n      <td>Claimed by the People's Republic of China</td>\n      <td>A state competing (nominally) for recognition ...</td>\n    </tr>\n    <tr>\n      <th>239</th>\n      <td>Transnistria – Pridnestrovian Moldavian Republic</td>\n      <td>No membership</td>\n      <td>Claimed by Moldova</td>\n      <td>A de facto independent state,[56] recognised o...</td>\n    </tr>\n    <tr>\n      <th>240</th>\n      <td>↑ Other states ↑</td>\n      <td>NaN</td>\n      <td>NaN</td>\n      <td>NaN</td>\n    </tr>\n    <tr>\n      <th>241</th>\n      <td>NaN</td>\n      <td>NaN</td>\n      <td>NaN</td>\n      <td>NaN</td>\n    </tr>\n  </tbody>\n</table>\n</div>"
     },
     "metadata": {},
     "execution_count": 16
    }
   ],
   "source": [
    "df.tail(16)"
   ]
  },
  {
   "cell_type": "markdown",
   "id": "661ae4e8-1b62-45f6-8264-a384a883c635",
   "metadata": {},
   "source": [
    "## 2. Extract text only from all td tags\n",
    "You'll do this to identify where to separate the two tables"
   ]
  },
  {
   "cell_type": "code",
   "execution_count": 25,
   "id": "ef088d34-bf36-4ed6-8730-9ead7a2da7fb",
   "metadata": {},
   "outputs": [],
   "source": [
    "# separate the second table from the first with list indexing\n",
    "table1 = df[2:-16].dropna()\n"
   ]
  },
  {
   "cell_type": "code",
   "execution_count": 26,
   "id": "23272bac-bb7a-4f81-a4b1-dd699a37fd9e",
   "metadata": {},
   "outputs": [
    {
     "output_type": "execute_result",
     "data": {
      "text/plain": [
       "              Common and formal names Membership within the UN System[a]  \\\n",
       "2     Abkhazia → See Abkhazia listing    Abkhazia → See Abkhazia listing   \n",
       "6   Andorra – Principality of Andorra                    UN member state   \n",
       "8                 Antigua and Barbuda                    UN member state   \n",
       "9   Argentina – Argentine Republic[g]                    UN member state   \n",
       "10      Armenia – Republic of Armenia                    UN member state   \n",
       "\n",
       "             Sovereignty dispute[b]  \\\n",
       "2   Abkhazia → See Abkhazia listing   \n",
       "6                              None   \n",
       "8                              None   \n",
       "9                              None   \n",
       "10      Not recognised by Pakistan.   \n",
       "\n",
       "   Further information on status and recognition of sovereignty[d]  \n",
       "2                     Abkhazia → See Abkhazia listing               \n",
       "6   Andorra is a co-principality in which the offi...               \n",
       "8   Antigua and Barbuda is a Commonwealth realm[e]...               \n",
       "9   Argentina is a federation of 23 provinces and ...               \n",
       "10  Armenia is not recognised by Pakistan due to t...               "
      ],
      "text/html": "<div>\n<style scoped>\n    .dataframe tbody tr th:only-of-type {\n        vertical-align: middle;\n    }\n\n    .dataframe tbody tr th {\n        vertical-align: top;\n    }\n\n    .dataframe thead th {\n        text-align: right;\n    }\n</style>\n<table border=\"1\" class=\"dataframe\">\n  <thead>\n    <tr style=\"text-align: right;\">\n      <th></th>\n      <th>Common and formal names</th>\n      <th>Membership within the UN System[a]</th>\n      <th>Sovereignty dispute[b]</th>\n      <th>Further information on status and recognition of sovereignty[d]</th>\n    </tr>\n  </thead>\n  <tbody>\n    <tr>\n      <th>2</th>\n      <td>Abkhazia → See Abkhazia listing</td>\n      <td>Abkhazia → See Abkhazia listing</td>\n      <td>Abkhazia → See Abkhazia listing</td>\n      <td>Abkhazia → See Abkhazia listing</td>\n    </tr>\n    <tr>\n      <th>6</th>\n      <td>Andorra – Principality of Andorra</td>\n      <td>UN member state</td>\n      <td>None</td>\n      <td>Andorra is a co-principality in which the offi...</td>\n    </tr>\n    <tr>\n      <th>8</th>\n      <td>Antigua and Barbuda</td>\n      <td>UN member state</td>\n      <td>None</td>\n      <td>Antigua and Barbuda is a Commonwealth realm[e]...</td>\n    </tr>\n    <tr>\n      <th>9</th>\n      <td>Argentina – Argentine Republic[g]</td>\n      <td>UN member state</td>\n      <td>None</td>\n      <td>Argentina is a federation of 23 provinces and ...</td>\n    </tr>\n    <tr>\n      <th>10</th>\n      <td>Armenia – Republic of Armenia</td>\n      <td>UN member state</td>\n      <td>Not recognised by Pakistan.</td>\n      <td>Armenia is not recognised by Pakistan due to t...</td>\n    </tr>\n  </tbody>\n</table>\n</div>"
     },
     "metadata": {},
     "execution_count": 26
    }
   ],
   "source": [
    "# check the first couple of entries\n",
    "table1.head(5)"
   ]
  },
  {
   "cell_type": "code",
   "execution_count": 10,
   "id": "47592eb2-2a71-4ac6-9af4-a5a1d62f5745",
   "metadata": {},
   "outputs": [],
   "source": [
    "# now separate the list based on the information we found from the data frames above and gather the nested tags from each td tag\n",
    "# we also don't want rows where there is a td of colspan 4\n",
    "\n",
    "tbl1 = table1[~table1['Common and formal names'].str.contains(\"→\")]\n",
    "tbl1"
   ]
  },
  {
   "cell_type": "markdown",
   "id": "edf6add9-5efe-4c2b-9818-0512292f954e",
   "metadata": {},
   "source": [
    "### a. Other states (table 2)\n"
   ]
  },
  {
   "cell_type": "code",
   "execution_count": 33,
   "metadata": {},
   "outputs": [
    {
     "output_type": "execute_result",
     "data": {
      "text/plain": [
       "                               Common and formal names  \\\n",
       "229                    Abkhazia – Republic of Abkhazia   \n",
       "230                  Artsakh – Republic of Artsakh[ag]   \n",
       "231                                       Cook Islands   \n",
       "232                        Kosovo – Republic of Kosovo   \n",
       "233                                               Niue   \n",
       "234  Northern Cyprus – Turkish Republic of Northern...   \n",
       "235                   Sahrawi Arab Democratic Republic   \n",
       "236                Somaliland – Republic of Somaliland   \n",
       "237  South Ossetia – Republic of South Ossetia–the ...   \n",
       "238                      Taiwan – Republic of China[l]   \n",
       "239   Transnistria – Pridnestrovian Moldavian Republic   \n",
       "\n",
       "                    Membership within the UN System[a]  \\\n",
       "229                                      No membership   \n",
       "230                                      No membership   \n",
       "231            Member of eight UN specialized agencies   \n",
       "232              Member of two UN specialized agencies   \n",
       "233             Member of five UN specialized agencies   \n",
       "234                                      No membership   \n",
       "235                                      No membership   \n",
       "236                                      No membership   \n",
       "237                                      No membership   \n",
       "238  Former UN member and former permanent UN Secur...   \n",
       "239                                      No membership   \n",
       "\n",
       "                        Sovereignty dispute[b]  \\\n",
       "229                         Claimed by Georgia   \n",
       "230                      Claimed by Azerbaijan   \n",
       "231                 None(See political status)   \n",
       "232                          Claimed by Serbia   \n",
       "233                 None(See political status)   \n",
       "234          Claimed by the Republic of Cyprus   \n",
       "235                         Claimed by Morocco   \n",
       "236                         Claimed by Somalia   \n",
       "237                         Claimed by Georgia   \n",
       "238  Claimed by the People's Republic of China   \n",
       "239                         Claimed by Moldova   \n",
       "\n",
       "    Further information on status and recognition of sovereignty[d]  \n",
       "229  Recognised by Russia, Nauru, Nicaragua, Syria,...               \n",
       "230  A de facto independent state,[56][57][58] reco...               \n",
       "231  A state in free association with New Zealand, ...               \n",
       "232  Pursuant to United Nations Security Council Re...               \n",
       "233  A state in free association with New Zealand, ...               \n",
       "234  Recognised only by Turkey. Under the name \"Tur...               \n",
       "235  Recognised at some stage by 84 UN member state...               \n",
       "236  A de facto independent state,[56][65][66][67][...               \n",
       "237  A de facto independent state,[70] recognised b...               \n",
       "238  A state competing (nominally) for recognition ...               \n",
       "239  A de facto independent state,[56] recognised o...               "
      ],
      "text/html": "<div>\n<style scoped>\n    .dataframe tbody tr th:only-of-type {\n        vertical-align: middle;\n    }\n\n    .dataframe tbody tr th {\n        vertical-align: top;\n    }\n\n    .dataframe thead th {\n        text-align: right;\n    }\n</style>\n<table border=\"1\" class=\"dataframe\">\n  <thead>\n    <tr style=\"text-align: right;\">\n      <th></th>\n      <th>Common and formal names</th>\n      <th>Membership within the UN System[a]</th>\n      <th>Sovereignty dispute[b]</th>\n      <th>Further information on status and recognition of sovereignty[d]</th>\n    </tr>\n  </thead>\n  <tbody>\n    <tr>\n      <th>229</th>\n      <td>Abkhazia – Republic of Abkhazia</td>\n      <td>No membership</td>\n      <td>Claimed by Georgia</td>\n      <td>Recognised by Russia, Nauru, Nicaragua, Syria,...</td>\n    </tr>\n    <tr>\n      <th>230</th>\n      <td>Artsakh – Republic of Artsakh[ag]</td>\n      <td>No membership</td>\n      <td>Claimed by Azerbaijan</td>\n      <td>A de facto independent state,[56][57][58] reco...</td>\n    </tr>\n    <tr>\n      <th>231</th>\n      <td>Cook Islands</td>\n      <td>Member of eight UN specialized agencies</td>\n      <td>None(See political status)</td>\n      <td>A state in free association with New Zealand, ...</td>\n    </tr>\n    <tr>\n      <th>232</th>\n      <td>Kosovo – Republic of Kosovo</td>\n      <td>Member of two UN specialized agencies</td>\n      <td>Claimed by Serbia</td>\n      <td>Pursuant to United Nations Security Council Re...</td>\n    </tr>\n    <tr>\n      <th>233</th>\n      <td>Niue</td>\n      <td>Member of five UN specialized agencies</td>\n      <td>None(See political status)</td>\n      <td>A state in free association with New Zealand, ...</td>\n    </tr>\n    <tr>\n      <th>234</th>\n      <td>Northern Cyprus – Turkish Republic of Northern...</td>\n      <td>No membership</td>\n      <td>Claimed by the Republic of Cyprus</td>\n      <td>Recognised only by Turkey. Under the name \"Tur...</td>\n    </tr>\n    <tr>\n      <th>235</th>\n      <td>Sahrawi Arab Democratic Republic</td>\n      <td>No membership</td>\n      <td>Claimed by Morocco</td>\n      <td>Recognised at some stage by 84 UN member state...</td>\n    </tr>\n    <tr>\n      <th>236</th>\n      <td>Somaliland – Republic of Somaliland</td>\n      <td>No membership</td>\n      <td>Claimed by Somalia</td>\n      <td>A de facto independent state,[56][65][66][67][...</td>\n    </tr>\n    <tr>\n      <th>237</th>\n      <td>South Ossetia – Republic of South Ossetia–the ...</td>\n      <td>No membership</td>\n      <td>Claimed by Georgia</td>\n      <td>A de facto independent state,[70] recognised b...</td>\n    </tr>\n    <tr>\n      <th>238</th>\n      <td>Taiwan – Republic of China[l]</td>\n      <td>Former UN member and former permanent UN Secur...</td>\n      <td>Claimed by the People's Republic of China</td>\n      <td>A state competing (nominally) for recognition ...</td>\n    </tr>\n    <tr>\n      <th>239</th>\n      <td>Transnistria – Pridnestrovian Moldavian Republic</td>\n      <td>No membership</td>\n      <td>Claimed by Moldova</td>\n      <td>A de facto independent state,[56] recognised o...</td>\n    </tr>\n  </tbody>\n</table>\n</div>"
     },
     "metadata": {},
     "execution_count": 33
    }
   ],
   "source": [
    "table2 = df[-16:].dropna()\n",
    "\n",
    "table2\n"
   ]
  }
 ],
 "metadata": {
  "kernelspec": {
   "name": "python3",
   "display_name": "Python 3.9.5 64-bit"
  },
  "language_info": {
   "codemirror_mode": {
    "name": "ipython",
    "version": 3
   },
   "file_extension": ".py",
   "mimetype": "text/x-python",
   "name": "python",
   "nbconvert_exporter": "python",
   "pygments_lexer": "ipython3",
   "version": "3.9.5"
  },
  "interpreter": {
   "hash": "31f2aee4e71d21fbe5cf8b01ff0e069b9275f58929596ceb00d14d90e3e16cd6"
  }
 },
 "nbformat": 4,
 "nbformat_minor": 5
}