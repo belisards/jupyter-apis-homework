{
 "cells": [
  {
   "cell_type": "markdown",
   "source": [
    "# Kickstarter and SQL `10 points`\n",
    "\n",
    "Since I claimed that the point of Lede was to be able to learn anything using Google, I should probably test that, too, yeah?\n",
    "\n",
    "Working with **SQL databases** is something we didn't learn! It comes in a lot of formats - PostreSQL, MySQL, Sqlite - but they are all generally the same thing.\n",
    "\n",
    "SQL is great for when you're reading in big big big datasets: instead of waiting an hour for `.read_csv` to crash on a giant file that you're going to filter anyway, instead you just ask SQL to give you a subset of the data to work on.\n",
    "\n",
    "**Topics**\n",
    "\n",
    "* Learning new things with the power of the internet\n",
    "* SQL\n",
    "\n",
    "### The data\n",
    "\n",
    "**Kickstarter** is a website people use to raise money for projects. It used to be really popular, but it's since died down a bit. We're going to work with [a dataset about Kickstarter in SQLite format](https://dataverse.harvard.edu/dataset.xhtml?persistentId=doi:10.7910/DVN/EOYBXM).\n",
    "\n",
    "You'll want to download the database by going to **Access Dataset** and then **Download ZIP**.\n",
    "\n",
    "It's a big file, and it's compressed! We'll be using the `kickstarter.db` file that is inside the zip file: when you open up the zip, I extracted it using [The Unarchiver](https://theunarchiver.com/) by telling it to open up the `.z01` file (it's so big it's spread across both the `.zip` and the `.z01`). "
   ],
   "metadata": {}
  },
  {
   "cell_type": "markdown",
   "source": [
    "## Open the dataset\n",
    "\n",
    "Just like an Excel file can have different sheets, a SQL database has different tables."
   ],
   "metadata": {}
  },
  {
   "cell_type": "code",
   "execution_count": 1,
   "source": [
    "import pandas as pd\n",
    "\n",
    "pd.set_option(\"display.max_columns\", None)\n",
    "pd.set_option('display.float_format', '{:,.2f}'.format)"
   ],
   "outputs": [],
   "metadata": {}
  },
  {
   "cell_type": "markdown",
   "source": [
    "SQLite + pandas doesn't use the \"normal\" way to ask for tables, so I'll give that line to you."
   ],
   "metadata": {}
  },
  {
   "cell_type": "code",
   "execution_count": null,
   "source": [
    "import sqlite3\n",
    "\n",
    "# Open a connection\n",
    "conn = sqlite3.connect(\"kickstarter.db\")\n",
    "\n",
    "# Make a query, save it into a dataframe\n",
    "df = pd.read_sql_query('SELECT name FROM sqlite_master WHERE type = \"table\";', conn)\n",
    "\n",
    "# Close the connection\n",
    "conn.close()\n",
    "\n",
    "# See the results in the dataframe\n",
    "df"
   ],
   "outputs": [],
   "metadata": {}
  },
  {
   "cell_type": "markdown",
   "source": [
    "## Simple selects `3 points`"
   ],
   "metadata": {}
  },
  {
   "cell_type": "markdown",
   "source": [
    "### Select all of the data for the first 4 kickstarter projects\n",
    "\n",
    "They live in the `project` table. This will help you understand how SQL queries work."
   ],
   "metadata": {}
  },
  {
   "cell_type": "code",
   "execution_count": null,
   "source": [],
   "outputs": [],
   "metadata": {}
  },
  {
   "cell_type": "markdown",
   "source": [
    "### Select the top 10 projects with the highest amount pledged\n",
    "\n",
    "I only want to see the name and the amount pledged. **The number one result should be the Pebble watch** - if your result is something Japanese, try querying all of the columns and figure out what went wrong."
   ],
   "metadata": {}
  },
  {
   "cell_type": "code",
   "execution_count": null,
   "source": [],
   "outputs": [],
   "metadata": {}
  },
  {
   "cell_type": "markdown",
   "source": [
    "## Filtering your queries `3 points`\n",
    "\n",
    "### Find me – yes, me, Soma! – in the project creators table"
   ],
   "metadata": {}
  },
  {
   "cell_type": "code",
   "execution_count": null,
   "source": [],
   "outputs": [],
   "metadata": {}
  },
  {
   "cell_type": "markdown",
   "source": [
    "### Find all of my projects"
   ],
   "metadata": {}
  },
  {
   "cell_type": "code",
   "execution_count": null,
   "source": [],
   "outputs": [],
   "metadata": {}
  },
  {
   "cell_type": "markdown",
   "source": [
    "## Calculations `3 points`\n",
    "\n",
    "### Find how much money has been raised on Kickstarter by **successful** projects."
   ],
   "metadata": {}
  },
  {
   "cell_type": "code",
   "execution_count": null,
   "source": [],
   "outputs": [],
   "metadata": {}
  },
  {
   "cell_type": "markdown",
   "source": [
    "### Find how much money has been raised on Kickstarter by \"successful\" projects in **the United States**.\n",
    "\n",
    "The `state` can be successful, failed, live, etc."
   ],
   "metadata": {}
  },
  {
   "cell_type": "code",
   "execution_count": null,
   "source": [],
   "outputs": [],
   "metadata": {}
  },
  {
   "cell_type": "markdown",
   "source": [
    "## Aggregating `3 points`"
   ],
   "metadata": {}
  },
  {
   "cell_type": "markdown",
   "source": [
    "## How many projects were successful/unsuccessful/etc?\n",
    "\n",
    "**Use your SQL query to calculate the answer.** Your result should look something like this:\n",
    "\n",
    "| |...|...|\n",
    "|---|---|---|\n",
    "|0|canceled|36659|\n",
    "|1|failed|211783|\n",
    "|2|live|3163|\n",
    "|3|purged|202|\n",
    "|4|successful|155130|\n",
    "|5|suspended|1700|"
   ],
   "metadata": {}
  },
  {
   "cell_type": "code",
   "execution_count": null,
   "source": [],
   "outputs": [],
   "metadata": {}
  },
  {
   "cell_type": "markdown",
   "source": [
    "### How much money has been pledged to campaigns in each country?"
   ],
   "metadata": {}
  },
  {
   "cell_type": "code",
   "execution_count": null,
   "source": [],
   "outputs": [],
   "metadata": {}
  },
  {
   "cell_type": "markdown",
   "source": [
    "## Conversion to CSV `2 points`\n",
    "\n",
    "### Save the result of your last query - the one about amount raised - to a CSV"
   ],
   "metadata": {}
  },
  {
   "cell_type": "code",
   "execution_count": null,
   "source": [],
   "outputs": [],
   "metadata": {}
  },
  {
   "cell_type": "markdown",
   "source": [
    "### Visualize the results using DataWrapper, highlighting the country of your choice\n",
    "\n",
    "Link in the cell below."
   ],
   "metadata": {}
  },
  {
   "cell_type": "code",
   "execution_count": null,
   "source": [],
   "outputs": [],
   "metadata": {}
  },
  {
   "cell_type": "markdown",
   "source": [
    "## Joins\n",
    "\n",
    "### Show all the columns in the `category` table"
   ],
   "metadata": {}
  },
  {
   "cell_type": "code",
   "execution_count": null,
   "source": [],
   "outputs": [],
   "metadata": {}
  },
  {
   "cell_type": "markdown",
   "source": [
    "### Show all the columns in the `project` table"
   ],
   "metadata": {}
  },
  {
   "cell_type": "code",
   "execution_count": null,
   "source": [],
   "outputs": [],
   "metadata": {}
  },
  {
   "cell_type": "markdown",
   "source": [
    "### Using SQL, request the first 10 projects and merge in the category of each project `3 points`"
   ],
   "metadata": {}
  },
  {
   "cell_type": "code",
   "execution_count": null,
   "source": [],
   "outputs": [],
   "metadata": {}
  },
  {
   "cell_type": "markdown",
   "source": [
    "### Building on your last query, calculate the number of projects in each category `2 points`"
   ],
   "metadata": {}
  },
  {
   "cell_type": "code",
   "execution_count": null,
   "source": [],
   "outputs": [],
   "metadata": {}
  },
  {
   "cell_type": "markdown",
   "source": [
    "### Using pandas, sort the result to get the top 20 project categories `1 point`"
   ],
   "metadata": {}
  },
  {
   "cell_type": "code",
   "execution_count": null,
   "source": [],
   "outputs": [],
   "metadata": {}
  }
 ],
 "metadata": {
  "kernelspec": {
   "name": "python3",
   "display_name": "Python 3.9.5 64-bit"
  },
  "language_info": {
   "codemirror_mode": {
    "name": "ipython",
    "version": 3
   },
   "file_extension": ".py",
   "mimetype": "text/x-python",
   "name": "python",
   "nbconvert_exporter": "python",
   "pygments_lexer": "ipython3",
   "version": "3.9.5"
  },
  "interpreter": {
   "hash": "916dbcbb3f70747c44a77c7bcd40155683ae19c65e1c03b4aa3499c5328201f1"
  }
 },
 "nbformat": 4,
 "nbformat_minor": 4
}