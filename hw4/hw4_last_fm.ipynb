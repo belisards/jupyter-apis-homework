{
 "cells": [
  {
   "cell_type": "markdown",
   "metadata": {},
   "source": [
    "# Last FM API (Music)\n",
    "\n",
    "Spotify's API is dead to us, so we're using Last.fm's - it's still music, just not as nice of an API.\n",
    "\n",
    "1. Create an account at https://www.last.fm/api/\n",
    "2. Create an \"application\" to get a key: https://www.last.fm/api/account/create\n",
    "    - It isn't a real application, it's just your project\n",
    "    - Name/description doesn't matter, ignore callback key and callback url\n",
    "3. And save the API key that shows up on the next screen\n",
    "\n",
    "You can find documentation at https://www.last.fm/api/\n",
    "\n",
    "The domain for the API is `http://ws.audioscrobbler.com`, so all of your endpoints will be connected to that. To test your API key, check the following URL in your browser: `http://ws.audioscrobbler.com/2.0/?method=artist.search&artist=cher&api_key=XXXXXXXXXXXXXXXXXXXX&format=json` (change the `XXXXXX` to be your API key, of course!).\n",
    "\n",
    "> Last.fm used to be called **AudioScrobbler**, which is why its URLs don't have \"last.fm\" in them.\n",
    "> While we're asking about URLs, notice that the API endpoints have a lot of `?` and `&` in them - these are key/value pairs, kind of like dictionaries, but for URLs instead of Python."
   ]
  },
  {
   "cell_type": "markdown",
   "metadata": {},
   "source": [
    "# FIRST: SETUP"
   ]
  },
  {
   "cell_type": "markdown",
   "metadata": {},
   "source": [
    "## 1) Import the libraries/packages you might need\n",
    "\n",
    "We need a library to read in the data for us! We don't like `urllib2`, so it must be something cooler and better."
   ]
  },
  {
   "cell_type": "code",
   "execution_count": 1,
   "metadata": {},
   "outputs": [],
   "source": [
    "# Import what you need here\n",
    "import requests\n",
    "import os\n",
    "import pandas as pd\n"
   ]
  },
  {
   "cell_type": "markdown",
   "metadata": {},
   "source": [
    "## 2) Save your API key\n",
    "\n",
    "Write your API key here so you don't forget it - it's the \"api key\" one, not the \"shared secret\" one"
   ]
  },
  {
   "cell_type": "code",
   "execution_count": 2,
   "metadata": {},
   "outputs": [],
   "source": [
    "from dotenv import load_dotenv\n",
    "load_dotenv()  # take environment variables from .env.\n",
    "\n",
    "my_key = os.environ['my_lastfm_key']\n"
   ]
  },
  {
   "cell_type": "markdown",
   "metadata": {},
   "source": [
    "## 3) The death of an API\n",
    "\n",
    "I used to have some code here that allowed you to display images, but _the images don't work any more._ Let this be an important lesson: when you depend on external services, they can die at any time."
   ]
  },
  {
   "cell_type": "code",
   "execution_count": 3,
   "metadata": {},
   "outputs": [],
   "source": [
    "# :("
   ]
  },
  {
   "cell_type": "markdown",
   "metadata": {},
   "source": [
    "# NOW: YOUR ASSIGNMENT"
   ]
  },
  {
   "cell_type": "markdown",
   "metadata": {},
   "source": [
    "## 1) Search for and print a list of 50 musicians with `lil` in their name, along with the number of listeners they have\n",
    "\n",
    "There are a lot of musicians with \"Lil\" in their name - it used to be all Lil Wayne and Lil Kim, but we live in a new world now!\n",
    "\n",
    "- *Tip: Remember, the domain for the API is `http://ws.audioscrobbler.com`*\n",
    "- *Tip: Make sure you ask the API for 50 musicians! This involves adding another parameter to the URL - notice they all have a `&` before them. [Read the documentation](http://www.last.fm/api/show/artist.search) to find the parameter's name.* \n",
    "- *Tip: When you are looking at any piece of data - is it a dictionary? Look at the keys! Is it a list? Look at the first element!*\n",
    "- *Tip: LOOK AT THE KEYS. and then the other keys and the other keys and the other keys. It's an ugly series of dictionaries!*"
   ]
  },
  {
   "cell_type": "code",
   "execution_count": 4,
   "metadata": {},
   "outputs": [],
   "source": [
    "artist = 'lil'\n",
    "limit = 50\n",
    "link = f\"http://ws.audioscrobbler.com/2.0/?method=artist.search&artist={artist}&api_key={my_key}&format=json&limit={limit}\""
   ]
  },
  {
   "cell_type": "code",
   "execution_count": 5,
   "metadata": {},
   "outputs": [
    {
     "name": "stdout",
     "output_type": "stream",
     "text": [
      "0 - LIL UZI VERT has 697497 listeners.\n",
      "1 - LIL PEEP has 541007 listeners.\n",
      "2 - Lil' Wayne has 3374388 listeners.\n",
      "3 - Lily Allen has 2370723 listeners.\n",
      "4 - Lil Nas X has 837975 listeners.\n",
      "5 - Lil Baby has 410679 listeners.\n",
      "6 - Lil Yachty has 405141 listeners.\n",
      "7 - lil skies has 269639 listeners.\n",
      "8 - Lil Tecca has 324985 listeners.\n",
      "9 - lil tjay has 247379 listeners.\n",
      "10 - Lil Wayne has 377779 listeners.\n",
      "11 - lil Mosey has 336980 listeners.\n",
      "12 - Lil Durk has 225021 listeners.\n",
      "13 - Lil Ugly Mane has 126811 listeners.\n",
      "14 - Lil B has 263320 listeners.\n",
      "15 - LIL PUMP has 326621 listeners.\n",
      "16 - Lil Darkie has 93976 listeners.\n",
      "17 - Lil Dicky has 319558 listeners.\n",
      "18 - LIL TRACY has 99407 listeners.\n",
      "19 - Lil' Kim has 530592 listeners.\n",
      "20 - Lilly Wood & The Prick has 432440 listeners.\n",
      "21 - Lil Keed has 121978 listeners.\n",
      "22 - Lil Xan has 193801 listeners.\n",
      "23 - Lil Jon has 639777 listeners.\n",
      "24 - Lil Jon & The East Side Boyz has 540538 listeners.\n",
      "25 - Lila Downs has 179237 listeners.\n",
      "26 - Lil Boosie has 420925 listeners.\n",
      "27 - Lilac has 143595 listeners.\n",
      "28 - Lilypichu has 37202 listeners.\n",
      "29 - The Tiger Lillies has 118504 listeners.\n",
      "30 - Lil Loaded has 54206 listeners.\n",
      "31 - Lil' Kleine has 68833 listeners.\n",
      "32 - Fenne Lily has 177260 listeners.\n",
      "33 - Lil Aaron has 79000 listeners.\n",
      "34 - LIL GNAR has 79172 listeners.\n",
      "35 - Lily James has 85500 listeners.\n",
      "36 - Lil Gotit has 47317 listeners.\n",
      "37 - Lil Wyte has 267483 listeners.\n",
      "38 - Lil' Flip has 349152 listeners.\n",
      "39 - LIL BO WEEP has 48616 listeners.\n",
      "40 - Spangle call Lilli line has 51329 listeners.\n",
      "41 - Mashrou' Leila has 42099 listeners.\n",
      "42 - Birdman & Lil' Wayne has 587061 listeners.\n",
      "43 - Lily & Madeleine has 141639 listeners.\n",
      "44 - Lilys has 76000 listeners.\n",
      "45 - The Lillingtons has 50716 listeners.\n",
      "46 - Lillasyster has 58250 listeners.\n",
      "47 - lil happy lil sad has 37794 listeners.\n",
      "48 - Lil Eazzyy has 60890 listeners.\n",
      "49 - Lil Revive has 16204 listeners.\n"
     ]
    }
   ],
   "source": [
    "results = requests.get(link).json()['results']['artistmatches']['artist']\n",
    "\n",
    "for i in range(0,limit):\n",
    "    print(f\"{i} - {results[i]['name']} has {results[i]['listeners']} listeners.\")"
   ]
  },
  {
   "cell_type": "code",
   "execution_count": null,
   "metadata": {},
   "outputs": [],
   "source": []
  },
  {
   "cell_type": "code",
   "execution_count": null,
   "metadata": {},
   "outputs": [],
   "source": []
  },
  {
   "cell_type": "markdown",
   "metadata": {},
   "source": [
    "Your results should begin something like this:\n",
    "    \n",
    "```\n",
    "Lil' Wayne has 3086628 listeners\n",
    "Lily Allen has 2074266 listeners\n",
    "Lil B has 194116 listeners\n",
    "Lilly Wood & The Prick has 359886 listeners\n",
    "Lil Ugly Mane has 31955 listeners\n",
    "LIL UZI VERT has 88517 listeners\n",
    "```\n",
    "\n",
    "Your numbers will be different, though!"
   ]
  },
  {
   "cell_type": "markdown",
   "metadata": {},
   "source": [
    "## 2) How many listeners does your list have in total?\n",
    "\n",
    "The answer should be roughly **17,000,000**. If it's lower, make sure you have 50 artists instead of 30 artists.\n",
    "\n",
    "- *Tip: What's the data type of the `listeners` count? It's going to cause a problem!*\n",
    "- *Tip: If you were crazy you could use sum and a list comprehension. But you really don't have to!*"
   ]
  },
  {
   "cell_type": "code",
   "execution_count": 6,
   "metadata": {},
   "outputs": [
    {
     "data": {
      "text/plain": [
       "17385996"
      ]
     },
     "execution_count": 6,
     "metadata": {},
     "output_type": "execute_result"
    }
   ],
   "source": [
    "sum(int(item['listeners']) for item in results)"
   ]
  },
  {
   "cell_type": "markdown",
   "metadata": {},
   "source": [
    "## 3) Show each artist's name and the URL to the extra-large image\n",
    "\n",
    "The images don't work any more, but we'll print their URLs out anyway."
   ]
  },
  {
   "cell_type": "markdown",
   "metadata": {},
   "source": [
    "Each artist **has a list of images of different sizes**. We're interested in the second-to-last one, where `size` is `extralarge`. Print their name and use `display_image` to display their extra-large image.\n",
    "\n",
    "- *Tip: The URL should look like this: `https://lastfm-img2.akamaized.net/i/u/300x300/0fc7d7a1812dc79e9925d80382cde594.png`*\n",
    "- *Tip: You can always assume it's the second to the last, or assume it's `extralarge`, or whatever you want to do to find it.*\n",
    "- *Tip: Make sure the URL is correct before you try to display it.*\n",
    "\n",
    "Your output should look something like\n",
    "\n",
    "```\n",
    "Lil' Wayne\n",
    "https://lastfm.freetls.fastly.net/i/u/300x300/2a96cbd8b46e442fc41c2b86b821562f.png\n",
    "---\n",
    "LIL UZI VERT\n",
    "https://lastfm.freetls.fastly.net/i/u/300x300/2a96cbd8b46e442fc41c2b86b821562f.png\n",
    "---\n",
    "Lily Allen\n",
    "https://lastfm.freetls.fastly.net/i/u/300x300/2a96cbd8b46e442fc41c2b86b821562f.png\n",
    "---\n",
    "```\n",
    "\n",
    "(but with more people, obviously)"
   ]
  },
  {
   "cell_type": "code",
   "execution_count": 7,
   "metadata": {},
   "outputs": [
    {
     "name": "stdout",
     "output_type": "stream",
     "text": [
      "Artist: LIL UZI VERT\n",
      "extralarge image: https://lastfm.freetls.fastly.net/i/u/174s/2a96cbd8b46e442fc41c2b86b821562f.png\n",
      "---\n",
      "Artist: LIL PEEP\n",
      "extralarge image: https://lastfm.freetls.fastly.net/i/u/174s/2a96cbd8b46e442fc41c2b86b821562f.png\n",
      "---\n",
      "Artist: Lil' Wayne\n",
      "extralarge image: https://lastfm.freetls.fastly.net/i/u/174s/2a96cbd8b46e442fc41c2b86b821562f.png\n",
      "---\n",
      "Artist: Lily Allen\n",
      "extralarge image: https://lastfm.freetls.fastly.net/i/u/174s/2a96cbd8b46e442fc41c2b86b821562f.png\n",
      "---\n",
      "Artist: Lil Nas X\n",
      "extralarge image: https://lastfm.freetls.fastly.net/i/u/174s/2a96cbd8b46e442fc41c2b86b821562f.png\n",
      "---\n",
      "Artist: Lil Baby\n",
      "extralarge image: https://lastfm.freetls.fastly.net/i/u/174s/2a96cbd8b46e442fc41c2b86b821562f.png\n",
      "---\n",
      "Artist: Lil Yachty\n",
      "extralarge image: https://lastfm.freetls.fastly.net/i/u/174s/2a96cbd8b46e442fc41c2b86b821562f.png\n",
      "---\n",
      "Artist: lil skies\n",
      "extralarge image: https://lastfm.freetls.fastly.net/i/u/174s/2a96cbd8b46e442fc41c2b86b821562f.png\n",
      "---\n",
      "Artist: Lil Tecca\n",
      "extralarge image: https://lastfm.freetls.fastly.net/i/u/174s/2a96cbd8b46e442fc41c2b86b821562f.png\n",
      "---\n",
      "Artist: lil tjay\n",
      "extralarge image: https://lastfm.freetls.fastly.net/i/u/174s/2a96cbd8b46e442fc41c2b86b821562f.png\n",
      "---\n",
      "Artist: Lil Wayne\n",
      "extralarge image: https://lastfm.freetls.fastly.net/i/u/174s/2a96cbd8b46e442fc41c2b86b821562f.png\n",
      "---\n",
      "Artist: lil Mosey\n",
      "extralarge image: https://lastfm.freetls.fastly.net/i/u/174s/2a96cbd8b46e442fc41c2b86b821562f.png\n",
      "---\n",
      "Artist: Lil Durk\n",
      "extralarge image: https://lastfm.freetls.fastly.net/i/u/174s/2a96cbd8b46e442fc41c2b86b821562f.png\n",
      "---\n",
      "Artist: Lil Ugly Mane\n",
      "extralarge image: https://lastfm.freetls.fastly.net/i/u/174s/2a96cbd8b46e442fc41c2b86b821562f.png\n",
      "---\n",
      "Artist: Lil B\n",
      "extralarge image: https://lastfm.freetls.fastly.net/i/u/174s/2a96cbd8b46e442fc41c2b86b821562f.png\n",
      "---\n",
      "Artist: LIL PUMP\n",
      "extralarge image: https://lastfm.freetls.fastly.net/i/u/174s/2a96cbd8b46e442fc41c2b86b821562f.png\n",
      "---\n",
      "Artist: Lil Darkie\n",
      "extralarge image: https://lastfm.freetls.fastly.net/i/u/174s/2a96cbd8b46e442fc41c2b86b821562f.png\n",
      "---\n",
      "Artist: Lil Dicky\n",
      "extralarge image: https://lastfm.freetls.fastly.net/i/u/174s/2a96cbd8b46e442fc41c2b86b821562f.png\n",
      "---\n",
      "Artist: LIL TRACY\n",
      "extralarge image: https://lastfm.freetls.fastly.net/i/u/174s/2a96cbd8b46e442fc41c2b86b821562f.png\n",
      "---\n",
      "Artist: Lil' Kim\n",
      "extralarge image: https://lastfm.freetls.fastly.net/i/u/174s/2a96cbd8b46e442fc41c2b86b821562f.png\n",
      "---\n",
      "Artist: Lilly Wood & The Prick\n",
      "extralarge image: https://lastfm.freetls.fastly.net/i/u/174s/2a96cbd8b46e442fc41c2b86b821562f.png\n",
      "---\n",
      "Artist: Lil Keed\n",
      "extralarge image: https://lastfm.freetls.fastly.net/i/u/174s/2a96cbd8b46e442fc41c2b86b821562f.png\n",
      "---\n",
      "Artist: Lil Xan\n",
      "extralarge image: https://lastfm.freetls.fastly.net/i/u/174s/2a96cbd8b46e442fc41c2b86b821562f.png\n",
      "---\n",
      "Artist: Lil Jon\n",
      "extralarge image: https://lastfm.freetls.fastly.net/i/u/174s/2a96cbd8b46e442fc41c2b86b821562f.png\n",
      "---\n",
      "Artist: Lil Jon & The East Side Boyz\n",
      "extralarge image: https://lastfm.freetls.fastly.net/i/u/174s/2a96cbd8b46e442fc41c2b86b821562f.png\n",
      "---\n",
      "Artist: Lila Downs\n",
      "extralarge image: https://lastfm.freetls.fastly.net/i/u/174s/2a96cbd8b46e442fc41c2b86b821562f.png\n",
      "---\n",
      "Artist: Lil Boosie\n",
      "extralarge image: https://lastfm.freetls.fastly.net/i/u/174s/2a96cbd8b46e442fc41c2b86b821562f.png\n",
      "---\n",
      "Artist: Lilac\n",
      "extralarge image: https://lastfm.freetls.fastly.net/i/u/174s/2a96cbd8b46e442fc41c2b86b821562f.png\n",
      "---\n",
      "Artist: Lilypichu\n",
      "extralarge image: https://lastfm.freetls.fastly.net/i/u/174s/2a96cbd8b46e442fc41c2b86b821562f.png\n",
      "---\n",
      "Artist: The Tiger Lillies\n",
      "extralarge image: https://lastfm.freetls.fastly.net/i/u/174s/2a96cbd8b46e442fc41c2b86b821562f.png\n",
      "---\n",
      "Artist: Lil Loaded\n",
      "extralarge image: https://lastfm.freetls.fastly.net/i/u/174s/2a96cbd8b46e442fc41c2b86b821562f.png\n",
      "---\n",
      "Artist: Lil' Kleine\n",
      "extralarge image: https://lastfm.freetls.fastly.net/i/u/174s/2a96cbd8b46e442fc41c2b86b821562f.png\n",
      "---\n",
      "Artist: Fenne Lily\n",
      "extralarge image: https://lastfm.freetls.fastly.net/i/u/174s/2a96cbd8b46e442fc41c2b86b821562f.png\n",
      "---\n",
      "Artist: Lil Aaron\n",
      "extralarge image: https://lastfm.freetls.fastly.net/i/u/174s/2a96cbd8b46e442fc41c2b86b821562f.png\n",
      "---\n",
      "Artist: LIL GNAR\n",
      "extralarge image: https://lastfm.freetls.fastly.net/i/u/174s/2a96cbd8b46e442fc41c2b86b821562f.png\n",
      "---\n",
      "Artist: Lily James\n",
      "extralarge image: https://lastfm.freetls.fastly.net/i/u/174s/2a96cbd8b46e442fc41c2b86b821562f.png\n",
      "---\n",
      "Artist: Lil Gotit\n",
      "extralarge image: https://lastfm.freetls.fastly.net/i/u/174s/2a96cbd8b46e442fc41c2b86b821562f.png\n",
      "---\n",
      "Artist: Lil Wyte\n",
      "extralarge image: https://lastfm.freetls.fastly.net/i/u/174s/2a96cbd8b46e442fc41c2b86b821562f.png\n",
      "---\n",
      "Artist: Lil' Flip\n",
      "extralarge image: https://lastfm.freetls.fastly.net/i/u/174s/2a96cbd8b46e442fc41c2b86b821562f.png\n",
      "---\n",
      "Artist: LIL BO WEEP\n",
      "extralarge image: https://lastfm.freetls.fastly.net/i/u/174s/2a96cbd8b46e442fc41c2b86b821562f.png\n",
      "---\n",
      "Artist: Spangle call Lilli line\n",
      "extralarge image: https://lastfm.freetls.fastly.net/i/u/174s/2a96cbd8b46e442fc41c2b86b821562f.png\n",
      "---\n",
      "Artist: Mashrou' Leila\n",
      "extralarge image: https://lastfm.freetls.fastly.net/i/u/174s/2a96cbd8b46e442fc41c2b86b821562f.png\n",
      "---\n",
      "Artist: Birdman & Lil' Wayne\n",
      "extralarge image: https://lastfm.freetls.fastly.net/i/u/174s/2a96cbd8b46e442fc41c2b86b821562f.png\n",
      "---\n",
      "Artist: Lily & Madeleine\n",
      "extralarge image: https://lastfm.freetls.fastly.net/i/u/174s/2a96cbd8b46e442fc41c2b86b821562f.png\n",
      "---\n",
      "Artist: Lilys\n",
      "extralarge image: https://lastfm.freetls.fastly.net/i/u/174s/2a96cbd8b46e442fc41c2b86b821562f.png\n",
      "---\n",
      "Artist: The Lillingtons\n",
      "extralarge image: https://lastfm.freetls.fastly.net/i/u/174s/2a96cbd8b46e442fc41c2b86b821562f.png\n",
      "---\n",
      "Artist: Lillasyster\n",
      "extralarge image: https://lastfm.freetls.fastly.net/i/u/174s/2a96cbd8b46e442fc41c2b86b821562f.png\n",
      "---\n",
      "Artist: lil happy lil sad\n",
      "extralarge image: https://lastfm.freetls.fastly.net/i/u/174s/2a96cbd8b46e442fc41c2b86b821562f.png\n",
      "---\n",
      "Artist: Lil Eazzyy\n",
      "extralarge image: https://lastfm.freetls.fastly.net/i/u/174s/2a96cbd8b46e442fc41c2b86b821562f.png\n",
      "---\n",
      "Artist: Lil Revive\n",
      "extralarge image: https://lastfm.freetls.fastly.net/i/u/174s/2a96cbd8b46e442fc41c2b86b821562f.png\n",
      "---\n"
     ]
    }
   ],
   "source": [
    "for item in results:\n",
    "    print(f\"Artist: {item['name']}\")\n",
    "    print(f\"{item['image'][3]['size']} image: {item['image'][2]['#text']}\")\n",
    "    print(\"---\")"
   ]
  },
  {
   "cell_type": "markdown",
   "metadata": {},
   "source": [
    "## 4) Find Lil Jon's `mbid` (or anyone else's!).\n",
    "\n",
    "Oftentimes in an API, you can do a few things: you can **search** for items, and you can **see more information** about items. To find more information about the item, you need to use their **unique id**. In this dataset, it's called an `mbid` (MusicBrainz, I think - another company associated with last.fm!).\n",
    "\n",
    "Go through the artists and print their **name and mbid**. Find Lil Jon's `mbid`. I *wanted* Lil Uzi Vert's, but for some reason it isn't there. Then I wanted us to look at Lily Allen's, but I just couldn't bring myself to do that. If you'd rather do someone else, go for it."
   ]
  },
  {
   "cell_type": "code",
   "execution_count": 8,
   "metadata": {},
   "outputs": [
    {
     "name": "stdout",
     "output_type": "stream",
     "text": [
      "Lil Jon : a95384b1-6aec-468c-ae0d-8c6daf87c4c2\n"
     ]
    }
   ],
   "source": [
    "for item in results:\n",
    "    if item['name'] == 'Lil Jon':\n",
    "        mbid = item['mbid']\n",
    "        print(f\"{item['name']} : {mbid}\")\n",
    "        "
   ]
  },
  {
   "cell_type": "markdown",
   "metadata": {
    "collapsed": true
   },
   "source": [
    "## 5) Find the artist's name and bio using their `mbid`.\n",
    "\n",
    "It can either be Lil Jon or whoever you selected above.\n",
    "\n",
    "If you look at the [last.fm documentation](http://www.last.fm/api/show/artist.getInfo), you can see how to use the artist's `mbid` to find more information about them. Print **every tag associated with your artist**.\n",
    "\n",
    "- *Tip: It's a new request to the API*\n",
    "- *Tip: Use the `mbid`, and make sure you delete the `&name=Cher` from the sample endpoint*\n",
    "- *Tip: If you use `print` for the bio it looks a little nicer than it would otherwise*"
   ]
  },
  {
   "cell_type": "code",
   "execution_count": 9,
   "metadata": {},
   "outputs": [],
   "source": [
    "link = f\"http://ws.audioscrobbler.com/2.0/?method=artist.getinfo&mbid={mbid}&api_key={my_key}&format=json\""
   ]
  },
  {
   "cell_type": "code",
   "execution_count": 10,
   "metadata": {},
   "outputs": [
    {
     "name": "stdout",
     "output_type": "stream",
     "text": [
      "Lil Jon\n"
     ]
    }
   ],
   "source": [
    "name = requests.get(link).json()['artist']['name']\n",
    "print(name)\n"
   ]
  },
  {
   "cell_type": "code",
   "execution_count": 11,
   "metadata": {},
   "outputs": [
    {
     "name": "stdout",
     "output_type": "stream",
     "text": [
      "Jonathan Mortimer Smith (born January 27, 1971 in Atlanta, Georgia), better known by his stage name Lil Jon, is an American rapper, actor, producer and member of the crunk group Lil Jon & The East Side Boyz. Lil Jon formed the group with friends Big Sam and Lil Bo, and they released five studio albums and have had many hit songs. He's prehaps best known for his iconic single \"Get Low\", which featured the Ying Yang Twins and reached #2 on the Billboard 100. He released his debut solo album, 'Crunk Rock', in June 2010. <a href=\"https://www.last.fm/music/Lil+Jon\">Read more on Last.fm</a>\n"
     ]
    }
   ],
   "source": [
    "bio = requests.get(link).json()['artist']['bio']['summary']\n",
    "print(bio)"
   ]
  },
  {
   "cell_type": "markdown",
   "metadata": {
    "collapsed": true
   },
   "source": [
    "## 6) Print every tag of that artist"
   ]
  },
  {
   "cell_type": "code",
   "execution_count": 12,
   "metadata": {},
   "outputs": [
    {
     "name": "stdout",
     "output_type": "stream",
     "text": [
      "Tags:\n",
      "Crunk\n",
      "Hip-Hop\n",
      "rap\n",
      "Dirty South\n",
      "hip hop\n"
     ]
    }
   ],
   "source": [
    "print(\"Tags:\")\n",
    "for item in requests.get(link).json()['artist']['tags']['tag']:\n",
    "    print(item['name'])"
   ]
  },
  {
   "cell_type": "code",
   "execution_count": null,
   "metadata": {},
   "outputs": [],
   "source": []
  },
  {
   "cell_type": "markdown",
   "metadata": {},
   "source": [
    "# GETTING A LITTLE CRAZY\n",
    "\n",
    "So you know your original list of musicians? I want to get tag data for ALL OF THEM. How are we going to do that?\n",
    "\n",
    "## 7) Find the mbids (again)\n",
    "\n",
    "If we have a musician with an mbid of `AAA-AAA-AAA`, we get their info from a url like `http://ws.audioscrobbler.com/blahblah/?api_key=12345&mbid=AAA-AAA-AAA`.\n",
    "\n",
    "|artist|url|\n",
    "|---|---|\n",
    "|`AAA-AAA-AAA`|`http://ws.audioscrobbler.com/blahblah/?api_key=12345&mbid=AAA-AAA-AAA`|\n",
    "|`BBB-BBB-BBB`|`http://ws.audioscrobbler.com/blahblah/?api_key=12345&mbid=BBB-BBB-BBB`|\n",
    "|`CCC-CCC-CCC`|`http://ws.audioscrobbler.com/blahblah/?api_key=12345&mbid=CCC-CCC-CCC`|\n",
    "\n",
    "I guess we should start trying to get a list of all of the mbids.\n",
    "\n",
    "**Loop through your artists, and print out the `mbid` for each artist**\n",
    "\n",
    "- *Tip: You probably need to request your artist search result data again, because you probably saved over `data` with your other API request. Maybe call it `artist_data` this time?*\n",
    "- *Tip: If the artist does NOT have an `mbid`, don't print it.*"
   ]
  },
  {
   "cell_type": "code",
   "execution_count": 13,
   "metadata": {},
   "outputs": [
    {
     "name": "stdout",
     "output_type": "stream",
     "text": [
      "6e0c7c0e-cba5-4c2c-a652-38f71ef5785d\n",
      "ac9a487a-d9d2-4f27-bb23-0f4686488345\n",
      "c9cd225b-4883-428e-82c2-73e0b6282fb6\n",
      "5f1adfe1-4d07-4141-b181-79e5d379d539\n",
      "1550f952-c91b-40d7-9b4d-d26a259ee932\n",
      "3268f062-6e76-480a-a384-e1dd2a276afb\n",
      "bc1b5c95-e6d6-46b5-957a-5e8908b02c1e\n",
      "1b72331b-3a97-4981-a81c-eeee9c275d28\n",
      "a95384b1-6aec-468c-ae0d-8c6daf87c4c2\n",
      "243c6f61-d83b-4459-bebd-5899df0da111\n",
      "ad29ae1c-2eda-4071-9dc8-31910e7e546c\n",
      "8ba17cf6-bec2-4ae4-9820-b1cda47adc08\n",
      "1967c6ce-95a4-48f0-8ac7-abe637524aee\n",
      "3ad4f6ec-253f-4050-8849-ca26266edfb8\n",
      "9b5ce0c1-1bc0-4ea2-a8d3-f5ee7af9eda8\n",
      "981d39fc-bd00-4cc6-ac67-6410f8b89098\n",
      "bc21df5c-3d79-479b-b638-8ddb5ecea403\n",
      "a31becdf-7b33-4409-9eb1-3f74bd72997c\n",
      "b89f4c50-72f5-48ce-b08c-a643b191b24f\n",
      "50ad1cde-1536-4268-a55f-e47a7b8280ab\n",
      "9803d120-716d-45ba-9eb7-9a120813f908\n",
      "9acaf734-b380-4c48-954c-a2cf1d7990a9\n"
     ]
    }
   ],
   "source": [
    "for item in results:\n",
    "    mbid = item['mbid']\n",
    "    if mbid != '':\n",
    "        print(mbid)"
   ]
  },
  {
   "cell_type": "code",
   "execution_count": null,
   "metadata": {},
   "outputs": [],
   "source": []
  },
  {
   "cell_type": "markdown",
   "metadata": {},
   "source": [
    "Your results should look something like\n",
    "\n",
    "```\n",
    "6e0c7c0e-cba5-4c2c-a652-38f71ef5785d\n",
    "1550f952-c91b-40d7-9b4d-d26a259ee932\n",
    "1b72331b-3a97-4981-a81c-eeee9c275d28\n",
    "5f1adfe1-4d07-4141-b181-79e5d379d539\n",
    "a95384b1-6aec-468c-ae0d-8c6daf87c4c2\n",
    "bc1b5c95-e6d6-46b5-957a-5e8908b02c1e\n",
    "243c6f61-d83b-4459-bebd-5899df0da111\n",
    "```"
   ]
  },
  {
   "cell_type": "markdown",
   "metadata": {},
   "source": [
    "## 8) Saving those mbids\n",
    "\n",
    "For those `mbid` values, instead of printing them out, save them to a new list of just mbid values. Call this list `mbids`.\n",
    "\n",
    "- *Tip: Use `.append` to add a single element onto a list*"
   ]
  },
  {
   "cell_type": "code",
   "execution_count": 14,
   "metadata": {},
   "outputs": [],
   "source": [
    "mbids = []\n",
    "\n",
    "for item in results:\n",
    "    mbid = item['mbid']\n",
    "    if mbid != '':\n",
    "        mbids.append(mbid)"
   ]
  },
  {
   "cell_type": "code",
   "execution_count": 15,
   "metadata": {},
   "outputs": [
    {
     "data": {
      "text/plain": [
       "['6e0c7c0e-cba5-4c2c-a652-38f71ef5785d',\n",
       " 'ac9a487a-d9d2-4f27-bb23-0f4686488345',\n",
       " 'c9cd225b-4883-428e-82c2-73e0b6282fb6',\n",
       " '5f1adfe1-4d07-4141-b181-79e5d379d539',\n",
       " '1550f952-c91b-40d7-9b4d-d26a259ee932',\n",
       " '3268f062-6e76-480a-a384-e1dd2a276afb',\n",
       " 'bc1b5c95-e6d6-46b5-957a-5e8908b02c1e',\n",
       " '1b72331b-3a97-4981-a81c-eeee9c275d28',\n",
       " 'a95384b1-6aec-468c-ae0d-8c6daf87c4c2',\n",
       " '243c6f61-d83b-4459-bebd-5899df0da111',\n",
       " 'ad29ae1c-2eda-4071-9dc8-31910e7e546c',\n",
       " '8ba17cf6-bec2-4ae4-9820-b1cda47adc08',\n",
       " '1967c6ce-95a4-48f0-8ac7-abe637524aee',\n",
       " '3ad4f6ec-253f-4050-8849-ca26266edfb8',\n",
       " '9b5ce0c1-1bc0-4ea2-a8d3-f5ee7af9eda8',\n",
       " '981d39fc-bd00-4cc6-ac67-6410f8b89098',\n",
       " 'bc21df5c-3d79-479b-b638-8ddb5ecea403',\n",
       " 'a31becdf-7b33-4409-9eb1-3f74bd72997c',\n",
       " 'b89f4c50-72f5-48ce-b08c-a643b191b24f',\n",
       " '50ad1cde-1536-4268-a55f-e47a7b8280ab',\n",
       " '9803d120-716d-45ba-9eb7-9a120813f908',\n",
       " '9acaf734-b380-4c48-954c-a2cf1d7990a9']"
      ]
     },
     "execution_count": 15,
     "metadata": {},
     "output_type": "execute_result"
    }
   ],
   "source": [
    "mbids"
   ]
  },
  {
   "cell_type": "markdown",
   "metadata": {},
   "source": [
    "Your results should look something like\n",
    "\n",
    "```['6e0c7c0e-cba5-4c2c-a652-38f71ef5785d',\n",
    " '1550f952-c91b-40d7-9b4d-d26a259ee932',\n",
    " '1b72331b-3a97-4981-a81c-eeee9c275d28',\n",
    " '5f1adfe1-4d07-4141-b181-79e5d379d539',\n",
    " 'a95384b1-6aec-468c-ae0d-8c6daf87c4c2',\n",
    " 'bc1b5c95-e6d6-46b5-957a-5e8908b02c1e',\n",
    " '243c6f61-d83b-4459-bebd-5899df0da111',\n",
    " '8ba17cf6-bec2-4ae4-9820-b1cda47adc08',\n",
    " 'ad29ae1c-2eda-4071-9dc8-31910e7e546c',\n",
    " '3268f062-6e76-480a-a384-e1dd2a276afb',\n",
    " '3ad4f6ec-253f-4050-8849-ca26266edfb8',\n",
    " '9b5ce0c1-1bc0-4ea2-a8d3-f5ee7af9eda8',\n",
    " '981d39fc-bd00-4cc6-ac67-6410f8b89098',\n",
    " 'b89f4c50-72f5-48ce-b08c-a643b191b24f',\n",
    " 'bc21df5c-3d79-479b-b638-8ddb5ecea403',\n",
    " 'c9cd225b-4883-428e-82c2-73e0b6282fb6',\n",
    " '9acaf734-b380-4c48-954c-a2cf1d7990a9',\n",
    " 'd4d5ae85-700c-4a55-8a39-7f923da07ef2',\n",
    " '77fafce8-a32f-4d42-bdce-266bbf913cee',\n",
    " '50ad1cde-1536-4268-a55f-e47a7b8280ab',\n",
    " '9803d120-716d-45ba-9eb7-9a120813f908',\n",
    " 'b27560ea-2783-4a91-be45-9e8711917562',\n",
    " '194e87c9-b3fe-4fbd-82a7-8c54b4dd4c76',\n",
    " 'fd90af91-ed07-4e85-8816-26c954fe5286',\n",
    " '5652bb3e-f225-49de-9637-5aa1539b4a7c']```"
   ]
  },
  {
   "cell_type": "markdown",
   "metadata": {},
   "source": [
    "## 9) Printing our API urls\n",
    "\n",
    "To get tag data for each artist, you need to use those `mbid` values to access their artist page on the API. Loop through the mbids, displying the URL you'll need to access.\n",
    "\n",
    "- *Tip: You don't want to use a comma when printing, because commas add spaces into your text and URLs can't have that*\n",
    "- *Tip: Make sure your URL has `artist.getinfo` in it - if not, you're using the wrong endpoint.*"
   ]
  },
  {
   "cell_type": "code",
   "execution_count": 16,
   "metadata": {},
   "outputs": [
    {
     "name": "stdout",
     "output_type": "stream",
     "text": [
      "http://ws.audioscrobbler.com/2.0/?method=artist.getinfo&mbid=6e0c7c0e-cba5-4c2c-a652-38f71ef5785d&api_key=df6a2f86bd0e9df200892db78d1d88b1&format=json\n",
      "http://ws.audioscrobbler.com/2.0/?method=artist.getinfo&mbid=ac9a487a-d9d2-4f27-bb23-0f4686488345&api_key=df6a2f86bd0e9df200892db78d1d88b1&format=json\n",
      "http://ws.audioscrobbler.com/2.0/?method=artist.getinfo&mbid=c9cd225b-4883-428e-82c2-73e0b6282fb6&api_key=df6a2f86bd0e9df200892db78d1d88b1&format=json\n",
      "http://ws.audioscrobbler.com/2.0/?method=artist.getinfo&mbid=5f1adfe1-4d07-4141-b181-79e5d379d539&api_key=df6a2f86bd0e9df200892db78d1d88b1&format=json\n",
      "http://ws.audioscrobbler.com/2.0/?method=artist.getinfo&mbid=1550f952-c91b-40d7-9b4d-d26a259ee932&api_key=df6a2f86bd0e9df200892db78d1d88b1&format=json\n",
      "http://ws.audioscrobbler.com/2.0/?method=artist.getinfo&mbid=3268f062-6e76-480a-a384-e1dd2a276afb&api_key=df6a2f86bd0e9df200892db78d1d88b1&format=json\n",
      "http://ws.audioscrobbler.com/2.0/?method=artist.getinfo&mbid=bc1b5c95-e6d6-46b5-957a-5e8908b02c1e&api_key=df6a2f86bd0e9df200892db78d1d88b1&format=json\n",
      "http://ws.audioscrobbler.com/2.0/?method=artist.getinfo&mbid=1b72331b-3a97-4981-a81c-eeee9c275d28&api_key=df6a2f86bd0e9df200892db78d1d88b1&format=json\n",
      "http://ws.audioscrobbler.com/2.0/?method=artist.getinfo&mbid=a95384b1-6aec-468c-ae0d-8c6daf87c4c2&api_key=df6a2f86bd0e9df200892db78d1d88b1&format=json\n",
      "http://ws.audioscrobbler.com/2.0/?method=artist.getinfo&mbid=243c6f61-d83b-4459-bebd-5899df0da111&api_key=df6a2f86bd0e9df200892db78d1d88b1&format=json\n",
      "http://ws.audioscrobbler.com/2.0/?method=artist.getinfo&mbid=ad29ae1c-2eda-4071-9dc8-31910e7e546c&api_key=df6a2f86bd0e9df200892db78d1d88b1&format=json\n",
      "http://ws.audioscrobbler.com/2.0/?method=artist.getinfo&mbid=8ba17cf6-bec2-4ae4-9820-b1cda47adc08&api_key=df6a2f86bd0e9df200892db78d1d88b1&format=json\n",
      "http://ws.audioscrobbler.com/2.0/?method=artist.getinfo&mbid=1967c6ce-95a4-48f0-8ac7-abe637524aee&api_key=df6a2f86bd0e9df200892db78d1d88b1&format=json\n",
      "http://ws.audioscrobbler.com/2.0/?method=artist.getinfo&mbid=3ad4f6ec-253f-4050-8849-ca26266edfb8&api_key=df6a2f86bd0e9df200892db78d1d88b1&format=json\n",
      "http://ws.audioscrobbler.com/2.0/?method=artist.getinfo&mbid=9b5ce0c1-1bc0-4ea2-a8d3-f5ee7af9eda8&api_key=df6a2f86bd0e9df200892db78d1d88b1&format=json\n",
      "http://ws.audioscrobbler.com/2.0/?method=artist.getinfo&mbid=981d39fc-bd00-4cc6-ac67-6410f8b89098&api_key=df6a2f86bd0e9df200892db78d1d88b1&format=json\n",
      "http://ws.audioscrobbler.com/2.0/?method=artist.getinfo&mbid=bc21df5c-3d79-479b-b638-8ddb5ecea403&api_key=df6a2f86bd0e9df200892db78d1d88b1&format=json\n",
      "http://ws.audioscrobbler.com/2.0/?method=artist.getinfo&mbid=a31becdf-7b33-4409-9eb1-3f74bd72997c&api_key=df6a2f86bd0e9df200892db78d1d88b1&format=json\n",
      "http://ws.audioscrobbler.com/2.0/?method=artist.getinfo&mbid=b89f4c50-72f5-48ce-b08c-a643b191b24f&api_key=df6a2f86bd0e9df200892db78d1d88b1&format=json\n",
      "http://ws.audioscrobbler.com/2.0/?method=artist.getinfo&mbid=50ad1cde-1536-4268-a55f-e47a7b8280ab&api_key=df6a2f86bd0e9df200892db78d1d88b1&format=json\n",
      "http://ws.audioscrobbler.com/2.0/?method=artist.getinfo&mbid=9803d120-716d-45ba-9eb7-9a120813f908&api_key=df6a2f86bd0e9df200892db78d1d88b1&format=json\n",
      "http://ws.audioscrobbler.com/2.0/?method=artist.getinfo&mbid=9acaf734-b380-4c48-954c-a2cf1d7990a9&api_key=df6a2f86bd0e9df200892db78d1d88b1&format=json\n"
     ]
    }
   ],
   "source": [
    "for mbid in mbids:\n",
    "    link = f\"http://ws.audioscrobbler.com/2.0/?method=artist.getinfo&mbid={mbid}&api_key={my_key}&format=json\"\n",
    "    print(link)"
   ]
  },
  {
   "cell_type": "markdown",
   "metadata": {},
   "source": [
    "Your results should look something like\n",
    "\n",
    "```http://ws.audioscrobbler.com/2.0/?method=artist.getinfo&api_key=XXXXX&format=json&mbid=6e0c7c0e-cba5-4c2c-a652-38f71ef5785d\n",
    "http://ws.audioscrobbler.com/2.0/?method=artist.getinfo&api_key=XXXXX&format=json&mbid=1550f952-c91b-40d7-9b4d-d26a259ee932\n",
    "http://ws.audioscrobbler.com/2.0/?method=artist.getinfo&api_key=XXXXX&format=json&mbid=1b72331b-3a97-4981-a81c-eeee9c275d28\n",
    "http://ws.audioscrobbler.com/2.0/?method=artist.getinfo&api_key=XXXXX&format=json&mbid=5f1adfe1-4d07-4141-b181-79e5d379d539\n",
    "http://ws.audioscrobbler.com/2.0/?method=artist.getinfo&api_key=XXXXX&format=json&mbid=a95384b1-6aec-468c-ae0d-8c6daf87c4c2\n",
    "http://ws.audioscrobbler.com/2.0/?method=artist.getinfo&api_key=XXXXX&format=json&mbid=bc1b5c95-e6d6-46b5-957a-5e8908b02c1e```"
   ]
  },
  {
   "cell_type": "markdown",
   "metadata": {},
   "source": [
    "## OKAY HERE IS A LITTLE INFORMATION: Using our API urls\n",
    "\n",
    "This time instead of just *displaying* the URL, we're going to *request and process it*. **But first I'm going to teach you something.**\n",
    "\n",
    "When you're dealing with an API, you don't want to make a million requests, have bad code, and then need to do those million requests again. It's usually best to test your code with a few of the results first.\n",
    "\n",
    "So, if we have a list of numbers like this:"
   ]
  },
  {
   "cell_type": "code",
   "execution_count": 17,
   "metadata": {},
   "outputs": [
    {
     "data": {
      "text/plain": [
       "[4, 5, 6, 7]"
      ]
     },
     "execution_count": 17,
     "metadata": {},
     "output_type": "execute_result"
    }
   ],
   "source": [
    "numbers = [4, 5, 6, 7]\n",
    "numbers"
   ]
  },
  {
   "cell_type": "markdown",
   "metadata": {},
   "source": [
    "You can actually say to Python, **give me the first two**, and it will only give you the first two."
   ]
  },
  {
   "cell_type": "code",
   "execution_count": 18,
   "metadata": {},
   "outputs": [
    {
     "data": {
      "text/plain": [
       "[4, 5]"
      ]
     },
     "execution_count": 18,
     "metadata": {},
     "output_type": "execute_result"
    }
   ],
   "source": [
    "numbers[:2]"
   ]
  },
  {
   "cell_type": "markdown",
   "metadata": {},
   "source": [
    "The is **very convenient** with loopng with APIs, because instead of trying to use all FIFTY artists, you can just say \"hey, please try this out with 2 of them\" and you don't waste time."
   ]
  },
  {
   "cell_type": "markdown",
   "metadata": {},
   "source": [
    "## 10) Using the first three `mbids`, request the API urls and print the artist's name.\n",
    "\n",
    "You built the URLs in the last question, now it's time to use them! Use `requests` etc to grab the URL and get out the artist's name.\n",
    "\n",
    "- *Tip: The code is the same as last time you got an artist's name from their info page, it's just going to be inside of a loop*\n",
    "- *Tip: USE `PRINT` TO SEE WHAT YOU ARE LOOKING AT!!!!!*"
   ]
  },
  {
   "cell_type": "code",
   "execution_count": 19,
   "metadata": {},
   "outputs": [
    {
     "name": "stdout",
     "output_type": "stream",
     "text": [
      "Lily Allen\n",
      "Lil Wayne\n",
      "Lil Durk\n"
     ]
    }
   ],
   "source": [
    "for mbid in mbids[:3]:\n",
    "    link = f\"http://ws.audioscrobbler.com/2.0/?method=artist.getinfo&mbid={mbid}&api_key={my_key}&format=json\"\n",
    "    response = requests.get(link).json()\n",
    "    print(response['artist']['name'])"
   ]
  },
  {
   "cell_type": "markdown",
   "metadata": {},
   "source": [
    "## 11) Using the first three `mbids`, request the API urls and print the artist's name and their tags\n",
    "\n",
    "- *Tip: The code is the same as last time you got an artist's name from their info page, it's just going to be inside of a loop*\n",
    "- *Tip: It's a for loop in a for loop!*"
   ]
  },
  {
   "cell_type": "code",
   "execution_count": 20,
   "metadata": {},
   "outputs": [
    {
     "name": "stdout",
     "output_type": "stream",
     "text": [
      "Tags from Lily Allen:\n",
      "pop\n",
      "female vocalists\n",
      "british\n",
      "britpop\n",
      "singer-songwriter\n",
      "---\n",
      "Tags from Lil Wayne:\n",
      "rap\n",
      "Hip-Hop\n",
      "hip hop\n",
      "Gangsta Rap\n",
      "Dirty South\n",
      "---\n",
      "Tags from Lil Durk:\n",
      "rap\n",
      "Hip-Hop\n",
      "drill\n",
      "trap\n",
      "hip hop\n",
      "---\n"
     ]
    }
   ],
   "source": [
    "for mbid in mbids[:3]:\n",
    "    link = f\"http://ws.audioscrobbler.com/2.0/?method=artist.getinfo&mbid={mbid}&api_key={my_key}&format=json\"\n",
    "    response = requests.get(link).json()\n",
    "    print(f\"Tags from {response['artist']['name']}:\")\n",
    "    for item in response['artist']['tags']['tag']:\n",
    "        print(item['name'])\n",
    "    print('---')"
   ]
  },
  {
   "cell_type": "markdown",
   "metadata": {},
   "source": [
    "## 12) Using the first ten mbids, print the artist's name and whether they're a rapper\n",
    "\n",
    "Only print their name ONCE and only print whether they are hip hop or not ONCE.\n",
    "\n",
    "- *Tip: Rap tags include hip hop, swag, crunk, rap, dirty south, and probably a bunch of other stuff! You can include as many categories as you'd like.*\n",
    "- *Tip: You can use `2 in [1, 2, 3]` to find out if `2` is in the list of `[1, 2, 3]`.*\n",
    "- *Tip: Every time you look at a new artist, you can say they are NOT a rapper. And once you find out one of their tags is hip hop or rap, then you can note that they're a rapper. Then once you're done looking at their tags, then you can say HEY this is a rapper, or HEY this is not a rapper.*"
   ]
  },
  {
   "cell_type": "code",
   "execution_count": 21,
   "metadata": {},
   "outputs": [],
   "source": [
    "rap = ['rap','swag','Hip-Hop','hip hop','swag','crunk','rap','dirty south']"
   ]
  },
  {
   "cell_type": "code",
   "execution_count": 22,
   "metadata": {},
   "outputs": [
    {
     "name": "stdout",
     "output_type": "stream",
     "text": [
      "NO hip hop\n",
      "ARTIST: Lily Allen\n",
      "---\n",
      "YES hip hop\n",
      "ARTIST: Lil Wayne\n",
      "---\n",
      "YES hip hop\n",
      "ARTIST: Lil Durk\n",
      "---\n",
      "YES hip hop\n",
      "ARTIST: Lil Ugly Mane\n",
      "---\n",
      "YES hip hop\n",
      "ARTIST: Lil B\n",
      "---\n",
      "YES hip hop\n",
      "ARTIST: Lil Dicky\n",
      "---\n",
      "YES hip hop\n",
      "ARTIST: Lil' Kim\n",
      "---\n",
      "YES hip hop\n",
      "ARTIST: Lilly Wood & The Prick\n",
      "---\n",
      "YES hip hop\n",
      "ARTIST: Lil Jon\n",
      "---\n",
      "YES hip hop\n",
      "ARTIST: Lil Jon & The East Side Boyz\n",
      "---\n"
     ]
    }
   ],
   "source": [
    "tags = []\n",
    "for mbid in mbids[:10]:\n",
    "    link = f\"http://ws.audioscrobbler.com/2.0/?method=artist.getinfo&mbid={mbid}&api_key={my_key}&format=json\"\n",
    "    response = requests.get(link).json()\n",
    "    for item in requests.get(link).json()['artist']['tags']['tag']:\n",
    "        tags.append(item['name'])\n",
    "    common_tag = set(rap) & set(tags)\n",
    "    if len(common_tag) == 0:\n",
    "        print('NO hip hop')\n",
    "    else:\n",
    "        print('YES hip hop')\n",
    "    print(f\"ARTIST: {response['artist']['name']}\")\n",
    "    print('---')"
   ]
  },
  {
   "cell_type": "markdown",
   "metadata": {},
   "source": [
    "Your results might look something like\n",
    "\n",
    "```ARTIST: Lily Allen\n",
    "NO hip hop\n",
    "ARTIST: Lil B\n",
    "YES hip hop\n",
    "ARTIST: Lilly Wood & The Prick\n",
    "NO hip hop\n",
    "ARTIST: Lil Ugly Mane\n",
    "YES hip hop\n",
    "ARTIST: Lil Jon\n",
    "YES hip hop\n",
    "ARTIST: Lil' Kim\n",
    "YES hip hop\n",
    "ARTIST: Lil Jon & The East Side Boyz\n",
    "YES hip hop\n",
    "```"
   ]
  },
  {
   "cell_type": "markdown",
   "metadata": {
    "collapsed": true
   },
   "source": [
    "## 13) What percent of \"lil\" results are rappers?"
   ]
  },
  {
   "cell_type": "code",
   "execution_count": 23,
   "metadata": {},
   "outputs": [
    {
     "name": "stdout",
     "output_type": "stream",
     "text": [
      "90% of 'lil' results are rappers\n"
     ]
    }
   ],
   "source": [
    "rappers = 0\n",
    "tags = []\n",
    "\n",
    "for mbid in mbids[:10]:\n",
    "    link = f\"http://ws.audioscrobbler.com/2.0/?method=artist.getinfo&mbid={mbid}&api_key={my_key}&format=json\"\n",
    "    response = requests.get(link).json()\n",
    "    for item in requests.get(link).json()['artist']['tags']['tag']:\n",
    "        tags.append(item['name'])\n",
    "    common_tag = set(rap) & set(tags)\n",
    "    if len(common_tag) > 0:\n",
    "        rappers = rappers + 1\n",
    "\n",
    "print(f\"{rappers}0% of 'lil' results are rappers\")"
   ]
  },
  {
   "cell_type": "markdown",
   "metadata": {},
   "source": [
    "## 14) Seriously you are all-powerful now."
   ]
  },
  {
   "cell_type": "code",
   "execution_count": 24,
   "metadata": {},
   "outputs": [],
   "source": [
    "# o/"
   ]
  }
 ],
 "metadata": {
  "kernelspec": {
   "display_name": "Python 3",
   "language": "python",
   "name": "python3"
  },
  "language_info": {
   "codemirror_mode": {
    "name": "ipython",
    "version": 3
   },
   "file_extension": ".py",
   "mimetype": "text/x-python",
   "name": "python",
   "nbconvert_exporter": "python",
   "pygments_lexer": "ipython3",
   "version": "3.9.5"
  }
 },
 "nbformat": 4,
 "nbformat_minor": 1
}
