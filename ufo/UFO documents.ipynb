{
 "cells": [
  {
   "cell_type": "markdown",
   "source": [
    "# UFOs `5 points`\n",
    "\n",
    "Source: https://www.theblackvault.com/documentarchive/ufos-the-central-intelligence-agency-cia-collection/\n",
    "\n",
    "Description: FOIA results from an inquiry to the CIA about UFO documents. We'll be working from the [original source material](https://documents2.theblackvault.com/documents/cia/CIAUFOCD-FULL-UNTOUCHED.zip).\n",
    "\n",
    "**Topics:**\n",
    "\n",
    "* OCR\n",
    "* Unsearchable documents to searchable documents"
   ],
   "metadata": {}
  },
  {
   "cell_type": "code",
   "execution_count": 1,
   "source": [
    "# !mkdir files\n",
    "# !wget 'https://documents2.theblackvault.com/documents/cia/CIAUFOCD-FULL-UNTOUCHED.zip' "
   ],
   "outputs": [],
   "metadata": {}
  },
  {
   "cell_type": "markdown",
   "source": [
    "### Convert `C05515649.tif` to text `1 point`"
   ],
   "metadata": {}
  },
  {
   "cell_type": "code",
   "execution_count": 2,
   "source": [
    "import pytesseract\n",
    "import glob\n",
    "import pandas as pd"
   ],
   "outputs": [],
   "metadata": {}
  },
  {
   "cell_type": "code",
   "execution_count": 3,
   "source": [
    "pytesseract.image_to_string('files/C05515649.tif')\n"
   ],
   "outputs": [
    {
     "output_type": "execute_result",
     "data": {
      "text/plain": [
       "' \\n\\n \\n\\n \\n \\n\\n\"c00015242 yy\\nrSu De | wo 09$9393Z |\\nne\\nPe VA CITE CHCO-6793 on ‘ ;\\n—_— a 3 |\\n[or 2 Jf |\\nk . . soem, . , +h ~ a\\n: oo, LAT oon — : : ‘\\nREFER FLYING SAUCER LETTEH DAVIDSON, Case copror {| |\\nA - : * : 4\\ni ATIC LETTER NOT X NOT RECEIVED HERE. I ACCORDINGLY CALLED COL. DAIRD =|\\nAGAIN TODAY, HE ASSURES ME XT WAS GONE OUT AND COPY IS INFAIL TOME. = = ff\\nWE SAYS RE RATHER EXPECTS FURTHER ENQUIRY FROM DAVIDSON. I AM SOT X NOT 4\\nSURE I ACKEE. ,\\n\\n \\n \\n  \\n\\nCl «=1T0T395/13552\\nEsv TOT183/15362\\n\\nseseucn fag ocre se\\nGPa bh Hees\\n\\nBie 24 Av Zh\\n\\n \\n\\n \\n\\x0c'"
      ]
     },
     "metadata": {},
     "execution_count": 3
    }
   ],
   "metadata": {}
  },
  {
   "cell_type": "markdown",
   "source": [
    "## Wrangling your data\n",
    "\n",
    "### Make a list of all `.tif` filenames  `2 points`"
   ],
   "metadata": {}
  },
  {
   "cell_type": "code",
   "execution_count": 4,
   "source": [
    "list = glob.glob('files/*.tif')\n"
   ],
   "outputs": [],
   "metadata": {}
  },
  {
   "cell_type": "markdown",
   "source": [
    "### Create a dataframe of all documents\n",
    "\n",
    "One column should be the filename, the other should be all of the OCR'd content. **Tika isn't the fastest, so this will probably take a while.**"
   ],
   "metadata": {}
  },
  {
   "cell_type": "code",
   "execution_count": 5,
   "source": [
    "df = pd.DataFrame(list,columns=['file'])\n",
    "df"
   ],
   "outputs": [
    {
     "output_type": "execute_result",
     "data": {
      "text/html": [
       "<div>\n",
       "<style scoped>\n",
       "    .dataframe tbody tr th:only-of-type {\n",
       "        vertical-align: middle;\n",
       "    }\n",
       "\n",
       "    .dataframe tbody tr th {\n",
       "        vertical-align: top;\n",
       "    }\n",
       "\n",
       "    .dataframe thead th {\n",
       "        text-align: right;\n",
       "    }\n",
       "</style>\n",
       "<table border=\"1\" class=\"dataframe\">\n",
       "  <thead>\n",
       "    <tr style=\"text-align: right;\">\n",
       "      <th></th>\n",
       "      <th>file</th>\n",
       "    </tr>\n",
       "  </thead>\n",
       "  <tbody>\n",
       "    <tr>\n",
       "      <th>0</th>\n",
       "      <td>files/C05516601.tif</td>\n",
       "    </tr>\n",
       "    <tr>\n",
       "      <th>1</th>\n",
       "      <td>files/C05516723.tif</td>\n",
       "    </tr>\n",
       "    <tr>\n",
       "      <th>2</th>\n",
       "      <td>files/C05515928.tif</td>\n",
       "    </tr>\n",
       "    <tr>\n",
       "      <th>3</th>\n",
       "      <td>files/C05517798.tif</td>\n",
       "    </tr>\n",
       "    <tr>\n",
       "      <th>4</th>\n",
       "      <td>files/C05517743.tif</td>\n",
       "    </tr>\n",
       "    <tr>\n",
       "      <th>...</th>\n",
       "      <td>...</td>\n",
       "    </tr>\n",
       "    <tr>\n",
       "      <th>708</th>\n",
       "      <td>files/C05516214.tif</td>\n",
       "    </tr>\n",
       "    <tr>\n",
       "      <th>709</th>\n",
       "      <td>files/C05516189.tif</td>\n",
       "    </tr>\n",
       "    <tr>\n",
       "      <th>710</th>\n",
       "      <td>files/C05517740.tif</td>\n",
       "    </tr>\n",
       "    <tr>\n",
       "      <th>711</th>\n",
       "      <td>files/C05516766.tif</td>\n",
       "    </tr>\n",
       "    <tr>\n",
       "      <th>712</th>\n",
       "      <td>files/C05517700.tif</td>\n",
       "    </tr>\n",
       "  </tbody>\n",
       "</table>\n",
       "<p>713 rows × 1 columns</p>\n",
       "</div>"
      ],
      "text/plain": [
       "                    file\n",
       "0    files/C05516601.tif\n",
       "1    files/C05516723.tif\n",
       "2    files/C05515928.tif\n",
       "3    files/C05517798.tif\n",
       "4    files/C05517743.tif\n",
       "..                   ...\n",
       "708  files/C05516214.tif\n",
       "709  files/C05516189.tif\n",
       "710  files/C05517740.tif\n",
       "711  files/C05516766.tif\n",
       "712  files/C05517700.tif\n",
       "\n",
       "[713 rows x 1 columns]"
      ]
     },
     "metadata": {},
     "execution_count": 5
    }
   ],
   "metadata": {}
  },
  {
   "cell_type": "code",
   "execution_count": 7,
   "source": [
    "# ~5h to finish (!)\n",
    "df['text'] = df.file.apply(pytesseract.image_to_string)"
   ],
   "outputs": [],
   "metadata": {}
  },
  {
   "cell_type": "code",
   "execution_count": 10,
   "source": [
    "df.to_csv('df_text.csv')"
   ],
   "outputs": [],
   "metadata": {}
  },
  {
   "cell_type": "markdown",
   "source": [
    "## Analysis `2 points`\n",
    "\n",
    "I cannot for the life of me find anything interesting to search for in here, but even so: **find every document that refers to China,** and make a list of filenames to reference when doing manual reading.\n",
    "\n",
    "> Note that there will be a ton of terms that might imply China – PRC, China, Beijing, etc – so be sure to include your search is as wide-ranging as possible. **Also watch out for case-sensitivity.**"
   ],
   "metadata": {}
  },
  {
   "cell_type": "code",
   "execution_count": 13,
   "source": [
    "df['text_low'] = df['text'].str.lower()"
   ],
   "outputs": [],
   "metadata": {}
  },
  {
   "cell_type": "code",
   "execution_count": 29,
   "source": [
    "china = [' china ',' beijing ','hke-china', 'xinhua','chinese','qiao shi','jiang hong','china’s','chi haotian','jiang zemin','jiangxi','ni zhifu','yang shangkun']\n",
    "\n",
    "df['china'] = df['text_low'].str.contains('|'.join(china),regex=True)"
   ],
   "outputs": [],
   "metadata": {}
  },
  {
   "cell_type": "code",
   "execution_count": 30,
   "source": [
    "df[df['china'] == True]"
   ],
   "outputs": [
    {
     "output_type": "execute_result",
     "data": {
      "text/html": [
       "<div>\n",
       "<style scoped>\n",
       "    .dataframe tbody tr th:only-of-type {\n",
       "        vertical-align: middle;\n",
       "    }\n",
       "\n",
       "    .dataframe tbody tr th {\n",
       "        vertical-align: top;\n",
       "    }\n",
       "\n",
       "    .dataframe thead th {\n",
       "        text-align: right;\n",
       "    }\n",
       "</style>\n",
       "<table border=\"1\" class=\"dataframe\">\n",
       "  <thead>\n",
       "    <tr style=\"text-align: right;\">\n",
       "      <th></th>\n",
       "      <th>file</th>\n",
       "      <th>text</th>\n",
       "      <th>text_low</th>\n",
       "      <th>china</th>\n",
       "    </tr>\n",
       "  </thead>\n",
       "  <tbody>\n",
       "    <tr>\n",
       "      <th>0</th>\n",
       "      <td>files/C05516601.tif</td>\n",
       "      <td>\\n\\nC00174640\\n\\nCLAS\\nCLAS\\nAFSN\\nFROM\\nSUBJ...</td>\n",
       "      <td>\\n\\nc00174640\\n\\nclas\\nclas\\nafsn\\nfrom\\nsubj...</td>\n",
       "      <td>True</td>\n",
       "    </tr>\n",
       "    <tr>\n",
       "      <th>1</th>\n",
       "      <td>files/C05516723.tif</td>\n",
       "      <td>\\n\\nC00175465\\n\\nPage: 21 of 149\\nUNCLASSIFIE...</td>\n",
       "      <td>\\n\\nc00175465\\n\\npage: 21 of 149\\nunclassifie...</td>\n",
       "      <td>True</td>\n",
       "    </tr>\n",
       "    <tr>\n",
       "      <th>15</th>\n",
       "      <td>files/C05516602.tif</td>\n",
       "      <td>\\n\\n“C00174641\\n\\nCLAS\\nCLAS\\nAFSN\\n\\nFROM FB...</td>\n",
       "      <td>\\n\\n“c00174641\\n\\nclas\\nclas\\nafsn\\n\\nfrom fb...</td>\n",
       "      <td>True</td>\n",
       "    </tr>\n",
       "    <tr>\n",
       "      <th>29</th>\n",
       "      <td>files/C05517535.tif</td>\n",
       "      <td>C00175714\\n\\nPage: 1 of 86\\nUNCLASSIFIED\\n\\nCo...</td>\n",
       "      <td>c00175714\\n\\npage: 1 of 86\\nunclassified\\n\\nco...</td>\n",
       "      <td>True</td>\n",
       "    </tr>\n",
       "    <tr>\n",
       "      <th>32</th>\n",
       "      <td>files/C05516631.tif</td>\n",
       "      <td>\\n\\n“c00174650\\n\\nPage: 4 of 49\\nUNCLASSIFIED...</td>\n",
       "      <td>\\n\\n“c00174650\\n\\npage: 4 of 49\\nunclassified...</td>\n",
       "      <td>True</td>\n",
       "    </tr>\n",
       "    <tr>\n",
       "      <th>...</th>\n",
       "      <td>...</td>\n",
       "      <td>...</td>\n",
       "      <td>...</td>\n",
       "      <td>...</td>\n",
       "    </tr>\n",
       "    <tr>\n",
       "      <th>691</th>\n",
       "      <td>files/C05517741.tif</td>\n",
       "      <td>\\n\\nC00219985\\n\\nUNCLASS [FIED\\n\\nPAGE: 0081\\...</td>\n",
       "      <td>\\n\\nc00219985\\n\\nunclass [fied\\n\\npage: 0081\\...</td>\n",
       "      <td>True</td>\n",
       "    </tr>\n",
       "    <tr>\n",
       "      <th>692</th>\n",
       "      <td>files/C05516703.tif</td>\n",
       "      <td>\\n\\nC00175070\\n\\nCLAS\\nCLAS\\n\\nPage: 143. of ...</td>\n",
       "      <td>\\n\\nc00175070\\n\\nclas\\nclas\\n\\npage: 143. of ...</td>\n",
       "      <td>True</td>\n",
       "    </tr>\n",
       "    <tr>\n",
       "      <th>710</th>\n",
       "      <td>files/C05517740.tif</td>\n",
       "      <td>\\n\\nC00219984\\n\\net\\n\\nUNCLASSIFIED\\n\\nPAGE :...</td>\n",
       "      <td>\\n\\nc00219984\\n\\net\\n\\nunclassified\\n\\npage :...</td>\n",
       "      <td>True</td>\n",
       "    </tr>\n",
       "    <tr>\n",
       "      <th>711</th>\n",
       "      <td>files/C05516766.tif</td>\n",
       "      <td>\\n\\nC00175521\\n\\nCLAS\\nCLAS\\nAFSN\\nFROM\\n\\nFu...</td>\n",
       "      <td>\\n\\nc00175521\\n\\nclas\\nclas\\nafsn\\nfrom\\n\\nfu...</td>\n",
       "      <td>True</td>\n",
       "    </tr>\n",
       "    <tr>\n",
       "      <th>712</th>\n",
       "      <td>files/C05517700.tif</td>\n",
       "      <td>\\n\\nC00207069\\n\\nUNCLAS\\n\\nx*x*« BEGIN MESSAG...</td>\n",
       "      <td>\\n\\nc00207069\\n\\nunclas\\n\\nx*x*« begin messag...</td>\n",
       "      <td>True</td>\n",
       "    </tr>\n",
       "  </tbody>\n",
       "</table>\n",
       "<p>100 rows × 4 columns</p>\n",
       "</div>"
      ],
      "text/plain": [
       "                    file                                               text  \\\n",
       "0    files/C05516601.tif   \\n\\nC00174640\\n\\nCLAS\\nCLAS\\nAFSN\\nFROM\\nSUBJ...   \n",
       "1    files/C05516723.tif   \\n\\nC00175465\\n\\nPage: 21 of 149\\nUNCLASSIFIE...   \n",
       "15   files/C05516602.tif   \\n\\n“C00174641\\n\\nCLAS\\nCLAS\\nAFSN\\n\\nFROM FB...   \n",
       "29   files/C05517535.tif  C00175714\\n\\nPage: 1 of 86\\nUNCLASSIFIED\\n\\nCo...   \n",
       "32   files/C05516631.tif   \\n\\n“c00174650\\n\\nPage: 4 of 49\\nUNCLASSIFIED...   \n",
       "..                   ...                                                ...   \n",
       "691  files/C05517741.tif   \\n\\nC00219985\\n\\nUNCLASS [FIED\\n\\nPAGE: 0081\\...   \n",
       "692  files/C05516703.tif   \\n\\nC00175070\\n\\nCLAS\\nCLAS\\n\\nPage: 143. of ...   \n",
       "710  files/C05517740.tif   \\n\\nC00219984\\n\\net\\n\\nUNCLASSIFIED\\n\\nPAGE :...   \n",
       "711  files/C05516766.tif   \\n\\nC00175521\\n\\nCLAS\\nCLAS\\nAFSN\\nFROM\\n\\nFu...   \n",
       "712  files/C05517700.tif   \\n\\nC00207069\\n\\nUNCLAS\\n\\nx*x*« BEGIN MESSAG...   \n",
       "\n",
       "                                              text_low  china  \n",
       "0     \\n\\nc00174640\\n\\nclas\\nclas\\nafsn\\nfrom\\nsubj...   True  \n",
       "1     \\n\\nc00175465\\n\\npage: 21 of 149\\nunclassifie...   True  \n",
       "15    \\n\\n“c00174641\\n\\nclas\\nclas\\nafsn\\n\\nfrom fb...   True  \n",
       "29   c00175714\\n\\npage: 1 of 86\\nunclassified\\n\\nco...   True  \n",
       "32    \\n\\n“c00174650\\n\\npage: 4 of 49\\nunclassified...   True  \n",
       "..                                                 ...    ...  \n",
       "691   \\n\\nc00219985\\n\\nunclass [fied\\n\\npage: 0081\\...   True  \n",
       "692   \\n\\nc00175070\\n\\nclas\\nclas\\n\\npage: 143. of ...   True  \n",
       "710   \\n\\nc00219984\\n\\net\\n\\nunclassified\\n\\npage :...   True  \n",
       "711   \\n\\nc00175521\\n\\nclas\\nclas\\nafsn\\nfrom\\n\\nfu...   True  \n",
       "712   \\n\\nc00207069\\n\\nunclas\\n\\nx*x*« begin messag...   True  \n",
       "\n",
       "[100 rows x 4 columns]"
      ]
     },
     "metadata": {},
     "execution_count": 30
    }
   ],
   "metadata": {}
  }
 ],
 "metadata": {
  "kernelspec": {
   "name": "python3",
   "display_name": "Python 3.9.5 64-bit"
  },
  "language_info": {
   "codemirror_mode": {
    "name": "ipython",
    "version": 3
   },
   "file_extension": ".py",
   "mimetype": "text/x-python",
   "name": "python",
   "nbconvert_exporter": "python",
   "pygments_lexer": "ipython3",
   "version": "3.9.5"
  },
  "interpreter": {
   "hash": "916dbcbb3f70747c44a77c7bcd40155683ae19c65e1c03b4aa3499c5328201f1"
  }
 },
 "nbformat": 4,
 "nbformat_minor": 4
}