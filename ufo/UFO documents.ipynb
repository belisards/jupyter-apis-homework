{
 "cells": [
  {
   "cell_type": "markdown",
   "source": [
    "# UFOs `5 points`\n",
    "\n",
    "Source: https://www.theblackvault.com/documentarchive/ufos-the-central-intelligence-agency-cia-collection/\n",
    "\n",
    "Description: FOIA results from an inquiry to the CIA about UFO documents. We'll be working from the [original source material](https://documents2.theblackvault.com/documents/cia/CIAUFOCD-FULL-UNTOUCHED.zip).\n",
    "\n",
    "**Topics:**\n",
    "\n",
    "* OCR\n",
    "* Unsearchable documents to searchable documents"
   ],
   "metadata": {}
  },
  {
   "cell_type": "code",
   "execution_count": 1,
   "source": [
    "# !mkdir files\n",
    "# !wget 'https://documents2.theblackvault.com/documents/cia/CIAUFOCD-FULL-UNTOUCHED.zip' "
   ],
   "outputs": [],
   "metadata": {}
  },
  {
   "cell_type": "markdown",
   "source": [
    "### Convert `C05515649.tif` to text `1 point`"
   ],
   "metadata": {}
  },
  {
   "cell_type": "code",
   "execution_count": 2,
   "source": [
    "import pytesseract\n",
    "import glob\n",
    "import pandas as pd"
   ],
   "outputs": [],
   "metadata": {}
  },
  {
   "cell_type": "code",
   "execution_count": 3,
   "source": [
    "pytesseract.image_to_string('files/C05515649.tif')\n"
   ],
   "outputs": [
    {
     "output_type": "execute_result",
     "data": {
      "text/plain": [
       "' \\n\\n \\n\\n \\n \\n\\n\"c00015242 yy\\nrSu De | wo 09$9393Z |\\nne\\nPe VA CITE CHCO-6793 on ‘ ;\\n—_— a 3 |\\n[or 2 Jf |\\nk . . soem, . , +h ~ a\\n: oo, LAT oon — : : ‘\\nREFER FLYING SAUCER LETTEH DAVIDSON, Case copror {| |\\nA - : * : 4\\ni ATIC LETTER NOT X NOT RECEIVED HERE. I ACCORDINGLY CALLED COL. DAIRD =|\\nAGAIN TODAY, HE ASSURES ME XT WAS GONE OUT AND COPY IS INFAIL TOME. = = ff\\nWE SAYS RE RATHER EXPECTS FURTHER ENQUIRY FROM DAVIDSON. I AM SOT X NOT 4\\nSURE I ACKEE. ,\\n\\n \\n \\n  \\n\\nCl «=1T0T395/13552\\nEsv TOT183/15362\\n\\nseseucn fag ocre se\\nGPa bh Hees\\n\\nBie 24 Av Zh\\n\\n \\n\\n \\n\\x0c'"
      ]
     },
     "metadata": {},
     "execution_count": 3
    }
   ],
   "metadata": {}
  },
  {
   "cell_type": "markdown",
   "source": [
    "## Wrangling your data\n",
    "\n",
    "### Make a list of all `.tif` filenames  `2 points`"
   ],
   "metadata": {}
  },
  {
   "cell_type": "code",
   "execution_count": 4,
   "source": [
    "list = glob.glob('files/*.tif')\n"
   ],
   "outputs": [],
   "metadata": {}
  },
  {
   "cell_type": "markdown",
   "source": [
    "### Create a dataframe of all documents\n",
    "\n",
    "One column should be the filename, the other should be all of the OCR'd content. **Tika isn't the fastest, so this will probably take a while.**"
   ],
   "metadata": {}
  },
  {
   "cell_type": "code",
   "execution_count": 5,
   "source": [
    "df = pd.DataFrame(list,columns=['file'])\n",
    "df"
   ],
   "outputs": [
    {
     "output_type": "execute_result",
     "data": {
      "text/html": [
       "<div>\n",
       "<style scoped>\n",
       "    .dataframe tbody tr th:only-of-type {\n",
       "        vertical-align: middle;\n",
       "    }\n",
       "\n",
       "    .dataframe tbody tr th {\n",
       "        vertical-align: top;\n",
       "    }\n",
       "\n",
       "    .dataframe thead th {\n",
       "        text-align: right;\n",
       "    }\n",
       "</style>\n",
       "<table border=\"1\" class=\"dataframe\">\n",
       "  <thead>\n",
       "    <tr style=\"text-align: right;\">\n",
       "      <th></th>\n",
       "      <th>file</th>\n",
       "    </tr>\n",
       "  </thead>\n",
       "  <tbody>\n",
       "    <tr>\n",
       "      <th>0</th>\n",
       "      <td>files/C05516601.tif</td>\n",
       "    </tr>\n",
       "    <tr>\n",
       "      <th>1</th>\n",
       "      <td>files/C05516723.tif</td>\n",
       "    </tr>\n",
       "    <tr>\n",
       "      <th>2</th>\n",
       "      <td>files/C05515928.tif</td>\n",
       "    </tr>\n",
       "    <tr>\n",
       "      <th>3</th>\n",
       "      <td>files/C05517798.tif</td>\n",
       "    </tr>\n",
       "    <tr>\n",
       "      <th>4</th>\n",
       "      <td>files/C05517743.tif</td>\n",
       "    </tr>\n",
       "    <tr>\n",
       "      <th>...</th>\n",
       "      <td>...</td>\n",
       "    </tr>\n",
       "    <tr>\n",
       "      <th>708</th>\n",
       "      <td>files/C05516214.tif</td>\n",
       "    </tr>\n",
       "    <tr>\n",
       "      <th>709</th>\n",
       "      <td>files/C05516189.tif</td>\n",
       "    </tr>\n",
       "    <tr>\n",
       "      <th>710</th>\n",
       "      <td>files/C05517740.tif</td>\n",
       "    </tr>\n",
       "    <tr>\n",
       "      <th>711</th>\n",
       "      <td>files/C05516766.tif</td>\n",
       "    </tr>\n",
       "    <tr>\n",
       "      <th>712</th>\n",
       "      <td>files/C05517700.tif</td>\n",
       "    </tr>\n",
       "  </tbody>\n",
       "</table>\n",
       "<p>713 rows × 1 columns</p>\n",
       "</div>"
      ],
      "text/plain": [
       "                    file\n",
       "0    files/C05516601.tif\n",
       "1    files/C05516723.tif\n",
       "2    files/C05515928.tif\n",
       "3    files/C05517798.tif\n",
       "4    files/C05517743.tif\n",
       "..                   ...\n",
       "708  files/C05516214.tif\n",
       "709  files/C05516189.tif\n",
       "710  files/C05517740.tif\n",
       "711  files/C05516766.tif\n",
       "712  files/C05517700.tif\n",
       "\n",
       "[713 rows x 1 columns]"
      ]
     },
     "metadata": {},
     "execution_count": 5
    }
   ],
   "metadata": {}
  },
  {
   "cell_type": "code",
   "execution_count": 7,
   "source": [
    "# ~5h to finish (!)\n",
    "df['text'] = df.file.apply(pytesseract.image_to_string)"
   ],
   "outputs": [],
   "metadata": {}
  },
  {
   "cell_type": "code",
   "execution_count": 10,
   "source": [
    "df.to_csv('df_text.csv')"
   ],
   "outputs": [],
   "metadata": {}
  },
  {
   "cell_type": "markdown",
   "source": [
    "## Analysis `2 points`\n",
    "\n",
    "I cannot for the life of me find anything interesting to search for in here, but even so: **find every document that refers to China,** and make a list of filenames to reference when doing manual reading.\n",
    "\n",
    "> Note that there will be a ton of terms that might imply China – PRC, China, Beijing, etc – so be sure to include your search is as wide-ranging as possible. **Also watch out for case-sensitivity.**"
   ],
   "metadata": {}
  },
  {
   "cell_type": "code",
   "execution_count": null,
   "source": [],
   "outputs": [],
   "metadata": {}
  }
 ],
 "metadata": {
  "kernelspec": {
   "name": "python3",
   "display_name": "Python 3.9.5 64-bit"
  },
  "language_info": {
   "codemirror_mode": {
    "name": "ipython",
    "version": 3
   },
   "file_extension": ".py",
   "mimetype": "text/x-python",
   "name": "python",
   "nbconvert_exporter": "python",
   "pygments_lexer": "ipython3",
   "version": "3.9.5"
  },
  "interpreter": {
   "hash": "916dbcbb3f70747c44a77c7bcd40155683ae19c65e1c03b4aa3499c5328201f1"
  }
 },
 "nbformat": 4,
 "nbformat_minor": 4
}