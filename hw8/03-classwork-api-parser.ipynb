{
 "cells": [
  {
   "cell_type": "markdown",
   "id": "95c00a50-e85c-4aa1-a2ed-afb6c667b73f",
   "metadata": {},
   "source": [
    "# Web scraping: headers, the networks tab and parsing an API URL\n",
    "## Helpful links and resources\n",
    "- [urllib](https://docs.python.org/3/library/urllib.parse.html#) is a Python library that will pick apart URLs\n",
    "- [Sessions object - request library](https://docs.python-requests.org/en/master/user/advanced/#session-objects)"
   ]
  },
  {
   "cell_type": "code",
   "execution_count": 41,
   "id": "a812281b-19bb-42db-a11b-6ae1bef64387",
   "metadata": {},
   "outputs": [],
   "source": [
    "import requests\n",
    "import pandas as pd\n",
    "import html\n",
    "from IPython.display import clear_output\n",
    "from urllib.parse import urlparse"
   ]
  },
  {
   "cell_type": "code",
   "execution_count": 5,
   "id": "apart-exclusion",
   "metadata": {},
   "outputs": [],
   "source": [
    "def my_api(url,mysearch,count):\n",
    "    parsed_url = urlparse(url)\n",
    "    endpoint = parsed_url[0] + '://' + parsed_url[1] + parsed_url[2]\n",
    "    params = {}\n",
    "    for parameter in parsed_url[4].split('&'):\n",
    "        key_value = parameter.split('=')\n",
    "        params[key_value[0]] = key_value[1]\n",
    "    params['count'] = count\n",
    "    params['offset'] = 0\n",
    "    params['keyword'] = mysearch\n",
    "    #print(params)\n",
    "    df = pd.DataFrame()\n",
    "    while True:\n",
    "            print('Last offset:', params['offset'])\n",
    "            results = requests.get(endpoint, params=params)\n",
    "            products = results.json()['data']['search']['products']\n",
    "            if len(products) == 0:\n",
    "                print('No products found. Exiting')\n",
    "                break\n",
    "            #print(len(products),'items downloaded.')\n",
    "            print('------')\n",
    "            clear_output()\n",
    "            df = df.append(pd.json_normalize(products))\n",
    "            params['offset'] = int(params['offset']) + count\n",
    "    df = df.reset_index()\n",
    "    return df"
   ]
  },
  {
   "cell_type": "markdown",
   "id": "39a553a8-93d0-482c-8d15-083aa316a028",
   "metadata": {},
   "source": [
    "## The networks tab\n",
    "### Static data files\n",
    "[Covid cases in the US - New York Times](https://www.nytimes.com/interactive/2021/us/covid-cases.html)"
   ]
  },
  {
   "cell_type": "code",
   "execution_count": null,
   "id": "05f19b68-de73-4570-85b3-880e68be63ae",
   "metadata": {},
   "outputs": [],
   "source": [
    "# get static data file\n",
    "covid_cases_r = requests.get('https://static01.nyt.com/newsgraphics/2021/coronavirus-tracking/data/pages/usa/data.json')"
   ]
  },
  {
   "cell_type": "code",
   "execution_count": null,
   "id": "a9a60bb9-1c2d-4d76-9fc5-935797b9c84c",
   "metadata": {},
   "outputs": [],
   "source": [
    "covid_cases = covid_cases_r.json()"
   ]
  },
  {
   "cell_type": "code",
   "execution_count": null,
   "id": "914e3830-55f1-45f8-9dc2-775a18d4dd02",
   "metadata": {},
   "outputs": [],
   "source": [
    "#covid_cases"
   ]
  },
  {
   "cell_type": "markdown",
   "id": "9b185437-5789-4fc9-8c92-78b1e4ee6e1c",
   "metadata": {},
   "source": [
    "### \"Secret\" APIs\n",
    "Shopping websites are good candidates for secret APIs, such as [Target](www.target.com)\n",
    "\n",
    "#### Target's Search API"
   ]
  },
  {
   "cell_type": "code",
   "execution_count": 38,
   "id": "mighty-capability",
   "metadata": {},
   "outputs": [
    {
     "name": "stdout",
     "output_type": "stream",
     "text": [
      "Last offset: 336\n",
      "No products found. Exiting\n"
     ]
    }
   ],
   "source": [
    "# Use the web inspector to grab a JSON request\n",
    "url = 'https://redsky.target.com/redsky_aggregations/v1/web/plp_search_v1?key=ff457966e64d5e877fdbad070f276d18ecec4a01&channel=WEB&count=24&default_purchasability_filter=false&include_sponsored=true&keyword=soccer&offset=0&page=%2Fs%2Fsoccer&platform=desktop&pricing_store_id=3991&visitor_id=017A79011A5902018B8E75524DE87692'\n",
    "\n",
    "df = my_api(url,'china',28)"
   ]
  },
  {
   "cell_type": "code",
   "execution_count": 36,
   "id": "french-enclosure",
   "metadata": {},
   "outputs": [],
   "source": [
    "# df.head(10)\n",
    "# df['item.product_description.title'].unique()\n",
    "# df.info()\n",
    "# df"
   ]
  },
  {
   "cell_type": "code",
   "execution_count": 39,
   "id": "functional-dynamics",
   "metadata": {},
   "outputs": [
    {
     "data": {
      "image/png": "[encoded data removed]",
      "text/plain": [
       "<Figure size 432x288 with 1 Axes>"
      ]
     },
     "metadata": {
      "needs_background": "light"
     },
     "output_type": "display_data"
    }
   ],
   "source": [
    "columns = ['item.primary_brand.name','price.current_retail']\n",
    "\n",
    "df[columns].groupby(by='item.primary_brand.name').size()\\\n",
    ".sort_values(ascending=False)[:10].plot(kind='barh').invert_yaxis()"
   ]
  },
  {
   "cell_type": "code",
   "execution_count": 40,
   "id": "interested-assignment",
   "metadata": {},
   "outputs": [
    {
     "name": "stdout",
     "output_type": "stream",
     "text": [
      "Last offset: 1036\n",
      "No products found. Exiting\n"
     ]
    },
    {
     "data": {
      "image/png": "[encoded data removed]",
      "text/plain": [
       "<Figure size 432x288 with 1 Axes>"
      ]
     },
     "metadata": {
      "needs_background": "light"
     },
     "output_type": "display_data"
    }
   ],
   "source": [
    "my_api(url,'harry potter',28)[columns].groupby(by='item.primary_brand.name').size()\\\n",
    ".sort_values(ascending=False)[:10].plot(kind='barh').invert_yaxis()"
   ]
  },
  {
   "cell_type": "markdown",
   "id": "b82cea13-756d-42dd-ae1f-4f832aee633f",
   "metadata": {},
   "source": [
    "#### Target's aggregation API"
   ]
  },
  {
   "cell_type": "code",
   "execution_count": null,
   "id": "dried-graham",
   "metadata": {},
   "outputs": [],
   "source": [
    "# Unfinished\n",
    "# target_list = 'https://redsky.target.com/redsky_aggregations/v1/web/plp_fulfillment_v1?key=ff457966e64d5e877fdbad070f276d18ecec4a01&tcins=81107269%2C81068829%2C14135567%2C81068792%2C82079503%2C81829962%2C81068790%2C81506339%2C80935950%2C81107259%2C81068797%2C11069188%2C81506334%2C81107271%2C81068773%2C81180792%2C81107267%2C81068789%2C81068796%2C81506336%2C81107268%2C81068821%2C81564691%2C81953908%2C81068815%2C81068825%2C81068787%2C81564688&store_id=2850&zip=11201&state=NY&latitude=40.690&longitude=-74.000&scheduled_delivery_store_id=2850'\n",
    "# generate_api(target_list)"
   ]
  },
  {
   "cell_type": "code",
   "execution_count": null,
   "id": "cc112f76-5561-4f9c-ba30-54884f267503",
   "metadata": {},
   "outputs": [],
   "source": [
    "# params['state'] = 'GA'\n",
    "\n",
    "# df = pd.DataFrame()\n",
    "# results = requests.get(generate_api(url)[0], params=generate_api(url)[1])\n",
    "# products = results.json()['data']['search']['products']\n",
    "# df = df.append(pd.json_normalize(products))\n",
    "# df"
   ]
  },
  {
   "cell_type": "markdown",
   "id": "cffa5d46-0920-42ab-b1c9-31c7e33c0714",
   "metadata": {},
   "source": [
    "## Using sessions to login\n",
    "### Accessing password-protected pages\n",
    "[Sessions object - request library](https://docs.python-requests.org/en/master/user/advanced/#session-objects)"
   ]
  },
  {
   "cell_type": "code",
   "execution_count": null,
   "id": "7c9549ce-8812-424b-8cad-5d27a6a03280",
   "metadata": {},
   "outputs": [],
   "source": [
    "# open up a session so that your login credentials are saved"
   ]
  },
  {
   "cell_type": "code",
   "execution_count": null,
   "id": "e9f7c1b7-c2a7-4cf6-a393-c1120c946335",
   "metadata": {},
   "outputs": [],
   "source": [
    "# load in config file with passwords"
   ]
  },
  {
   "cell_type": "code",
   "execution_count": null,
   "id": "cf1e069d-ea0c-42ad-95b4-1aecace9c1ec",
   "metadata": {},
   "outputs": [],
   "source": [
    "# check the website for the login parameters"
   ]
  },
  {
   "cell_type": "code",
   "execution_count": null,
   "id": "f1830a9c-621a-4a90-a53d-5c205a8e2ea7",
   "metadata": {},
   "outputs": [],
   "source": [
    "# post the payload to the site to login with the correct log in endpoint"
   ]
  },
  {
   "cell_type": "code",
   "execution_count": null,
   "id": "b06c1117-0551-4273-8038-e2bd1ad8435f",
   "metadata": {},
   "outputs": [],
   "source": [
    "# check credentials to see if successful"
   ]
  },
  {
   "cell_type": "code",
   "execution_count": null,
   "id": "6867fcc5-f08f-43cb-97da-48d80bb2d5bb",
   "metadata": {},
   "outputs": [],
   "source": [
    "# look at an example page to get you started with a query"
   ]
  },
  {
   "cell_type": "code",
   "execution_count": null,
   "id": "2fa83ead-22b0-4819-aca9-23e8f04786b3",
   "metadata": {},
   "outputs": [],
   "source": [
    "# create a new post object from the example"
   ]
  },
  {
   "cell_type": "code",
   "execution_count": null,
   "id": "11dad6ae-77c2-4fd1-842b-5048b77fc199",
   "metadata": {},
   "outputs": [],
   "source": [
    "# post request for the data"
   ]
  },
  {
   "cell_type": "code",
   "execution_count": null,
   "id": "6c5d4682-7dbb-4ff1-8b1c-cce050aad8e1",
   "metadata": {},
   "outputs": [],
   "source": [
    "# check to see what is returned"
   ]
  },
  {
   "cell_type": "code",
   "execution_count": null,
   "id": "ead2d484-c9c6-4cdd-ab78-58c2c9c9a735",
   "metadata": {},
   "outputs": [],
   "source": []
  }
 ],
 "metadata": {
  "kernelspec": {
   "display_name": "Python 3",
   "language": "python",
   "name": "python3"
  },
  "language_info": {
   "codemirror_mode": {
    "name": "ipython",
    "version": 3
   },
   "file_extension": ".py",
   "mimetype": "text/x-python",
   "name": "python",
   "nbconvert_exporter": "python",
   "pygments_lexer": "ipython3",
   "version": "3.9.5"
  }
 },
 "nbformat": 4,
 "nbformat_minor": 5
}
