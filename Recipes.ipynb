{
 "cells": [
  {
   "cell_type": "markdown",
   "source": [
    "# Recipe classification `14 points`\n",
    "\n",
    "Source: `recipes.csv`, which I scraped from... somewhere. Each row represents a recipe.\n",
    "\n",
    "**Topics**\n",
    "\n",
    "* Filtering\n",
    "* Text analysis\n",
    "* Classification"
   ],
   "metadata": {}
  },
  {
   "cell_type": "code",
   "execution_count": 1,
   "source": [
    "import pandas as pd\n",
    "\n",
    "df = pd.read_csv('recipes.csv')"
   ],
   "outputs": [],
   "metadata": {}
  },
  {
   "cell_type": "markdown",
   "source": [
    "## Filtering and aggregating `3 points`"
   ],
   "metadata": {}
  },
  {
   "cell_type": "markdown",
   "source": [
    "### What is the most common cuisine in this dataset?"
   ],
   "metadata": {}
  },
  {
   "cell_type": "code",
   "execution_count": 2,
   "source": [
    "df.info()"
   ],
   "outputs": [
    {
     "output_type": "stream",
     "name": "stdout",
     "text": [
      "<class 'pandas.core.frame.DataFrame'>\n",
      "RangeIndex: 39774 entries, 0 to 39773\n",
      "Data columns (total 3 columns):\n",
      " #   Column           Non-Null Count  Dtype \n",
      "---  ------           --------------  ----- \n",
      " 0   cuisine          39774 non-null  object\n",
      " 1   id               39774 non-null  int64 \n",
      " 2   ingredient_list  39774 non-null  object\n",
      "dtypes: int64(1), object(2)\n",
      "memory usage: 932.3+ KB\n"
     ]
    }
   ],
   "metadata": {}
  },
  {
   "cell_type": "code",
   "execution_count": 4,
   "source": [
    "# Italian\n",
    "df.cuisine.value_counts()"
   ],
   "outputs": [
    {
     "output_type": "execute_result",
     "data": {
      "text/plain": [
       "italian         7838\n",
       "mexican         6438\n",
       "southern_us     4320\n",
       "indian          3003\n",
       "chinese         2673\n",
       "french          2646\n",
       "cajun_creole    1546\n",
       "thai            1539\n",
       "japanese        1423\n",
       "greek           1175\n",
       "spanish          989\n",
       "korean           830\n",
       "vietnamese       825\n",
       "moroccan         821\n",
       "british          804\n",
       "filipino         755\n",
       "irish            667\n",
       "jamaican         526\n",
       "russian          489\n",
       "brazilian        467\n",
       "Name: cuisine, dtype: int64"
      ]
     },
     "metadata": {},
     "execution_count": 4
    }
   ],
   "metadata": {}
  },
  {
   "cell_type": "markdown",
   "source": [
    "### Plot a bar graph of cuisine popularity, with the most common at the top"
   ],
   "metadata": {}
  },
  {
   "cell_type": "code",
   "execution_count": 12,
   "source": [
    "df.cuisine.value_counts(ascending=True).plot(kind='barh')"
   ],
   "outputs": [
    {
     "output_type": "execute_result",
     "data": {
      "text/plain": [
       "<AxesSubplot:>"
      ]
     },
     "metadata": {},
     "execution_count": 12
    },
    {
     "output_type": "display_data",
     "data": {
      "image/png": "[encoded data removed]",
      "text/plain": [
       "<Figure size 432x288 with 1 Axes>"
      ]
     },
     "metadata": {
      "needs_background": "light"
     }
    }
   ],
   "metadata": {}
  },
  {
   "cell_type": "markdown",
   "source": [
    "### Clean up the names so we get nicer graphics\n",
    "\n",
    "\"southern_us\" should be \"Southern US,\" \"russian\" should be \"Russian,\" etc."
   ],
   "metadata": {}
  },
  {
   "cell_type": "code",
   "execution_count": 17,
   "source": [
    "df.cuisine.unique()"
   ],
   "outputs": [
    {
     "output_type": "execute_result",
     "data": {
      "text/plain": [
       "array(['greek', 'southern_us', 'filipino', 'indian', 'jamaican',\n",
       "       'spanish', 'italian', 'mexican', 'chinese', 'british', 'thai',\n",
       "       'vietnamese', 'cajun_creole', 'brazilian', 'french', 'japanese',\n",
       "       'irish', 'korean', 'moroccan', 'russian'], dtype=object)"
      ]
     },
     "metadata": {},
     "execution_count": 17
    }
   ],
   "metadata": {}
  },
  {
   "cell_type": "code",
   "execution_count": 18,
   "source": [
    "old_names = ['greek', 'southern_us', 'filipino', 'indian', 'jamaican','spanish', 'italian', 'mexican', 'chinese', 'british', \n",
    "'thai','vietnamese', 'cajun_creole', 'brazilian', 'french', 'japanese','irish', 'korean', 'moroccan', 'russian']"
   ],
   "outputs": [],
   "metadata": {}
  },
  {
   "cell_type": "code",
   "execution_count": 19,
   "source": [
    "new_names = ['Greek', 'Southern US', 'Filipino', 'Indian', 'Jamaican','Spanish', 'Italian', 'Mexican', 'Chinese', 'British', \n",
    "'Thai','Vietnamese', 'Cajun Creole', 'Brazilian', 'French', 'Japanese','Irish', 'Korean', 'Moroccan', 'Russian']"
   ],
   "outputs": [],
   "metadata": {}
  },
  {
   "cell_type": "code",
   "execution_count": 21,
   "source": [
    "name_replace = dict(zip(old_names, new_names))\n",
    "\n",
    "name_replace"
   ],
   "outputs": [
    {
     "output_type": "execute_result",
     "data": {
      "text/plain": [
       "{'greek': 'Greek',\n",
       " 'southern_us': 'Southern US',\n",
       " 'filipino': 'Filipino',\n",
       " 'indian': 'Indian',\n",
       " 'jamaican': 'Jamaican',\n",
       " 'spanish': 'Spanish',\n",
       " 'italian': 'Italian',\n",
       " 'mexican': 'Mexican',\n",
       " 'chinese': 'Chinese',\n",
       " 'british': 'British',\n",
       " 'thai': 'Thai',\n",
       " 'vietnamese': 'Vietnamese',\n",
       " 'cajun_creole': 'Cajun Creole',\n",
       " 'brazilian': 'Brazilian',\n",
       " 'french': 'French',\n",
       " 'japanese': 'Japanese',\n",
       " 'irish': 'Irish',\n",
       " 'korean': 'Korean',\n",
       " 'moroccan': 'Moroccan',\n",
       " 'russian': 'Russian'}"
      ]
     },
     "metadata": {},
     "execution_count": 21
    }
   ],
   "metadata": {}
  },
  {
   "cell_type": "code",
   "execution_count": 26,
   "source": [
    "df.cuisine = df.cuisine.replace(name_replace)\n",
    "\n",
    "df.cuisine.value_counts(ascending=True).plot(kind='barh')"
   ],
   "outputs": [
    {
     "output_type": "execute_result",
     "data": {
      "text/plain": [
       "<AxesSubplot:>"
      ]
     },
     "metadata": {},
     "execution_count": 26
    },
    {
     "output_type": "display_data",
     "data": {
      "image/png": "[encoded data removed]",
      "text/plain": [
       "<Figure size 432x288 with 1 Axes>"
      ]
     },
     "metadata": {
      "needs_background": "light"
     }
    }
   ],
   "metadata": {}
  },
  {
   "cell_type": "markdown",
   "source": [
    "## Text analysis\n",
    "\n",
    "### Build a classifier to predict whether a recipe is Greek or not `2 points`"
   ],
   "metadata": {}
  },
  {
   "cell_type": "code",
   "execution_count": null,
   "source": [],
   "outputs": [],
   "metadata": {}
  },
  {
   "cell_type": "markdown",
   "source": [
    "### Using a confusion matrix, show how well it classifies Greek recipes `1 point`\n",
    "\n",
    "It won't be perfect, but it shouldn't be *completely awful*."
   ],
   "metadata": {}
  },
  {
   "cell_type": "code",
   "execution_count": null,
   "source": [],
   "outputs": [],
   "metadata": {}
  },
  {
   "cell_type": "markdown",
   "source": [
    "### List the top 20 ingredients that predict a recipe to be greek or a recipe to be not greek `2 points`"
   ],
   "metadata": {}
  },
  {
   "cell_type": "code",
   "execution_count": null,
   "source": [],
   "outputs": [],
   "metadata": {}
  },
  {
   "cell_type": "markdown",
   "source": [
    "## Create, evaluate, and examine the weights of a Mexican food classifier `3 points`"
   ],
   "metadata": {}
  },
  {
   "cell_type": "code",
   "execution_count": null,
   "source": [],
   "outputs": [],
   "metadata": {}
  },
  {
   "cell_type": "markdown",
   "source": [
    "## Multi-class classification `3 points`\n",
    "\n",
    "### Encode the recipe names as numbers\n",
    "\n",
    "Let's convert each label - greek, southern US, indian, etc - to be a number. You can have this code:\n",
    "\n",
    "```py\n",
    "from sklearn import preprocessing\n",
    "\n",
    "le = preprocessing.LabelEncoder()\n",
    "df['cuisine_label'] = le.fit_transform(df.cuisine)\n",
    "df.head()\n",
    "```"
   ],
   "metadata": {}
  },
  {
   "cell_type": "code",
   "execution_count": null,
   "source": [],
   "outputs": [],
   "metadata": {}
  },
  {
   "cell_type": "markdown",
   "source": [
    "### Build a classifier to predict this new `cuisine_label` column"
   ],
   "metadata": {}
  },
  {
   "cell_type": "code",
   "execution_count": null,
   "source": [],
   "outputs": [],
   "metadata": {}
  },
  {
   "cell_type": "markdown",
   "source": [
    "### Using a confusion matrix, see what cuisines it confuses\n",
    "\n",
    "Here's the multi-class version:\n",
    "\n",
    "```py\n",
    "from sklearn.metrics import confusion_matrix\n",
    "\n",
    "y_true = y_test\n",
    "y_pred = clf.predict(X_test)\n",
    "matrix = confusion_matrix(y_true, y_pred)\n",
    "\n",
    "label_names = pd.Series(le.classes_)\n",
    "scores = pd.DataFrame(matrix,\n",
    "     columns='Predicted ' + label_names,\n",
    "     index='Is ' + label_names).div(matrix.sum(axis=1), axis=0)\n",
    "scores.style.background_gradient(cmap='YlGnBu')\n",
    "```"
   ],
   "metadata": {}
  },
  {
   "cell_type": "code",
   "execution_count": null,
   "source": [],
   "outputs": [],
   "metadata": {}
  },
  {
   "cell_type": "markdown",
   "source": [
    "### What cuisine is it most likely to confuse a Vietnamese recipe with?"
   ],
   "metadata": {}
  },
  {
   "cell_type": "code",
   "execution_count": null,
   "source": [],
   "outputs": [],
   "metadata": {}
  },
  {
   "cell_type": "markdown",
   "source": [
    "### What cuisine is it the worst at classifying?"
   ],
   "metadata": {}
  },
  {
   "cell_type": "code",
   "execution_count": null,
   "source": [],
   "outputs": [],
   "metadata": {}
  }
 ],
 "metadata": {
  "kernelspec": {
   "name": "python3",
   "display_name": "Python 3.9.5 64-bit"
  },
  "language_info": {
   "codemirror_mode": {
    "name": "ipython",
    "version": 3
   },
   "file_extension": ".py",
   "mimetype": "text/x-python",
   "name": "python",
   "nbconvert_exporter": "python",
   "pygments_lexer": "ipython3",
   "version": "3.9.5"
  },
  "interpreter": {
   "hash": "916dbcbb3f70747c44a77c7bcd40155683ae19c65e1c03b4aa3499c5328201f1"
  }
 },
 "nbformat": 4,
 "nbformat_minor": 4
}