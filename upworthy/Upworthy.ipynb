{
 "cells": [
  {
   "cell_type": "markdown",
   "source": [
    "# Upworthy A/B title testing `5 points`\n",
    "\n",
    "Source: https://www.nature.com/articles/s41597-021-00934-7 and https://upworthy.natematias.com/.\n",
    "\n",
    "The dataset itself is kind of a pain to get to, and can be downloaded directly from [here](https://osf.io/vy8mj/download), as linked to from [this page](https://osf.io/vy8mj/).\n",
    "\n",
    "Description from [Data Is Plural](https://www.data-is-plural.com/archive/2021-08-18-edition/):\n",
    "\n",
    "> The Upworthy Research Archive describes 32,000+ headline-testing experiments conducted in 2013–15 by Upworthy, the online publication that popularized a once-ubiquitous style of headline. The dataset, contributed by the publication to a team of academics, is split into three tranches for use in different phases of research. In total, it covers 150,000+ headline-plus-image permutations; for each, it provides the headline, an image identifier, the number of viewers assigned to see it, the number who clicked, and other details.\n",
    "\n",
    "### Topis covered\n",
    "\n",
    "* String functions\n",
    "* Reading and understanding data dictionaries\n",
    "* Sentiment analysis"
   ],
   "metadata": {}
  },
  {
   "cell_type": "markdown",
   "source": [
    "## Two questions about questions `1 point`\n",
    "\n",
    "\n",
    "Headlines that end in questions are so common there's even a rule about it: Betteridge's law of headlines! It states \"Any headline that ends in a question mark can be answered by the word no.\"\n",
    "\n",
    "### How often were Upworthy headlines phrased as questions?"
   ],
   "metadata": {}
  },
  {
   "cell_type": "code",
   "execution_count": 1,
   "source": [
    "import pandas as pd\n",
    "import numpy as np\n",
    "import matplotlib.pyplot as plt\n",
    "from nltk.sentiment.vader import SentimentIntensityAnalyzer as SIA"
   ],
   "outputs": [],
   "metadata": {}
  },
  {
   "cell_type": "code",
   "execution_count": 16,
   "source": [
    "# 15% of the headlines were phrased as questions\n",
    "df = pd.read_csv('upworthy-archive-confirmatory-packages-03.12.2020.csv')\n",
    "df['question'] = df['headline'].str.contains('\\?')\n",
    "df.question.value_counts(normalize=True)"
   ],
   "outputs": [
    {
     "output_type": "stream",
     "name": "stderr",
     "text": [
      "/usr/lib/python3/dist-packages/IPython/core/interactiveshell.py:3155: DtypeWarning: Columns (15) have mixed types.Specify dtype option on import or set low_memory=False.\n",
      "  has_raised = await self.run_ast_nodes(code_ast.body, cell_name,\n"
     ]
    },
    {
     "output_type": "execute_result",
     "data": {
      "text/plain": [
       "False    0.84849\n",
       "True     0.15151\n",
       "Name: question, dtype: float64"
      ]
     },
     "metadata": {},
     "execution_count": 16
    }
   ],
   "metadata": {}
  },
  {
   "cell_type": "markdown",
   "source": [],
   "metadata": {}
  },
  {
   "cell_type": "markdown",
   "source": [
    "### Are headlines with question marks more likely to succeed than ones without?\n",
    "\n",
    "Along with your actual answer, defend what you mean by \"succeed\" (for example, what column you picked to represent success). You probably want to read the \"Data Records\" section from the source.\""
   ],
   "metadata": {}
  },
  {
   "cell_type": "code",
   "execution_count": 27,
   "source": [
    "# Clicks and impressions are related to packages, not headlines. Therefore, it is hard to answer the question as it its phrased.\n",
    "# Disconsidering this, I will consider the rate between impressions and clicks of packages as the metric of success for the headlines. \n",
    "# According to this metric, there is no evidence of a better performance of headlines with question marks.\n",
    "df['clickperimpression'] = round(df.clicks/df.impressions*100,1)\n",
    "df.groupby(by='question').median()['clickperimpression']"
   ],
   "outputs": [
    {
     "output_type": "execute_result",
     "data": {
      "text/plain": [
       "question\n",
       "False    1.3\n",
       "True     1.1\n",
       "Name: clickperimpression, dtype: float64"
      ]
     },
     "metadata": {},
     "execution_count": 27
    }
   ],
   "metadata": {}
  },
  {
   "cell_type": "code",
   "execution_count": 61,
   "source": [
    "df.head(3)"
   ],
   "outputs": [
    {
     "output_type": "execute_result",
     "data": {
      "text/html": [
       "<div>\n",
       "<style scoped>\n",
       "    .dataframe tbody tr th:only-of-type {\n",
       "        vertical-align: middle;\n",
       "    }\n",
       "\n",
       "    .dataframe tbody tr th {\n",
       "        vertical-align: top;\n",
       "    }\n",
       "\n",
       "    .dataframe thead th {\n",
       "        text-align: right;\n",
       "    }\n",
       "</style>\n",
       "<table border=\"1\" class=\"dataframe\">\n",
       "  <thead>\n",
       "    <tr style=\"text-align: right;\">\n",
       "      <th></th>\n",
       "      <th>Unnamed: 0</th>\n",
       "      <th>created_at</th>\n",
       "      <th>updated_at</th>\n",
       "      <th>clickability_test_id</th>\n",
       "      <th>excerpt</th>\n",
       "      <th>headline</th>\n",
       "      <th>lede</th>\n",
       "      <th>slug</th>\n",
       "      <th>eyecatcher_id</th>\n",
       "      <th>impressions</th>\n",
       "      <th>clicks</th>\n",
       "      <th>significance</th>\n",
       "      <th>first_place</th>\n",
       "      <th>winner</th>\n",
       "      <th>share_text</th>\n",
       "      <th>square</th>\n",
       "      <th>test_week</th>\n",
       "      <th>question</th>\n",
       "      <th>clickperimpression</th>\n",
       "      <th>sentiment</th>\n",
       "    </tr>\n",
       "  </thead>\n",
       "  <tbody>\n",
       "    <tr>\n",
       "      <th>0</th>\n",
       "      <td>11</td>\n",
       "      <td>2014-11-20 11:33:26.475</td>\n",
       "      <td>2016-04-02 16:25:54.046</td>\n",
       "      <td>546dd17e26714c82cc00001c</td>\n",
       "      <td>Things that matter. Pass 'em on.</td>\n",
       "      <td>Let’s See … Hire Cops, Pay Teachers, Buy Books...</td>\n",
       "      <td>&lt;p&gt;Iff you start with the basic fact that inno...</td>\n",
       "      <td>let-s-see-hire-cops-pay-teachers-buy-books-for...</td>\n",
       "      <td>546dce659ad54ec65b000041</td>\n",
       "      <td>3118</td>\n",
       "      <td>8</td>\n",
       "      <td>0.1</td>\n",
       "      <td>False</td>\n",
       "      <td>False</td>\n",
       "      <td>NaN</td>\n",
       "      <td>NaN</td>\n",
       "      <td>201446</td>\n",
       "      <td>True</td>\n",
       "      <td>0.3</td>\n",
       "      <td>-0.7579</td>\n",
       "    </tr>\n",
       "    <tr>\n",
       "      <th>1</th>\n",
       "      <td>12</td>\n",
       "      <td>2014-11-20 15:00:01.032</td>\n",
       "      <td>2016-04-02 16:25:54.128</td>\n",
       "      <td>546e01d626714c6c4400004e</td>\n",
       "      <td>Things that matter. Pass 'em on.</td>\n",
       "      <td>People Sent This Lesbian Questions And Her Rai...</td>\n",
       "      <td>&lt;p&gt;I'll be honest. I've wondered about 7.&lt;/p&gt;</td>\n",
       "      <td>people-sent-this-lesbian-questions-and-her-rai...</td>\n",
       "      <td>546d1b4bfd3617f091000041</td>\n",
       "      <td>4587</td>\n",
       "      <td>130</td>\n",
       "      <td>55.8</td>\n",
       "      <td>False</td>\n",
       "      <td>False</td>\n",
       "      <td>NaN</td>\n",
       "      <td>NaN</td>\n",
       "      <td>201446</td>\n",
       "      <td>False</td>\n",
       "      <td>2.8</td>\n",
       "      <td>-0.4019</td>\n",
       "    </tr>\n",
       "    <tr>\n",
       "      <th>2</th>\n",
       "      <td>13</td>\n",
       "      <td>2014-11-20 11:33:51.973</td>\n",
       "      <td>2016-04-02 16:25:54.069</td>\n",
       "      <td>546dd17e26714c82cc00001c</td>\n",
       "      <td>Things that matter. Pass 'em on.</td>\n",
       "      <td>$3 Million Is What It Takes For A State To Leg...</td>\n",
       "      <td>&lt;p&gt;Iff you start with the basic fact that inno...</td>\n",
       "      <td>3-million-is-what-it-takes-for-a-state-to-lega...</td>\n",
       "      <td>546dce659ad54ec65b000041</td>\n",
       "      <td>3017</td>\n",
       "      <td>19</td>\n",
       "      <td>26.9</td>\n",
       "      <td>False</td>\n",
       "      <td>False</td>\n",
       "      <td>NaN</td>\n",
       "      <td>NaN</td>\n",
       "      <td>201446</td>\n",
       "      <td>False</td>\n",
       "      <td>0.6</td>\n",
       "      <td>-0.6486</td>\n",
       "    </tr>\n",
       "  </tbody>\n",
       "</table>\n",
       "</div>"
      ],
      "text/plain": [
       "   Unnamed: 0               created_at               updated_at  \\\n",
       "0          11  2014-11-20 11:33:26.475  2016-04-02 16:25:54.046   \n",
       "1          12  2014-11-20 15:00:01.032  2016-04-02 16:25:54.128   \n",
       "2          13  2014-11-20 11:33:51.973  2016-04-02 16:25:54.069   \n",
       "\n",
       "       clickability_test_id                           excerpt  \\\n",
       "0  546dd17e26714c82cc00001c  Things that matter. Pass 'em on.   \n",
       "1  546e01d626714c6c4400004e  Things that matter. Pass 'em on.   \n",
       "2  546dd17e26714c82cc00001c  Things that matter. Pass 'em on.   \n",
       "\n",
       "                                            headline  \\\n",
       "0  Let’s See … Hire Cops, Pay Teachers, Buy Books...   \n",
       "1  People Sent This Lesbian Questions And Her Rai...   \n",
       "2  $3 Million Is What It Takes For A State To Leg...   \n",
       "\n",
       "                                                lede  \\\n",
       "0  <p>Iff you start with the basic fact that inno...   \n",
       "1      <p>I'll be honest. I've wondered about 7.</p>   \n",
       "2  <p>Iff you start with the basic fact that inno...   \n",
       "\n",
       "                                                slug  \\\n",
       "0  let-s-see-hire-cops-pay-teachers-buy-books-for...   \n",
       "1  people-sent-this-lesbian-questions-and-her-rai...   \n",
       "2  3-million-is-what-it-takes-for-a-state-to-lega...   \n",
       "\n",
       "              eyecatcher_id  impressions  clicks  significance  first_place  \\\n",
       "0  546dce659ad54ec65b000041         3118       8           0.1        False   \n",
       "1  546d1b4bfd3617f091000041         4587     130          55.8        False   \n",
       "2  546dce659ad54ec65b000041         3017      19          26.9        False   \n",
       "\n",
       "   winner share_text square  test_week  question  clickperimpression  \\\n",
       "0   False        NaN    NaN     201446      True                 0.3   \n",
       "1   False        NaN    NaN     201446     False                 2.8   \n",
       "2   False        NaN    NaN     201446     False                 0.6   \n",
       "\n",
       "   sentiment  \n",
       "0    -0.7579  \n",
       "1    -0.4019  \n",
       "2    -0.6486  "
      ]
     },
     "metadata": {},
     "execution_count": 61
    }
   ],
   "metadata": {}
  },
  {
   "cell_type": "markdown",
   "source": [
    "### Upworthy was thought of as an \"obnoxiously positive clickbait\" kind of site. Does the data support this? `3 points`"
   ],
   "metadata": {}
  },
  {
   "cell_type": "code",
   "execution_count": 58,
   "source": [
    "# No. It seems that most headlines were neutral.\n",
    "sia = SIA()\n",
    "df['sentiment'] = df['headline'].apply(lambda x:sia.polarity_scores(x)['compound'])\n",
    "result = plt.hist(df.sentiment, bins=20, color='c', edgecolor='k', alpha=0.65)\n",
    "\n",
    "plt.axvline(df.sentiment.mean(), color='k', linestyle='dashed', linewidth=1)"
   ],
   "outputs": [
    {
     "output_type": "execute_result",
     "data": {
      "text/plain": [
       "<matplotlib.lines.Line2D at 0x7fe1505471c0>"
      ]
     },
     "metadata": {},
     "execution_count": 58
    },
    {
     "output_type": "display_data",
     "data": {
      "image/png": "[encoded data removed]",
      "text/plain": [
       "<Figure size 432x288 with 1 Axes>"
      ]
     },
     "metadata": {
      "needs_background": "light"
     }
    }
   ],
   "metadata": {}
  },
  {
   "cell_type": "code",
   "execution_count": 59,
   "source": [
    "df.sentiment.mean()"
   ],
   "outputs": [
    {
     "output_type": "execute_result",
     "data": {
      "text/plain": [
       "0.038628333222799634"
      ]
     },
     "metadata": {},
     "execution_count": 59
    }
   ],
   "metadata": {}
  },
  {
   "cell_type": "code",
   "execution_count": 60,
   "source": [
    "df.sentiment.median()"
   ],
   "outputs": [
    {
     "output_type": "execute_result",
     "data": {
      "text/plain": [
       "0.0"
      ]
     },
     "metadata": {},
     "execution_count": 60
    }
   ],
   "metadata": {}
  },
  {
   "cell_type": "markdown",
   "source": [
    "### Were the selected headlines more likely to be positive or negative? `1 point`"
   ],
   "metadata": {}
  },
  {
   "cell_type": "code",
   "execution_count": 66,
   "source": [
    "# According to the documentation, only packages [1] were selected [2] - not headlines. \n",
    "# [1] \"packages are bundles of headlines and images that were randomly assigned to people on the website as part of a test\"\n",
    "# [2] \"winner: Whether a package was selected by editors to be used on the Upworthy site after the test\"\n",
    "\n",
    "# Anyway, it seems that headlines from selected packages were slightly more negative. \n",
    "# However, the difference does not seem to be significant enough to claim that headlines from selected packages were more likely to be negative.\n",
    "df.groupby('winner').mean()['sentiment']"
   ],
   "outputs": [
    {
     "output_type": "execute_result",
     "data": {
      "text/plain": [
       "winner\n",
       "False    0.039422\n",
       "True     0.023894\n",
       "Name: sentiment, dtype: float64"
      ]
     },
     "metadata": {},
     "execution_count": 66
    }
   ],
   "metadata": {}
  }
 ],
 "metadata": {
  "kernelspec": {
   "name": "python3",
   "display_name": "Python 3.9.5 64-bit"
  },
  "language_info": {
   "codemirror_mode": {
    "name": "ipython",
    "version": 3
   },
   "file_extension": ".py",
   "mimetype": "text/x-python",
   "name": "python",
   "nbconvert_exporter": "python",
   "pygments_lexer": "ipython3",
   "version": "3.9.5"
  },
  "interpreter": {
   "hash": "916dbcbb3f70747c44a77c7bcd40155683ae19c65e1c03b4aa3499c5328201f1"
  }
 },
 "nbformat": 4,
 "nbformat_minor": 4
}