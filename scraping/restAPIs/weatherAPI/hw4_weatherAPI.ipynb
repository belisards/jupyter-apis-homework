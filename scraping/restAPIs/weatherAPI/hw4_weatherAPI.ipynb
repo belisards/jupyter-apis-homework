{
 "cells": [
  {
   "cell_type": "markdown",
   "metadata": {},
   "source": [
    "# WeatherAPI (Weather)\n",
    "\n",
    "Answer the following questions using [WeatherAPI](http://www.weatherapi.com/). I've added three cells for most questions but you're free to use more or less! Hold `Shift` and hit `Enter` to run a cell, and use the `+` on the top left to add a new cell to a notebook.\n",
    "\n",
    "Be sure to take advantage of both the documentation and the API Explorer!\n",
    "\n",
    "## 0) Import any libraries you might need\n",
    "\n",
    "- *Tip: We're going to be downloading things from the internet, so we probably need `requests`.*\n",
    "- *Tip: Remember you only need to import requests once!*"
   ]
  },
  {
   "cell_type": "code",
   "execution_count": 1,
   "metadata": {},
   "outputs": [
    {
     "name": "stdout",
     "output_type": "stream",
     "text": [
      "Requirement already satisfied: python-dotenv in /home/abitporu/.local/lib/python3.9/site-packages (0.17.1)\r\n"
     ]
    }
   ],
   "source": [
    "!pip3 install python-dotenv"
   ]
  },
  {
   "cell_type": "markdown",
   "metadata": {},
   "source": [
    "# Be sure to restart your kernel after installing a package."
   ]
  },
  {
   "cell_type": "code",
   "execution_count": 2,
   "metadata": {},
   "outputs": [],
   "source": [
    "import os\n",
    "import requests\n",
    "import datetime"
   ]
  },
  {
   "cell_type": "code",
   "execution_count": 3,
   "metadata": {},
   "outputs": [],
   "source": [
    "# Load the API key in the .env file\n",
    "\n",
    "from dotenv import load_dotenv\n",
    "load_dotenv()  # take environment variables from .env.\n",
    "\n",
    "my_key = os.environ['my_key']\n"
   ]
  },
  {
   "cell_type": "markdown",
   "metadata": {
    "collapsed": true
   },
   "source": [
    "## 1) Make a request to the Weather API for where you were born (or lived, or want to visit!).\n",
    "\n",
    "- *Tip: This sure seems familiar.*"
   ]
  },
  {
   "cell_type": "code",
   "execution_count": 4,
   "metadata": {},
   "outputs": [],
   "source": [
    "city = 'Rio+de+Janeiro'\n",
    "weathernow = f\"http://api.weatherapi.com/v1/current.json?key={my_key}&q={city}\""
   ]
  },
  {
   "cell_type": "code",
   "execution_count": 5,
   "metadata": {},
   "outputs": [],
   "source": [
    "rio = requests.get(weathernow).json()"
   ]
  },
  {
   "cell_type": "code",
   "execution_count": 6,
   "metadata": {},
   "outputs": [
    {
     "data": {
      "text/plain": [
       "20.0"
      ]
     },
     "execution_count": 6,
     "metadata": {},
     "output_type": "execute_result"
    }
   ],
   "source": [
    "temp_c = rio['current']['temp_c']\n",
    "temp_c"
   ]
  },
  {
   "cell_type": "code",
   "execution_count": 7,
   "metadata": {},
   "outputs": [
    {
     "name": "stdout",
     "output_type": "stream",
     "text": [
      "In Rio De Janeiro - a city based in Brazil - it is 20.0 C degrees\n"
     ]
    }
   ],
   "source": [
    "print(f'In {rio[\"location\"][\"name\"]} - a city based in {rio[\"location\"][\"country\"]} - it is {temp_c} C degrees')"
   ]
  },
  {
   "cell_type": "markdown",
   "metadata": {},
   "source": [
    "## 2) What's the current wind speed, and how much warmer does it feel than it actually is?\n",
    "\n",
    "- *Tip: You can do this by browsing through the dictionaries, but it might be easier to read the documentation*\n",
    "- *Tip: For the second half: it **is** one temperature, and it **feels** a different temperature. Calculate the difference. Same as we did last time!*"
   ]
  },
  {
   "cell_type": "code",
   "execution_count": 8,
   "metadata": {},
   "outputs": [
    {
     "name": "stdout",
     "output_type": "stream",
     "text": [
      "The wind speed is 20.0 km per hour\n"
     ]
    }
   ],
   "source": [
    "print(f\"The wind speed is {rio['current']['temp_c']} km per hour\")"
   ]
  },
  {
   "cell_type": "code",
   "execution_count": 9,
   "metadata": {},
   "outputs": [],
   "source": [
    "feelslike_c = rio['current']['feelslike_c']"
   ]
  },
  {
   "cell_type": "code",
   "execution_count": 10,
   "metadata": {},
   "outputs": [],
   "source": [
    "if feelslike_c > temp_c:\n",
    "\n",
    "  diff = round(feelslike_c - temp_c)\n",
    "\n",
    "  print(f\"It feels {diff} degrees warmer\")\n",
    "\n",
    "\n",
    "if temp_c > feelslike_c:\n",
    "\n",
    "  diff = round(tempc - feelslike_c)\n",
    "\n",
    "  print(f\"It feels {diff} degrees cooler\")\n"
   ]
  },
  {
   "cell_type": "markdown",
   "metadata": {},
   "source": [
    "## 3) What is the API endpoint for moon-related information? For the place you decided on above, how much of the moon will be visible on next Thursday?\n",
    "\n",
    "- *Tip: Check the documentation!*\n",
    "- *Tip: If you aren't sure what something means, ask in Slack*"
   ]
  },
  {
   "cell_type": "code",
   "execution_count": 11,
   "metadata": {},
   "outputs": [],
   "source": [
    "# Adapted from the SO answer below\n",
    "# https://stackoverflow.com/questions/6558535/find-the-date-for-the-first-monday-after-a-given-date\n",
    "from datetime import date\n",
    "today = date.today()\n",
    "\n",
    "def next_weekday(d, weekday):\n",
    "    days_ahead = weekday - today.weekday()\n",
    "    # print(days_ahead)\n",
    "    if days_ahead <= 0: # Target day already happened this week\n",
    "        days_ahead += 7\n",
    "    return d + datetime.timedelta(days_ahead)\n",
    "\n",
    "next_thursday = next_weekday(today, 3) \n",
    "# 0 = Monday, 1=Tuesday, 2=Wednesday...\n"
   ]
  },
  {
   "cell_type": "code",
   "execution_count": 12,
   "metadata": {},
   "outputs": [],
   "source": [
    "forecasts = f'http://api.weatherapi.com/v1/forecast.json?key={my_key}&q={city}&dt={today}'"
   ]
  },
  {
   "cell_type": "code",
   "execution_count": 13,
   "metadata": {},
   "outputs": [
    {
     "name": "stdout",
     "output_type": "stream",
     "text": [
      "The API endpoint about moons is: http://api.weatherapi.com/v1/forecast.json?key=your_key&q=Rio+de+Janeiro&dt=2021-06-22\n"
     ]
    }
   ],
   "source": [
    "print(f\"The API endpoint about moons is: {forecasts.replace(my_key,'your_key')}\")"
   ]
  },
  {
   "cell_type": "code",
   "execution_count": 14,
   "metadata": {},
   "outputs": [],
   "source": [
    "rio_forecast = requests.get(\n",
    "    forecasts.replace('{date}',str(next_thursday))\n",
    "    ).json()"
   ]
  },
  {
   "cell_type": "code",
   "execution_count": 15,
   "metadata": {},
   "outputs": [],
   "source": [
    "moon_visibility = rio_forecast['forecast']['forecastday'][0]['astro']['moon_illumination']"
   ]
  },
  {
   "cell_type": "code",
   "execution_count": 16,
   "metadata": {},
   "outputs": [
    {
     "name": "stdout",
     "output_type": "stream",
     "text": [
      "Next Thursday the moon will be 90% visible\n"
     ]
    }
   ],
   "source": [
    "print(f'Next Thursday the moon will be {moon_visibility}% visible')"
   ]
  },
  {
   "cell_type": "markdown",
   "metadata": {},
   "source": [
    "## 4) What's the difference between the high and low temperatures for today?\n",
    "\n",
    "- *Tip: When you requested moon data, you probably overwrote your variables! If so, you'll need to make a new request.*"
   ]
  },
  {
   "cell_type": "code",
   "execution_count": 17,
   "metadata": {},
   "outputs": [],
   "source": [
    "rio_forecast_today = requests.get(\n",
    "    forecasts.replace('{date}',str(today))\n",
    "    ).json()"
   ]
  },
  {
   "cell_type": "code",
   "execution_count": 18,
   "metadata": {},
   "outputs": [],
   "source": [
    "min_c = rio_forecast_today['forecast']['forecastday'][0]['day']['mintemp_c']"
   ]
  },
  {
   "cell_type": "code",
   "execution_count": 19,
   "metadata": {},
   "outputs": [],
   "source": [
    "max_c = rio_forecast_today['forecast']['forecastday'][0]['day']['maxtemp_c']"
   ]
  },
  {
   "cell_type": "code",
   "execution_count": 20,
   "metadata": {},
   "outputs": [
    {
     "name": "stdout",
     "output_type": "stream",
     "text": [
      "The difference is 5 celsius degrees\n"
     ]
    }
   ],
   "source": [
    "print(f'The difference is {round(max_c - min_c)} celsius degrees')"
   ]
  },
  {
   "cell_type": "markdown",
   "metadata": {
    "collapsed": true
   },
   "source": [
    "## 4.5) How can you avoid the \"oh no I don't have the data any more because I made another request\" problem in the future?\n",
    "\n",
    "What variable(s) do you have to rename, and what would you rename them?"
   ]
  },
  {
   "cell_type": "code",
   "execution_count": 21,
   "metadata": {},
   "outputs": [],
   "source": [
    "# Creating the variable names properly"
   ]
  },
  {
   "cell_type": "code",
   "execution_count": null,
   "metadata": {},
   "outputs": [],
   "source": []
  },
  {
   "cell_type": "markdown",
   "metadata": {},
   "source": [
    "## 5) Go through the daily forecasts, printing out the next week's worth of predictions.\n",
    "\n",
    "I'd like to know the **high temperature** for each day, and whether it's **hot, warm, or cold** (based on what temperatures you think are hot, warm or cold).\n",
    "\n",
    "- *Tip: You'll need to use an `if` statement to say whether it is hot, warm or cold.*"
   ]
  },
  {
   "cell_type": "code",
   "execution_count": 22,
   "metadata": {},
   "outputs": [
    {
     "name": "stdout",
     "output_type": "stream",
     "text": [
      "Cold day: 23.4 degrees Celsius on 2021-06-28\n",
      "Cold day: 19.6 degrees Celsius on 2021-06-29\n",
      "Cold day: 22.0 degrees Celsius on 2021-06-23\n",
      "Cold day: 26.2 degrees Celsius on 2021-06-24\n",
      "Cold day: 28.6 degrees Celsius on 2021-06-25\n",
      "Cold day: 26.4 degrees Celsius on 2021-06-26\n",
      "Warm day: 30.1 degrees Celsius on 2021-06-27\n",
      "The hottest day week will be 2021-06-27 with 30.1 degrees Celsius.\n"
     ]
    }
   ],
   "source": [
    "hot_temp = 0\n",
    "\n",
    "for day in range(0,7):\n",
    "    date = next_weekday(today, day)\n",
    "    forecasts = f'http://api.weatherapi.com/v1/forecast.json?key={my_key}&q={city}&dt={str(date)}'\n",
    "    rio_forecast = requests.get(forecasts).json()\n",
    "    high = rio_forecast['forecast']['forecastday'][0]['day']['maxtemp_c']\n",
    "    if high > hot_temp:\n",
    "        hot_temp = high\n",
    "        hot_date = rio_forecast['forecast']['forecastday'][0]['date']\n",
    "    if high >= 37:\n",
    "        print(f\"Hot day: {high} degrees Celsius on {date}\")\n",
    "    elif 29.5 < high < 37:\n",
    "        print(f\"Warm day: {high} degrees Celsius on {date}\")\n",
    "    else:\n",
    "        print(f\"Cold day: {high} degrees Celsius on {date}\")\n",
    "        \n",
    "print(f'The hottest day week will be {hot_date} with {hot_temp} degrees Celsius.')"
   ]
  },
  {
   "cell_type": "markdown",
   "metadata": {},
   "source": [
    "# 6) What will be the hottest day in the next week? What is the high temperature on that day?"
   ]
  },
  {
   "cell_type": "code",
   "execution_count": 23,
   "metadata": {},
   "outputs": [],
   "source": [
    "# Described above."
   ]
  },
  {
   "cell_type": "code",
   "execution_count": null,
   "metadata": {},
   "outputs": [],
   "source": []
  },
  {
   "cell_type": "code",
   "execution_count": null,
   "metadata": {},
   "outputs": [],
   "source": []
  },
  {
   "cell_type": "markdown",
   "metadata": {},
   "source": [
    "## 7) What's the weather looking like for the next 24+ hours in Miami, Florida?\n",
    "\n",
    "I'd like to know the temperature for every hour, and if it's going to have cloud cover of more than 50% say \"{temperature} and cloudy\" instead of just the temperature. \n",
    "\n",
    "- *Tip: You'll only need one day of forecast*"
   ]
  },
  {
   "cell_type": "code",
   "execution_count": 24,
   "metadata": {},
   "outputs": [
    {
     "name": "stdout",
     "output_type": "stream",
     "text": [
      "2021-06-21 00:00: 28.5 Celsius degrees and cloudy\n",
      "2021-06-21 01:00: 28.5 Celsius degrees\n",
      "2021-06-21 02:00: 28.4 Celsius degrees\n",
      "2021-06-21 03:00: 28.4 Celsius degrees\n",
      "2021-06-21 04:00: 28.5 Celsius degrees and cloudy\n",
      "2021-06-21 05:00: 28.5 Celsius degrees and cloudy\n",
      "2021-06-21 06:00: 28.6 Celsius degrees and cloudy\n",
      "2021-06-21 07:00: 28.7 Celsius degrees and cloudy\n",
      "2021-06-21 08:00: 28.8 Celsius degrees and cloudy\n",
      "2021-06-21 09:00: 28.9 Celsius degrees and cloudy\n",
      "2021-06-21 10:00: 29.1 Celsius degrees and cloudy\n",
      "2021-06-21 11:00: 29.2 Celsius degrees and cloudy\n",
      "2021-06-21 12:00: 29.2 Celsius degrees\n",
      "2021-06-21 13:00: 29.3 Celsius degrees\n",
      "2021-06-21 14:00: 29.3 Celsius degrees\n",
      "2021-06-21 15:00: 29.4 Celsius degrees\n",
      "2021-06-21 16:00: 29.4 Celsius degrees\n",
      "2021-06-21 17:00: 29.5 Celsius degrees\n",
      "2021-06-21 18:00: 29.4 Celsius degrees\n",
      "2021-06-21 19:00: 29.2 Celsius degrees\n",
      "2021-06-21 20:00: 29.1 Celsius degrees\n",
      "2021-06-21 21:00: 29.0 Celsius degrees\n",
      "2021-06-21 22:00: 29.0 Celsius degrees\n",
      "2021-06-21 23:00: 28.9 Celsius degrees and cloudy\n"
     ]
    }
   ],
   "source": [
    "url = f\"http://api.weatherapi.com/v1/forecast.json?key={my_key}&q=Miami&days=1\"\n",
    "response = requests.get(url, allow_redirects=True)\n",
    "date = response.json()['forecast']['forecastday']\n",
    "\n",
    "for item in date:\n",
    "    hour = item['hour']\n",
    "    for time in hour:\n",
    "        temperature = time['temp_c']\n",
    "        if time['cloud'] > 50:\n",
    "            print(f\"{time['time']}: {temperature} Celsius degrees and cloudy\")\n",
    "        else:\n",
    "             print(f\"{time['time']}: {temperature} Celsius degrees\")"
   ]
  },
  {
   "cell_type": "code",
   "execution_count": null,
   "metadata": {},
   "outputs": [],
   "source": []
  },
  {
   "cell_type": "code",
   "execution_count": null,
   "metadata": {},
   "outputs": [],
   "source": []
  },
  {
   "cell_type": "markdown",
   "metadata": {},
   "source": [
    "# 8) For the next 24-ish hours in Miami, what percent of the time is the temperature above 85 degrees?\n",
    "\n",
    "- *Tip: You might want to read up on [looping patterns](http://jonathansoma.com/lede/foundations-2017/classes/data%20structures/looping-patterns/)*"
   ]
  },
  {
   "cell_type": "code",
   "execution_count": 25,
   "metadata": {},
   "outputs": [
    {
     "data": {
      "text/plain": [
       "29.4"
      ]
     },
     "execution_count": 25,
     "metadata": {},
     "output_type": "execute_result"
    }
   ],
   "source": [
    "counter = 0\n",
    "\n",
    "#converting to celsius\n",
    "temp_limit = round((85-32)*5/9,1)\n",
    "temp_limit"
   ]
  },
  {
   "cell_type": "code",
   "execution_count": 26,
   "metadata": {},
   "outputs": [
    {
     "name": "stdout",
     "output_type": "stream",
     "text": [
      "4% of the time the temperature will be above 85 degrees in fahrenheit or 29.4 in Celsius\n"
     ]
    }
   ],
   "source": [
    "for item in date[0]['hour']:\n",
    "    temperature = item['temp_c']\n",
    "    #print(temperature)\n",
    "    if temperature > temp_limit:\n",
    "        counter = counter + 1\n",
    "\n",
    "percent = round(counter/len(date[0]['hour'])*100)\n",
    "\n",
    "print(f\"{percent}% of the time the temperature will be above 85 degrees in fahrenheit or {temp_limit} in Celsius\")"
   ]
  },
  {
   "cell_type": "markdown",
   "metadata": {},
   "source": [
    "## 9) What was the temperature in Central Park on Christmas Day, 2020? How about 2012? 2007? How far back does the API allow you to go?\n",
    "\n",
    "- *Tip: You'll need to use latitude/longitude. You can ask Google where Central Park is, it knows*\n",
    "- *Tip: Remember when latitude/longitude might use negative numbers*"
   ]
  },
  {
   "cell_type": "code",
   "execution_count": 27,
   "metadata": {},
   "outputs": [],
   "source": [
    "link = f\"http://api.weatherapi.com/v1/history.json?key={my_key}&q=Central+Park&dt=2020-12-25\""
   ]
  },
  {
   "cell_type": "code",
   "execution_count": 28,
   "metadata": {},
   "outputs": [
    {
     "data": {
      "text/plain": [
       "{'error': {'code': 1008,\n",
       "  'message': 'API key is limited to get history data. Please check our pricing page and upgrade to higher plan.'}}"
      ]
     },
     "execution_count": 28,
     "metadata": {},
     "output_type": "execute_result"
    }
   ],
   "source": [
    "# Not available\n",
    "requests.get(link).json()"
   ]
  },
  {
   "cell_type": "code",
   "execution_count": null,
   "metadata": {},
   "outputs": [],
   "source": []
  }
 ],
 "metadata": {
  "kernelspec": {
   "display_name": "Python 3",
   "language": "python",
   "name": "python3"
  },
  "language_info": {
   "codemirror_mode": {
    "name": "ipython",
    "version": 3
   },
   "file_extension": ".py",
   "mimetype": "text/x-python",
   "name": "python",
   "nbconvert_exporter": "python",
   "pygments_lexer": "ipython3",
   "version": "3.9.5"
  }
 },
 "nbformat": 4,
 "nbformat_minor": 1
}
