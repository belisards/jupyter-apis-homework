{
 "cells": [
  {
   "cell_type": "code",
   "execution_count": 2,
   "metadata": {},
   "outputs": [],
   "source": [
    "import requests\n",
    "from bs4 import BeautifulSoup\n",
    "import pandas as pd"
   ]
  },
  {
   "cell_type": "code",
   "execution_count": 3,
   "metadata": {},
   "outputs": [],
   "source": [
    "response = requests.get(\"https://oglobo.globo.com/\")\n",
    "doc = BeautifulSoup(response.text, 'html.parser')"
   ]
  },
  {
   "cell_type": "code",
   "execution_count": 64,
   "metadata": {},
   "outputs": [
    {
     "output_type": "execute_result",
     "data": {
      "text/plain": [
       "45"
      ]
     },
     "metadata": {},
     "execution_count": 64
    }
   ],
   "source": [
    "titles = doc.select('h1[class*=\"title\"] a') # select all <a> inside h1 tags with class containing \"title\"\n",
    "\n",
    "len(titles)"
   ]
  },
  {
   "cell_type": "code",
   "execution_count": 65,
   "metadata": {},
   "outputs": [
    {
     "output_type": "execute_result",
     "data": {
      "text/plain": [
       "<a class=\"people-teasers__card--link\" data-short-url=\"https://oglobo.globo.com/oglobo-25107747\" href=\"https://oglobo.globo.com/opiniao/o-novo-bolsonaro-durara-pouco-25107747\" title=\"O novo Bolsonaro durará pouco: calmante de Fux tem efeito curto\">O novo Bolsonaro durará pouco: calmante de Fux tem efeito curto</a>"
      ]
     },
     "metadata": {},
     "execution_count": 65
    }
   ],
   "source": [
    "titles[22]"
   ]
  },
  {
   "cell_type": "code",
   "execution_count": 72,
   "metadata": {
    "tags": []
   },
   "outputs": [
    {
     "output_type": "execute_result",
     "data": {
      "text/plain": [
       "                                                title  \\\n",
       "0   O diagnóstico (errado) de Osmar Terra sobre os...   \n",
       "1   'Acabou o Supremo ressuscitando o ex-president...   \n",
       "2   Ex-ministros da Defesa apoiam veto a militares...   \n",
       "3   CPI da Covid vai investigar 68 perfis que divu...   \n",
       "4    Após exames em SP, cirurgia de emergência é d...   \n",
       "5   Bolsonaro agradece apoio e orações: 'Mais um d...   \n",
       "6   Apesar de internação de Bolsonaro, Mourão emba...   \n",
       "7   Após acusações de irregularidades, Luís Mirand...   \n",
       "8   CPI da Covid investiga repasse de R$ 1 milhão ...   \n",
       "9    Lauro Jardim: Guedes diz que errou no projeto...   \n",
       "10  Moraes designa para inquérito contra Bolsonaro...   \n",
       "11  Flávio defende governo, ataca Renan e se desen...   \n",
       "12  \\nBela Megale: desembargadora ganhou Rolex ava...   \n",
       "13  Presidente do Senado oficializa prorrogação da...   \n",
       "14  Com apoio de representantes de todos os partid...   \n",
       "15  Bastidores: Lira buscou Fux para esclarecer pr...   \n",
       "16  Internado há seis dias, Olavo de Carvalho tem ...   \n",
       "17       Camara aprova projeto que cria clube-empresa   \n",
       "18  VAR falhou: Conmebol reconhece erro em gol anu...   \n",
       "19  Governo envia ao Congresso projeto para viabil...   \n",
       "20  MPF entra na Justiça para obrigar escolas e un...   \n",
       "21  \\nAssassinos de PM monitoraram box de crossfit...   \n",
       "22  O novo Bolsonaro durará pouco: calmante de Fux...   \n",
       "23  Bolsonaro pede ajuda a Gilmar Mendes para empl...   \n",
       "24  André Mendonça rumo ao STF: Deus 2 x 1 Constit...   \n",
       "25  Na China, cautela sobre os protestos na também...   \n",
       "26                                   Outros destaques   \n",
       "27   Prefeitura de São Paulo admite risco de trans...   \n",
       "28  Com mais 1.574 mortes em 24h, Brasil ultrapass...   \n",
       "29  Saiba que municípios do Rio decidiram antecipa...   \n",
       "30  \\nAdvogado de modelo brasileira morta no Chile...   \n",
       "31  Homofobia em MG: Vítima é dopada, agredida e t...   \n",
       "32  DJ Ivis é preso após agredir a ex: 'Que respon...   \n",
       "33  \\nCâmara aprova projeto que impede ordens de d...   \n",
       "34  Amazônia já emite mais gás carbônico do que ab...   \n",
       "35  Valor Investe: Novo cartão permite receber sal...   \n",
       "36   Itália proíbe cruzeiros nos canais de Veneza ...   \n",
       "37  Jogos O GLOBO: divirta-se jogando Sudoku e pal...   \n",
       "38  Ator Drake Bell, de Drake & Josh, é condenado ...   \n",
       "39   Análise: Na estreia de Renato Gaúcho, Flameng...   \n",
       "40   Governo de SP leiloa nesta quinta 22 aeroport...   \n",
       "41   Governo envia ao Congresso projeto para viabi...   \n",
       "42   'Discurso leviano e dissimulado', diz funcion...   \n",
       "43   Médicos de Bolsonaro descartam cirurgia de em...   \n",
       "44  \\nYoutuber presa em Cuba quando dava entrevist...   \n",
       "\n",
       "                                                  url  \n",
       "0   https://blogs.oglobo.globo.com/lauro-jardim/po...  \n",
       "1   https://blogs.oglobo.globo.com/ancelmo/post/ac...  \n",
       "2   https://blogs.oglobo.globo.com/bernardo-mello-...  \n",
       "3   https://blogs.oglobo.globo.com/malu-gaspar/pos...  \n",
       "4   https://oglobo.globo.com/brasil/medicos-de-bol...  \n",
       "5   https://oglobo.globo.com/brasil/bolsonaro-agra...  \n",
       "6   https://oglobo.globo.com/brasil/apesar-de-inte...  \n",
       "7   https://oglobo.globo.com/brasil/apos-acusacoes...  \n",
       "8   https://oglobo.globo.com/brasil/cpi-da-covid-i...  \n",
       "9   https://blogs.oglobo.globo.com/lauro-jardim/po...  \n",
       "10  https://oglobo.globo.com/brasil/moraes-designa...  \n",
       "11  https://oglobo.globo.com/brasil/flavio-defende...  \n",
       "12  https://blogs.oglobo.globo.com/bela-megale/pos...  \n",
       "13  https://oglobo.globo.com/brasil/presidente-do-...  \n",
       "14  https://oglobo.globo.com/brasil/com-apoio-de-r...  \n",
       "15  https://oglobo.globo.com/brasil/bastidores-lir...  \n",
       "16  https://oglobo.globo.com/brasil/internado-ha-s...  \n",
       "17  https://oglobo.globo.com/esportes/camara-aprov...  \n",
       "18  https://oglobo.globo.com/esportes/futebol/var-...  \n",
       "19  https://oglobo.globo.com/economia/governo-envi...  \n",
       "20  https://oglobo.globo.com/sociedade/educacao/mp...  \n",
       "21  https://oglobo.globo.com/rio/assassinos-de-pm-...  \n",
       "22  https://oglobo.globo.com/opiniao/o-novo-bolson...  \n",
       "23  https://blogs.oglobo.globo.com/bela-megale/pos...  \n",
       "24  https://blogs.oglobo.globo.com/bernardo-mello-...  \n",
       "25  https://blogs.oglobo.globo.com/marcelo-ninio/p...  \n",
       "26          https://oglobo.globo.com/ultimas-noticias  \n",
       "27  https://oglobo.globo.com/sociedade/saude/prefe...  \n",
       "28  https://oglobo.globo.com/sociedade/saude/brasi...  \n",
       "29  https://oglobo.globo.com/rio/saiba-que-municip...  \n",
       "30  https://oglobo.globo.com/brasil/advogado-de-mo...  \n",
       "31  https://oglobo.globo.com/brasil/homofobia-em-m...  \n",
       "32  https://oglobo.globo.com/cultura/dj-ivis-preso...  \n",
       "33  https://oglobo.globo.com/economia/camara-aprov...  \n",
       "34  https://oglobo.globo.com/sociedade/um-so-plane...  \n",
       "35  https://valorinveste.globo.com/produtos/servic...  \n",
       "36  https://oglobo.globo.com/boa-viagem/italia-pro...  \n",
       "37                    https://oglobo.globo.com/jogos/  \n",
       "38  https://oglobo.globo.com/cultura/ator-drake-be...  \n",
       "39  https://oglobo.globo.com/esportes/futebol/anal...  \n",
       "40  https://oglobo.globo.com/economia/governo-de-s...  \n",
       "41  https://oglobo.globo.com/economia/governo-envi...  \n",
       "42  https://oglobo.globo.com/esportes/discurso-lev...  \n",
       "43  https://oglobo.globo.com/brasil/medicos-de-bol...  \n",
       "44  https://oglobo.globo.com/mundo/youtuber-presa-...  "
      ],
      "text/html": "<div>\n<style scoped>\n    .dataframe tbody tr th:only-of-type {\n        vertical-align: middle;\n    }\n\n    .dataframe tbody tr th {\n        vertical-align: top;\n    }\n\n    .dataframe thead th {\n        text-align: right;\n    }\n</style>\n<table border=\"1\" class=\"dataframe\">\n  <thead>\n    <tr style=\"text-align: right;\">\n      <th></th>\n      <th>title</th>\n      <th>url</th>\n    </tr>\n  </thead>\n  <tbody>\n    <tr>\n      <th>0</th>\n      <td>O diagnóstico (errado) de Osmar Terra sobre os...</td>\n      <td>https://blogs.oglobo.globo.com/lauro-jardim/po...</td>\n    </tr>\n    <tr>\n      <th>1</th>\n      <td>'Acabou o Supremo ressuscitando o ex-president...</td>\n      <td>https://blogs.oglobo.globo.com/ancelmo/post/ac...</td>\n    </tr>\n    <tr>\n      <th>2</th>\n      <td>Ex-ministros da Defesa apoiam veto a militares...</td>\n      <td>https://blogs.oglobo.globo.com/bernardo-mello-...</td>\n    </tr>\n    <tr>\n      <th>3</th>\n      <td>CPI da Covid vai investigar 68 perfis que divu...</td>\n      <td>https://blogs.oglobo.globo.com/malu-gaspar/pos...</td>\n    </tr>\n    <tr>\n      <th>4</th>\n      <td>Após exames em SP, cirurgia de emergência é d...</td>\n      <td>https://oglobo.globo.com/brasil/medicos-de-bol...</td>\n    </tr>\n    <tr>\n      <th>5</th>\n      <td>Bolsonaro agradece apoio e orações: 'Mais um d...</td>\n      <td>https://oglobo.globo.com/brasil/bolsonaro-agra...</td>\n    </tr>\n    <tr>\n      <th>6</th>\n      <td>Apesar de internação de Bolsonaro, Mourão emba...</td>\n      <td>https://oglobo.globo.com/brasil/apesar-de-inte...</td>\n    </tr>\n    <tr>\n      <th>7</th>\n      <td>Após acusações de irregularidades, Luís Mirand...</td>\n      <td>https://oglobo.globo.com/brasil/apos-acusacoes...</td>\n    </tr>\n    <tr>\n      <th>8</th>\n      <td>CPI da Covid investiga repasse de R$ 1 milhão ...</td>\n      <td>https://oglobo.globo.com/brasil/cpi-da-covid-i...</td>\n    </tr>\n    <tr>\n      <th>9</th>\n      <td>Lauro Jardim: Guedes diz que errou no projeto...</td>\n      <td>https://blogs.oglobo.globo.com/lauro-jardim/po...</td>\n    </tr>\n    <tr>\n      <th>10</th>\n      <td>Moraes designa para inquérito contra Bolsonaro...</td>\n      <td>https://oglobo.globo.com/brasil/moraes-designa...</td>\n    </tr>\n    <tr>\n      <th>11</th>\n      <td>Flávio defende governo, ataca Renan e se desen...</td>\n      <td>https://oglobo.globo.com/brasil/flavio-defende...</td>\n    </tr>\n    <tr>\n      <th>12</th>\n      <td>\\nBela Megale: desembargadora ganhou Rolex ava...</td>\n      <td>https://blogs.oglobo.globo.com/bela-megale/pos...</td>\n    </tr>\n    <tr>\n      <th>13</th>\n      <td>Presidente do Senado oficializa prorrogação da...</td>\n      <td>https://oglobo.globo.com/brasil/presidente-do-...</td>\n    </tr>\n    <tr>\n      <th>14</th>\n      <td>Com apoio de representantes de todos os partid...</td>\n      <td>https://oglobo.globo.com/brasil/com-apoio-de-r...</td>\n    </tr>\n    <tr>\n      <th>15</th>\n      <td>Bastidores: Lira buscou Fux para esclarecer pr...</td>\n      <td>https://oglobo.globo.com/brasil/bastidores-lir...</td>\n    </tr>\n    <tr>\n      <th>16</th>\n      <td>Internado há seis dias, Olavo de Carvalho tem ...</td>\n      <td>https://oglobo.globo.com/brasil/internado-ha-s...</td>\n    </tr>\n    <tr>\n      <th>17</th>\n      <td>Camara aprova projeto que cria clube-empresa</td>\n      <td>https://oglobo.globo.com/esportes/camara-aprov...</td>\n    </tr>\n    <tr>\n      <th>18</th>\n      <td>VAR falhou: Conmebol reconhece erro em gol anu...</td>\n      <td>https://oglobo.globo.com/esportes/futebol/var-...</td>\n    </tr>\n    <tr>\n      <th>19</th>\n      <td>Governo envia ao Congresso projeto para viabil...</td>\n      <td>https://oglobo.globo.com/economia/governo-envi...</td>\n    </tr>\n    <tr>\n      <th>20</th>\n      <td>MPF entra na Justiça para obrigar escolas e un...</td>\n      <td>https://oglobo.globo.com/sociedade/educacao/mp...</td>\n    </tr>\n    <tr>\n      <th>21</th>\n      <td>\\nAssassinos de PM monitoraram box de crossfit...</td>\n      <td>https://oglobo.globo.com/rio/assassinos-de-pm-...</td>\n    </tr>\n    <tr>\n      <th>22</th>\n      <td>O novo Bolsonaro durará pouco: calmante de Fux...</td>\n      <td>https://oglobo.globo.com/opiniao/o-novo-bolson...</td>\n    </tr>\n    <tr>\n      <th>23</th>\n      <td>Bolsonaro pede ajuda a Gilmar Mendes para empl...</td>\n      <td>https://blogs.oglobo.globo.com/bela-megale/pos...</td>\n    </tr>\n    <tr>\n      <th>24</th>\n      <td>André Mendonça rumo ao STF: Deus 2 x 1 Constit...</td>\n      <td>https://blogs.oglobo.globo.com/bernardo-mello-...</td>\n    </tr>\n    <tr>\n      <th>25</th>\n      <td>Na China, cautela sobre os protestos na também...</td>\n      <td>https://blogs.oglobo.globo.com/marcelo-ninio/p...</td>\n    </tr>\n    <tr>\n      <th>26</th>\n      <td>Outros destaques</td>\n      <td>https://oglobo.globo.com/ultimas-noticias</td>\n    </tr>\n    <tr>\n      <th>27</th>\n      <td>Prefeitura de São Paulo admite risco de trans...</td>\n      <td>https://oglobo.globo.com/sociedade/saude/prefe...</td>\n    </tr>\n    <tr>\n      <th>28</th>\n      <td>Com mais 1.574 mortes em 24h, Brasil ultrapass...</td>\n      <td>https://oglobo.globo.com/sociedade/saude/brasi...</td>\n    </tr>\n    <tr>\n      <th>29</th>\n      <td>Saiba que municípios do Rio decidiram antecipa...</td>\n      <td>https://oglobo.globo.com/rio/saiba-que-municip...</td>\n    </tr>\n    <tr>\n      <th>30</th>\n      <td>\\nAdvogado de modelo brasileira morta no Chile...</td>\n      <td>https://oglobo.globo.com/brasil/advogado-de-mo...</td>\n    </tr>\n    <tr>\n      <th>31</th>\n      <td>Homofobia em MG: Vítima é dopada, agredida e t...</td>\n      <td>https://oglobo.globo.com/brasil/homofobia-em-m...</td>\n    </tr>\n    <tr>\n      <th>32</th>\n      <td>DJ Ivis é preso após agredir a ex: 'Que respon...</td>\n      <td>https://oglobo.globo.com/cultura/dj-ivis-preso...</td>\n    </tr>\n    <tr>\n      <th>33</th>\n      <td>\\nCâmara aprova projeto que impede ordens de d...</td>\n      <td>https://oglobo.globo.com/economia/camara-aprov...</td>\n    </tr>\n    <tr>\n      <th>34</th>\n      <td>Amazônia já emite mais gás carbônico do que ab...</td>\n      <td>https://oglobo.globo.com/sociedade/um-so-plane...</td>\n    </tr>\n    <tr>\n      <th>35</th>\n      <td>Valor Investe: Novo cartão permite receber sal...</td>\n      <td>https://valorinveste.globo.com/produtos/servic...</td>\n    </tr>\n    <tr>\n      <th>36</th>\n      <td>Itália proíbe cruzeiros nos canais de Veneza ...</td>\n      <td>https://oglobo.globo.com/boa-viagem/italia-pro...</td>\n    </tr>\n    <tr>\n      <th>37</th>\n      <td>Jogos O GLOBO: divirta-se jogando Sudoku e pal...</td>\n      <td>https://oglobo.globo.com/jogos/</td>\n    </tr>\n    <tr>\n      <th>38</th>\n      <td>Ator Drake Bell, de Drake &amp; Josh, é condenado ...</td>\n      <td>https://oglobo.globo.com/cultura/ator-drake-be...</td>\n    </tr>\n    <tr>\n      <th>39</th>\n      <td>Análise: Na estreia de Renato Gaúcho, Flameng...</td>\n      <td>https://oglobo.globo.com/esportes/futebol/anal...</td>\n    </tr>\n    <tr>\n      <th>40</th>\n      <td>Governo de SP leiloa nesta quinta 22 aeroport...</td>\n      <td>https://oglobo.globo.com/economia/governo-de-s...</td>\n    </tr>\n    <tr>\n      <th>41</th>\n      <td>Governo envia ao Congresso projeto para viabi...</td>\n      <td>https://oglobo.globo.com/economia/governo-envi...</td>\n    </tr>\n    <tr>\n      <th>42</th>\n      <td>'Discurso leviano e dissimulado', diz funcion...</td>\n      <td>https://oglobo.globo.com/esportes/discurso-lev...</td>\n    </tr>\n    <tr>\n      <th>43</th>\n      <td>Médicos de Bolsonaro descartam cirurgia de em...</td>\n      <td>https://oglobo.globo.com/brasil/medicos-de-bol...</td>\n    </tr>\n    <tr>\n      <th>44</th>\n      <td>\\nYoutuber presa em Cuba quando dava entrevist...</td>\n      <td>https://oglobo.globo.com/mundo/youtuber-presa-...</td>\n    </tr>\n  </tbody>\n</table>\n</div>"
     },
     "metadata": {},
     "execution_count": 72
    }
   ],
   "source": [
    "rows = []\n",
    "count = -1\n",
    "\n",
    "for titulo in titles:\n",
    "    row = {}\n",
    "    row['title'] = titulo.text\n",
    "    row['url'] = titulo.get('href')\n",
    "    count = count + 1\n",
    "    rows.append(row)\n",
    "\n",
    "df = pd.DataFrame(rows)"
   ]
  },
  {
   "cell_type": "code",
   "execution_count": 6,
   "metadata": {},
   "outputs": [],
   "source": [
    "df.to_csv(\"oglobo-headlines.csv\")"
   ]
  }
 ],
 "metadata": {
  "kernelspec": {
   "name": "python3",
   "display_name": "Python 3.9.5 64-bit"
  },
  "language_info": {
   "codemirror_mode": {
    "name": "ipython",
    "version": 3
   },
   "file_extension": ".py",
   "mimetype": "text/x-python",
   "name": "python",
   "nbconvert_exporter": "python",
   "pygments_lexer": "ipython3",
   "version": "3.9.5"
  },
  "interpreter": {
   "hash": "916dbcbb3f70747c44a77c7bcd40155683ae19c65e1c03b4aa3499c5328201f1"
  }
 },
 "nbformat": 4,
 "nbformat_minor": 4
}