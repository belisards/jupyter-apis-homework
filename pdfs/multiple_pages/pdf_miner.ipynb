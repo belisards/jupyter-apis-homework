{
 "metadata": {
  "language_info": {
   "codemirror_mode": {
    "name": "ipython",
    "version": 3
   },
   "file_extension": ".py",
   "mimetype": "text/x-python",
   "name": "python",
   "nbconvert_exporter": "python",
   "pygments_lexer": "ipython3",
   "version": "3.9.5"
  },
  "orig_nbformat": 4,
  "kernelspec": {
   "name": "python3",
   "display_name": "Python 3.9.5 64-bit"
  },
  "interpreter": {
   "hash": "916dbcbb3f70747c44a77c7bcd40155683ae19c65e1c03b4aa3499c5328201f1"
  }
 },
 "nbformat": 4,
 "nbformat_minor": 2,
 "cells": [
  {
   "cell_type": "code",
   "execution_count": 12,
   "metadata": {},
   "outputs": [],
   "source": [
    "from pdfminer.high_level import extract_text\n",
    "import glob\n",
    "import pandas as pd"
   ]
  },
  {
   "cell_type": "code",
   "execution_count": 3,
   "metadata": {},
   "outputs": [
    {
     "output_type": "execute_result",
     "data": {
      "text/plain": [
       "['estatuto-vasco.pdf',\n",
       " 'ESTATUTO-SOCIAL-2020.pdf',\n",
       " '993468102_cf4a5032e78b6826768b29f2d86a007f.pdf']"
      ]
     },
     "metadata": {},
     "execution_count": 3
    }
   ],
   "source": [
    "glob.glob(\"*.pdf\")"
   ]
  },
  {
   "cell_type": "code",
   "execution_count": 10,
   "metadata": {},
   "outputs": [
    {
     "output_type": "execute_result",
     "data": {
      "text/plain": [
       "'Estatuto \\n\\nClub de Regatas \\n\\nVasco da Gama \\n\\n \\n\\n \\n\\n\\x0c\\x0cÍNDICE\\n\\nCAPÍTULO I DISPOSIÇÕES PRELIMINARES\\n\\nCA'"
      ]
     },
     "metadata": {},
     "execution_count": 10
    }
   ],
   "source": [
    "extract_text('estatuto-vasco.pdf')[:100]"
   ]
  },
  {
   "cell_type": "code",
   "execution_count": 7,
   "metadata": {},
   "outputs": [
    {
     "output_type": "execute_result",
     "data": {
      "text/plain": [
       "['estatuto-vasco.pdf',\n",
       " 'ESTATUTO-SOCIAL-2020.pdf',\n",
       " '993468102_cf4a5032e78b6826768b29f2d86a007f.pdf']"
      ]
     },
     "metadata": {},
     "execution_count": 7
    }
   ],
   "source": [
    "filenames = glob.glob(\"*.pdf\")\n",
    "\n",
    "filenames"
   ]
  },
  {
   "cell_type": "code",
   "execution_count": 11,
   "metadata": {},
   "outputs": [
    {
     "output_type": "stream",
     "name": "stderr",
     "text": [
      "/home/abitporu/.local/lib/python3.9/site-packages/pdfminer/pdfpage.py:140: PDFTextExtractionNotAllowedWarning: The PDF <_io.BufferedReader name='estatuto-vasco.pdf'> contains a metadata field indicating that it should not allow text extraction. Ignoring this field and proceeding.\n  warnings.warn(warning_msg, PDFTextExtractionNotAllowedWarning)\n"
     ]
    },
    {
     "output_type": "execute_result",
     "data": {
      "text/plain": [
       "3"
      ]
     },
     "metadata": {},
     "execution_count": 11
    }
   ],
   "source": [
    "contents = [extract_text(file) for file in filenames]\n",
    "\n",
    "len(contents)"
   ]
  },
  {
   "cell_type": "code",
   "execution_count": 14,
   "metadata": {},
   "outputs": [
    {
     "output_type": "execute_result",
     "data": {
      "text/plain": [
       "                                  nome_do_arquivo  \\\n",
       "0                              estatuto-vasco.pdf   \n",
       "1                        ESTATUTO-SOCIAL-2020.pdf   \n",
       "2  993468102_cf4a5032e78b6826768b29f2d86a007f.pdf   \n",
       "\n",
       "                                            conteudo  \n",
       "0  Estatuto \\n\\nClub de Regatas \\n\\nVasco da Gama...  \n",
       "1   \\n \\nSociedade Esportiva Palmeiras \\n\\nÍNDICE...  \n",
       "2  ESPORTE CLUBE VITÓRIA   \\nESTATUTO SOCIAL \\n\\n...  "
      ],
      "text/html": "<div>\n<style scoped>\n    .dataframe tbody tr th:only-of-type {\n        vertical-align: middle;\n    }\n\n    .dataframe tbody tr th {\n        vertical-align: top;\n    }\n\n    .dataframe thead th {\n        text-align: right;\n    }\n</style>\n<table border=\"1\" class=\"dataframe\">\n  <thead>\n    <tr style=\"text-align: right;\">\n      <th></th>\n      <th>nome_do_arquivo</th>\n      <th>conteudo</th>\n    </tr>\n  </thead>\n  <tbody>\n    <tr>\n      <th>0</th>\n      <td>estatuto-vasco.pdf</td>\n      <td>Estatuto \\n\\nClub de Regatas \\n\\nVasco da Gama...</td>\n    </tr>\n    <tr>\n      <th>1</th>\n      <td>ESTATUTO-SOCIAL-2020.pdf</td>\n      <td>\\n \\nSociedade Esportiva Palmeiras \\n\\nÍNDICE...</td>\n    </tr>\n    <tr>\n      <th>2</th>\n      <td>993468102_cf4a5032e78b6826768b29f2d86a007f.pdf</td>\n      <td>ESPORTE CLUBE VITÓRIA   \\nESTATUTO SOCIAL \\n\\n...</td>\n    </tr>\n  </tbody>\n</table>\n</div>"
     },
     "metadata": {},
     "execution_count": 14
    }
   ],
   "source": [
    "pd.DataFrame(\n",
    "    {\n",
    "        'nome_do_arquivo': filenames,\n",
    "        'conteudo': contents\n",
    "    }\n",
    ")"
   ]
  }
 ]
}