{
 "cells": [
  {
   "cell_type": "markdown",
   "source": [
    "# UFOs `5 points`\n",
    "\n",
    "Source: https://www.theblackvault.com/documentarchive/ufos-the-central-intelligence-agency-cia-collection/\n",
    "\n",
    "Description: FOIA results from an inquiry to the CIA about UFO documents. We'll be working from the [original source material](https://documents2.theblackvault.com/documents/cia/CIAUFOCD-FULL-UNTOUCHED.zip).\n",
    "\n",
    "**Topics:**\n",
    "\n",
    "* OCR\n",
    "* Unsearchable documents to searchable documents"
   ],
   "metadata": {}
  },
  {
   "cell_type": "code",
   "execution_count": 4,
   "source": [
    "# !mkdir files\n",
    "# !wget 'https://documents2.theblackvault.com/documents/cia/CIAUFOCD-FULL-UNTOUCHED.zip' "
   ],
   "outputs": [
    {
     "output_type": "stream",
     "name": "stdout",
     "text": [
      "--2021-09-06 23:27:22--  https://documents2.theblackvault.com/documents/cia/CIAUFOCD-FULL-UNTOUCHED.zip\n",
      "Resolvendo documents2.theblackvault.com (documents2.theblackvault.com)... 172.67.134.236, 104.21.25.241\n",
      "Conectando-se a documents2.theblackvault.com (documents2.theblackvault.com)|172.67.134.236|:443... conectado.\n",
      "A requisição HTTP foi enviada, aguardando resposta... 200 OK\n",
      "Tamanho: 156406434 (149M) [application/zip]\n",
      "Salvando em: ‘CIAUFOCD-FULL-UNTOUCHED.zip’\n",
      "\n",
      "CIAUFOCD-FULL-UNTOU  78%[==============>     ] 117,08M   301KB/s    em 6m 41s  \n",
      "\n",
      "2021-09-06 23:34:04 (299 KB/s) - Conexão fechada no byte 122764311. Tentando novamente.\n",
      "\n",
      "--2021-09-06 23:34:05--  (tentativa: 2)  https://documents2.theblackvault.com/documents/cia/CIAUFOCD-FULL-UNTOUCHED.zip\n",
      "Conectando-se a documents2.theblackvault.com (documents2.theblackvault.com)|172.67.134.236|:443... conectado.\n",
      "A requisição HTTP foi enviada, aguardando resposta... 206 Partial Content\n",
      "Tamanho: 156406434 (149M), 33642123 (32M) restantes [application/zip]\n",
      "Salvando em: ‘CIAUFOCD-FULL-UNTOUCHED.zip’\n",
      "\n",
      "CIAUFOCD-FULL-UNTOU 100%[+++++++++++++++====>] 149,16M   304KB/s    em 1m 50s  \n",
      "\n",
      "2021-09-06 23:42:47 (300 KB/s) - ‘CIAUFOCD-FULL-UNTOUCHED.zip’ salvo [156406434/156406434]\n",
      "\n"
     ]
    }
   ],
   "metadata": {}
  },
  {
   "cell_type": "code",
   "execution_count": null,
   "source": [],
   "outputs": [],
   "metadata": {}
  },
  {
   "cell_type": "markdown",
   "source": [
    "### Convert `C05515649.tif` to text `1 point`"
   ],
   "metadata": {}
  },
  {
   "cell_type": "code",
   "execution_count": null,
   "source": [],
   "outputs": [],
   "metadata": {}
  },
  {
   "cell_type": "markdown",
   "source": [
    "## Wrangling your data\n",
    "\n",
    "### Make a list of all `.tif` filenames  `2 points`"
   ],
   "metadata": {}
  },
  {
   "cell_type": "code",
   "execution_count": null,
   "source": [],
   "outputs": [],
   "metadata": {}
  },
  {
   "cell_type": "markdown",
   "source": [
    "### Create a dataframe of all documents\n",
    "\n",
    "One column should be the filename, the other should be all of the OCR'd content. **Tika isn't the fastest, so this will probably take a while.**"
   ],
   "metadata": {}
  },
  {
   "cell_type": "code",
   "execution_count": null,
   "source": [],
   "outputs": [],
   "metadata": {}
  },
  {
   "cell_type": "markdown",
   "source": [
    "## Analysis `2 points`\n",
    "\n",
    "I cannot for the life of me find anything interesting to search for in here, but even so: **find every document that refers to China,** and make a list of filenames to reference when doing manual reading.\n",
    "\n",
    "> Note that there will be a ton of terms that might imply China – PRC, China, Beijing, etc – so be sure to include your search is as wide-ranging as possible. **Also watch out for case-sensitivity.**"
   ],
   "metadata": {}
  },
  {
   "cell_type": "code",
   "execution_count": null,
   "source": [],
   "outputs": [],
   "metadata": {}
  }
 ],
 "metadata": {
  "kernelspec": {
   "name": "python3",
   "display_name": "Python 3.9.5 64-bit"
  },
  "language_info": {
   "codemirror_mode": {
    "name": "ipython",
    "version": 3
   },
   "file_extension": ".py",
   "mimetype": "text/x-python",
   "name": "python",
   "nbconvert_exporter": "python",
   "pygments_lexer": "ipython3",
   "version": "3.9.5"
  },
  "interpreter": {
   "hash": "916dbcbb3f70747c44a77c7bcd40155683ae19c65e1c03b4aa3499c5328201f1"
  }
 },
 "nbformat": 4,
 "nbformat_minor": 4
}