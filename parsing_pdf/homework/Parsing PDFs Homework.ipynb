{
 "cells": [
  {
   "cell_type": "markdown",
   "metadata": {},
   "source": [
    "# Parsing PDFs Homework\n",
    "\n",
    "With the power of pdfminer, pytesseract, Camelot, and Tika, let's analyze some documents!\n",
    "\n",
    "> If at any point you think, **\"I'm close enough, I'd just edit the rest of it in Excel\"**: that's fine! Just make a note of it.\n",
    "\n",
    "## A trick to use again and again\n",
    "\n",
    "### Approach 1\n",
    "\n",
    "Before we get started: when you want to take the first row of your data and set it as the header, use this trick."
   ]
  },
  {
   "cell_type": "code",
   "execution_count": 1,
   "metadata": {},
   "outputs": [
    {
     "output_type": "execute_result",
     "data": {
      "text/plain": [
       "              0      1\n",
       "0    fruit name  likes\n",
       "1         apple     15\n",
       "2        carrot      3\n",
       "3  sweet potato     45\n",
       "4         peach     12"
      ],
      "text/html": "<div>\n<style scoped>\n    .dataframe tbody tr th:only-of-type {\n        vertical-align: middle;\n    }\n\n    .dataframe tbody tr th {\n        vertical-align: top;\n    }\n\n    .dataframe thead th {\n        text-align: right;\n    }\n</style>\n<table border=\"1\" class=\"dataframe\">\n  <thead>\n    <tr style=\"text-align: right;\">\n      <th></th>\n      <th>0</th>\n      <th>1</th>\n    </tr>\n  </thead>\n  <tbody>\n    <tr>\n      <th>0</th>\n      <td>fruit name</td>\n      <td>likes</td>\n    </tr>\n    <tr>\n      <th>1</th>\n      <td>apple</td>\n      <td>15</td>\n    </tr>\n    <tr>\n      <th>2</th>\n      <td>carrot</td>\n      <td>3</td>\n    </tr>\n    <tr>\n      <th>3</th>\n      <td>sweet potato</td>\n      <td>45</td>\n    </tr>\n    <tr>\n      <th>4</th>\n      <td>peach</td>\n      <td>12</td>\n    </tr>\n  </tbody>\n</table>\n</div>"
     },
     "metadata": {},
     "execution_count": 1
    }
   ],
   "source": [
    "import pandas as pd\n",
    "df = pd.DataFrame([\n",
    "    [ 'fruit name', 'likes' ],\n",
    "    [ 'apple', 15 ],\n",
    "    [ 'carrot', 3 ],\n",
    "    [ 'sweet potato', 45 ],\n",
    "    [ 'peach', 12 ],\n",
    "])\n",
    "df"
   ]
  },
  {
   "cell_type": "code",
   "execution_count": 2,
   "metadata": {},
   "outputs": [
    {
     "output_type": "execute_result",
     "data": {
      "text/plain": [
       "0    fruit name likes\n",
       "1         apple    15\n",
       "2        carrot     3\n",
       "3  sweet potato    45\n",
       "4         peach    12"
      ],
      "text/html": "<div>\n<style scoped>\n    .dataframe tbody tr th:only-of-type {\n        vertical-align: middle;\n    }\n\n    .dataframe tbody tr th {\n        vertical-align: top;\n    }\n\n    .dataframe thead th {\n        text-align: right;\n    }\n</style>\n<table border=\"1\" class=\"dataframe\">\n  <thead>\n    <tr style=\"text-align: right;\">\n      <th></th>\n      <th>fruit name</th>\n      <th>likes</th>\n    </tr>\n  </thead>\n  <tbody>\n    <tr>\n      <th>1</th>\n      <td>apple</td>\n      <td>15</td>\n    </tr>\n    <tr>\n      <th>2</th>\n      <td>carrot</td>\n      <td>3</td>\n    </tr>\n    <tr>\n      <th>3</th>\n      <td>sweet potato</td>\n      <td>45</td>\n    </tr>\n    <tr>\n      <th>4</th>\n      <td>peach</td>\n      <td>12</td>\n    </tr>\n  </tbody>\n</table>\n</div>"
     },
     "metadata": {},
     "execution_count": 2
    }
   ],
   "source": [
    "# Set the first column as the columns\n",
    "df.columns = df.loc[0]\n",
    "\n",
    "# Drop the first row\n",
    "df = df.drop(0)\n",
    "\n",
    "df"
   ]
  },
  {
   "cell_type": "markdown",
   "metadata": {},
   "source": [
    "🚀 Done!\n",
    "\n",
    "### Approach 2\n",
    "\n",
    "Another alternative is to use `.rename` on your columns and just filter out the columns you aren't interested in. This can be useful if the column name shows up multiple times in your data for some reason or another."
   ]
  },
  {
   "cell_type": "code",
   "execution_count": 40,
   "metadata": {},
   "outputs": [
    {
     "output_type": "execute_result",
     "data": {
      "text/plain": [
       "              0      1\n",
       "0    fruit name  likes\n",
       "1         apple     15\n",
       "2        carrot      3\n",
       "3    fruit name  likes\n",
       "4  sweet potato     45\n",
       "5         peach     12"
      ],
      "text/html": "<div>\n<style scoped>\n    .dataframe tbody tr th:only-of-type {\n        vertical-align: middle;\n    }\n\n    .dataframe tbody tr th {\n        vertical-align: top;\n    }\n\n    .dataframe thead th {\n        text-align: right;\n    }\n</style>\n<table border=\"1\" class=\"dataframe\">\n  <thead>\n    <tr style=\"text-align: right;\">\n      <th></th>\n      <th>0</th>\n      <th>1</th>\n    </tr>\n  </thead>\n  <tbody>\n    <tr>\n      <th>0</th>\n      <td>fruit name</td>\n      <td>likes</td>\n    </tr>\n    <tr>\n      <th>1</th>\n      <td>apple</td>\n      <td>15</td>\n    </tr>\n    <tr>\n      <th>2</th>\n      <td>carrot</td>\n      <td>3</td>\n    </tr>\n    <tr>\n      <th>3</th>\n      <td>fruit name</td>\n      <td>likes</td>\n    </tr>\n    <tr>\n      <th>4</th>\n      <td>sweet potato</td>\n      <td>45</td>\n    </tr>\n    <tr>\n      <th>5</th>\n      <td>peach</td>\n      <td>12</td>\n    </tr>\n  </tbody>\n</table>\n</div>"
     },
     "metadata": {},
     "execution_count": 40
    }
   ],
   "source": [
    "# Starting with the same-ish data...\n",
    "df = pd.DataFrame([\n",
    "    [ 'fruit name', 'likes' ],\n",
    "    [ 'apple', 15 ],\n",
    "    [ 'carrot', 3 ],\n",
    "    [ 'fruit name', 'likes' ],\n",
    "    [ 'sweet potato', 45 ],\n",
    "    [ 'peach', 12 ],\n",
    "])\n",
    "df"
   ]
  },
  {
   "cell_type": "code",
   "execution_count": 41,
   "metadata": {},
   "outputs": [
    {
     "output_type": "execute_result",
     "data": {
      "text/plain": [
       "     fruit name likes\n",
       "1         apple    15\n",
       "2        carrot     3\n",
       "4  sweet potato    45\n",
       "5         peach    12"
      ],
      "text/html": "<div>\n<style scoped>\n    .dataframe tbody tr th:only-of-type {\n        vertical-align: middle;\n    }\n\n    .dataframe tbody tr th {\n        vertical-align: top;\n    }\n\n    .dataframe thead th {\n        text-align: right;\n    }\n</style>\n<table border=\"1\" class=\"dataframe\">\n  <thead>\n    <tr style=\"text-align: right;\">\n      <th></th>\n      <th>fruit name</th>\n      <th>likes</th>\n    </tr>\n  </thead>\n  <tbody>\n    <tr>\n      <th>1</th>\n      <td>apple</td>\n      <td>15</td>\n    </tr>\n    <tr>\n      <th>2</th>\n      <td>carrot</td>\n      <td>3</td>\n    </tr>\n    <tr>\n      <th>4</th>\n      <td>sweet potato</td>\n      <td>45</td>\n    </tr>\n    <tr>\n      <th>5</th>\n      <td>peach</td>\n      <td>12</td>\n    </tr>\n  </tbody>\n</table>\n</div>"
     },
     "metadata": {},
     "execution_count": 41
    }
   ],
   "source": [
    "df = df.rename(columns={\n",
    "    0: 'fruit name',\n",
    "    1: 'likes'\n",
    "})\n",
    "df = df[df['fruit name'] != 'fruit name']\n",
    "df"
   ]
  },
  {
   "cell_type": "markdown",
   "metadata": {},
   "source": [
    "🚀 Done!\n",
    "\n",
    "### Useful tips about coordinates\n",
    "\n",
    "If you want to grab only a section of the page [Kull](https://jsoma.github.io/kull/#/) might be helpful in finding the coordinates.\n",
    "\n",
    "> **Alternatively** run `%matplotlib notebook` in a cell. Afterwards, every time you use something like `camelot.plot(tables[0]).show()` it will get you nice zoomable, hoverable versions that include `x` and `y` coordinates as you move your mouse.\n",
    "\n",
    "Coordinates are given as `\"left_x,top_y,right_x,bottom_y\"` with `(0,0)` being in the bottom left-hand corner.\n",
    "\n",
    "Note that all coordinates are strings, for some reason. It won't be `[1, 2, 3, 4]` it will be `['1,2,3,4']`\n",
    "\n",
    "# The homework\n",
    "\n",
    "This is **mostly Camelot work**, because I don't really have any good image-based PDFs to stretch your wings on tesseract. If you know of any, let me know and I can put together another couple exercises.\n",
    "\n",
    "## Prison Inmates\n",
    "\n",
    "Working from [InmateList.pdf](InmateList.pdf), save a CSV file that includes every inmate.\n",
    "\n",
    "* Make sure your rows are *all data*, and you don't have any people named \"Inmate Name.\"\n"
   ]
  },
  {
   "cell_type": "code",
   "execution_count": 5,
   "metadata": {},
   "outputs": [],
   "source": [
    "import camelot"
   ]
  },
  {
   "cell_type": "code",
   "execution_count": 8,
   "metadata": {},
   "outputs": [
    {
     "output_type": "execute_result",
     "data": {
      "text/plain": [
       "<TableList n=1>"
      ]
     },
     "metadata": {},
     "execution_count": 8
    }
   ],
   "source": [
    "table = camelot.read_pdf('InmateList.pdf',flavor=\"stream\")\n",
    "table"
   ]
  },
  {
   "cell_type": "code",
   "execution_count": 10,
   "metadata": {},
   "outputs": [
    {
     "output_type": "execute_result",
     "data": {
      "text/plain": [
       "              0                         1    2                             3  \\\n",
       "0                                               Erie County Sheriff's Office   \n",
       "1                                                              Inmate Roster   \n",
       "2         ICN #               Inmate Name                           Facility   \n",
       "3         70693         ABDALLAH, MICHAEL                               ECHC   \n",
       "4        152645                ABDI, ABDI                               ECCF   \n",
       "5        144666          ABDULLAH, DHAFIR                               ECCF   \n",
       "6        156374           ACEVEDO, CARLOS                               ECHC   \n",
       "7         57243          ACKER, RAYMOND P                               ECCF   \n",
       "8         68579          ADAMS, JERMAIN C                               ECHC   \n",
       "9         45262            ADAMS, MARQUIS                               ECHC   \n",
       "10        75738         AKRIGHT, JOSEPH A                               ECCF   \n",
       "11       104048         ALBERTSON, ANDREW                               ECCF   \n",
       "12         1577          ALEXANDER, BRIAN                               ECHC   \n",
       "13       148951           ALICEA, PABLO E                               ECCF   \n",
       "14       139806        ALKULIFI, ABDULLAH                               ECHC   \n",
       "15       124661           ALLEN, DARNELLE                               ECCF   \n",
       "16       125234          ALLEN, DEMONDE C                               ECHC   \n",
       "17       131437            ALLEN, GLENN A                               ECCF   \n",
       "18       144648          ALLEN, KASSEEN F                               ECHC   \n",
       "19       155564          ALLEN, TIFFANY M                               ECHC   \n",
       "20        94012            AMAN, JOSHUA D                               ECHC   \n",
       "21        60170         ANDREWS, NICOLE J                               ECHC   \n",
       "22         1550             ARCARA, SHAWN                               ECCF   \n",
       "23        69158           ARCHER, MARTELL                               ECHC   \n",
       "24        84791             AULS, RAYMOND                               ECHC   \n",
       "25       124759         AUSTIN, RASHAWN G                               ECHC   \n",
       "26       150703            AYALA, MIKEL D                               ECCF   \n",
       "27        90957             BAEZ, OSCAR J                               ECHC   \n",
       "28       144717          BAILEY, JARELD D                               ECHC   \n",
       "29       152772            BAKER, BRYCE J                               ECCF   \n",
       "30       156189            BALD, EDWARD M                               ECHC   \n",
       "31        45844        BARBER, CORELLIS C                               ECCF   \n",
       "32        11444             BARBER, KEVIN                               ECCF   \n",
       "33        99417          BARCLAY, BRANDON                               ECCF   \n",
       "34       121931          BARCLAY, CHEMERE                               ECHC   \n",
       "35       156058              BARKER, JOHN                               ECHC   \n",
       "36         6400             BARKER, LLOYD                               ECHC   \n",
       "37        60960           BARNES, BYRON K                               ECCF   \n",
       "38       143728         BARNES, DONNELL A                               ECHC   \n",
       "39       156210            BARNWELL, GAIL                               ECHC   \n",
       "40       139480         BARNWELL, RICHARD                               ECCF   \n",
       "41        99034        BARROWMAN, GLENN R                               ECHC   \n",
       "42       110974            BASSETT, BRYAM                               ECHC   \n",
       "43       140981           BASTEDO, ROBARE                               ECCF   \n",
       "44       141722           BATES, MOULIK D                               ECHC   \n",
       "45       156050             BATES, TONY M                               ECHC   \n",
       "46  Created On:  Wednesday, July 14, 2021  At:                    9:45:01 am   \n",
       "\n",
       "               4             5  \n",
       "0                               \n",
       "1                               \n",
       "2   Booking Date                \n",
       "3     04/30/2021                \n",
       "4     06/20/2021                \n",
       "5     06/17/2021                \n",
       "6     06/06/2021                \n",
       "7     11/02/2020                \n",
       "8     09/19/2019                \n",
       "9     05/27/2021                \n",
       "10    05/29/2021                \n",
       "11    12/04/2019                \n",
       "12    07/13/2021                \n",
       "13    05/19/2020                \n",
       "14    07/01/2021                \n",
       "15    12/03/2020                \n",
       "16    05/03/2021                \n",
       "17    06/12/2021                \n",
       "18    06/29/2021                \n",
       "19    04/12/2021                \n",
       "20    06/27/2021                \n",
       "21    04/24/2021                \n",
       "22    01/20/2021                \n",
       "23    07/01/2021                \n",
       "24    06/03/2021                \n",
       "25    01/28/2021                \n",
       "26    05/17/2021                \n",
       "27    06/22/2021                \n",
       "28    03/18/2021                \n",
       "29    12/04/2020                \n",
       "30    02/27/2021                \n",
       "31    06/02/2021                \n",
       "32    02/26/2020                \n",
       "33    09/24/2020                \n",
       "34    04/29/2021                \n",
       "35    11/27/2020                \n",
       "36    09/30/2020                \n",
       "37    03/13/2021                \n",
       "38    06/30/2021                \n",
       "39    03/12/2021                \n",
       "40    10/07/2020                \n",
       "41    07/08/2021                \n",
       "42    05/08/2019                \n",
       "43    02/15/2021                \n",
       "44    03/16/2021                \n",
       "45    04/01/2021                \n",
       "46                Page 1 of 16  "
      ],
      "text/html": "<div>\n<style scoped>\n    .dataframe tbody tr th:only-of-type {\n        vertical-align: middle;\n    }\n\n    .dataframe tbody tr th {\n        vertical-align: top;\n    }\n\n    .dataframe thead th {\n        text-align: right;\n    }\n</style>\n<table border=\"1\" class=\"dataframe\">\n  <thead>\n    <tr style=\"text-align: right;\">\n      <th></th>\n      <th>0</th>\n      <th>1</th>\n      <th>2</th>\n      <th>3</th>\n      <th>4</th>\n      <th>5</th>\n    </tr>\n  </thead>\n  <tbody>\n    <tr>\n      <th>0</th>\n      <td></td>\n      <td></td>\n      <td></td>\n      <td>Erie County Sheriff's Office</td>\n      <td></td>\n      <td></td>\n    </tr>\n    <tr>\n      <th>1</th>\n      <td></td>\n      <td></td>\n      <td></td>\n      <td>Inmate Roster</td>\n      <td></td>\n      <td></td>\n    </tr>\n    <tr>\n      <th>2</th>\n      <td>ICN #</td>\n      <td>Inmate Name</td>\n      <td></td>\n      <td>Facility</td>\n      <td>Booking Date</td>\n      <td></td>\n    </tr>\n    <tr>\n      <th>3</th>\n      <td>70693</td>\n      <td>ABDALLAH, MICHAEL</td>\n      <td></td>\n      <td>ECHC</td>\n      <td>04/30/2021</td>\n      <td></td>\n    </tr>\n    <tr>\n      <th>4</th>\n      <td>152645</td>\n      <td>ABDI, ABDI</td>\n      <td></td>\n      <td>ECCF</td>\n      <td>06/20/2021</td>\n      <td></td>\n    </tr>\n    <tr>\n      <th>5</th>\n      <td>144666</td>\n      <td>ABDULLAH, DHAFIR</td>\n      <td></td>\n      <td>ECCF</td>\n      <td>06/17/2021</td>\n      <td></td>\n    </tr>\n    <tr>\n      <th>6</th>\n      <td>156374</td>\n      <td>ACEVEDO, CARLOS</td>\n      <td></td>\n      <td>ECHC</td>\n      <td>06/06/2021</td>\n      <td></td>\n    </tr>\n    <tr>\n      <th>7</th>\n      <td>57243</td>\n      <td>ACKER, RAYMOND P</td>\n      <td></td>\n      <td>ECCF</td>\n      <td>11/02/2020</td>\n      <td></td>\n    </tr>\n    <tr>\n      <th>8</th>\n      <td>68579</td>\n      <td>ADAMS, JERMAIN C</td>\n      <td></td>\n      <td>ECHC</td>\n      <td>09/19/2019</td>\n      <td></td>\n    </tr>\n    <tr>\n      <th>9</th>\n      <td>45262</td>\n      <td>ADAMS, MARQUIS</td>\n      <td></td>\n      <td>ECHC</td>\n      <td>05/27/2021</td>\n      <td></td>\n    </tr>\n    <tr>\n      <th>10</th>\n      <td>75738</td>\n      <td>AKRIGHT, JOSEPH A</td>\n      <td></td>\n      <td>ECCF</td>\n      <td>05/29/2021</td>\n      <td></td>\n    </tr>\n    <tr>\n      <th>11</th>\n      <td>104048</td>\n      <td>ALBERTSON, ANDREW</td>\n      <td></td>\n      <td>ECCF</td>\n      <td>12/04/2019</td>\n      <td></td>\n    </tr>\n    <tr>\n      <th>12</th>\n      <td>1577</td>\n      <td>ALEXANDER, BRIAN</td>\n      <td></td>\n      <td>ECHC</td>\n      <td>07/13/2021</td>\n      <td></td>\n    </tr>\n    <tr>\n      <th>13</th>\n      <td>148951</td>\n      <td>ALICEA, PABLO E</td>\n      <td></td>\n      <td>ECCF</td>\n      <td>05/19/2020</td>\n      <td></td>\n    </tr>\n    <tr>\n      <th>14</th>\n      <td>139806</td>\n      <td>ALKULIFI, ABDULLAH</td>\n      <td></td>\n      <td>ECHC</td>\n      <td>07/01/2021</td>\n      <td></td>\n    </tr>\n    <tr>\n      <th>15</th>\n      <td>124661</td>\n      <td>ALLEN, DARNELLE</td>\n      <td></td>\n      <td>ECCF</td>\n      <td>12/03/2020</td>\n      <td></td>\n    </tr>\n    <tr>\n      <th>16</th>\n      <td>125234</td>\n      <td>ALLEN, DEMONDE C</td>\n      <td></td>\n      <td>ECHC</td>\n      <td>05/03/2021</td>\n      <td></td>\n    </tr>\n    <tr>\n      <th>17</th>\n      <td>131437</td>\n      <td>ALLEN, GLENN A</td>\n      <td></td>\n      <td>ECCF</td>\n      <td>06/12/2021</td>\n      <td></td>\n    </tr>\n    <tr>\n      <th>18</th>\n      <td>144648</td>\n      <td>ALLEN, KASSEEN F</td>\n      <td></td>\n      <td>ECHC</td>\n      <td>06/29/2021</td>\n      <td></td>\n    </tr>\n    <tr>\n      <th>19</th>\n      <td>155564</td>\n      <td>ALLEN, TIFFANY M</td>\n      <td></td>\n      <td>ECHC</td>\n      <td>04/12/2021</td>\n      <td></td>\n    </tr>\n    <tr>\n      <th>20</th>\n      <td>94012</td>\n      <td>AMAN, JOSHUA D</td>\n      <td></td>\n      <td>ECHC</td>\n      <td>06/27/2021</td>\n      <td></td>\n    </tr>\n    <tr>\n      <th>21</th>\n      <td>60170</td>\n      <td>ANDREWS, NICOLE J</td>\n      <td></td>\n      <td>ECHC</td>\n      <td>04/24/2021</td>\n      <td></td>\n    </tr>\n    <tr>\n      <th>22</th>\n      <td>1550</td>\n      <td>ARCARA, SHAWN</td>\n      <td></td>\n      <td>ECCF</td>\n      <td>01/20/2021</td>\n      <td></td>\n    </tr>\n    <tr>\n      <th>23</th>\n      <td>69158</td>\n      <td>ARCHER, MARTELL</td>\n      <td></td>\n      <td>ECHC</td>\n      <td>07/01/2021</td>\n      <td></td>\n    </tr>\n    <tr>\n      <th>24</th>\n      <td>84791</td>\n      <td>AULS, RAYMOND</td>\n      <td></td>\n      <td>ECHC</td>\n      <td>06/03/2021</td>\n      <td></td>\n    </tr>\n    <tr>\n      <th>25</th>\n      <td>124759</td>\n      <td>AUSTIN, RASHAWN G</td>\n      <td></td>\n      <td>ECHC</td>\n      <td>01/28/2021</td>\n      <td></td>\n    </tr>\n    <tr>\n      <th>26</th>\n      <td>150703</td>\n      <td>AYALA, MIKEL D</td>\n      <td></td>\n      <td>ECCF</td>\n      <td>05/17/2021</td>\n      <td></td>\n    </tr>\n    <tr>\n      <th>27</th>\n      <td>90957</td>\n      <td>BAEZ, OSCAR J</td>\n      <td></td>\n      <td>ECHC</td>\n      <td>06/22/2021</td>\n      <td></td>\n    </tr>\n    <tr>\n      <th>28</th>\n      <td>144717</td>\n      <td>BAILEY, JARELD D</td>\n      <td></td>\n      <td>ECHC</td>\n      <td>03/18/2021</td>\n      <td></td>\n    </tr>\n    <tr>\n      <th>29</th>\n      <td>152772</td>\n      <td>BAKER, BRYCE J</td>\n      <td></td>\n      <td>ECCF</td>\n      <td>12/04/2020</td>\n      <td></td>\n    </tr>\n    <tr>\n      <th>30</th>\n      <td>156189</td>\n      <td>BALD, EDWARD M</td>\n      <td></td>\n      <td>ECHC</td>\n      <td>02/27/2021</td>\n      <td></td>\n    </tr>\n    <tr>\n      <th>31</th>\n      <td>45844</td>\n      <td>BARBER, CORELLIS C</td>\n      <td></td>\n      <td>ECCF</td>\n      <td>06/02/2021</td>\n      <td></td>\n    </tr>\n    <tr>\n      <th>32</th>\n      <td>11444</td>\n      <td>BARBER, KEVIN</td>\n      <td></td>\n      <td>ECCF</td>\n      <td>02/26/2020</td>\n      <td></td>\n    </tr>\n    <tr>\n      <th>33</th>\n      <td>99417</td>\n      <td>BARCLAY, BRANDON</td>\n      <td></td>\n      <td>ECCF</td>\n      <td>09/24/2020</td>\n      <td></td>\n    </tr>\n    <tr>\n      <th>34</th>\n      <td>121931</td>\n      <td>BARCLAY, CHEMERE</td>\n      <td></td>\n      <td>ECHC</td>\n      <td>04/29/2021</td>\n      <td></td>\n    </tr>\n    <tr>\n      <th>35</th>\n      <td>156058</td>\n      <td>BARKER, JOHN</td>\n      <td></td>\n      <td>ECHC</td>\n      <td>11/27/2020</td>\n      <td></td>\n    </tr>\n    <tr>\n      <th>36</th>\n      <td>6400</td>\n      <td>BARKER, LLOYD</td>\n      <td></td>\n      <td>ECHC</td>\n      <td>09/30/2020</td>\n      <td></td>\n    </tr>\n    <tr>\n      <th>37</th>\n      <td>60960</td>\n      <td>BARNES, BYRON K</td>\n      <td></td>\n      <td>ECCF</td>\n      <td>03/13/2021</td>\n      <td></td>\n    </tr>\n    <tr>\n      <th>38</th>\n      <td>143728</td>\n      <td>BARNES, DONNELL A</td>\n      <td></td>\n      <td>ECHC</td>\n      <td>06/30/2021</td>\n      <td></td>\n    </tr>\n    <tr>\n      <th>39</th>\n      <td>156210</td>\n      <td>BARNWELL, GAIL</td>\n      <td></td>\n      <td>ECHC</td>\n      <td>03/12/2021</td>\n      <td></td>\n    </tr>\n    <tr>\n      <th>40</th>\n      <td>139480</td>\n      <td>BARNWELL, RICHARD</td>\n      <td></td>\n      <td>ECCF</td>\n      <td>10/07/2020</td>\n      <td></td>\n    </tr>\n    <tr>\n      <th>41</th>\n      <td>99034</td>\n      <td>BARROWMAN, GLENN R</td>\n      <td></td>\n      <td>ECHC</td>\n      <td>07/08/2021</td>\n      <td></td>\n    </tr>\n    <tr>\n      <th>42</th>\n      <td>110974</td>\n      <td>BASSETT, BRYAM</td>\n      <td></td>\n      <td>ECHC</td>\n      <td>05/08/2019</td>\n      <td></td>\n    </tr>\n    <tr>\n      <th>43</th>\n      <td>140981</td>\n      <td>BASTEDO, ROBARE</td>\n      <td></td>\n      <td>ECCF</td>\n      <td>02/15/2021</td>\n      <td></td>\n    </tr>\n    <tr>\n      <th>44</th>\n      <td>141722</td>\n      <td>BATES, MOULIK D</td>\n      <td></td>\n      <td>ECHC</td>\n      <td>03/16/2021</td>\n      <td></td>\n    </tr>\n    <tr>\n      <th>45</th>\n      <td>156050</td>\n      <td>BATES, TONY M</td>\n      <td></td>\n      <td>ECHC</td>\n      <td>04/01/2021</td>\n      <td></td>\n    </tr>\n    <tr>\n      <th>46</th>\n      <td>Created On:</td>\n      <td>Wednesday, July 14, 2021</td>\n      <td>At:</td>\n      <td>9:45:01 am</td>\n      <td></td>\n      <td>Page 1 of 16</td>\n    </tr>\n  </tbody>\n</table>\n</div>"
     },
     "metadata": {},
     "execution_count": 10
    }
   ],
   "source": [
    "table[0].df"
   ]
  },
  {
   "cell_type": "code",
   "execution_count": 37,
   "metadata": {},
   "outputs": [
    {
     "output_type": "execute_result",
     "data": {
      "text/plain": [
       "       icn         inmate_name facility     booking\n",
       "3    70693   ABDALLAH, MICHAEL     ECHC  04/30/2021\n",
       "4   152645          ABDI, ABDI     ECCF  06/20/2021\n",
       "5   144666    ABDULLAH, DHAFIR     ECCF  06/17/2021\n",
       "6   156374     ACEVEDO, CARLOS     ECHC  06/06/2021\n",
       "7    57243    ACKER, RAYMOND P     ECCF  11/02/2020\n",
       "8    68579    ADAMS, JERMAIN C     ECHC  09/19/2019\n",
       "9    45262      ADAMS, MARQUIS     ECHC  05/27/2021\n",
       "10   75738   AKRIGHT, JOSEPH A     ECCF  05/29/2021\n",
       "11  104048   ALBERTSON, ANDREW     ECCF  12/04/2019\n",
       "12    1577    ALEXANDER, BRIAN     ECHC  07/13/2021\n",
       "13  148951     ALICEA, PABLO E     ECCF  05/19/2020\n",
       "14  139806  ALKULIFI, ABDULLAH     ECHC  07/01/2021\n",
       "15  124661     ALLEN, DARNELLE     ECCF  12/03/2020\n",
       "16  125234    ALLEN, DEMONDE C     ECHC  05/03/2021\n",
       "17  131437      ALLEN, GLENN A     ECCF  06/12/2021\n",
       "18  144648    ALLEN, KASSEEN F     ECHC  06/29/2021\n",
       "19  155564    ALLEN, TIFFANY M     ECHC  04/12/2021\n",
       "20   94012      AMAN, JOSHUA D     ECHC  06/27/2021\n",
       "21   60170   ANDREWS, NICOLE J     ECHC  04/24/2021\n",
       "22    1550       ARCARA, SHAWN     ECCF  01/20/2021\n",
       "23   69158     ARCHER, MARTELL     ECHC  07/01/2021\n",
       "24   84791       AULS, RAYMOND     ECHC  06/03/2021\n",
       "25  124759   AUSTIN, RASHAWN G     ECHC  01/28/2021\n",
       "26  150703      AYALA, MIKEL D     ECCF  05/17/2021\n",
       "27   90957       BAEZ, OSCAR J     ECHC  06/22/2021\n",
       "28  144717    BAILEY, JARELD D     ECHC  03/18/2021\n",
       "29  152772      BAKER, BRYCE J     ECCF  12/04/2020\n",
       "30  156189      BALD, EDWARD M     ECHC  02/27/2021\n",
       "31   45844  BARBER, CORELLIS C     ECCF  06/02/2021\n",
       "32   11444       BARBER, KEVIN     ECCF  02/26/2020\n",
       "33   99417    BARCLAY, BRANDON     ECCF  09/24/2020\n",
       "34  121931    BARCLAY, CHEMERE     ECHC  04/29/2021\n",
       "35  156058        BARKER, JOHN     ECHC  11/27/2020\n",
       "36    6400       BARKER, LLOYD     ECHC  09/30/2020\n",
       "37   60960     BARNES, BYRON K     ECCF  03/13/2021\n",
       "38  143728   BARNES, DONNELL A     ECHC  06/30/2021\n",
       "39  156210      BARNWELL, GAIL     ECHC  03/12/2021\n",
       "40  139480   BARNWELL, RICHARD     ECCF  10/07/2020\n",
       "41   99034  BARROWMAN, GLENN R     ECHC  07/08/2021\n",
       "42  110974      BASSETT, BRYAM     ECHC  05/08/2019\n",
       "43  140981     BASTEDO, ROBARE     ECCF  02/15/2021\n",
       "44  141722     BATES, MOULIK D     ECHC  03/16/2021\n",
       "45  156050       BATES, TONY M     ECHC  04/01/2021"
      ],
      "text/html": "<div>\n<style scoped>\n    .dataframe tbody tr th:only-of-type {\n        vertical-align: middle;\n    }\n\n    .dataframe tbody tr th {\n        vertical-align: top;\n    }\n\n    .dataframe thead th {\n        text-align: right;\n    }\n</style>\n<table border=\"1\" class=\"dataframe\">\n  <thead>\n    <tr style=\"text-align: right;\">\n      <th></th>\n      <th>icn</th>\n      <th>inmate_name</th>\n      <th>facility</th>\n      <th>booking</th>\n    </tr>\n  </thead>\n  <tbody>\n    <tr>\n      <th>3</th>\n      <td>70693</td>\n      <td>ABDALLAH, MICHAEL</td>\n      <td>ECHC</td>\n      <td>04/30/2021</td>\n    </tr>\n    <tr>\n      <th>4</th>\n      <td>152645</td>\n      <td>ABDI, ABDI</td>\n      <td>ECCF</td>\n      <td>06/20/2021</td>\n    </tr>\n    <tr>\n      <th>5</th>\n      <td>144666</td>\n      <td>ABDULLAH, DHAFIR</td>\n      <td>ECCF</td>\n      <td>06/17/2021</td>\n    </tr>\n    <tr>\n      <th>6</th>\n      <td>156374</td>\n      <td>ACEVEDO, CARLOS</td>\n      <td>ECHC</td>\n      <td>06/06/2021</td>\n    </tr>\n    <tr>\n      <th>7</th>\n      <td>57243</td>\n      <td>ACKER, RAYMOND P</td>\n      <td>ECCF</td>\n      <td>11/02/2020</td>\n    </tr>\n    <tr>\n      <th>8</th>\n      <td>68579</td>\n      <td>ADAMS, JERMAIN C</td>\n      <td>ECHC</td>\n      <td>09/19/2019</td>\n    </tr>\n    <tr>\n      <th>9</th>\n      <td>45262</td>\n      <td>ADAMS, MARQUIS</td>\n      <td>ECHC</td>\n      <td>05/27/2021</td>\n    </tr>\n    <tr>\n      <th>10</th>\n      <td>75738</td>\n      <td>AKRIGHT, JOSEPH A</td>\n      <td>ECCF</td>\n      <td>05/29/2021</td>\n    </tr>\n    <tr>\n      <th>11</th>\n      <td>104048</td>\n      <td>ALBERTSON, ANDREW</td>\n      <td>ECCF</td>\n      <td>12/04/2019</td>\n    </tr>\n    <tr>\n      <th>12</th>\n      <td>1577</td>\n      <td>ALEXANDER, BRIAN</td>\n      <td>ECHC</td>\n      <td>07/13/2021</td>\n    </tr>\n    <tr>\n      <th>13</th>\n      <td>148951</td>\n      <td>ALICEA, PABLO E</td>\n      <td>ECCF</td>\n      <td>05/19/2020</td>\n    </tr>\n    <tr>\n      <th>14</th>\n      <td>139806</td>\n      <td>ALKULIFI, ABDULLAH</td>\n      <td>ECHC</td>\n      <td>07/01/2021</td>\n    </tr>\n    <tr>\n      <th>15</th>\n      <td>124661</td>\n      <td>ALLEN, DARNELLE</td>\n      <td>ECCF</td>\n      <td>12/03/2020</td>\n    </tr>\n    <tr>\n      <th>16</th>\n      <td>125234</td>\n      <td>ALLEN, DEMONDE C</td>\n      <td>ECHC</td>\n      <td>05/03/2021</td>\n    </tr>\n    <tr>\n      <th>17</th>\n      <td>131437</td>\n      <td>ALLEN, GLENN A</td>\n      <td>ECCF</td>\n      <td>06/12/2021</td>\n    </tr>\n    <tr>\n      <th>18</th>\n      <td>144648</td>\n      <td>ALLEN, KASSEEN F</td>\n      <td>ECHC</td>\n      <td>06/29/2021</td>\n    </tr>\n    <tr>\n      <th>19</th>\n      <td>155564</td>\n      <td>ALLEN, TIFFANY M</td>\n      <td>ECHC</td>\n      <td>04/12/2021</td>\n    </tr>\n    <tr>\n      <th>20</th>\n      <td>94012</td>\n      <td>AMAN, JOSHUA D</td>\n      <td>ECHC</td>\n      <td>06/27/2021</td>\n    </tr>\n    <tr>\n      <th>21</th>\n      <td>60170</td>\n      <td>ANDREWS, NICOLE J</td>\n      <td>ECHC</td>\n      <td>04/24/2021</td>\n    </tr>\n    <tr>\n      <th>22</th>\n      <td>1550</td>\n      <td>ARCARA, SHAWN</td>\n      <td>ECCF</td>\n      <td>01/20/2021</td>\n    </tr>\n    <tr>\n      <th>23</th>\n      <td>69158</td>\n      <td>ARCHER, MARTELL</td>\n      <td>ECHC</td>\n      <td>07/01/2021</td>\n    </tr>\n    <tr>\n      <th>24</th>\n      <td>84791</td>\n      <td>AULS, RAYMOND</td>\n      <td>ECHC</td>\n      <td>06/03/2021</td>\n    </tr>\n    <tr>\n      <th>25</th>\n      <td>124759</td>\n      <td>AUSTIN, RASHAWN G</td>\n      <td>ECHC</td>\n      <td>01/28/2021</td>\n    </tr>\n    <tr>\n      <th>26</th>\n      <td>150703</td>\n      <td>AYALA, MIKEL D</td>\n      <td>ECCF</td>\n      <td>05/17/2021</td>\n    </tr>\n    <tr>\n      <th>27</th>\n      <td>90957</td>\n      <td>BAEZ, OSCAR J</td>\n      <td>ECHC</td>\n      <td>06/22/2021</td>\n    </tr>\n    <tr>\n      <th>28</th>\n      <td>144717</td>\n      <td>BAILEY, JARELD D</td>\n      <td>ECHC</td>\n      <td>03/18/2021</td>\n    </tr>\n    <tr>\n      <th>29</th>\n      <td>152772</td>\n      <td>BAKER, BRYCE J</td>\n      <td>ECCF</td>\n      <td>12/04/2020</td>\n    </tr>\n    <tr>\n      <th>30</th>\n      <td>156189</td>\n      <td>BALD, EDWARD M</td>\n      <td>ECHC</td>\n      <td>02/27/2021</td>\n    </tr>\n    <tr>\n      <th>31</th>\n      <td>45844</td>\n      <td>BARBER, CORELLIS C</td>\n      <td>ECCF</td>\n      <td>06/02/2021</td>\n    </tr>\n    <tr>\n      <th>32</th>\n      <td>11444</td>\n      <td>BARBER, KEVIN</td>\n      <td>ECCF</td>\n      <td>02/26/2020</td>\n    </tr>\n    <tr>\n      <th>33</th>\n      <td>99417</td>\n      <td>BARCLAY, BRANDON</td>\n      <td>ECCF</td>\n      <td>09/24/2020</td>\n    </tr>\n    <tr>\n      <th>34</th>\n      <td>121931</td>\n      <td>BARCLAY, CHEMERE</td>\n      <td>ECHC</td>\n      <td>04/29/2021</td>\n    </tr>\n    <tr>\n      <th>35</th>\n      <td>156058</td>\n      <td>BARKER, JOHN</td>\n      <td>ECHC</td>\n      <td>11/27/2020</td>\n    </tr>\n    <tr>\n      <th>36</th>\n      <td>6400</td>\n      <td>BARKER, LLOYD</td>\n      <td>ECHC</td>\n      <td>09/30/2020</td>\n    </tr>\n    <tr>\n      <th>37</th>\n      <td>60960</td>\n      <td>BARNES, BYRON K</td>\n      <td>ECCF</td>\n      <td>03/13/2021</td>\n    </tr>\n    <tr>\n      <th>38</th>\n      <td>143728</td>\n      <td>BARNES, DONNELL A</td>\n      <td>ECHC</td>\n      <td>06/30/2021</td>\n    </tr>\n    <tr>\n      <th>39</th>\n      <td>156210</td>\n      <td>BARNWELL, GAIL</td>\n      <td>ECHC</td>\n      <td>03/12/2021</td>\n    </tr>\n    <tr>\n      <th>40</th>\n      <td>139480</td>\n      <td>BARNWELL, RICHARD</td>\n      <td>ECCF</td>\n      <td>10/07/2020</td>\n    </tr>\n    <tr>\n      <th>41</th>\n      <td>99034</td>\n      <td>BARROWMAN, GLENN R</td>\n      <td>ECHC</td>\n      <td>07/08/2021</td>\n    </tr>\n    <tr>\n      <th>42</th>\n      <td>110974</td>\n      <td>BASSETT, BRYAM</td>\n      <td>ECHC</td>\n      <td>05/08/2019</td>\n    </tr>\n    <tr>\n      <th>43</th>\n      <td>140981</td>\n      <td>BASTEDO, ROBARE</td>\n      <td>ECCF</td>\n      <td>02/15/2021</td>\n    </tr>\n    <tr>\n      <th>44</th>\n      <td>141722</td>\n      <td>BATES, MOULIK D</td>\n      <td>ECHC</td>\n      <td>03/16/2021</td>\n    </tr>\n    <tr>\n      <th>45</th>\n      <td>156050</td>\n      <td>BATES, TONY M</td>\n      <td>ECHC</td>\n      <td>04/01/2021</td>\n    </tr>\n  </tbody>\n</table>\n</div>"
     },
     "metadata": {},
     "execution_count": 37
    }
   ],
   "source": [
    "df = table[0].df\n",
    "\n",
    "df = df[3:-1]\n",
    "\n",
    "df = df.rename(columns={\n",
    "    0: 'icn',\n",
    "    1: 'inmate_name',\n",
    "    2: 'empty',\n",
    "    3: 'facility',\n",
    "    4: 'booking',\n",
    "    5: 'empty'\n",
    "})\n",
    "\n",
    "df[['icn','inmate_name','facility','booking']]"
   ]
  },
  {
   "cell_type": "code",
   "execution_count": 38,
   "metadata": {},
   "outputs": [],
   "source": [
    "df.to_csv('inmates.csv')"
   ]
  },
  {
   "cell_type": "markdown",
   "metadata": {},
   "source": [
    "## WHO resolutions\n",
    "\n",
    "Using [A74_R13-en.pdf](A74_R13-en.pdf), what ten member countries are given the highest assessments?\n",
    "\n",
    "* You might need to have two separate queries, and combine the results: that last page is pretty awful!\n",
    "* Always rename your columns\n",
    "* Double-check that your sorting looks right......\n",
    "* You can still get the answer even without perfectly clean data"
   ]
  },
  {
   "cell_type": "code",
   "execution_count": 152,
   "metadata": {},
   "outputs": [],
   "source": [
    "tbl = camelot.read_pdf('A74_R13-en.pdf',flavor=\"stream\",pages='0-5')"
   ]
  },
  {
   "cell_type": "code",
   "execution_count": 153,
   "metadata": {},
   "outputs": [],
   "source": [
    "dfs = [table.df for table in tbl]\n",
    "df = pd.concat(dfs,ignore_index=True)"
   ]
  },
  {
   "cell_type": "code",
   "execution_count": 90,
   "metadata": {},
   "outputs": [],
   "source": [
    "# df.head(40)"
   ]
  },
  {
   "cell_type": "code",
   "execution_count": 154,
   "metadata": {},
   "outputs": [
    {
     "output_type": "execute_result",
     "data": {
      "text/plain": [
       "                                country              value\n",
       "0                              WHA74.13                   \n",
       "1                                              Members and\n",
       "2                                        Associate Members\n",
       "3                                                         \n",
       "4                                                   Zambia\n",
       "..                                  ...                ...\n",
       "220                          Uzbekistan             0.0320\n",
       "221                             Vanuatu             0.0010\n",
       "222  Venezuela (Bolivarian Republic of)             0.7280\n",
       "223                            Viet Nam             0.0770\n",
       "224                               Yemen             0.0100\n",
       "\n",
       "[225 rows x 2 columns]"
      ],
      "text/html": "<div>\n<style scoped>\n    .dataframe tbody tr th:only-of-type {\n        vertical-align: middle;\n    }\n\n    .dataframe tbody tr th {\n        vertical-align: top;\n    }\n\n    .dataframe thead th {\n        text-align: right;\n    }\n</style>\n<table border=\"1\" class=\"dataframe\">\n  <thead>\n    <tr style=\"text-align: right;\">\n      <th></th>\n      <th>country</th>\n      <th>value</th>\n    </tr>\n  </thead>\n  <tbody>\n    <tr>\n      <th>0</th>\n      <td>WHA74.13</td>\n      <td></td>\n    </tr>\n    <tr>\n      <th>1</th>\n      <td></td>\n      <td>Members and</td>\n    </tr>\n    <tr>\n      <th>2</th>\n      <td></td>\n      <td>Associate Members</td>\n    </tr>\n    <tr>\n      <th>3</th>\n      <td></td>\n      <td></td>\n    </tr>\n    <tr>\n      <th>4</th>\n      <td></td>\n      <td>Zambia</td>\n    </tr>\n    <tr>\n      <th>...</th>\n      <td>...</td>\n      <td>...</td>\n    </tr>\n    <tr>\n      <th>220</th>\n      <td>Uzbekistan</td>\n      <td>0.0320</td>\n    </tr>\n    <tr>\n      <th>221</th>\n      <td>Vanuatu</td>\n      <td>0.0010</td>\n    </tr>\n    <tr>\n      <th>222</th>\n      <td>Venezuela (Bolivarian Republic of)</td>\n      <td>0.7280</td>\n    </tr>\n    <tr>\n      <th>223</th>\n      <td>Viet Nam</td>\n      <td>0.0770</td>\n    </tr>\n    <tr>\n      <th>224</th>\n      <td>Yemen</td>\n      <td>0.0100</td>\n    </tr>\n  </tbody>\n</table>\n<p>225 rows × 2 columns</p>\n</div>"
     },
     "metadata": {},
     "execution_count": 154
    }
   ],
   "source": [
    "df = df[[0,1]]\n",
    "\n",
    "df = df.rename(columns={\n",
    "    0: 'country',\n",
    "    1: 'value'\n",
    "})\n",
    "df"
   ]
  },
  {
   "cell_type": "code",
   "execution_count": 155,
   "metadata": {},
   "outputs": [],
   "source": [
    "\n",
    "countries = df[13:]\n"
   ]
  },
  {
   "cell_type": "code",
   "execution_count": 156,
   "metadata": {},
   "outputs": [
    {
     "output_type": "execute_result",
     "data": {
      "text/plain": [
       "                                 country    value\n",
       "205                             Nations)   0.0010\n",
       "206                                Tonga   0.0010\n",
       "207                  Trinidad and Tobago   0.0400\n",
       "208                              Tunisia   0.0250\n",
       "209                               Turkey   1.3711\n",
       "210                         Turkmenistan   0.0330\n",
       "211                               Tuvalu   0.0010\n",
       "212                               Uganda   0.0080\n",
       "213                              Ukraine   0.0570\n",
       "214                 United Arab Emirates   0.6160\n",
       "215  United Kingdom of Great Britain and         \n",
       "216                     Northern Ireland   4.5673\n",
       "217          United Republic of Tanzania   0.0100\n",
       "218             United States of America  22.0000\n",
       "219                              Uruguay   0.0870\n",
       "220                           Uzbekistan   0.0320\n",
       "221                              Vanuatu   0.0010\n",
       "222   Venezuela (Bolivarian Republic of)   0.7280\n",
       "223                             Viet Nam   0.0770\n",
       "224                                Yemen   0.0100"
      ],
      "text/html": "<div>\n<style scoped>\n    .dataframe tbody tr th:only-of-type {\n        vertical-align: middle;\n    }\n\n    .dataframe tbody tr th {\n        vertical-align: top;\n    }\n\n    .dataframe thead th {\n        text-align: right;\n    }\n</style>\n<table border=\"1\" class=\"dataframe\">\n  <thead>\n    <tr style=\"text-align: right;\">\n      <th></th>\n      <th>country</th>\n      <th>value</th>\n    </tr>\n  </thead>\n  <tbody>\n    <tr>\n      <th>205</th>\n      <td>Nations)</td>\n      <td>0.0010</td>\n    </tr>\n    <tr>\n      <th>206</th>\n      <td>Tonga</td>\n      <td>0.0010</td>\n    </tr>\n    <tr>\n      <th>207</th>\n      <td>Trinidad and Tobago</td>\n      <td>0.0400</td>\n    </tr>\n    <tr>\n      <th>208</th>\n      <td>Tunisia</td>\n      <td>0.0250</td>\n    </tr>\n    <tr>\n      <th>209</th>\n      <td>Turkey</td>\n      <td>1.3711</td>\n    </tr>\n    <tr>\n      <th>210</th>\n      <td>Turkmenistan</td>\n      <td>0.0330</td>\n    </tr>\n    <tr>\n      <th>211</th>\n      <td>Tuvalu</td>\n      <td>0.0010</td>\n    </tr>\n    <tr>\n      <th>212</th>\n      <td>Uganda</td>\n      <td>0.0080</td>\n    </tr>\n    <tr>\n      <th>213</th>\n      <td>Ukraine</td>\n      <td>0.0570</td>\n    </tr>\n    <tr>\n      <th>214</th>\n      <td>United Arab Emirates</td>\n      <td>0.6160</td>\n    </tr>\n    <tr>\n      <th>215</th>\n      <td>United Kingdom of Great Britain and</td>\n      <td></td>\n    </tr>\n    <tr>\n      <th>216</th>\n      <td>Northern Ireland</td>\n      <td>4.5673</td>\n    </tr>\n    <tr>\n      <th>217</th>\n      <td>United Republic of Tanzania</td>\n      <td>0.0100</td>\n    </tr>\n    <tr>\n      <th>218</th>\n      <td>United States of America</td>\n      <td>22.0000</td>\n    </tr>\n    <tr>\n      <th>219</th>\n      <td>Uruguay</td>\n      <td>0.0870</td>\n    </tr>\n    <tr>\n      <th>220</th>\n      <td>Uzbekistan</td>\n      <td>0.0320</td>\n    </tr>\n    <tr>\n      <th>221</th>\n      <td>Vanuatu</td>\n      <td>0.0010</td>\n    </tr>\n    <tr>\n      <th>222</th>\n      <td>Venezuela (Bolivarian Republic of)</td>\n      <td>0.7280</td>\n    </tr>\n    <tr>\n      <th>223</th>\n      <td>Viet Nam</td>\n      <td>0.0770</td>\n    </tr>\n    <tr>\n      <th>224</th>\n      <td>Yemen</td>\n      <td>0.0100</td>\n    </tr>\n  </tbody>\n</table>\n</div>"
     },
     "metadata": {},
     "execution_count": 156
    }
   ],
   "source": [
    "countries.tail(20)"
   ]
  },
  {
   "cell_type": "code",
   "execution_count": 157,
   "metadata": {},
   "outputs": [
    {
     "output_type": "execute_result",
     "data": {
      "text/plain": [
       "          0                  1              2              3  \\\n",
       "0  WHA74.13                                                    \n",
       "1                  Members and                     WHO scale   \n",
       "2            Associate Members                 for 2022–2023   \n",
       "3                                                          %   \n",
       "4                       Zambia                        0.0090   \n",
       "5                     Zimbabwe                        0.0050   \n",
       "6                        TOTAL                       100.000   \n",
       "7                                                              \n",
       "8                                                              \n",
       "9         6                     =     =     =                  \n",
       "\n",
       "                                      4  \n",
       "0                                        \n",
       "1                                        \n",
       "2                                        \n",
       "3                                        \n",
       "4                                        \n",
       "5                                        \n",
       "6                                        \n",
       "7  Seventh plenary meeting, 31 May 2021  \n",
       "8                              A74/VR/7  \n",
       "9                                        "
      ],
      "text/html": "<div>\n<style scoped>\n    .dataframe tbody tr th:only-of-type {\n        vertical-align: middle;\n    }\n\n    .dataframe tbody tr th {\n        vertical-align: top;\n    }\n\n    .dataframe thead th {\n        text-align: right;\n    }\n</style>\n<table border=\"1\" class=\"dataframe\">\n  <thead>\n    <tr style=\"text-align: right;\">\n      <th></th>\n      <th>0</th>\n      <th>1</th>\n      <th>2</th>\n      <th>3</th>\n      <th>4</th>\n    </tr>\n  </thead>\n  <tbody>\n    <tr>\n      <th>0</th>\n      <td>WHA74.13</td>\n      <td></td>\n      <td></td>\n      <td></td>\n      <td></td>\n    </tr>\n    <tr>\n      <th>1</th>\n      <td></td>\n      <td>Members and</td>\n      <td></td>\n      <td>WHO scale</td>\n      <td></td>\n    </tr>\n    <tr>\n      <th>2</th>\n      <td></td>\n      <td>Associate Members</td>\n      <td></td>\n      <td>for 2022–2023</td>\n      <td></td>\n    </tr>\n    <tr>\n      <th>3</th>\n      <td></td>\n      <td></td>\n      <td></td>\n      <td>%</td>\n      <td></td>\n    </tr>\n    <tr>\n      <th>4</th>\n      <td></td>\n      <td>Zambia</td>\n      <td></td>\n      <td>0.0090</td>\n      <td></td>\n    </tr>\n    <tr>\n      <th>5</th>\n      <td></td>\n      <td>Zimbabwe</td>\n      <td></td>\n      <td>0.0050</td>\n      <td></td>\n    </tr>\n    <tr>\n      <th>6</th>\n      <td></td>\n      <td>TOTAL</td>\n      <td></td>\n      <td>100.000</td>\n      <td></td>\n    </tr>\n    <tr>\n      <th>7</th>\n      <td></td>\n      <td></td>\n      <td></td>\n      <td></td>\n      <td>Seventh plenary meeting, 31 May 2021</td>\n    </tr>\n    <tr>\n      <th>8</th>\n      <td></td>\n      <td></td>\n      <td></td>\n      <td></td>\n      <td>A74/VR/7</td>\n    </tr>\n    <tr>\n      <th>9</th>\n      <td>6</td>\n      <td></td>\n      <td>=     =     =</td>\n      <td></td>\n      <td></td>\n    </tr>\n  </tbody>\n</table>\n</div>"
     },
     "metadata": {},
     "execution_count": 157
    }
   ],
   "source": [
    "tbl = camelot.read_pdf('A74_R13-en.pdf',flavor=\"stream\",pages='6')\n",
    "last_page = tbl[0].df\n",
    "last_page"
   ]
  },
  {
   "cell_type": "code",
   "execution_count": 191,
   "metadata": {},
   "outputs": [
    {
     "output_type": "execute_result",
     "data": {
      "text/plain": [
       "                                country   value\n",
       "13                          Afghanistan  0.0070\n",
       "14                              Albania  0.0080\n",
       "15                              Algeria  0.1380\n",
       "16                              Andorra  0.0050\n",
       "17                               Angola  0.0100\n",
       "..                                  ...     ...\n",
       "222  Venezuela (Bolivarian Republic of)  0.7280\n",
       "223                            Viet Nam  0.0770\n",
       "224                               Yemen  0.0100\n",
       "4                                Zambia  0.0090\n",
       "5                              Zimbabwe  0.0050\n",
       "\n",
       "[214 rows x 2 columns]"
      ],
      "text/html": "<div>\n<style scoped>\n    .dataframe tbody tr th:only-of-type {\n        vertical-align: middle;\n    }\n\n    .dataframe tbody tr th {\n        vertical-align: top;\n    }\n\n    .dataframe thead th {\n        text-align: right;\n    }\n</style>\n<table border=\"1\" class=\"dataframe\">\n  <thead>\n    <tr style=\"text-align: right;\">\n      <th></th>\n      <th>country</th>\n      <th>value</th>\n    </tr>\n  </thead>\n  <tbody>\n    <tr>\n      <th>13</th>\n      <td>Afghanistan</td>\n      <td>0.0070</td>\n    </tr>\n    <tr>\n      <th>14</th>\n      <td>Albania</td>\n      <td>0.0080</td>\n    </tr>\n    <tr>\n      <th>15</th>\n      <td>Algeria</td>\n      <td>0.1380</td>\n    </tr>\n    <tr>\n      <th>16</th>\n      <td>Andorra</td>\n      <td>0.0050</td>\n    </tr>\n    <tr>\n      <th>17</th>\n      <td>Angola</td>\n      <td>0.0100</td>\n    </tr>\n    <tr>\n      <th>...</th>\n      <td>...</td>\n      <td>...</td>\n    </tr>\n    <tr>\n      <th>222</th>\n      <td>Venezuela (Bolivarian Republic of)</td>\n      <td>0.7280</td>\n    </tr>\n    <tr>\n      <th>223</th>\n      <td>Viet Nam</td>\n      <td>0.0770</td>\n    </tr>\n    <tr>\n      <th>224</th>\n      <td>Yemen</td>\n      <td>0.0100</td>\n    </tr>\n    <tr>\n      <th>4</th>\n      <td>Zambia</td>\n      <td>0.0090</td>\n    </tr>\n    <tr>\n      <th>5</th>\n      <td>Zimbabwe</td>\n      <td>0.0050</td>\n    </tr>\n  </tbody>\n</table>\n<p>214 rows × 2 columns</p>\n</div>"
     },
     "metadata": {},
     "execution_count": 191
    }
   ],
   "source": [
    "last_rows = last_page[4:6][[1,3]]\n",
    "\n",
    "last_rows = last_rows.rename(columns={\n",
    "    1: 'country',\n",
    "    3: 'value'\n",
    "})\n",
    "\n",
    "\n",
    "df = pd.concat([countries,last_rows])\n",
    "\n",
    "df\n"
   ]
  },
  {
   "cell_type": "code",
   "execution_count": 192,
   "metadata": {},
   "outputs": [
    {
     "output_type": "execute_result",
     "data": {
      "text/plain": [
       "array(['Afghanistan', 'Albania', 'Algeria', 'Andorra', 'Angola',\n",
       "       'Antigua and Barbuda', 'Argentina', 'Armenia', 'Australia',\n",
       "       'Austria', 'Azerbaijan', 'Bahamas', 'Bahrain', 'Bangladesh',\n",
       "       'Barbados', 'Belarus', 'Belgium', 'Belize', 'Benin', 'Bhutan',\n",
       "       'Bolivia (Plurinational State of)', 'Members and',\n",
       "       'Associate Members', '', 'Bosnia and Herzegovina', 'Botswana',\n",
       "       'Brazil', 'Brunei Darussalam', 'Bulgaria', 'Burkina Faso',\n",
       "       'Burundi', 'Cabo Verde', 'Cambodia', 'Cameroon', 'Canada',\n",
       "       'Central African Republic', 'Chad', 'Chile', 'China', 'Colombia',\n",
       "       'Comoros', 'Congo', 'Cook Islands (not a member of the',\n",
       "       'United Nations)', 'Costa Rica', 'Côte d’Ivoire', 'Croatia',\n",
       "       'Cuba', 'Cyprus', 'Czech Republic',\n",
       "       'Democratic People’s Republic of', 'Korea',\n",
       "       'Democratic Republic of the Congo', 'Denmark', 'Djibouti',\n",
       "       'Dominica', 'Dominican Republic', 'Ecuador', 'Egypt',\n",
       "       'El Salvador', 'Equatorial Guinea', 'Eritrea', 'Estonia',\n",
       "       'Eswatini', 'Ethiopia', 'Fiji', 'Finland', 'France', 'Gabon',\n",
       "       'Gambia', 'Georgia', 'Germany', 'Ghana', 'Greece', 'Grenada',\n",
       "       'Guatemala', 'Guinea', 'Guinea-Bissau', 'Guyana', 'Haiti',\n",
       "       'Honduras', 'Hungary', 'Iceland', 'India', 'Indonesia',\n",
       "       'Iran (Islamic Republic of)', 'Iraq', 'Ireland', 'Israel', 'Italy',\n",
       "       'Jamaica', 'Japan', 'Jordan', 'Kazakhstan', 'Kenya', 'Kiribati',\n",
       "       'Kuwait', 'Kyrgyzstan', 'Lao People’s Democratic Republic',\n",
       "       'Latvia', 'Lebanon', 'Lesotho', 'Liberia', 'Libya', 'Lithuania',\n",
       "       'Luxembourg', 'Madagascar', 'Malawi', 'Malaysia', 'Maldives',\n",
       "       'Mali', 'Malta', 'Marshall Islands', 'Mauritania', 'Mauritius',\n",
       "       'Mexico', 'Micronesia (Federated States of)', 'Monaco', 'Mongolia',\n",
       "       'Montenegro', 'Morocco', 'Mozambique', 'Myanmar', 'Namibia',\n",
       "       'Nauru', 'Nepal', 'Netherlands', 'New Zealand', 'Nicaragua',\n",
       "       'Niger', 'Nigeria', 'Niue (not a member of the United', 'Nations)',\n",
       "       'North Macedonia', 'Norway', 'Oman', 'Pakistan', 'Palau', 'Panama',\n",
       "       'Papua New Guinea', 'Paraguay', 'Peru', 'Philippines', 'Poland',\n",
       "       'Portugal', 'Puerto Rico (not a member of the', 'Qatar',\n",
       "       'Republic of Korea', 'Republic of Moldova', 'Romania',\n",
       "       'Russian Federation', 'Rwanda', 'Saint Kitts and Nevis',\n",
       "       'Saint Lucia', 'Saint Vincent and the Grenadines', 'Samoa',\n",
       "       'San Marino', 'Sao Tome and Principe', 'Saudi Arabia', 'Senegal',\n",
       "       'Serbia', 'Seychelles', 'Sierra Leone', 'Singapore', 'Slovakia',\n",
       "       'Slovenia', 'Solomon Islands', 'Somalia', 'South Africa',\n",
       "       'South Sudan', 'Spain', 'Sri Lanka', 'Sudan', 'Suriname', 'Sweden',\n",
       "       'Switzerland', 'Syrian Arab Republic', 'Tajikistan', 'Thailand',\n",
       "       'Timor-Leste', 'Togo', 'Tokelau (not a member of the United',\n",
       "       'Tonga', 'Trinidad and Tobago', 'Tunisia', 'Turkey',\n",
       "       'Turkmenistan', 'Tuvalu', 'Uganda', 'Ukraine',\n",
       "       'United Arab Emirates', 'United Kingdom of Great Britain and',\n",
       "       'Northern Ireland', 'United Republic of Tanzania',\n",
       "       'United States of America', 'Uruguay', 'Uzbekistan', 'Vanuatu',\n",
       "       'Venezuela (Bolivarian Republic of)', 'Viet Nam', 'Yemen',\n",
       "       'Zambia', 'Zimbabwe'], dtype=object)"
      ]
     },
     "metadata": {},
     "execution_count": 192
    }
   ],
   "source": [
    "df.country.unique()"
   ]
  },
  {
   "cell_type": "code",
   "execution_count": 193,
   "metadata": {},
   "outputs": [
    {
     "output_type": "execute_result",
     "data": {
      "text/plain": [
       "array(['0.0070', '0.0080', '0.1380', '0.0050', '0.0100', '0.0020',\n",
       "       '0.9151', '2.2101', '0.6770', '0.0490', '0.0180', '0.0500',\n",
       "       '0.8211', '0.0010', '0.0030', '0.0160', 'WHO scale',\n",
       "       'for 2022–2023', '%', '0.0120', '0.0140', '2.9482', '0.0250',\n",
       "       '0.0460', '0.0060', '0.0130', '2.7342', '0.0040', '0.4070',\n",
       "       '12.0058', '0.2880', '', '0.0620', '0.0770', '0.0800', '0.0360',\n",
       "       '0.3110', '0.5540', '0.0530', '0.1860', '0.0390', '0.4210',\n",
       "       '4.4273', '0.0150', '6.0904', '0.3660', '0.0090', '0.2060',\n",
       "       '0.0280', '0.8341', '0.5430', '0.3980', '0.1290', '0.3710',\n",
       "       '0.4900', '3.3072', '8.5645', '0.0210', '0.1780', '0.0240',\n",
       "       '0.2520', '0.0470', '0.0300', '0.0710', '0.0670', '0.3410',\n",
       "       '0.0170', '0.0110', '1.2921', '0.0550', '1.3561', '0.2910',\n",
       "       '0.2500', '0.7540', '0.1150', '0.0450', '0.1520', '0.2050',\n",
       "       '0.8021', '0.3500', '0.2820', '2.2671', '0.1980', '2.4052',\n",
       "       '1.1721', '0.4850', '0.1530', '0.0760', '0.2720', '2.1461',\n",
       "       '0.0440', '0.9061', '1.1511', '0.3070', '0.0400', '1.3711',\n",
       "       '0.0330', '0.0570', '0.6160', '4.5673', '22.0000', '0.0870',\n",
       "       '0.0320', '0.7280'], dtype=object)"
      ]
     },
     "metadata": {},
     "execution_count": 193
    }
   ],
   "source": [
    "df.value.unique()"
   ]
  },
  {
   "cell_type": "code",
   "execution_count": 194,
   "metadata": {},
   "outputs": [
    {
     "output_type": "execute_result",
     "data": {
      "text/plain": [
       "               country          value\n",
       "34         Members and      WHO scale\n",
       "35   Associate Members  for 2022–2023\n",
       "82         Members and      WHO scale\n",
       "83   Associate Members  for 2022–2023\n",
       "129        Members and      WHO scale\n",
       "130  Associate Members  for 2022–2023\n",
       "177        Members and      WHO scale\n",
       "178  Associate Members  for 2022–2023"
      ],
      "text/html": "<div>\n<style scoped>\n    .dataframe tbody tr th:only-of-type {\n        vertical-align: middle;\n    }\n\n    .dataframe tbody tr th {\n        vertical-align: top;\n    }\n\n    .dataframe thead th {\n        text-align: right;\n    }\n</style>\n<table border=\"1\" class=\"dataframe\">\n  <thead>\n    <tr style=\"text-align: right;\">\n      <th></th>\n      <th>country</th>\n      <th>value</th>\n    </tr>\n  </thead>\n  <tbody>\n    <tr>\n      <th>34</th>\n      <td>Members and</td>\n      <td>WHO scale</td>\n    </tr>\n    <tr>\n      <th>35</th>\n      <td>Associate Members</td>\n      <td>for 2022–2023</td>\n    </tr>\n    <tr>\n      <th>82</th>\n      <td>Members and</td>\n      <td>WHO scale</td>\n    </tr>\n    <tr>\n      <th>83</th>\n      <td>Associate Members</td>\n      <td>for 2022–2023</td>\n    </tr>\n    <tr>\n      <th>129</th>\n      <td>Members and</td>\n      <td>WHO scale</td>\n    </tr>\n    <tr>\n      <th>130</th>\n      <td>Associate Members</td>\n      <td>for 2022–2023</td>\n    </tr>\n    <tr>\n      <th>177</th>\n      <td>Members and</td>\n      <td>WHO scale</td>\n    </tr>\n    <tr>\n      <th>178</th>\n      <td>Associate Members</td>\n      <td>for 2022–2023</td>\n    </tr>\n  </tbody>\n</table>\n</div>"
     },
     "metadata": {},
     "execution_count": 194
    }
   ],
   "source": [
    "df[df['value'].str.contains(\"[a-z]\")]"
   ]
  },
  {
   "cell_type": "code",
   "execution_count": 195,
   "metadata": {},
   "outputs": [],
   "source": [
    "filter_df = df[~df['value'].str.contains(\"[a-z]|%\")]\n",
    "\n"
   ]
  },
  {
   "cell_type": "code",
   "execution_count": 196,
   "metadata": {},
   "outputs": [
    {
     "output_type": "execute_result",
     "data": {
      "text/plain": [
       "                             country   value\n",
       "13                       Afghanistan  0.0070\n",
       "14                           Albania  0.0080\n",
       "15                           Algeria  0.1380\n",
       "16                           Andorra  0.0050\n",
       "17                            Angola  0.0100\n",
       "18               Antigua and Barbuda  0.0020\n",
       "19                         Argentina  0.9151\n",
       "20                           Armenia  0.0070\n",
       "21                         Australia  2.2101\n",
       "22                           Austria  0.6770\n",
       "23                        Azerbaijan  0.0490\n",
       "24                           Bahamas  0.0180\n",
       "25                           Bahrain  0.0500\n",
       "26                        Bangladesh  0.0100\n",
       "27                          Barbados  0.0070\n",
       "28                           Belarus  0.0490\n",
       "29                           Belgium  0.8211\n",
       "30                            Belize  0.0010\n",
       "31                             Benin  0.0030\n",
       "32                            Bhutan  0.0010\n",
       "33  Bolivia (Plurinational State of)  0.0160\n",
       "37            Bosnia and Herzegovina  0.0120\n",
       "38                          Botswana  0.0140\n",
       "39                            Brazil  2.9482\n",
       "40                 Brunei Darussalam  0.0250"
      ],
      "text/html": "<div>\n<style scoped>\n    .dataframe tbody tr th:only-of-type {\n        vertical-align: middle;\n    }\n\n    .dataframe tbody tr th {\n        vertical-align: top;\n    }\n\n    .dataframe thead th {\n        text-align: right;\n    }\n</style>\n<table border=\"1\" class=\"dataframe\">\n  <thead>\n    <tr style=\"text-align: right;\">\n      <th></th>\n      <th>country</th>\n      <th>value</th>\n    </tr>\n  </thead>\n  <tbody>\n    <tr>\n      <th>13</th>\n      <td>Afghanistan</td>\n      <td>0.0070</td>\n    </tr>\n    <tr>\n      <th>14</th>\n      <td>Albania</td>\n      <td>0.0080</td>\n    </tr>\n    <tr>\n      <th>15</th>\n      <td>Algeria</td>\n      <td>0.1380</td>\n    </tr>\n    <tr>\n      <th>16</th>\n      <td>Andorra</td>\n      <td>0.0050</td>\n    </tr>\n    <tr>\n      <th>17</th>\n      <td>Angola</td>\n      <td>0.0100</td>\n    </tr>\n    <tr>\n      <th>18</th>\n      <td>Antigua and Barbuda</td>\n      <td>0.0020</td>\n    </tr>\n    <tr>\n      <th>19</th>\n      <td>Argentina</td>\n      <td>0.9151</td>\n    </tr>\n    <tr>\n      <th>20</th>\n      <td>Armenia</td>\n      <td>0.0070</td>\n    </tr>\n    <tr>\n      <th>21</th>\n      <td>Australia</td>\n      <td>2.2101</td>\n    </tr>\n    <tr>\n      <th>22</th>\n      <td>Austria</td>\n      <td>0.6770</td>\n    </tr>\n    <tr>\n      <th>23</th>\n      <td>Azerbaijan</td>\n      <td>0.0490</td>\n    </tr>\n    <tr>\n      <th>24</th>\n      <td>Bahamas</td>\n      <td>0.0180</td>\n    </tr>\n    <tr>\n      <th>25</th>\n      <td>Bahrain</td>\n      <td>0.0500</td>\n    </tr>\n    <tr>\n      <th>26</th>\n      <td>Bangladesh</td>\n      <td>0.0100</td>\n    </tr>\n    <tr>\n      <th>27</th>\n      <td>Barbados</td>\n      <td>0.0070</td>\n    </tr>\n    <tr>\n      <th>28</th>\n      <td>Belarus</td>\n      <td>0.0490</td>\n    </tr>\n    <tr>\n      <th>29</th>\n      <td>Belgium</td>\n      <td>0.8211</td>\n    </tr>\n    <tr>\n      <th>30</th>\n      <td>Belize</td>\n      <td>0.0010</td>\n    </tr>\n    <tr>\n      <th>31</th>\n      <td>Benin</td>\n      <td>0.0030</td>\n    </tr>\n    <tr>\n      <th>32</th>\n      <td>Bhutan</td>\n      <td>0.0010</td>\n    </tr>\n    <tr>\n      <th>33</th>\n      <td>Bolivia (Plurinational State of)</td>\n      <td>0.0160</td>\n    </tr>\n    <tr>\n      <th>37</th>\n      <td>Bosnia and Herzegovina</td>\n      <td>0.0120</td>\n    </tr>\n    <tr>\n      <th>38</th>\n      <td>Botswana</td>\n      <td>0.0140</td>\n    </tr>\n    <tr>\n      <th>39</th>\n      <td>Brazil</td>\n      <td>2.9482</td>\n    </tr>\n    <tr>\n      <th>40</th>\n      <td>Brunei Darussalam</td>\n      <td>0.0250</td>\n    </tr>\n  </tbody>\n</table>\n</div>"
     },
     "metadata": {},
     "execution_count": 196
    }
   ],
   "source": [
    "filter_df.head(25)"
   ]
  },
  {
   "cell_type": "code",
   "execution_count": 199,
   "metadata": {},
   "outputs": [
    {
     "output_type": "stream",
     "name": "stderr",
     "text": [
      "<ipython-input-199-3e2f26f718d4>:1: SettingWithCopyWarning: \nA value is trying to be set on a copy of a slice from a DataFrame.\nTry using .loc[row_indexer,col_indexer] = value instead\n\nSee the caveats in the documentation: https://pandas.pydata.org/pandas-docs/stable/user_guide/indexing.html#returning-a-view-versus-a-copy\n  filter_df['value'] = pd.to_numeric(filter_df[\"value\"], downcast=\"float\")\n"
     ]
    }
   ],
   "source": [
    "filter_df['value'] = pd.to_numeric(filter_df[\"value\"], downcast=\"float\")"
   ]
  },
  {
   "cell_type": "code",
   "execution_count": 204,
   "metadata": {},
   "outputs": [
    {
     "output_type": "execute_result",
     "data": {
      "text/plain": [
       "                      country    value\n",
       "218  United States of America  22.0000\n",
       "51                      China  12.0058\n",
       "107                     Japan   8.5645\n",
       "87                    Germany   6.0904\n",
       "216          Northern Ireland   4.5673\n",
       "80                     France   4.4273\n",
       "105                     Italy   3.3072\n",
       "39                     Brazil   2.9482\n",
       "47                     Canada   2.7342\n",
       "170        Russian Federation   2.4052"
      ],
      "text/html": "<div>\n<style scoped>\n    .dataframe tbody tr th:only-of-type {\n        vertical-align: middle;\n    }\n\n    .dataframe tbody tr th {\n        vertical-align: top;\n    }\n\n    .dataframe thead th {\n        text-align: right;\n    }\n</style>\n<table border=\"1\" class=\"dataframe\">\n  <thead>\n    <tr style=\"text-align: right;\">\n      <th></th>\n      <th>country</th>\n      <th>value</th>\n    </tr>\n  </thead>\n  <tbody>\n    <tr>\n      <th>218</th>\n      <td>United States of America</td>\n      <td>22.0000</td>\n    </tr>\n    <tr>\n      <th>51</th>\n      <td>China</td>\n      <td>12.0058</td>\n    </tr>\n    <tr>\n      <th>107</th>\n      <td>Japan</td>\n      <td>8.5645</td>\n    </tr>\n    <tr>\n      <th>87</th>\n      <td>Germany</td>\n      <td>6.0904</td>\n    </tr>\n    <tr>\n      <th>216</th>\n      <td>Northern Ireland</td>\n      <td>4.5673</td>\n    </tr>\n    <tr>\n      <th>80</th>\n      <td>France</td>\n      <td>4.4273</td>\n    </tr>\n    <tr>\n      <th>105</th>\n      <td>Italy</td>\n      <td>3.3072</td>\n    </tr>\n    <tr>\n      <th>39</th>\n      <td>Brazil</td>\n      <td>2.9482</td>\n    </tr>\n    <tr>\n      <th>47</th>\n      <td>Canada</td>\n      <td>2.7342</td>\n    </tr>\n    <tr>\n      <th>170</th>\n      <td>Russian Federation</td>\n      <td>2.4052</td>\n    </tr>\n  </tbody>\n</table>\n</div>"
     },
     "metadata": {},
     "execution_count": 204
    }
   ],
   "source": [
    "filter_df.sort_values('value',ascending=False).head(10)"
   ]
  },
  {
   "cell_type": "markdown",
   "metadata": {},
   "source": [
    "## The Avengers\n",
    "\n",
    "Using [THE_AVENGERS.pdf](THE_AVENGERS.pdf), approximately how many lines does Captain America have as compared to Thor and Iron Man?\n",
    "\n",
    "* Character names only: we're only counting `IRON MAN` as Iron Man, not `TONY`.\n",
    "* Your new best friend might be `\\n`\n",
    "* Look up `.count` for strings"
   ]
  },
  {
   "cell_type": "code",
   "execution_count": 216,
   "metadata": {},
   "outputs": [],
   "source": [
    "from pdfminer.high_level import extract_text\n"
   ]
  },
  {
   "cell_type": "code",
   "execution_count": 217,
   "metadata": {},
   "outputs": [],
   "source": [
    "script = extract_text('THE_AVENGERS.pdf')\n",
    "\n"
   ]
  },
  {
   "cell_type": "code",
   "execution_count": 221,
   "metadata": {},
   "outputs": [],
   "source": [
    "script_df = pd.DataFrame(script.split('\\n'))\n",
    "\n",
    "\n",
    "script_df = script_df.rename(columns={\n",
    "    0: 'line'\n",
    "})"
   ]
  },
  {
   "cell_type": "code",
   "execution_count": 230,
   "metadata": {},
   "outputs": [
    {
     "output_type": "execute_result",
     "data": {
      "text/plain": [
       "line                             \n",
       "                                     3855\n",
       "TONY                                  145\n",
       "FURY                                  116\n",
       "(CONTINUED)                            98\n",
       "NATASHA                                97\n",
       "STEVE                                  89\n",
       "BANNER                                 85\n",
       "LOKI                                   71\n",
       "\n",
       "CONTINUED: (2)                        61\n",
       "THOR                                   47\n",
       "AGENT COULSON                          43\n",
       "BARTON                                 43\n",
       "CAPTAIN AMERICA                        35\n",
       "MARIA HILL                             28\n",
       "PEPPER                                 25\n",
       "INSIDE IRON MAN HELMET:                22\n",
       "\n",
       "CONTINUED: (3)                        20\n",
       "IRON MAN                               19\n",
       "SELVIG                                 17\n",
       "INT. BRIDGE, CARRIER - CONTINUOUS      15\n",
       "dtype: int64"
      ]
     },
     "metadata": {},
     "execution_count": 230
    }
   ],
   "source": [
    "script_df.value_counts().head(20)"
   ]
  },
  {
   "cell_type": "code",
   "execution_count": null,
   "metadata": {},
   "outputs": [],
   "source": [
    "# 19 lines citing IRON MAN"
   ]
  },
  {
   "cell_type": "markdown",
   "metadata": {},
   "source": [
    "## COVID data\n",
    "\n",
    "Using [covidweekly2721.pdf](covidweekly2721.pdf), what's the total number of tests performed in Minnesota? Use the Laboratory Test Rates by County of Residence chart.\n",
    "\n",
    "* You COULD pull both tables separately OR you could pull them both at once and split them in pandas.\n",
    "* Remember you can do things like `df[['name','age']]` to ask for multiple columns"
   ]
  },
  {
   "cell_type": "code",
   "execution_count": 236,
   "metadata": {},
   "outputs": [],
   "source": [
    "tbl = camelot.read_pdf('covidweekly2721.pdf',flavor=\"stream\",pages='6')"
   ]
  },
  {
   "cell_type": "code",
   "execution_count": 273,
   "metadata": {},
   "outputs": [],
   "source": [
    "counties = tbl[0].df\n",
    "\n",
    "list_columns = ['counties','test','rates']\n",
    "\n",
    "tbl1 = counties[[1,2,3]].reset_index(drop=True)\n",
    "tbl2 = counties[[4,5,6]].reset_index(drop=True)\n",
    "\n",
    "\n",
    "# tbl2.rename(columns=dict_columns)\n",
    "tbl2.columns=list_columns\n",
    "tbl1.columns=list_columns\n",
    "\n",
    "df = pd.concat([tbl1,tbl2]) "
   ]
  },
  {
   "cell_type": "code",
   "execution_count": 276,
   "metadata": {},
   "outputs": [
    {
     "output_type": "execute_result",
     "data": {
      "text/plain": [
       "           counties     test   rates\n",
       "48           Winona  106,625  20,970\n",
       "49           Wright  194,085  14,621\n",
       "50  Yellow Medicine   19,972  20,239\n",
       "51  Unknown/missing  423,136        "
      ],
      "text/html": "<div>\n<style scoped>\n    .dataframe tbody tr th:only-of-type {\n        vertical-align: middle;\n    }\n\n    .dataframe tbody tr th {\n        vertical-align: top;\n    }\n\n    .dataframe thead th {\n        text-align: right;\n    }\n</style>\n<table border=\"1\" class=\"dataframe\">\n  <thead>\n    <tr style=\"text-align: right;\">\n      <th></th>\n      <th>counties</th>\n      <th>test</th>\n      <th>rates</th>\n    </tr>\n  </thead>\n  <tbody>\n    <tr>\n      <th>48</th>\n      <td>Winona</td>\n      <td>106,625</td>\n      <td>20,970</td>\n    </tr>\n    <tr>\n      <th>49</th>\n      <td>Wright</td>\n      <td>194,085</td>\n      <td>14,621</td>\n    </tr>\n    <tr>\n      <th>50</th>\n      <td>Yellow Medicine</td>\n      <td>19,972</td>\n      <td>20,239</td>\n    </tr>\n    <tr>\n      <th>51</th>\n      <td>Unknown/missing</td>\n      <td>423,136</td>\n      <td></td>\n    </tr>\n  </tbody>\n</table>\n</div>"
     },
     "metadata": {},
     "execution_count": 276
    }
   ],
   "source": [
    "df[5:-2].tail(4)"
   ]
  },
  {
   "cell_type": "code",
   "execution_count": 281,
   "metadata": {},
   "outputs": [
    {
     "output_type": "execute_result",
     "data": {
      "text/plain": [
       "  counties     test   rates\n",
       "5   Aitkin   19,204  12,128\n",
       "6                          \n",
       "7                          \n",
       "8    Anoka  545,958  15,714\n",
       "9   Becker   59,238  17,540"
      ],
      "text/html": "<div>\n<style scoped>\n    .dataframe tbody tr th:only-of-type {\n        vertical-align: middle;\n    }\n\n    .dataframe tbody tr th {\n        vertical-align: top;\n    }\n\n    .dataframe thead th {\n        text-align: right;\n    }\n</style>\n<table border=\"1\" class=\"dataframe\">\n  <thead>\n    <tr style=\"text-align: right;\">\n      <th></th>\n      <th>counties</th>\n      <th>test</th>\n      <th>rates</th>\n    </tr>\n  </thead>\n  <tbody>\n    <tr>\n      <th>5</th>\n      <td>Aitkin</td>\n      <td>19,204</td>\n      <td>12,128</td>\n    </tr>\n    <tr>\n      <th>6</th>\n      <td></td>\n      <td></td>\n      <td></td>\n    </tr>\n    <tr>\n      <th>7</th>\n      <td></td>\n      <td></td>\n      <td></td>\n    </tr>\n    <tr>\n      <th>8</th>\n      <td>Anoka</td>\n      <td>545,958</td>\n      <td>15,714</td>\n    </tr>\n    <tr>\n      <th>9</th>\n      <td>Becker</td>\n      <td>59,238</td>\n      <td>17,540</td>\n    </tr>\n  </tbody>\n</table>\n</div>"
     },
     "metadata": {},
     "execution_count": 281
    }
   ],
   "source": [
    "df[5:-2].head(5)"
   ]
  },
  {
   "cell_type": "code",
   "execution_count": 327,
   "metadata": {},
   "outputs": [],
   "source": [
    "cleandf = df[5:-2]"
   ]
  },
  {
   "cell_type": "code",
   "execution_count": 328,
   "metadata": {},
   "outputs": [
    {
     "output_type": "execute_result",
     "data": {
      "text/plain": [
       "array(['Aitkin', '', 'Anoka', 'Becker', 'Beltrami', 'Benton', 'Big Stone',\n",
       "       'Blue Earth', 'Brown', 'Carlton', 'Carver', 'Cass', 'Chippewa',\n",
       "       'Chisago', 'Clay', 'Clearwater', 'Cook', 'Cottonwood', 'Crow Wing',\n",
       "       'Dakota', 'Dodge', 'Douglas', 'Faribault', 'Fillmore', 'Freeborn',\n",
       "       'Goodhue', 'Grant', 'Hennepin', 'Houston', 'Hubbard', 'Isanti',\n",
       "       'Itasca', 'Jackson', 'Kanabec', 'Kandiyohi', 'Kittson',\n",
       "       'Koochiching', 'Lac qui Parle', 'Lake', 'Lake of the Woods',\n",
       "       'Le Sueur', 'Lincoln', 'Lyon', 'Mahnomen', 'Marshall',\n",
       "       'Minnesota Department of Health Weekly COVID-19 Report: Updated 7/8/2021 with data current as of 4 a.m. the previous day.',\n",
       "       'County', 'Martin', 'McLeod', 'Meeker', 'Mille Lacs', 'Morrison',\n",
       "       'Mower', 'Murray', 'Nicollet', 'Nobles', 'Norman', 'Olmsted',\n",
       "       'Otter Tail', 'Pennington', 'Pine', 'Pipestone', 'Polk', 'Pope',\n",
       "       'Ramsey', 'Red Lake', 'Redwood', 'Renville', 'Rice', 'Rock',\n",
       "       'Roseau', 'Scott', 'Sherburne', 'Sibley', 'St. Louis', 'Stearns',\n",
       "       'Steele', 'Stevens', 'Swift', 'Todd', 'Traverse', 'Wabasha',\n",
       "       'Wadena', 'Waseca', 'Washington', 'Watonwan', 'Wilkin', 'Winona',\n",
       "       'Wright', 'Yellow Medicine', 'Unknown/missing'], dtype=object)"
      ]
     },
     "metadata": {},
     "execution_count": 328
    }
   ],
   "source": [
    "cleandf.counties.unique()"
   ]
  },
  {
   "cell_type": "code",
   "execution_count": 329,
   "metadata": {},
   "outputs": [
    {
     "output_type": "execute_result",
     "data": {
      "text/plain": [
       "array(['19,204', '545,958', '59,238', '60,345', '77,865', '13,220',\n",
       "       '136,895', '55,709', '79,882', '154,305', '31,760', '27,089',\n",
       "       '90,811', '108,867', '9,427', '8,966', '21,088', '85,522',\n",
       "       '715,290', '37,729', '68,086', '31,294', '40,081', '63,008',\n",
       "       '87,119', '10,310', '2,292,159', '21,417', '20,764', '56,067',\n",
       "       '80,265', '14,075', '16,504', '85,305', '9,969', '21,647',\n",
       "       '13,601', '19,664', '5,957', '43,972', '10,696', '46,116', '6,643',\n",
       "       '10,279', '39,876', '61,300', '37,736', '44,688', '59,179',\n",
       "       '79,446', '15,175', '66,163', '30,979', '11,471', '277,493',\n",
       "       '110,163', '15,424', '35,859', '19,655', '42,729', '20,459',\n",
       "       '987,792', '4,078', '27,476', '30,498', '177,409', '19,147',\n",
       "       '23,169', '230,375', '184,952', '24,133', '383,063', '285,098',\n",
       "       '64,840', '20,325', '18,288', '33,013', '7,041', '46,421',\n",
       "       '33,447', '34,795', '460,537', '20,172', '7,973', '106,625',\n",
       "       '194,085', '19,972', '423,136'], dtype=object)"
      ]
     },
     "metadata": {},
     "execution_count": 329
    }
   ],
   "source": [
    "cleandf = cleandf[~cleandf['counties'].str.contains(\"7/8/2021\")]\n",
    "\n",
    "cleandf = cleandf[cleandf[\"counties\"] != \"\"]\n",
    "\n",
    "cleandf = cleandf[cleandf[\"test\"] != \"Number of Tests\"]\n",
    "\n",
    "cleandf.test.unique()"
   ]
  },
  {
   "cell_type": "code",
   "execution_count": 330,
   "metadata": {},
   "outputs": [
    {
     "output_type": "execute_result",
     "data": {
      "text/plain": [
       "10249823"
      ]
     },
     "metadata": {},
     "execution_count": 330
    }
   ],
   "source": [
    "cleandf.test = cleandf.test.str.replace(',', '').astype(int)\n",
    "\n",
    "cleandf.test.sum()"
   ]
  },
  {
   "cell_type": "markdown",
   "metadata": {},
   "source": [
    "## Theme Parks\n",
    "\n",
    "Using [2019-Theme-Index-web-1.pdf](2019-Theme-Index-web-1.pdf), save a CSV of the top 10 theme park groups worldwide.\n",
    "\n",
    "* You can clean the results or you can restrict the area the table is pulled from, up to you"
   ]
  },
  {
   "cell_type": "code",
   "execution_count": 435,
   "metadata": {},
   "outputs": [
    {
     "output_type": "execute_result",
     "data": {
      "text/plain": [
       "                                   0                                    1  \\\n",
       "0                            RANK\\n1  GROUP NAME\\nWALT DISNEY ATTRACTIONS   \n",
       "1                                  2          MERLIN ENTERTAINMENTS GROUP   \n",
       "2                                  3                      OCT PARKS CHINA   \n",
       "3                                  4          UNIVERSAL PARKS AND RESORTS   \n",
       "4                                  5                      FANTAWILD GROUP   \n",
       "5                                  6                      CHIMELONG GROUP   \n",
       "6                                  7                       SIX FLAGS INC.   \n",
       "7                                  8     CEDAR FAIR ENTERTAINMENT COMPANY   \n",
       "8                                  9       SEAWORLD PARKS & ENTERTAINMENT   \n",
       "9                                 10                     PARQUES REUNIDOS   \n",
       "10  TOP 10 ATTENDANCE GROWTH 2018–19                                        \n",
       "11                © 2020 TEA / AECOM                                        \n",
       "\n",
       "                  2                               3  \\\n",
       "0   % CHANGE\\n-0.8%  ATTENDANCE\\n2019\\n 155,991,000   \n",
       "1              0.9%                      67,000,000   \n",
       "2              9.4%                      53,970,000   \n",
       "3              2.3%                      51,243,000   \n",
       "4             19.8%                      50,393,000   \n",
       "5              8.9%                      37,018,000   \n",
       "6              2.5%                      32,811,000   \n",
       "7              7.8%                      27,938,000   \n",
       "8              0.2%                      22,624,000   \n",
       "9              6.2%                      22,195,000   \n",
       "10             4.0%                                   \n",
       "11                                                    \n",
       "\n",
       "                                  4  \n",
       "0   ATTENDANCE \\n2018\\n 157,311,000  \n",
       "1                       66,400,000*  \n",
       "2                        49,350,000  \n",
       "3                        50,068,000  \n",
       "4                        42,074,000  \n",
       "5                        34,007,000  \n",
       "6                        32,024,000  \n",
       "7                        25,912,000  \n",
       "8                        22,582,000  \n",
       "9                        20,900,000  \n",
       "10        521,183,000   501,228,000  \n",
       "11                                   "
      ],
      "text/html": "<div>\n<style scoped>\n    .dataframe tbody tr th:only-of-type {\n        vertical-align: middle;\n    }\n\n    .dataframe tbody tr th {\n        vertical-align: top;\n    }\n\n    .dataframe thead th {\n        text-align: right;\n    }\n</style>\n<table border=\"1\" class=\"dataframe\">\n  <thead>\n    <tr style=\"text-align: right;\">\n      <th></th>\n      <th>0</th>\n      <th>1</th>\n      <th>2</th>\n      <th>3</th>\n      <th>4</th>\n    </tr>\n  </thead>\n  <tbody>\n    <tr>\n      <th>0</th>\n      <td>RANK\\n1</td>\n      <td>GROUP NAME\\nWALT DISNEY ATTRACTIONS</td>\n      <td>% CHANGE\\n-0.8%</td>\n      <td>ATTENDANCE\\n2019\\n 155,991,000</td>\n      <td>ATTENDANCE \\n2018\\n 157,311,000</td>\n    </tr>\n    <tr>\n      <th>1</th>\n      <td>2</td>\n      <td>MERLIN ENTERTAINMENTS GROUP</td>\n      <td>0.9%</td>\n      <td>67,000,000</td>\n      <td>66,400,000*</td>\n    </tr>\n    <tr>\n      <th>2</th>\n      <td>3</td>\n      <td>OCT PARKS CHINA</td>\n      <td>9.4%</td>\n      <td>53,970,000</td>\n      <td>49,350,000</td>\n    </tr>\n    <tr>\n      <th>3</th>\n      <td>4</td>\n      <td>UNIVERSAL PARKS AND RESORTS</td>\n      <td>2.3%</td>\n      <td>51,243,000</td>\n      <td>50,068,000</td>\n    </tr>\n    <tr>\n      <th>4</th>\n      <td>5</td>\n      <td>FANTAWILD GROUP</td>\n      <td>19.8%</td>\n      <td>50,393,000</td>\n      <td>42,074,000</td>\n    </tr>\n    <tr>\n      <th>5</th>\n      <td>6</td>\n      <td>CHIMELONG GROUP</td>\n      <td>8.9%</td>\n      <td>37,018,000</td>\n      <td>34,007,000</td>\n    </tr>\n    <tr>\n      <th>6</th>\n      <td>7</td>\n      <td>SIX FLAGS INC.</td>\n      <td>2.5%</td>\n      <td>32,811,000</td>\n      <td>32,024,000</td>\n    </tr>\n    <tr>\n      <th>7</th>\n      <td>8</td>\n      <td>CEDAR FAIR ENTERTAINMENT COMPANY</td>\n      <td>7.8%</td>\n      <td>27,938,000</td>\n      <td>25,912,000</td>\n    </tr>\n    <tr>\n      <th>8</th>\n      <td>9</td>\n      <td>SEAWORLD PARKS &amp; ENTERTAINMENT</td>\n      <td>0.2%</td>\n      <td>22,624,000</td>\n      <td>22,582,000</td>\n    </tr>\n    <tr>\n      <th>9</th>\n      <td>10</td>\n      <td>PARQUES REUNIDOS</td>\n      <td>6.2%</td>\n      <td>22,195,000</td>\n      <td>20,900,000</td>\n    </tr>\n    <tr>\n      <th>10</th>\n      <td>TOP 10 ATTENDANCE GROWTH 2018–19</td>\n      <td></td>\n      <td>4.0%</td>\n      <td></td>\n      <td>521,183,000   501,228,000</td>\n    </tr>\n    <tr>\n      <th>11</th>\n      <td>© 2020 TEA / AECOM</td>\n      <td></td>\n      <td></td>\n      <td></td>\n      <td></td>\n    </tr>\n  </tbody>\n</table>\n</div>"
     },
     "metadata": {},
     "execution_count": 435
    }
   ],
   "source": [
    " tbl = camelot.read_pdf('2019-Theme-Index-web-1.pdf',pages='11',flavor='stream')\n",
    "\n",
    " df = tbl[0].df"
   ]
  },
  {
   "cell_type": "code",
   "execution_count": 442,
   "metadata": {},
   "outputs": [
    {
     "output_type": "execute_result",
     "data": {
      "text/plain": [
       "         0                                    1                2  \\\n",
       "0  RANK\\n1  GROUP NAME\\nWALT DISNEY ATTRACTIONS  % CHANGE\\n-0.8%   \n",
       "\n",
       "                                3                                4  \n",
       "0  ATTENDANCE\\n2019\\n 155,991,000  ATTENDANCE \\n2018\\n 157,311,000  "
      ],
      "text/html": "<div>\n<style scoped>\n    .dataframe tbody tr th:only-of-type {\n        vertical-align: middle;\n    }\n\n    .dataframe tbody tr th {\n        vertical-align: top;\n    }\n\n    .dataframe thead th {\n        text-align: right;\n    }\n</style>\n<table border=\"1\" class=\"dataframe\">\n  <thead>\n    <tr style=\"text-align: right;\">\n      <th></th>\n      <th>0</th>\n      <th>1</th>\n      <th>2</th>\n      <th>3</th>\n      <th>4</th>\n    </tr>\n  </thead>\n  <tbody>\n    <tr>\n      <th>0</th>\n      <td>RANK\\n1</td>\n      <td>GROUP NAME\\nWALT DISNEY ATTRACTIONS</td>\n      <td>% CHANGE\\n-0.8%</td>\n      <td>ATTENDANCE\\n2019\\n 155,991,000</td>\n      <td>ATTENDANCE \\n2018\\n 157,311,000</td>\n    </tr>\n  </tbody>\n</table>\n</div>"
     },
     "metadata": {},
     "execution_count": 442
    }
   ],
   "source": [
    "df[0:1]"
   ]
  },
  {
   "cell_type": "code",
   "execution_count": 422,
   "metadata": {},
   "outputs": [
    {
     "output_type": "execute_result",
     "data": {
      "text/plain": [
       "['ATTENDANCE', '2019', ' 155,991,000']"
      ]
     },
     "metadata": {},
     "execution_count": 422
    }
   ],
   "source": [
    "df[0:1].values[0][3].split('\\n')"
   ]
  },
  {
   "cell_type": "code",
   "execution_count": 488,
   "metadata": {},
   "outputs": [
    {
     "output_type": "execute_result",
     "data": {
      "text/plain": [
       "  RANK               GROUP NAME % CHANGE ATTENDANCE2019 ATTENDANCE 2018\n",
       "0    1  WALT DISNEY ATTRACTIONS    -0.8%    155,991,000     157,311,000"
      ],
      "text/html": "<div>\n<style scoped>\n    .dataframe tbody tr th:only-of-type {\n        vertical-align: middle;\n    }\n\n    .dataframe tbody tr th {\n        vertical-align: top;\n    }\n\n    .dataframe thead th {\n        text-align: right;\n    }\n</style>\n<table border=\"1\" class=\"dataframe\">\n  <thead>\n    <tr style=\"text-align: right;\">\n      <th></th>\n      <th>RANK</th>\n      <th>GROUP NAME</th>\n      <th>% CHANGE</th>\n      <th>ATTENDANCE2019</th>\n      <th>ATTENDANCE 2018</th>\n    </tr>\n  </thead>\n  <tbody>\n    <tr>\n      <th>0</th>\n      <td>1</td>\n      <td>WALT DISNEY ATTRACTIONS</td>\n      <td>-0.8%</td>\n      <td>155,991,000</td>\n      <td>157,311,000</td>\n    </tr>\n  </tbody>\n</table>\n</div>"
     },
     "metadata": {},
     "execution_count": 488
    }
   ],
   "source": [
    "row = {}\n",
    "\n",
    "for item in df[0:1].values[0]:\n",
    "    myvalues = item.split('\\n')\n",
    "    if len(myvalues) > 2:\n",
    "        myvalues[0] = myvalues[0] + myvalues[1]\n",
    "        myvalues[1] = myvalues[2]\n",
    "    row[myvalues[0]] = myvalues[1]\n",
    "\n",
    "first_line = pd.DataFrame(row, index=[0])\n",
    "\n",
    "first_line"
   ]
  },
  {
   "cell_type": "code",
   "execution_count": 492,
   "metadata": {},
   "outputs": [
    {
     "output_type": "execute_result",
     "data": {
      "text/plain": [
       "  rank                             group change         att19         att18\n",
       "0    1           WALT DISNEY ATTRACTIONS  -0.8%   155,991,000   157,311,000\n",
       "2    3                   OCT PARKS CHINA   9.4%    53,970,000    49,350,000\n",
       "3    4       UNIVERSAL PARKS AND RESORTS   2.3%    51,243,000    50,068,000\n",
       "4    5                   FANTAWILD GROUP  19.8%    50,393,000    42,074,000\n",
       "5    6                   CHIMELONG GROUP   8.9%    37,018,000    34,007,000\n",
       "6    7                    SIX FLAGS INC.   2.5%    32,811,000    32,024,000\n",
       "7    8  CEDAR FAIR ENTERTAINMENT COMPANY   7.8%    27,938,000    25,912,000\n",
       "8    9    SEAWORLD PARKS & ENTERTAINMENT   0.2%    22,624,000    22,582,000\n",
       "9   10                  PARQUES REUNIDOS   6.2%    22,195,000    20,900,000"
      ],
      "text/html": "<div>\n<style scoped>\n    .dataframe tbody tr th:only-of-type {\n        vertical-align: middle;\n    }\n\n    .dataframe tbody tr th {\n        vertical-align: top;\n    }\n\n    .dataframe thead th {\n        text-align: right;\n    }\n</style>\n<table border=\"1\" class=\"dataframe\">\n  <thead>\n    <tr style=\"text-align: right;\">\n      <th></th>\n      <th>rank</th>\n      <th>group</th>\n      <th>change</th>\n      <th>att19</th>\n      <th>att18</th>\n    </tr>\n  </thead>\n  <tbody>\n    <tr>\n      <th>0</th>\n      <td>1</td>\n      <td>WALT DISNEY ATTRACTIONS</td>\n      <td>-0.8%</td>\n      <td>155,991,000</td>\n      <td>157,311,000</td>\n    </tr>\n    <tr>\n      <th>2</th>\n      <td>3</td>\n      <td>OCT PARKS CHINA</td>\n      <td>9.4%</td>\n      <td>53,970,000</td>\n      <td>49,350,000</td>\n    </tr>\n    <tr>\n      <th>3</th>\n      <td>4</td>\n      <td>UNIVERSAL PARKS AND RESORTS</td>\n      <td>2.3%</td>\n      <td>51,243,000</td>\n      <td>50,068,000</td>\n    </tr>\n    <tr>\n      <th>4</th>\n      <td>5</td>\n      <td>FANTAWILD GROUP</td>\n      <td>19.8%</td>\n      <td>50,393,000</td>\n      <td>42,074,000</td>\n    </tr>\n    <tr>\n      <th>5</th>\n      <td>6</td>\n      <td>CHIMELONG GROUP</td>\n      <td>8.9%</td>\n      <td>37,018,000</td>\n      <td>34,007,000</td>\n    </tr>\n    <tr>\n      <th>6</th>\n      <td>7</td>\n      <td>SIX FLAGS INC.</td>\n      <td>2.5%</td>\n      <td>32,811,000</td>\n      <td>32,024,000</td>\n    </tr>\n    <tr>\n      <th>7</th>\n      <td>8</td>\n      <td>CEDAR FAIR ENTERTAINMENT COMPANY</td>\n      <td>7.8%</td>\n      <td>27,938,000</td>\n      <td>25,912,000</td>\n    </tr>\n    <tr>\n      <th>8</th>\n      <td>9</td>\n      <td>SEAWORLD PARKS &amp; ENTERTAINMENT</td>\n      <td>0.2%</td>\n      <td>22,624,000</td>\n      <td>22,582,000</td>\n    </tr>\n    <tr>\n      <th>9</th>\n      <td>10</td>\n      <td>PARQUES REUNIDOS</td>\n      <td>6.2%</td>\n      <td>22,195,000</td>\n      <td>20,900,000</td>\n    </tr>\n  </tbody>\n</table>\n</div>"
     },
     "metadata": {},
     "execution_count": 492
    }
   ],
   "source": [
    "\n",
    "list_columns = ['rank','group','change','att19','att18']\n",
    "\n",
    "first_line.columns=list_columns\n",
    "df.columns=list_columns\n",
    "\n",
    "\n",
    "total = pd.concat([first_line,df[2:]])\n",
    "\n",
    "finaldf = total[:-2]\n",
    "\n",
    "finaldf"
   ]
  },
  {
   "cell_type": "code",
   "execution_count": 493,
   "metadata": {},
   "outputs": [],
   "source": [
    "finaldf.to_csv('parks.csv')"
   ]
  },
  {
   "cell_type": "markdown",
   "metadata": {},
   "source": [
    "## Hunting licenses\n",
    "\n",
    "Using [US_Fish_and_Wildlife_Service_2021.pdf](US_Fish_and_Wildlife_Service_2021.pdf) and [a CSV of state populations](http://goodcsv.com/geography/us-states-territories/), find the states with the highest per-capita hunting license holders."
   ]
  },
  {
   "cell_type": "code",
   "execution_count": 538,
   "metadata": {},
   "outputs": [],
   "source": [
    "tbl = camelot.read_pdf('US_Fish_and_Wildlife_Service_2021.pdf')\n",
    "\n",
    "df = tbl[0].df"
   ]
  },
  {
   "cell_type": "code",
   "execution_count": 539,
   "metadata": {},
   "outputs": [
    {
     "output_type": "execute_result",
     "data": {
      "text/plain": [
       "       0                                1  \\\n",
       "0  State  Paid Hunting License \\nHolders*   \n",
       "1     AK                           93,559   \n",
       "\n",
       "                                                   2  \\\n",
       "0  Resident Hunting Licenses,\\nTags, Permits and ...   \n",
       "1                                            423,501   \n",
       "\n",
       "                                                   3  \\\n",
       "0  Non-Resident Hunting \\nLicenses,\\nTags, Permit...   \n",
       "1                                             59,235   \n",
       "\n",
       "                                                  4  \\\n",
       "0  Total Hunting License, \\nTags,Permits & Stamps**   \n",
       "1                                           482,736   \n",
       "\n",
       "                                                   5  \\\n",
       "0  Cost - Resident Hunting \\nLicenses,\\nTags, Per...   \n",
       "1                                         $4,859,356   \n",
       "\n",
       "                                                   6  \\\n",
       "0  Cost - Non-Resident Hunting \\nLicenses,\\nTags,...   \n",
       "1                                         $9,046,715   \n",
       "\n",
       "                                 7  \n",
       "0  Gross Cost - Hunting \\nLicenses  \n",
       "1                      $13,906,071  "
      ],
      "text/html": "<div>\n<style scoped>\n    .dataframe tbody tr th:only-of-type {\n        vertical-align: middle;\n    }\n\n    .dataframe tbody tr th {\n        vertical-align: top;\n    }\n\n    .dataframe thead th {\n        text-align: right;\n    }\n</style>\n<table border=\"1\" class=\"dataframe\">\n  <thead>\n    <tr style=\"text-align: right;\">\n      <th></th>\n      <th>0</th>\n      <th>1</th>\n      <th>2</th>\n      <th>3</th>\n      <th>4</th>\n      <th>5</th>\n      <th>6</th>\n      <th>7</th>\n    </tr>\n  </thead>\n  <tbody>\n    <tr>\n      <th>0</th>\n      <td>State</td>\n      <td>Paid Hunting License \\nHolders*</td>\n      <td>Resident Hunting Licenses,\\nTags, Permits and ...</td>\n      <td>Non-Resident Hunting \\nLicenses,\\nTags, Permit...</td>\n      <td>Total Hunting License, \\nTags,Permits &amp; Stamps**</td>\n      <td>Cost - Resident Hunting \\nLicenses,\\nTags, Per...</td>\n      <td>Cost - Non-Resident Hunting \\nLicenses,\\nTags,...</td>\n      <td>Gross Cost - Hunting \\nLicenses</td>\n    </tr>\n    <tr>\n      <th>1</th>\n      <td>AK</td>\n      <td>93,559</td>\n      <td>423,501</td>\n      <td>59,235</td>\n      <td>482,736</td>\n      <td>$4,859,356</td>\n      <td>$9,046,715</td>\n      <td>$13,906,071</td>\n    </tr>\n  </tbody>\n</table>\n</div>"
     },
     "metadata": {},
     "execution_count": 539
    }
   ],
   "source": [
    "df.head(2)"
   ]
  },
  {
   "cell_type": "code",
   "execution_count": 540,
   "metadata": {},
   "outputs": [],
   "source": [
    "\n",
    "list_columns = ['state','paid','resident','nonresid','total','cost_resid','cost_nonresid','gross_cost']\n",
    "\n",
    "df.columns=list_columns\n",
    "\n"
   ]
  },
  {
   "cell_type": "code",
   "execution_count": 541,
   "metadata": {},
   "outputs": [
    {
     "output_type": "execute_result",
     "data": {
      "text/plain": [
       "  state     paid resident nonresid    total   cost_resid cost_nonresid  \\\n",
       "1    AK   93,559  423,501   59,235  482,736   $4,859,356    $9,046,715   \n",
       "2    AL  452,400  601,683   45,397  647,080   $9,700,295    $6,715,734   \n",
       "3    AR  343,300  349,098  150,728  499,826   $7,851,601   $11,271,653   \n",
       "4    AS        0        0        0        0           $0            $0   \n",
       "5    AZ  302,383  464,607   88,708  553,315  $13,931,397    $5,968,169   \n",
       "\n",
       "    gross_cost  \n",
       "1  $13,906,071  \n",
       "2  $16,416,029  \n",
       "3  $19,123,254  \n",
       "4           $0  \n",
       "5  $19,899,566  "
      ],
      "text/html": "<div>\n<style scoped>\n    .dataframe tbody tr th:only-of-type {\n        vertical-align: middle;\n    }\n\n    .dataframe tbody tr th {\n        vertical-align: top;\n    }\n\n    .dataframe thead th {\n        text-align: right;\n    }\n</style>\n<table border=\"1\" class=\"dataframe\">\n  <thead>\n    <tr style=\"text-align: right;\">\n      <th></th>\n      <th>state</th>\n      <th>paid</th>\n      <th>resident</th>\n      <th>nonresid</th>\n      <th>total</th>\n      <th>cost_resid</th>\n      <th>cost_nonresid</th>\n      <th>gross_cost</th>\n    </tr>\n  </thead>\n  <tbody>\n    <tr>\n      <th>1</th>\n      <td>AK</td>\n      <td>93,559</td>\n      <td>423,501</td>\n      <td>59,235</td>\n      <td>482,736</td>\n      <td>$4,859,356</td>\n      <td>$9,046,715</td>\n      <td>$13,906,071</td>\n    </tr>\n    <tr>\n      <th>2</th>\n      <td>AL</td>\n      <td>452,400</td>\n      <td>601,683</td>\n      <td>45,397</td>\n      <td>647,080</td>\n      <td>$9,700,295</td>\n      <td>$6,715,734</td>\n      <td>$16,416,029</td>\n    </tr>\n    <tr>\n      <th>3</th>\n      <td>AR</td>\n      <td>343,300</td>\n      <td>349,098</td>\n      <td>150,728</td>\n      <td>499,826</td>\n      <td>$7,851,601</td>\n      <td>$11,271,653</td>\n      <td>$19,123,254</td>\n    </tr>\n    <tr>\n      <th>4</th>\n      <td>AS</td>\n      <td>0</td>\n      <td>0</td>\n      <td>0</td>\n      <td>0</td>\n      <td>$0</td>\n      <td>$0</td>\n      <td>$0</td>\n    </tr>\n    <tr>\n      <th>5</th>\n      <td>AZ</td>\n      <td>302,383</td>\n      <td>464,607</td>\n      <td>88,708</td>\n      <td>553,315</td>\n      <td>$13,931,397</td>\n      <td>$5,968,169</td>\n      <td>$19,899,566</td>\n    </tr>\n  </tbody>\n</table>\n</div>"
     },
     "metadata": {},
     "execution_count": 541
    }
   ],
   "source": [
    "df = df[1:-1]\n",
    "\n",
    "df.head(5)"
   ]
  },
  {
   "cell_type": "code",
   "execution_count": 542,
   "metadata": {},
   "outputs": [],
   "source": [
    "population = pd.read_csv('http://goodcsv.com/wp-content/uploads/2020/08/us-states-territories.csv',encoding='latin1')"
   ]
  },
  {
   "cell_type": "code",
   "execution_count": 543,
   "metadata": {},
   "outputs": [
    {
     "output_type": "execute_result",
     "data": {
      "text/plain": [
       "    Type       Name Abbreviation      Capital Population (2015)  \\\n",
       "0  State   Alabama           AL   Montgomery                NaN   \n",
       "1  State    Alaska           AK       Juneau                NaN   \n",
       "2  State   Arizona           AZ      Phoenix                NaN   \n",
       "\n",
       "  Population (2019) area (square miles)  \n",
       "0         4,903,185              52,420  \n",
       "1           731,545             665,384  \n",
       "2         7,278,717             113,990  "
      ],
      "text/html": "<div>\n<style scoped>\n    .dataframe tbody tr th:only-of-type {\n        vertical-align: middle;\n    }\n\n    .dataframe tbody tr th {\n        vertical-align: top;\n    }\n\n    .dataframe thead th {\n        text-align: right;\n    }\n</style>\n<table border=\"1\" class=\"dataframe\">\n  <thead>\n    <tr style=\"text-align: right;\">\n      <th></th>\n      <th>Type</th>\n      <th>Name</th>\n      <th>Abbreviation</th>\n      <th>Capital</th>\n      <th>Population (2015)</th>\n      <th>Population (2019)</th>\n      <th>area (square miles)</th>\n    </tr>\n  </thead>\n  <tbody>\n    <tr>\n      <th>0</th>\n      <td>State</td>\n      <td>Alabama</td>\n      <td>AL</td>\n      <td>Montgomery</td>\n      <td>NaN</td>\n      <td>4,903,185</td>\n      <td>52,420</td>\n    </tr>\n    <tr>\n      <th>1</th>\n      <td>State</td>\n      <td>Alaska</td>\n      <td>AK</td>\n      <td>Juneau</td>\n      <td>NaN</td>\n      <td>731,545</td>\n      <td>665,384</td>\n    </tr>\n    <tr>\n      <th>2</th>\n      <td>State</td>\n      <td>Arizona</td>\n      <td>AZ</td>\n      <td>Phoenix</td>\n      <td>NaN</td>\n      <td>7,278,717</td>\n      <td>113,990</td>\n    </tr>\n  </tbody>\n</table>\n</div>"
     },
     "metadata": {},
     "execution_count": 543
    }
   ],
   "source": [
    "population.head(3)"
   ]
  },
  {
   "cell_type": "code",
   "execution_count": 570,
   "metadata": {},
   "outputs": [
    {
     "output_type": "stream",
     "name": "stderr",
     "text": [
      "<ipython-input-570-f5eb1d23310a>:2: SettingWithCopyWarning: \nA value is trying to be set on a copy of a slice from a DataFrame.\nTry using .loc[row_indexer,col_indexer] = value instead\n\nSee the caveats in the documentation: https://pandas.pydata.org/pandas-docs/stable/user_guide/indexing.html#returning-a-view-versus-a-copy\n  df['state'] = df['state'].str.strip()\n"
     ]
    }
   ],
   "source": [
    "population['Abbreviation'] = population['Abbreviation'].str.strip()\n",
    "df['state'] = df['state'].str.strip()"
   ]
  },
  {
   "cell_type": "code",
   "execution_count": 571,
   "metadata": {},
   "outputs": [
    {
     "output_type": "stream",
     "name": "stdout",
     "text": [
      "<class 'pandas.core.frame.DataFrame'>\nInt64Index: 56 entries, 0 to 55\nData columns (total 15 columns):\n #   Column               Non-Null Count  Dtype \n---  ------               --------------  ----- \n 0   Type                 56 non-null     object\n 1   Name                 56 non-null     object\n 2   Abbreviation         56 non-null     object\n 3   Capital              55 non-null     object\n 4   Population (2015)    4 non-null      object\n 5   Population (2019)    52 non-null     object\n 6   area (square miles)  56 non-null     object\n 7   state                56 non-null     object\n 8   paid                 56 non-null     object\n 9   resident             56 non-null     object\n 10  nonresid             56 non-null     object\n 11  total                56 non-null     object\n 12  cost_resid           56 non-null     object\n 13  cost_nonresid        56 non-null     object\n 14  gross_cost           56 non-null     object\ndtypes: object(15)\nmemory usage: 7.0+ KB\n"
     ]
    }
   ],
   "source": [
    "final = pd.merge(population,df,left_on='Abbreviation',right_on='state')\n",
    "final.info()"
   ]
  },
  {
   "cell_type": "code",
   "execution_count": 572,
   "metadata": {},
   "outputs": [],
   "source": [
    "final.total = final.total.str.replace(',', '').astype(int)\n",
    "final['Population (2019)'] = pd.to_numeric(final['Population (2019)'].str.replace(',',''), errors='coerce')"
   ]
  },
  {
   "cell_type": "code",
   "execution_count": 575,
   "metadata": {},
   "outputs": [
    {
     "output_type": "execute_result",
     "data": {
      "text/plain": [
       "     Type            Name Abbreviation    Capital Population (2015)  \\\n",
       "25  State        Montana            MT    Helena                NaN   \n",
       "11  State          Idaho            ID     Boise                NaN   \n",
       "48  State      Wisconsin            WI   Madison                NaN   \n",
       "1   State         Alaska            AK    Juneau                NaN   \n",
       "33  State   North Dakota            ND  Bismarck                NaN   \n",
       "\n",
       "    Population (2019) area (square miles) state     paid   resident nonresid  \\\n",
       "25          1068778.0             147,040    MT  222,309    853,341  186,315   \n",
       "11          1787065.0              83,569    ID  275,244  1,412,039  248,610   \n",
       "48          5822434.0              65,496    WI  666,670  3,965,367  236,639   \n",
       "1            731545.0             665,384    AK   93,559    423,501   59,235   \n",
       "33           762062.0              70,698    ND  135,724    375,250  126,916   \n",
       "\n",
       "      total   cost_resid cost_nonresid   gross_cost  per_capita  \n",
       "25  1039656  $10,966,890   $26,951,488  $37,918,378    0.972752  \n",
       "11  1660649  $11,465,795   $18,704,191  $30,169,986    0.929261  \n",
       "48  4202006  $28,526,992    $7,884,672  $36,411,664    0.721692  \n",
       "1    482736   $4,859,356    $9,046,715  $13,906,071    0.659886  \n",
       "33   502166   $4,680,314    $6,094,905  $10,775,219    0.658957  "
      ],
      "text/html": "<div>\n<style scoped>\n    .dataframe tbody tr th:only-of-type {\n        vertical-align: middle;\n    }\n\n    .dataframe tbody tr th {\n        vertical-align: top;\n    }\n\n    .dataframe thead th {\n        text-align: right;\n    }\n</style>\n<table border=\"1\" class=\"dataframe\">\n  <thead>\n    <tr style=\"text-align: right;\">\n      <th></th>\n      <th>Type</th>\n      <th>Name</th>\n      <th>Abbreviation</th>\n      <th>Capital</th>\n      <th>Population (2015)</th>\n      <th>Population (2019)</th>\n      <th>area (square miles)</th>\n      <th>state</th>\n      <th>paid</th>\n      <th>resident</th>\n      <th>nonresid</th>\n      <th>total</th>\n      <th>cost_resid</th>\n      <th>cost_nonresid</th>\n      <th>gross_cost</th>\n      <th>per_capita</th>\n    </tr>\n  </thead>\n  <tbody>\n    <tr>\n      <th>25</th>\n      <td>State</td>\n      <td>Montana</td>\n      <td>MT</td>\n      <td>Helena</td>\n      <td>NaN</td>\n      <td>1068778.0</td>\n      <td>147,040</td>\n      <td>MT</td>\n      <td>222,309</td>\n      <td>853,341</td>\n      <td>186,315</td>\n      <td>1039656</td>\n      <td>$10,966,890</td>\n      <td>$26,951,488</td>\n      <td>$37,918,378</td>\n      <td>0.972752</td>\n    </tr>\n    <tr>\n      <th>11</th>\n      <td>State</td>\n      <td>Idaho</td>\n      <td>ID</td>\n      <td>Boise</td>\n      <td>NaN</td>\n      <td>1787065.0</td>\n      <td>83,569</td>\n      <td>ID</td>\n      <td>275,244</td>\n      <td>1,412,039</td>\n      <td>248,610</td>\n      <td>1660649</td>\n      <td>$11,465,795</td>\n      <td>$18,704,191</td>\n      <td>$30,169,986</td>\n      <td>0.929261</td>\n    </tr>\n    <tr>\n      <th>48</th>\n      <td>State</td>\n      <td>Wisconsin</td>\n      <td>WI</td>\n      <td>Madison</td>\n      <td>NaN</td>\n      <td>5822434.0</td>\n      <td>65,496</td>\n      <td>WI</td>\n      <td>666,670</td>\n      <td>3,965,367</td>\n      <td>236,639</td>\n      <td>4202006</td>\n      <td>$28,526,992</td>\n      <td>$7,884,672</td>\n      <td>$36,411,664</td>\n      <td>0.721692</td>\n    </tr>\n    <tr>\n      <th>1</th>\n      <td>State</td>\n      <td>Alaska</td>\n      <td>AK</td>\n      <td>Juneau</td>\n      <td>NaN</td>\n      <td>731545.0</td>\n      <td>665,384</td>\n      <td>AK</td>\n      <td>93,559</td>\n      <td>423,501</td>\n      <td>59,235</td>\n      <td>482736</td>\n      <td>$4,859,356</td>\n      <td>$9,046,715</td>\n      <td>$13,906,071</td>\n      <td>0.659886</td>\n    </tr>\n    <tr>\n      <th>33</th>\n      <td>State</td>\n      <td>North Dakota</td>\n      <td>ND</td>\n      <td>Bismarck</td>\n      <td>NaN</td>\n      <td>762062.0</td>\n      <td>70,698</td>\n      <td>ND</td>\n      <td>135,724</td>\n      <td>375,250</td>\n      <td>126,916</td>\n      <td>502166</td>\n      <td>$4,680,314</td>\n      <td>$6,094,905</td>\n      <td>$10,775,219</td>\n      <td>0.658957</td>\n    </tr>\n  </tbody>\n</table>\n</div>"
     },
     "metadata": {},
     "execution_count": 575
    }
   ],
   "source": [
    "final['per_capita'] = final['total'] / final['Population (2019)']\n",
    "\n",
    "final.sort_values(by='per_capita',ascending=False).head(5)"
   ]
  }
 ],
 "metadata": {
  "kernelspec": {
   "name": "python3",
   "display_name": "Python 3.9.5 64-bit"
  },
  "language_info": {
   "codemirror_mode": {
    "name": "ipython",
    "version": 3
   },
   "file_extension": ".py",
   "mimetype": "text/x-python",
   "name": "python",
   "nbconvert_exporter": "python",
   "pygments_lexer": "ipython3",
   "version": "3.9.5"
  },
  "interpreter": {
   "hash": "916dbcbb3f70747c44a77c7bcd40155683ae19c65e1c03b4aa3499c5328201f1"
  }
 },
 "nbformat": 4,
 "nbformat_minor": 4
}