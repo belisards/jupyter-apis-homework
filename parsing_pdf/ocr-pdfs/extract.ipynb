{
 "metadata": {
  "language_info": {
   "codemirror_mode": {
    "name": "ipython",
    "version": 3
   },
   "file_extension": ".py",
   "mimetype": "text/x-python",
   "name": "python",
   "nbconvert_exporter": "python",
   "pygments_lexer": "ipython3",
   "version": "3.9.5"
  },
  "orig_nbformat": 4,
  "kernelspec": {
   "name": "python3",
   "display_name": "Python 3.9.5 64-bit"
  },
  "interpreter": {
   "hash": "916dbcbb3f70747c44a77c7bcd40155683ae19c65e1c03b4aa3499c5328201f1"
  }
 },
 "nbformat": 4,
 "nbformat_minor": 2,
 "cells": [
  {
   "cell_type": "code",
   "execution_count": 1,
   "metadata": {},
   "outputs": [],
   "source": [
    "from pdfminer.high_level import extract_text\n"
   ]
  },
  {
   "cell_type": "code",
   "execution_count": 5,
   "metadata": {},
   "outputs": [
    {
     "output_type": "execute_result",
     "data": {
      "text/plain": [
       "\"Pos \\nPlayer \\nQuarterback \\nRhett Bomar\\nQuarterback \\nJoe Webb\\nQuarterback \\nChristian Ponder\\nRunning Back \\nAdrian Peterson\\nRunning Back \\nLorenzo Booker\\nRunning Back \\nRyan D'Imperio\\nRunning Back \\nJeff Dugan\\nRunning Back \\nToby Gerhart\\nWide Receiver \\nGreg Camarillo\\nWide Receiver \\nJuaquin Iglesias\\nWide Receiver \\nFreddie Brown\\nJaymar Johnson\\nWide Receiver \\nEmmanuel Arceneaux Wide Receiver \\nWide Receiver \\nBernard Berrian\\nWide Receiver \\nPercy Harvin\\nWide Receiver \\nSidney Rice\\nTight End \\nVisanthe Shiancoe\\nTight End \\nJim Kleinsasser\\nCenter \\nCullen Loeffler\\nCenter \\nJon Cooper\\nCenter \\nJohn Sullivan\\nGuard \\nAnthony Herrera\\nGuard \\nSteve Hutchinson\\nGuard \\nSeth Olsen\\nGuard \\nChris DeGeare\\nGuard \\nThomas Welch\\nTackle \\nPhil Loadholt\\nTackle \\nBryant McKinnie\\nTackle \\nPatrick Brown\\nTackle \\nRyan Cook\\nPunter \\nChris Kluwe\\nDefensive Lineman \\nBrian Robison\\nDefensive Lineman \\nKevin Williams\\nDefensive Lineman \\nRay Edwards\\nDefensive Lineman \\nJared Allen\\nDefensive Lineman \\nTremaine Johnson\\nDefensive Lineman \\nAdrian Awaso\""
      ]
     },
     "metadata": {},
     "execution_count": 5
    }
   ],
   "source": [
    "extract_text('players.pdf')[:1000]"
   ]
  },
  {
   "cell_type": "code",
   "execution_count": null,
   "metadata": {},
   "outputs": [],
   "source": []
  }
 ]
}