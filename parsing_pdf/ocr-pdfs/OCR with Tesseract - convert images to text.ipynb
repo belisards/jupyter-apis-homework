{
 "cells": [
  {
   "cell_type": "markdown",
   "metadata": {},
   "source": [
    "# Tesseract\n",
    "\n",
    "While there are a lot of paid things out there that will do OCR, [Tesseract](https://github.com/tesseract-ocr/tesseract) is what almost all of the free tools are built on (...and even some of the paid ones!). It isn't as good as things that cost money, but oh well!\n",
    "\n",
    "## Installation\n",
    "\n",
    "### OS X\n",
    "\n",
    "On a Mac, you can install tesseract using Homebrew.\n",
    "\n",
    "```\n",
    "brew install tesseract tesseract-lang\n",
    "```\n",
    "\n",
    "### Windows\n",
    "\n",
    "Install tesseract using [the installer on this page](https://github.com/UB-Mannheim/tesseract/wiki#tesseract-installer-for-windows).\n",
    "\n",
    "## Use\n",
    "\n",
    "While we could use tesseract frorm the command line, we're going to use it in Python using [pytesseract](https://pypi.org/project/pytesseract/). Installing pytesseract *does not install tesseract*, it's just a wrapper that lets us use it from Python.\n",
    "\n",
    "```\n",
    "pip install pytesseract\n",
    "```"
   ]
  },
  {
   "cell_type": "code",
   "execution_count": 1,
   "metadata": {},
   "outputs": [],
   "source": [
    "# Import pytesseract\n",
    "import pytesseract"
   ]
  },
  {
   "cell_type": "code",
   "execution_count": 4,
   "metadata": {},
   "outputs": [],
   "source": [
    "text = pytesseract.image_to_string('players-scan.jpg')"
   ]
  },
  {
   "cell_type": "code",
   "execution_count": 5,
   "metadata": {},
   "outputs": [
    {
     "output_type": "execute_result",
     "data": {
      "text/plain": [
       "\"Player\\n\\nRhett Bomar\\nJoe Webb\\nChristian Ponder\\nAdrian Peterson\\nLorenzo Booker\\nRyan D'Imperio\\nJeff Dugan\\n\\nToby Gerhart\\nGreg Camarillo\\nJuaquin Iglesias\\nFreddie Brown\\nJaymar Johnson\\nEmmanuel Arceneaux\\nBernard Berrian\\nPercy Harvin\\nSidney Rice\\nVisanthe Shiancoe\\nJim Kleinsasser\\nCullen Loeffler\\nJon Cooper\\nJohn Sullivan\\nAnthony Herrera\\nSteve Hutchinson\\nSeth Olsen\\nChris DeGeare\\nThomas Welch\\nPhil Loadholt\\nBryant McKinnie\\nPatrick Brown\\nRyan Cook\\nChris Kluwe\\nBrian Robison\\nKevin Williams\\nRay Edwards\\nJared Allen\\nTremaine Johnson\\nAdrian Awasom\\nLetroy Guion\\nJimmy Kennedy\\nEverson Griffen\\nChad Greenway\\nE.J. Henderson\\nHeath Farwell\\nKenny Onatolu\\nJasper Brinkley\\nErin Henderson\\nMadieu Williams\\nChris Cook\\nMarcus Sherels\\nAsher Allen\\nCedric Griffin\\n\\nPos\\n\\nQuarterback\\nQuarterback\\nQuarterback\\nRunning Back\\nRunning Back\\nRunning Back\\nRunning Back\\nRunning Back\\nWide Receiver\\nWide Receiver\\nWide Receiver\\nWide Receiver\\nWide Receiver\\nWide Receiver\\nWide Receiver\\nWide Receiver\\nTight End\\n\\nTight End\\n\\nCenter\\n\\nCenter\\n\\nCenter\\n\\nGuard\\n\\nGuard\\n\\nGuard\\n\\nGuard\\n\\nGuard\\n\\nTackle\\n\\nTackle\\n\\nTackle\\n\\nTackle\\n\\nPunter\\n\\nDefensive Lineman\\nDefensive Lineman\\nDefensive Lineman\\nDefensive Lineman\\nDefensive Lineman\\nDefensive Lineman\\nDefensive Lineman\\nDefensive Lineman\\nDefensive Lineman\\nLinebacker\\nLinebacker\\nLinebacker\\nLinebacker\\nLinebacker\\nLinebacker\\nDefensive Back\\nDefensive Back\\nDefensive Back\\nDefensive Back\\nDefensive Back\\n\\nStatus\\nActive\\nActive\\nActive\\nActive\\nActive\\nActive\\nActive\\nActive\\nActive\\nActive\\nActive\\nActive\\nActive\\nActive\\nActive\\nActive\\nActive\\nActive\\nActive\\nActive\\nActive\\nOut\\nActive\\nActive\\nActive\\nActive\\nActive\\nActive\\nActive\\nActive\\nActive\\nActive\\nOut\\nActive\\nActive\\nActive\\nActive\\nActive\\nActive\\nActive\\nActive\\nActive\\nActive\\nActive\\nActive\\nActive\\nActive\\nOut\\nActive\\nActive\\nOut\\n\\n6'2'\\n6'4'\\n6'2'\\n6'1'\\n5'10'\\n6'3'\\n64\\n6'1'\\n6'1'\\n6'0'\\n6'4'\\n6'0'\\n6'2'\\n6'1'\\n5'11'\\n64\\n64\\n6'3'\\n6'5'\\n6'3'\\n64\\n6'2'\\n6'5'\\n6'5'\\n64\\n6'7'\\n6'8'\\n6'8'\\n6'5'\\n66\\n6'4'\\n6'3'\\n6'5'\\n6'5'\\n6'6'\\n6'2'\\n6'5'\\n64\\n64\\n6'3'\\n6'2'\\n6'1'\\n6'0'\\n6'1'\\n6'2'\\n6'3'\\n6'1'\\n6'2'\\n5'10'\\n5'10'\\n6'0'\\n\\nWt DOB\\n215 7/2/85\\n220 11/14/86\\n229 2/25/88\\n217 3/21/85\\n191 6/14/84\\n240 8/15/87\\n258 4/8/81\\n237 3/28/87\\n190 4/18/82\\n204 8/22/87\\n215 6/24/86\\n176 7/10/84\\n210 9/17/87\\n185 12/27/80\\n192 5/28/88\\n202 9/1/86\\n250 6/18/80\\n272 1/31/77\\n241 1/27/81\\n290 10/1/86\\n301 8/8/85\\n315 6/14/80\\n313 11/1/77\\n305 12/17/85\\n335 2/17/87\\n310 6/19/87\\n343 1/21/86\\n335 9/23/79\\n290 12/25/86\\n328 5/8/83\\n215 12/24/81\\n267 4/27/83\\n311 8/16/80\\n268 1/1/85\\n270 4/3/82\\n273 9/26/85\\n280 10/25/83\\n303 6/21/87\\n320 11/15/79\\n265 12/22/87\\n242 1/12/83\\n245 8/3/80\\n235 12/31/81\\n218 10/8/82\\n275 7/12/85\\n244 7/1/86\\n203 10/18/81\\n204 2/15/87\\n175 9/30/87\\n198 1/22/88\\n203 11/11/82\\n\\x0c\""
      ]
     },
     "metadata": {},
     "execution_count": 5
    }
   ],
   "source": [
    "text"
   ]
  }
 ],
 "metadata": {
  "kernelspec": {
   "name": "python3",
   "display_name": "Python 3.9.5 64-bit"
  },
  "language_info": {
   "codemirror_mode": {
    "name": "ipython",
    "version": 3
   },
   "file_extension": ".py",
   "mimetype": "text/x-python",
   "name": "python",
   "nbconvert_exporter": "python",
   "pygments_lexer": "ipython3",
   "version": "3.9.5"
  },
  "interpreter": {
   "hash": "916dbcbb3f70747c44a77c7bcd40155683ae19c65e1c03b4aa3499c5328201f1"
  }
 },
 "nbformat": 4,
 "nbformat_minor": 4
}