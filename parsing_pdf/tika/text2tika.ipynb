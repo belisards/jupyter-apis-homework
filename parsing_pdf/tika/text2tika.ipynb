{
 "cells": [
  {
   "cell_type": "markdown",
   "metadata": {},
   "source": [
    "# Tika\n",
    "\n",
    "[Apache Tika](https://tika.apache.org/) is the best software in all of history when it comes to converting documents to text. It takes absolutely *anything* and turns it into text (just make sure you've installed tesseract first).\n",
    "\n",
    "## Installation, Part 1\n",
    "\n",
    "### OS X\n",
    "\n",
    "You can install Java using Homebrew.\n",
    "\n",
    "```\n",
    "brew install --cask adoptopenjdk\n",
    "```\n",
    "\n",
    "### Windows\n",
    "\n",
    "You'll need to [download Java](https://java.com/en/download/manual.jsp) and install it (pick the offline installer, fewer things to go wrong).\n",
    "\n",
    "## Installation, Part 2\n",
    "\n",
    "Now we'll install the [Python bindings](https://github.com/chrismattmann/tika-python) of the Tika library.\n",
    "\n",
    "```\n",
    "pip install tika\n",
    "```\n",
    "\n",
    "We don't need to download Tika itself because *the Python library does it for us, every single time it runs*.\n",
    "\n",
    "## Using Tika\n",
    "\n",
    "Let's see if we can get this to work!\n",
    "\n"
   ]
  },
  {
   "cell_type": "code",
   "execution_count": 1,
   "metadata": {},
   "outputs": [],
   "source": [
    "import tika\n",
    "from tika import parser"
   ]
  },
  {
   "cell_type": "code",
   "execution_count": 2,
   "metadata": {},
   "outputs": [],
   "source": [
    "parsed = parser.from_file('ocr-pdfs/players-scan.jpg')"
   ]
  },
  {
   "cell_type": "code",
   "execution_count": 3,
   "metadata": {},
   "outputs": [
    {
     "output_type": "execute_result",
     "data": {
      "text/plain": [
       "dict_keys(['metadata', 'content', 'status'])"
      ]
     },
     "metadata": {},
     "execution_count": 3
    }
   ],
   "source": [
    "parsed.keys()"
   ]
  },
  {
   "cell_type": "code",
   "execution_count": 4,
   "metadata": {},
   "outputs": [
    {
     "output_type": "execute_result",
     "data": {
      "text/plain": [
       "200"
      ]
     },
     "metadata": {},
     "execution_count": 4
    }
   ],
   "source": [
    "parsed['status']"
   ]
  },
  {
   "cell_type": "code",
   "execution_count": 5,
   "metadata": {},
   "outputs": [
    {
     "output_type": "stream",
     "name": "stdout",
     "text": [
      "Player\n\nRhett Bomar\nJoe Webb\nChristian Ponder\nAdrian Peterson\nLorenzo Booker\nRyan D'Imperio\nJeff Dugan\n\nToby Gerhart\nGreg Camarillo\nJuaquin Iglesias\nFreddie Brown\nJaymar Johnson\nEmmanuel Arceneaux\nBernard Berrian\nPercy Harvin\nSidney Rice\nVisanthe Shiancoe\nJim Kleinsasser\nCullen Loeffler\nJon Cooper\nJohn Sullivan\nAnthony Herrera\nSteve Hutchinson\nSeth Olsen\nChris DeGeare\nThomas Welch\nPhil Loadholt\nBryant McKinnie\nPatrick Brown\nRyan Cook\nChris Kluwe\nBrian Robison\nKevin Williams\nRay Edwards\nJared Allen\nTremaine Johnson\nAdrian Awasom\nLetroy Guion\nJimmy Kennedy\nEverson Griffen\nChad Greenway\nE.J. Henderson\nHeath Farwell\nKenny Onatolu\nJasper Brinkley\nErin Henderson\nMadieu Williams\nChris Cook\nMarcus Sherels\nAsher Allen\nCedric Griffin\n\nPos\n\nQuarterback\nQuarterback\nQuarterback\nRunning Back\nRunning Back\nRunning Back\nRunning Back\nRunning Back\nWide Receiver\nWide Receiver\nWide Receiver\nWide Receiver\nWide Receiver\nWide Receiver\nWide Receiver\nWide Receiver\nTight End\n\nTight End\n\nCenter\n\nCenter\n\nCenter\n\nGuard\n\nGuard\n\nGuard\n\nGuard\n\nGuard\n\nTackle\n\nTackle\n\nTackle\n\nTackle\n\nPunter\n\nDefensive Lineman\nDefensive Lineman\nDefensive Lineman\nDefensive Lineman\nDefensive Lineman\nDefensive Lineman\nDefensive Lineman\nDefensive Lineman\nDefensive Lineman\nLinebacker\nLinebacker\nLinebacker\nLinebacker\nLinebacker\nLinebacker\nDefensive Back\nDefensive Back\nDefensive Back\nDefensive Back\nDefensive Back\n\nStatus\nActive\nActive\nActive\nActive\nActive\nActive\nActive\nActive\nActive\nActive\nActive\nActive\nActive\nActive\nActive\nActive\nActive\nActive\nActive\nActive\nActive\nOut\nActive\nActive\nActive\nActive\nActive\nActive\nActive\nActive\nActive\nActive\nOut\nActive\nActive\nActive\nActive\nActive\nActive\nActive\nActive\nActive\nActive\nActive\nActive\nActive\nActive\nOut\nActive\nActive\nOut\n\n6'2'\n6'4'\n6'2'\n6'1'\n5'10'\n6'3'\n64\n6'1'\n6'1'\n6'0'\n6'4'\n6'0'\n6'2'\n6'1'\n5'11'\n64\n64\n6'3'\n6'5'\n6'3'\n64\n6'2'\n6'5'\n6'5'\n64\n6'7'\n6'8'\n6'8'\n6'5'\n66\n6'4'\n6'3'\n6'5'\n6'5'\n6'6'\n6'2'\n6'5'\n64\n64\n6'3'\n6'2'\n6'1'\n6'0'\n6'1'\n6'2'\n6'3'\n6'1'\n6'2'\n5'10'\n5'10'\n6'0'\n\nWt DOB\n215 7/2/85\n220 11/14/86\n229 2/25/88\n217 3/21/85\n191 6/14/84\n240 8/15/87\n258 4/8/81\n237 3/28/87\n190 4/18/82\n204 8/22/87\n215 6/24/86\n176 7/10/84\n210 9/17/87\n185 12/27/80\n192 5/28/88\n202 9/1/86\n250 6/18/80\n272 1/31/77\n241 1/27/81\n290 10/1/86\n301 8/8/85\n315 6/14/80\n313 11/1/77\n305 12/17/85\n335 2/17/87\n310 6/19/87\n343 1/21/86\n335 9/23/79\n290 12/25/86\n328 5/8/83\n215 12/24/81\n267 4/27/83\n311 8/16/80\n268 1/1/85\n270 4/3/82\n273 9/26/85\n280 10/25/83\n303 6/21/87\n320 11/15/79\n265 12/22/87\n242 1/12/83\n245 8/3/80\n235 12/31/81\n218 10/8/82\n275 7/12/85\n244 7/1/86\n203 10/18/81\n204 2/15/87\n175 9/30/87\n198 1/22/88\n203 11/11/82\n"
     ]
    }
   ],
   "source": [
    "print(parsed['content'].strip())"
   ]
  },
  {
   "cell_type": "code",
   "execution_count": 6,
   "metadata": {
    "tags": [
     "outputPrepend"
    ]
   },
   "outputs": [
    {
     "output_type": "stream",
     "name": "stdout",
     "text": [
      "     \n  \n  \n\n      Salvar para ler depois\n    \n\n    \n      \n        Salvar artigos\n        \n          \n\n\n\n\n\n\n        Recurso exclusivo para assinantes\n\n        \n          assine\n          ou\n          faÃ§a login\n        \n\n      \n\n    \n  \n\n  \n\n\n                      \n        \n        \n        \n                    \n          \n                        \n                            Quais sÃ£o os planos do Brasil para a neutralidade de carbono em 2050?\n            \n\n            \n                        Atrasar ações urgentes agora poderá impossibilitar atingir a meta em 30 anos\n\n            \n                    \n          \n                  \n\n      \n    \n        \n\n      \n      \n      \n                \n          \n                        \n                          Aline Albuquerque\n                        \n                      \n\n\n                      \n\n    \n    \n  \n  \n  Compartilhar Aline Albuquerque: Ao regular visitas por videochamadas, Cremesp extrapola seu poder\n\n\n\n  \n    \n      \n        \n\n\n\n\n\n\n    \n\n  \n\n\n\n            \n                          \n\n  \t\n  \n    \n      \n  \n  \n\n      Salvar para ler depois\n    \n\n    \n      \n        Salvar artigos\n        \n          \n\n\n\n\n\n\n        Recurso exclusivo para assinantes\n\n        \n          assine\n          ou\n          faÃ§a login\n        \n\n      \n\n    \n  \n\n  \n\n\n                      \n        \n        \n        \n                    \n          \n                        \n                            Ao regular visitas por videochamadas, Cremesp extrapola seu poder\n            \n\n            \n                        Conselho Regional de Medicina de São Paulo limita direito de pacientes internados\n\n            \n                    \n          \n                  \n\n      \n    \n    \n\n  painel do leitor\n\n\n\n\n\n    \n        \n\n      \n      \n      \n        \n        \n                    \n          \n                        \n                            'SoluÃ§o de Bolsonaro Ã© castigo divino pelas mortes da Covid', diz leitor\n            \n\n            \n            \n                    \n          \n                  \n\n      \n\n    \n\n      FALE COM A FOLHA\n\n\n\n  \n  \n  \n          \n        \n                      Eventos\n                  \n\n\n                  \n\n    \n    \n  \n  \n  Compartilhar Eventos: \n\n\n\n  \n    \n      \n        \n\n\n\n\n\n\n\n\n    \n\n  \n\n\n\n\n                      \n\n  \t\n  \n    \n      \n  \n  \n\n      Salvar para ler depois\n    \n\n    \n      \n        Salvar artigos\n        \n          \n\n\n\n\n\n\n        Recurso exclusivo para assinantes\n\n        \n          assine\n          ou\n          faÃ§a login\n        \n\n      \n\n    \n  \n\n  \n\n\n                        \n    \n    \n              \n        \n      \n            \t\n          \n      \n  \n  \n  \n            \n\n          \n                        \n                                        \n                26/7\n              \n              \n              Futuro do varejo Ã© tema de webinÃ¡rio da Folha\n                        \n                      \n\n        \n\n\n      \n    \n\n  \n\n\n    \n    \t\n        \n          economia\n        \n      \n\t\n        \n          mundo\n        \n      \n\t\n        \n          ciÃªncia\n        \n      \n\n\n  \n\n  \n        \n      Carregando...\n\n    \n\n        \n      Carregando...\n\n    \n\n        \n      Carregando...\n\n    \n\n      \n\n  \n\n\n\n\nTempo\n\n\n  \n    SÃ£o Paulo \n    \n      \n    \n  \n\n  \n    \n      \n        Tempo\n        \n          \n            \n          \n        \n      \n\n      \n\n      VER TODAS\n    \n\n  \n\n\n\n\t\n\t\nmÃ¡x\n\t\nmÃ­n\n\n\n\n\n\n\n\n  \n          \n\n\n  \n\n\n      \n\n\n\n\n\n  \n    \n  \n\n\n\n\n\n\n\n\n    \n        \n          \n\n\n  \n\n\n        \n      \n\n  \n  \n  \n          \n        \n                      MÃ´nica Bergamo\n                  \n\n\n                  \n\n    \n    \n  \n  \n  Compartilhar MÃ´nica Bergamo: Renata Vasconcellos testa negativo para Covid, mas permanece afastada do JN\n\n\n\n  \n    \n      \n        \n\n\n\n\n\n\n\n\n\n\n\n\n\n\n    \n\n  \n\n\n\n\n                      \n\n  \t\n  \n    \n      \n  \n  \n\n      Salvar para ler depois\n    \n\n    \n      \n        Salvar artigos\n        \n          \n\n\n\n\n\n\n        Recurso exclusivo para assinantes\n\n        \n          assine\n          ou\n          faÃ§a login\n        \n\n      \n\n    \n  \n\n  \n\n\n                        \n    \n    \n            \n                      \n                    Renata Vasconcellos testa negativo para Covid, mas permanece afastada do JN\n        \n\n        \n        \n            \n      \n      \n    \n\n  \n\n\n    \n        \n          \n\n\n  \n\n\n        \n      \n\n  \n  \n  \n          \n        \n                    \n                      Djamila Ribeiro\n                    \n                  \n\n\n                  \n\n    \n    \n  \n  \n  Compartilhar Djamila Ribeiro: ZezÃ© Motta ocupou posiÃ§Ã£o de destaque numa Ã©poca de grande silenciamento\n\n\n\n  \n    \n      \n        \n\n\n\n\n\n\n\n\n\n    \n\n  \n\n\n\n\n                      \n\n  \t\n  \n    \n      \n  \n  \n\n      Salvar para ler depois\n    \n\n    \n      \n        Salvar artigos\n        \n          \n\n\n\n\n\n\n        Recurso exclusivo para assinantes\n\n        \n          assine\n          ou\n          faÃ§a login\n        \n\n      \n\n    \n  \n\n  \n\n\n                        \n    \n    \n            \n                      \n                    ZezÃ© Motta ocupou posiÃ§Ã£o de destaque numa Ã©poca de grande silenciamento\n        \n\n        \n        \n            \n      \n      \n    \n\n  \n\n\n    \n        \n          \n\n\n  \n\n\n        \n      \n\n  \n  \n  \n          \n        \n                      Corte em remÃ©dios\n                  \n\n\n                  \n\n    \n    \n  \n  \n  Compartilhar Corte em remÃ©dios: Atriz ClÃ¡udia Rodrigues corre risco de ter surto de esclerose mÃºltipla\n\n\n\n  \n    \n      \n        \n\n\n\n\n\n\n\n\n    \n\n  \n\n\n\n\n                      \n\n  \t\n  \n    \n      \n  \n  \n\n      Salvar para ler depois\n    \n\n    \n      \n        Salvar artigos\n        \n          \n\n\n\n\n\n\n        Recurso exclusivo para assinantes\n\n        \n          assine\n          ou\n          faÃ§a login\n        \n\n      \n\n    \n  \n\n  \n\n\n                        \n    \n    \n            \n                      \n                    Atriz ClÃ¡udia Rodrigues corre risco de ter surto de esclerose mÃºltipla\n        \n\n        \n        \n            \n      \n      \n    \n\n  \n\n\n\n  \n    \n  \n\n\n\n\n\n\n      \n              \n          \n\n\n  \n\n\n        \n          \n\n    \n          \n        \n                      \n                      PVC\n                      \n                  \n\n\n                  \n\n    \n    \n  \n  \n  Compartilhar PVC: Ã‰ fundamental criar regras para sites de aposta\n\n\n\n  \n    \n      \n        \n\n\n\n\n\n\n\n\n\n    \n\n  \n\n\n\n\n                      \n\n  \t\n  \n    \n      \n  \n  \n\n      Salvar para ler depois\n    \n\n    \n      \n        Salvar artigos\n        \n          \n\n\n\n\n\n\n        Recurso exclusivo para assinantes\n\n        \n          assine\n          ou\n          faÃ§a login\n        \n\n      \n\n    \n  \n\n  \n\n\n                        \n        \n              \n                    Ã‰ fundamental criar regras para sites de aposta\n        \n\n          \n      \n\n  \n\n      \n              \n          \n\n\n  \n\n\n        \n          \n\n    \n          \n        \n                      TelevisÃ£o\n                  \n\n\n                  \n\n    \n    \n  \n  \n  Compartilhar TelevisÃ£o: LuÃ­sa Sonza estreia programa no Multishow\n\n\n\n  \n    \n      \n        \n\n\n\n\n\n\n\n\n    \n\n  \n\n\n\n\n                      \n\n  \t\n  \n    \n      \n  \n  \n\n      Salvar para ler depois\n    \n\n    \n      \n        Salvar artigos\n        \n          \n\n\n\n\n\n\n        Recurso exclusivo para assinantes\n\n        \n          assine\n          ou\n          faÃ§a login\n        \n\n      \n\n    \n  \n\n  \n\n\n                        \n        \n              \n                    LuÃ­sa Sonza estreia programa no Multishow\n        \n\n          \n      \n\n  \n\n      \n              \n          \n\n\n  \n\n\n        \n          \n\n    \n          \n        \n                      depressÃ£o \n                  \n\n\n                  \n\n    \n    \n  \n  \n  Compartilhar depressÃ£o : TatÃ¡ diz que perdeu 3 kg apÃ³s morte de Paulo Gustavo\n\n\n\n  \n    \n      \n        \n\n\n\n\n\n\n\n\n    \n\n  \n\n\n\n\n                      \n\n  \t\n  \n    \n      \n  \n  \n\n      Salvar para ler depois\n    \n\n    \n      \n        Salvar artigos\n        \n          \n\n\n\n\n\n\n        Recurso exclusivo para assinantes\n\n        \n          assine\n          ou\n          faÃ§a login\n        \n\n      \n\n    \n  \n\n  \n\n\n                        \n        \n              \n                    TatÃ¡ diz que perdeu 3 kg apÃ³s morte de Paulo Gustavo\n        \n\n          \n      \n\n  \n\n      \n              \n          \n\n\n  \n\n\n        \n          \n\n    \n          \n        \n                      \n                      ObituÃ¡rio\n                      \n                  \n\n\n                  \n\n    \n    \n  \n  \n  Compartilhar ObituÃ¡rio: ExÃ³tica, foi uma Dercy que nunca subiu ao palco\n\n\n\n  \n    \n      \n        \n\n\n\n\n\n\n\n\n    \n\n  \n\n\n\n\n                      \n\n  \t\n  \n    \n      \n  \n  \n\n      Salvar para ler depois\n    \n\n    \n      \n        Salvar artigos\n        \n          \n\n\n\n\n\n\n        Recurso exclusivo para assinantes\n\n        \n          assine\n          ou\n          faÃ§a login\n        \n\n      \n\n    \n  \n\n  \n\n\n                        \n        \n              \n                    ExÃ³tica, foi uma Dercy que nunca subiu ao palco\n        \n\n          \n      \n\n  \n\n  HorÃ³scopo\n\n  \n    \n      \n      \n        \n      \n    \n\n    \n      \n        \n          HorÃ³scopo\n          \n          \n            \n          \n          \n        \n\n        \n\n      \n\n    \n\n  \n\n  \n    \n    \n    \n    \n  \n\n\n\n\n\n\n\n\n\n\n\n\n  \n    \n  \n\n\n\n\n\n\n\n    \n    \n  \n\n\n\n\n\n\n\n\n\n  \n    \n      TV Folha\n    \n\n\n    \t\t\n\t\t\t\t\n\t\t\t\t\t\n\n\t\t\t\t\n\n\t\n\t\t\t\t\n\t\t\t\t  \n\t\t\t\t\t\n\t\t\t\t\t\t  Leitura dramÃ¡tica recorda peÃ§a que gerou estopim para RevoluÃ§Ã£o Cultural na China\n\n\t\t\t\t\t\n\t\t\t\t  \n\n\t\t\t\t\n\n\t\t\t  \n\n  \n\n  \n    \n      Fotografia\n    \n\n\n    \nimagens do dia\n\nChuvas na Alemanha e fila por oxigÃªnio na IndonÃ©sia, veja fotos de hoje\n\n\n\n\nRestaurante temÃ¡tico \n\nAmbiente do Vassoura Quebrada Ã© inspirado em histÃ³rias de fantasia\n\n\n\n  \n\n\n\n\n\n\n\n\n    \n        \n          \n\n\n  \n\n\n        \n      \n\n  \n  \n  \n          \n        \n                    \n                      RESERVATÃ“RIOS\n                    \n                  \n\n\n                  \n\n    \n    \n  \n  \n  Compartilhar RESERVATÃ“RIOS: \n\n\n\n  \n    \n      \n        \n\n\n\n\n\n\n\n\n\n\n    \n\n  \n\n\n\n\n                      \n\n  \t\n  \n    \n      \n  \n  \n\n      Salvar para ler depois\n    \n\n    \n      \n        Salvar artigos\n        \n          \n\n\n\n\n\n\n        Recurso exclusivo para assinantes\n\n        \n          assine\n          ou\n          faÃ§a login\n        \n\n      \n\n    \n  \n\n  \n\n\n                        \n    \n    \n            \n              \n                Acompanhe o nÃ­vel dos reservatÃ³rios de Ã¡gua da Grande SÃ£o Paulo\n\n        \n            \n      \n      \n    \n\n  \n\n\n    \n        \n          \n\n\n  \n\n\n        \n      \n\n  \n  \n  \n          \n        \n                    \n                      faÃ§a o teste\n                    \n                  \n\n\n                  \n\n    \n    \n  \n  \n  Compartilhar faÃ§a o teste: \n\n\n\n  \n    \n      \n        \n\n\n\n\n\n\n\n    \n\n  \n\n\n\n\n                      \n\n  \t\n  \n    \n      \n  \n  \n\n      Salvar para ler depois\n    \n\n    \n      \n        Salvar artigos\n        \n          \n\n\n\n\n\n\n        Recurso exclusivo para assinantes\n\n        \n          assine\n          ou\n          faÃ§a login\n        \n\n      \n\n    \n  \n\n  \n\n\n                        \n    \n    \n            \n              \n                Match da Saúde ajuda a avaliar como viver melhor\n\n        \n            \n      \n      \n    \n\n  \n\n\n    \n        \n          \n\n\n  \n\n\n        \n      \n\n  \n  \n  \n          \n        \n                      Folhainvest\n                  \n\n\n                  \n\n    \n    \n  \n  \n  Compartilhar Folhainvest: \n\n\n\n  \n    \n      \n        \n\n\n\n\n\n\n\n\n\n    \n\n  \n\n\n\n\n                      \n\n  \t\n  \n    \n      \n  \n  \n\n      Salvar para ler depois\n    \n\n    \n      \n        Salvar artigos\n        \n          \n\n\n\n\n\n\n        Recurso exclusivo para assinantes\n\n        \n          assine\n          ou\n          faÃ§a login\n        \n\n      \n\n    \n  \n\n  \n\n\n                        \n    \n    \n            \n              \n                Acompanhe o mercado financeiro, Bolsas pelo mundo e dÃ³lar\n\n        \n            \n      \n      \n    \n\n  \n\n\n  \n    INDICADORES ECONÃ”MICOS\n  \n\n  \n    \n      bovespa\n\n      \n        0,0%\n        000 pts\n      \n\n      (00h00)\n\n    \n\n    \n      dolar com.\n\n      \n        0,0%\n        R$ 0,000\n      \n\n      (00h00)\n\n    \n\n    \n      EURO\n\n      \n        0,00\n        R$ 0,000\n      \n\n      (00h00)\n\n    \n\n  \n\n  Atualizado em xx.xx.xx | Fonte: CMA\n\n\n\n\n\n\n\n\n\n\n\n  \n  \n\n  \n\n  \n\n      \n\n              \n\n  \n    \n      Modal 500\n    \n\n    \n      \n        \n          \n  \n\n        \n      \n\n\n      \n        \n\n        OK\n      \n\n    \n\n\n    \n\n    \n\n  \n\n\n\n\n\n\n  \n    \n      \n        \n  \n    \n      \n      \n      \n    \n\n    \n      \n    \n  \n\n        Folha de S.Paulo\n          Assine\n        Topo \n  \n\n\n      \n\n\n      \n        \n    \n        folha de s.paulo\n      \n\n      \t\n            \n            Sobre a Folha            \n          \n\t\n            \n            PolÃ­tica de Privacidade            \n          \n\t\n            \n            Acervo Folha            \n          \n\t\n            \n            ClubeFolha            \n          \n\t\n            \n            Expediente            \n          \n\t\n            \n            Folha 100            \n          \n\t\n            \n            PrÃªmio Folha            \n          \n\t\n            \n            Projeto Editorial            \n          \n\t\n            \n            SeminÃ¡rios Folha            \n          \n\t\n            \n            Trabalhe na Folha            \n          \n\t\n            \n            Treinamento            \n          \n\n\n  \n\n\n    \n        Fale com a Folha\n      \n\n      \t\n            \n            Anuncie (Publicidade Folha)            \n          \n\t\n            \n            Atendimento ao Assinante            \n          \n\t\n            \n            Erramos            \n          \n\t\n            \n            Fale com a Folha            \n          \n\t\n            \n            Ombudsman            \n          \n\t\n            \n            Painel do Leitor            \n          \n\n\n  \n\n\n\n\n    \n        editorias\n      \n\n      \t\n            \n            Poder            \n          \n\t\n            \n            Mercado            \n          \n\t\n            \n            Cotidiano            \n          \n\t\n            \n            Mundo            \n          \n\t\n            \n            Esporte            \n          \n\t\n            \n            Ilustrada            \n          \n\t\n            \n            IlustrÃ­ssima            \n          \n\t\n            \n            F5            \n          \n\t\n            \n            SaÃºde            \n          \n\t\n            \n            CiÃªncia            \n          \n\t\n            \n            Fotografia            \n          \n\t\n            \n            TV Folha            \n          \n\t\n            \n            EducaÃ§Ã£o            \n          \n\t\n            \n            Turismo            \n          \n\t\n            \n            Guia Folha            \n          \n\t\n            \n            Banco de Dados            \n          \n\n\n  \n\n\n\n\n\n    \n        opiniÃ£o\n      \n\n      \t\n            \n            OpiniÃ£o            \n          \n\t\n            \n            Colunas e Blogs            \n          \n\n\n  \n\n\n    \n        mais seÃ§Ãµes\n      \n\n      \t\n            \n            Dias Melhores            \n          \n\t\n            \n            Empreendedor Social            \n          \n\t\n            \n            Especiais            \n          \n\t\n            \n            Folha en EspaÃ±ol            \n          \n\t\n            \n            Folha In English            \n          \n\t\n            \n            Folhainvest            \n          \n\t\n            \n            Folhaleaks            \n          \n\t\n            \n            Folha Mapas            \n          \n\t\n            \n            Folha TÃ³picos            \n          \n\t\n            \n            Folha TransparÃªncia            \n          \n\t\n            \n            O Melhor de sÃ£opaulo            \n          \n\t\n            \n            Ãšltimas            \n          \n\t\n            \n            VersÃ£o Impressa            \n          \n\t\n            \n            Mapa do site            \n          \n\n\n  \n\n\n\n\n    \n        serviÃ§os\n      \n\n      \t\n            \n            Aeroportos            \n          \n\t\n            \n            Classificados            \n          \n\t\n            \n            Folha InformaÃ§Ãµes            \n          \n\t\n            \n            HorÃ³scopo            \n          \n\t\n            \n            Loterias            \n          \n\t\n            \n            Mortes            \n          \n\t\n            \n            Tempo            \n          \n\n\n  \n\n\n    \n        outros canais\n      \n\n      \t\n            \n            Agora            \n          \n\t\n            \n            e-mailFOLHA            \n          \n\t\n            \n            Datafolha            \n          \n\t\n            \n            Folhapress            \n          \n\t\n            \n            Folha Eventos            \n          \n\t\n            \n            Publifolha            \n          \n\t\n            \n            Top of Mind            \n          \n\n\n  \n\n\n\n\n\n\n\n    \n        CANAIS DA FOLHA\n      \n\n      \t\n            \n            Fale com a RedaÃ§Ã£o            \n          \n\t\n            \n            Mapa do site            \n          \n\t\n            \n            Atendimento ao Assinante            \n          \n\t\n            \n            Ombudsman            \n          \n\t\n            \n            PolÃ­tica de Privacidade            \n          \n\n\n  \n\n\n  newsletter\n\n  \n    \n      \n      \n        \n        \n      \n    \n\n    \n  \n\n\n\n\n\t\n  \n    Link externo, abre perfil da Folha de S.Paulo no Facebook\n    \n    \n  \n            \n  \n\n\t\n  \n    Link externo, abre pÃ¡gina da Folha de S.Paulo no Twitter\n    \n    \n  \n          \n  \n\n\t\n  \n    Link externo, abre pÃ¡gina da Folha de S.Paulo no Linkedin\n    \n    \n  \n        \n  \n\n\t\n  \n    Link externo, abre pÃ¡gina da Folha de S.Paulo no Instagram\n    \n    \n  \n      \n  \n\n\t\n  \n    Link externo, abre pÃ¡gina RSS da Folha de S.Paulo\n    \n    \n        \n        \n    \n  \n    \n  \n\n\n\n\n\n\n  A Folha integra o\n\n  \n    \n  \n    \n      \n      \n        \n        \n          \n        \n      \n    \n    \n  \n\n  \n\n\n\n\n\n\n\n      \n\n\n      \n        Copyright Folha de S.Paulo. Todos os direitos reservados. Ã‰ proibida a reproduÃ§Ã£o do conteÃºdo desta pÃ¡gina em qualquer meio de comunicaÃ§Ã£o, eletrÃ´nico ou impresso, sem autorizaÃ§Ã£o escrita da Folhapress.\n      \n\n    \n\n  \n\n\n\n      \n              \n  \n    \n      NEWSLETTER\n      \n        \n  \n\n      \n    \n\n    \n      \n        \n\n\n\n        Por favor, selecione uma das opÃ§Ãµes abaixo.\n      \n      \n      \n        Quais newsletters vocÃª gostaria de assinar?\n        \n          \n          Expresso TÃ³quio\n        \n\n        \n          \n          NotÃ­cias do dia\n        \n\n        \n          \n          Colunas e Blogs*\n        \n\n        \n          \n          Dicas do Editor*\n        \n\n        \n          \n          Folha Carreiras\n        \n\n        \n          \n          Folha Mercado\n        \n\n        \n          \n          Folha Med*\n        \n\n        \n          \n          Folha Jus*\n        \n\n        \n          \n          Folha Jus Dia\n        \n\n        \n          \n          BrasÃ­lia Hoje*\n        \n\n        \n          \n          F5\n        \n\n        \n          \n          Tudo a Ler\n        \n\n        \n          \n          China*\n        \n\n        \n          \n          Para curtir SP\n        \n\n        \n          \n          LÃ¡ fora\n        \n\n        \n          \n          Folha na sala*\n        \n\n        \n          *exclusivo para assinantes\n        \n\n      \n\n      \n        VocÃª tambÃ©m gostaria de:\n        \n          \n          Receber informaÃ§Ãµes sobre produtos e serviÃ§os da Folha de S. Paulo\n        \n\n        \n          \n          Receber ofertas de parceiros da Folha de S. Paulo\n        \n\n      \n\n      \n        Cancelar\n        Confirmar\n      \n\n      \n\n      \n        Cadastro realizado com sucesso!\n\n        \n          Ok\n        \n\n      \n\n      \n        Por favor, tente mais tarde!\n\n        \n          Ok\n"
     ]
    },
    {
     "output_type": "error",
     "ename": "TypeError",
     "evalue": "'NoneType' object is not subscriptable",
     "traceback": [
      "\u001b[0;31m---------------------------------------------------------------------------\u001b[0m",
      "\u001b[0;31mTypeError\u001b[0m                                 Traceback (most recent call last)",
      "\u001b[0;32m<ipython-input-6-509af5782b2b>\u001b[0m in \u001b[0;36m<module>\u001b[0;34m\u001b[0m\n\u001b[1;32m      3\u001b[0m \u001b[0mparsed\u001b[0m \u001b[0;34m=\u001b[0m \u001b[0mparser\u001b[0m\u001b[0;34m.\u001b[0m\u001b[0mfrom_buffer\u001b[0m\u001b[0;34m(\u001b[0m\u001b[0mresponse\u001b[0m\u001b[0;34m.\u001b[0m\u001b[0mtext\u001b[0m\u001b[0;34m)\u001b[0m\u001b[0;34m\u001b[0m\u001b[0;34m\u001b[0m\u001b[0m\n\u001b[1;32m      4\u001b[0m \u001b[0;34m\u001b[0m\u001b[0m\n\u001b[0;32m----> 5\u001b[0;31m \u001b[0mprint\u001b[0m\u001b[0;34m(\u001b[0m\u001b[0mparsed\u001b[0m\u001b[0;34m[\u001b[0m\u001b[0;34m'content'\u001b[0m\u001b[0;34m]\u001b[0m\u001b[0;34m.\u001b[0m\u001b[0mstrip\u001b[0m\u001b[0;34m(\u001b[0m\u001b[0;34m)\u001b[0m\u001b[0;34m)\u001b[0m\u001b[0;34m[\u001b[0m\u001b[0;34m:\u001b[0m\u001b[0;36m100\u001b[0m\u001b[0;34m]\u001b[0m\u001b[0;34m\u001b[0m\u001b[0;34m\u001b[0m\u001b[0m\n\u001b[0m",
      "\u001b[0;31mTypeError\u001b[0m: 'NoneType' object is not subscriptable"
     ]
    }
   ],
   "source": [
    "import requests\n",
    "response = requests.get('https://www.folha.uol.com.br/')\n",
    "parsed = parser.from_buffer(response.text)\n",
    "\n",
    "print(parsed['content'].strip())[:100]"
   ]
  },
  {
   "cell_type": "markdown",
   "metadata": {},
   "source": [
    "> # If you aren't working in English, you'll need to set headers with info from `tesseract --list-langs`\n",
    "> # Also try this: `sudo apt-get install tesseract-ocr-[all]`"
   ]
  },
  {
   "cell_type": "code",
   "execution_count": 53,
   "metadata": {},
   "outputs": [
    {
     "output_type": "execute_result",
     "data": {
      "text/plain": [
       "'\\n\\n\\n\\n\\n\\n\\n\\n\\n\\n\\n\\n\\n\\n\\n\\n\\n\\n\\n\\n\\n\\n\\n\\n\\n\\n\\n\\n\\n\\n\\n\\n\\nΗ Αϑήνα (Αϑῆναι στὰ ἀρχαία ελληνικά και τὴν καϑαρεύουσα) εἶναι ἡ πρω-\\nτεύουσα τῆς Βλλάδας. Ἐπίσης είναι ἡ ἔδρα τῆς Περιφέρειας Αττικής. Βρίσχεται\\nστὴ Στερεά (Κεντρική) Ἑλλάδα και αποτελεί εύρωστο οιχονομιχό, πολιτιστικό χαι\\nδιοικητικό κέντρο τῆς χώρας. Πήρε το ὀνομά τῆς από τὴ ϑεά Αϑηνά που ἦταν χαι\\nἡ προστάτιδά της. Η Αϑήνα σήμερα εἰναι μία σύγχρονη πόλη αλλά χαι διάσημη,\\nχκαϑώς στὴν αρχαιότητα ἦταν πανίσχυρη πόλη-χράτος και σημαντικότατο χέντρο\\nπολιτισμού. ϑεωρείται ἡ ἱιστορικότερη πόλη τῆς Ευρώπης μαζί με τὴ Ρώμη. ἘΣ\\nίναι γνωστή σε όλο τον κόσμο για τα ιστοριχά τῆς μνημεία που διασώϑγηραν,έστω\\nχκαι μερικώς, στο πέρασμα τῶν αἰώνων. Ἐπίνειο τῆς ἱιστορικής πόλης εἰναι το λι-\\nμάνι του Πειραιά. Πολιούχος τῆς Πόλης των Αϑηνών εἰναι ο Ἅγιος Διονύσιος ο\\nἈΑρεοπαγίτης.\\n\\n'"
      ]
     },
     "metadata": {},
     "execution_count": 53
    }
   ],
   "source": [
    "headers = {\n",
    "    \"X-Tika-OCRLanguage\": \"grc\"\n",
    "}\n",
    "\n",
    "results = parser.from_file('non-english/greek.png', headers=headers)\n",
    "results['content']"
   ]
  },
  {
   "cell_type": "code",
   "execution_count": 69,
   "metadata": {},
   "outputs": [],
   "source": [
    "# !tesseract --list-langs"
   ]
  },
  {
   "cell_type": "code",
   "execution_count": 68,
   "metadata": {},
   "outputs": [
    {
     "output_type": "execute_result",
     "data": {
      "text/plain": [
       "'\\n\\n\\n\\n\\n\\n\\n\\n\\n\\n\\n\\n\\n\\n\\n\\n\\n\\n\\n\\n\\n\\n\\n\\n\\n\\n\\n\\n\\n\\n\\n\\n\\n\\n\\n\\n\\n\\n\\n\\n\\n\\n\\n\\n\\n\\n\\n\\n\\n\\n\\n\\n\\n\\n\\n\\n\\n\\n\\n附件 1\\n\\n2015 年 度 全 国 博 物 馆 名 录\\n\\n博物 馆 性 | 质量 等 | 是 否 免费\\n\\n北京 市 〈151 家 )\\n\\n故宫 博物 院 文物\\n\\n人 民 革 命 军事 博物 馆 行业\\n\\n人 | 文胸 是\\n\\n \\n\\n \\n\\n城区 景山 前 街 4 号\\n\\n \\n\\n \\n\\n \\n\\n \\n\\n \\n\\n \\n\\n \\n\\n \\n\\n \\n\\n \\n\\n城区 东 长 安 街 16 号\\n\\n \\n\\n \\n\\n \\n\\n \\n\\n \\n\\n \\n\\n \\n\\n \\n\\n \\n\\n \\n\\n \\n\\n \\n\\n \\n\\n \\n\\n \\n\\n \\n\\n \\n\\n了\\n\\n \\n\\n \\n\\n \\n\\n \\n\\n \\n\\n \\n\\n \\n\\n \\n\\n地 质 博 物 馆\\n\\n \\n\\n \\n\\n \\n\\n \\n\\n \\n\\n \\n\\n \\n\\n \\n\\n \\n\\n \\n\\n \\n\\n \\n\\n \\n\\n \\n\\n \\n\\n \\n\\n目 农 业 博 物 馆\\n\\n \\n\\n \\n\\n \\n\\n \\n\\n \\n\\n二\\n\\n \\n\\n \\n\\n \\n\\n \\n\\n \\n\\n抗日 战争 纪念 馆 文物 区 宛 平 城内 街 101 号\\n\\n \\n\\n \\n\\n \\n\\n \\n\\n \\n\\n \\n\\n \\n\\n \\n\\n \\n\\n \\n\\n \\n\\n北京 市 朝阳 区 北 展 东 路 5 号\\n城区 天 桥 南 大 街 126 号\\n\\n区 复兴 门 外 大 街 16 号\\n房山 区 周口 店 大 街 1 号\\n昌平 区 小 汤山 5806 号\\n\\nIN\\n\\n \\n\\n \\n\\n \\n\\n \\n\\n \\n\\n \\n\\n \\n\\n \\n\\n \\n\\n \\n\\n \\n\\n \\n\\n \\n\\n \\n\\n \\n\\n \\n\\n \\n\\n首都 博物 馆 文物\\n\\n店 北京 人 遗址 博物 馆 文物\\n\\n \\n\\n \\n\\n \\n\\n \\n\\n \\n\\n \\n\\n \\n\\n \\n\\n \\n\\n \\n\\n \\n\\n二\\n\\n \\n\\n \\n\\n \\n\\n \\n\\n \\n\\n \\n\\n \\n\\n中 国航 空 博物 锯\\n\\n \\n\\n \\n\\n \\n\\n \\n\\n \\n\\n北京 天 文 馆 《北京 古 观 象 台 )\\n\\n \\n\\n \\n\\n \\n\\n \\n\\n \\n\\n \\n\\n \\n\\n \\n\\n \\n\\n \\n\\n \\n\\n \\n\\n \\n\\n \\n\\n \\n\\n \\n\\n \\n\\n \\n\\n \\n\\n \\n\\n文物 区 东经 路 21 号\\n\\n \\n\\n \\n\\n \\n\\n \\n\\n洗 区 学 院 路 42 号\\n西城 区 马连道 南 街 2 号 院 1 号 楼\\n\\n \\n\\nR|R\\n\\n \\n\\n \\n\\n \\n\\n \\n\\n \\n\\n \\n\\n \\n\\n \\n\\n \\n\\n \\n\\n \\n\\n \\n\\n \\n\\n \\n\\n \\n\\nR\\n\\n \\n\\n \\n\\n \\n\\n \\n\\n \\n\\n \\n\\n \\n\\n \\n\\n \\n\\n \\n\\n \\n\\n \\n\\n \\n\\n \\n\\n子 监 街 13 一 15 号\\n\\n平 区 十 三 陵 特 区 办 事 处 定 陵\\n\\n演 区 五 塔 寺 24 号\\n\\n二 级\\n\\n \\n\\n文物\\n\\n \\n\\n \\n\\n \\n\\n \\n\\n \\n\\n \\n\\n \\n\\n \\n\\n \\n\\n \\n\\n文物\\n\\n \\n\\n \\n\\n \\n\\n文物\\n\\n \\n\\n \\n\\n \\n\\n \\n\\n \\n\\n \\n\\n \\n\\n \\n\\n \\n\\n \\n\\n \\n\\n \\n\\n \\n\\n \\n\\n \\n\\n \\n\\n \\n\\n \\n\\n \\n\\n \\n\\n \\n\\n一\\n| 亏 |\\n长 :\\n\\n|\\n下 由 中\\n\\n \\n\\n \\n\\n \\n\\n \\n\\n \\n\\n \\n\\n \\n\\n汗\\n\\n \\n\\n \\n\\n \\n\\n \\n\\n \\n\\n \\n\\n \\n\\n \\n\\n \\n\\n否\\n否\\n合\\n合\\n合\\n人 否\\n合\\n合\\n合\\n符\\n\\n'"
      ]
     },
     "metadata": {},
     "execution_count": 68
    }
   ],
   "source": [
    "headers = {\n",
    "    \"X-Tika-OCRLanguage\": \"chi_sim\"\n",
    "}\n",
    "\n",
    "results = parser.from_file('non-english/museums-scanned.jpg', headers=headers)\n",
    "\n",
    "results['content']"
   ]
  }
 ],
 "metadata": {
  "kernelspec": {
   "name": "python3",
   "display_name": "Python 3.9.5 64-bit"
  },
  "language_info": {
   "codemirror_mode": {
    "name": "ipython",
    "version": 3
   },
   "file_extension": ".py",
   "mimetype": "text/x-python",
   "name": "python",
   "nbconvert_exporter": "python",
   "pygments_lexer": "ipython3",
   "version": "3.9.5"
  },
  "interpreter": {
   "hash": "916dbcbb3f70747c44a77c7bcd40155683ae19c65e1c03b4aa3499c5328201f1"
  }
 },
 "nbformat": 4,
 "nbformat_minor": 4
}